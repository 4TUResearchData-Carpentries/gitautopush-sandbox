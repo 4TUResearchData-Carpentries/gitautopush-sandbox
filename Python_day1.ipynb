{
 "cells": [
  {
   "cell_type": "code",
   "execution_count": 1,
   "id": "664656c7-c4b6-46cb-b5cf-1dc510bd7aac",
   "metadata": {
    "tags": []
   },
   "outputs": [
    {
     "name": "stdout",
     "output_type": "stream",
     "text": [
      "Alice\n"
     ]
    }
   ],
   "source": [
    "print('Alice')"
   ]
  },
  {
   "cell_type": "code",
   "execution_count": 2,
   "id": "4655cdee-080b-41a8-bb6b-9aca8a71617f",
   "metadata": {
    "tags": []
   },
   "outputs": [
    {
     "data": {
      "text/plain": [
       "5"
      ]
     },
     "execution_count": 2,
     "metadata": {},
     "output_type": "execute_result"
    }
   ],
   "source": [
    "2+3"
   ]
  },
  {
   "cell_type": "code",
   "execution_count": 3,
   "id": "d45b3c5c-84ea-451e-ab14-8b3a1e61bcea",
   "metadata": {
    "tags": []
   },
   "outputs": [],
   "source": [
    "name='Alice'"
   ]
  },
  {
   "cell_type": "code",
   "execution_count": 7,
   "id": "93364fe0-2742-4267-87c2-aae7b4ae39f2",
   "metadata": {
    "tags": []
   },
   "outputs": [],
   "source": [
    "patient_id_1=22 #This the patient id"
   ]
  },
  {
   "cell_type": "code",
   "execution_count": 5,
   "id": "515849f3-44e6-4684-a086-8f2e14cbd3bd",
   "metadata": {
    "tags": []
   },
   "outputs": [],
   "source": [
    "patient_weight=55.02"
   ]
  },
  {
   "cell_type": "code",
   "execution_count": 6,
   "id": "2abb8195-f5d3-4edb-bcfa-38d3ebe26ddf",
   "metadata": {
    "tags": []
   },
   "outputs": [
    {
     "data": {
      "text/plain": [
       "str"
      ]
     },
     "execution_count": 6,
     "metadata": {},
     "output_type": "execute_result"
    }
   ],
   "source": [
    "type(name)"
   ]
  },
  {
   "cell_type": "code",
   "execution_count": 8,
   "id": "a873a278-9adb-4b75-85bb-bd126fe5f2db",
   "metadata": {
    "tags": []
   },
   "outputs": [
    {
     "name": "stdout",
     "output_type": "stream",
     "text": [
      "Alice\n"
     ]
    }
   ],
   "source": [
    "print(name)"
   ]
  },
  {
   "cell_type": "code",
   "execution_count": 9,
   "id": "244562f9-85f6-410b-9334-380863774f48",
   "metadata": {
    "tags": []
   },
   "outputs": [
    {
     "name": "stdout",
     "output_type": "stream",
     "text": [
      "22\n"
     ]
    }
   ],
   "source": [
    "print(patient_id)"
   ]
  },
  {
   "cell_type": "code",
   "execution_count": 10,
   "id": "e221ad26-de1c-419b-823c-86b11e20ecfe",
   "metadata": {
    "tags": []
   },
   "outputs": [
    {
     "name": "stdout",
     "output_type": "stream",
     "text": [
      "4\n"
     ]
    }
   ],
   "source": [
    "print(5-1)"
   ]
  },
  {
   "cell_type": "code",
   "execution_count": null,
   "id": "7dd18b2c-23b0-49f3-96c6-57982ad16f3a",
   "metadata": {},
   "outputs": [],
   "source": [
    "print('hello'-'h')"
   ]
  }
 ],
 "metadata": {
  "kernelspec": {
   "display_name": "Python 3 (ipykernel)",
   "language": "python",
   "name": "python3"
  },
  "language_info": {
   "codemirror_mode": {
    "name": "ipython",
    "version": 3
   },
   "file_extension": ".py",
   "mimetype": "text/x-python",
   "name": "python",
   "nbconvert_exporter": "python",
   "pygments_lexer": "ipython3",
   "version": "3.11.4"
  }
 },
 "nbformat": 4,
 "nbformat_minor": 5
}
