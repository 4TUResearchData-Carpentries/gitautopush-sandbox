{
 "cells": [
  {
   "cell_type": "code",
   "execution_count": 1,
   "id": "664656c7-c4b6-46cb-b5cf-1dc510bd7aac",
   "metadata": {
    "tags": []
   },
   "outputs": [
    {
     "name": "stdout",
     "output_type": "stream",
     "text": [
      "Alice\n"
     ]
    }
   ],
   "source": [
    "print('Alice')"
   ]
  },
  {
   "cell_type": "code",
   "execution_count": 2,
   "id": "4655cdee-080b-41a8-bb6b-9aca8a71617f",
   "metadata": {
    "tags": []
   },
   "outputs": [
    {
     "data": {
      "text/plain": [
       "5"
      ]
     },
     "execution_count": 2,
     "metadata": {},
     "output_type": "execute_result"
    }
   ],
   "source": [
    "2+3"
   ]
  },
  {
   "cell_type": "code",
   "execution_count": 3,
   "id": "d45b3c5c-84ea-451e-ab14-8b3a1e61bcea",
   "metadata": {
    "tags": []
   },
   "outputs": [],
   "source": [
    "name='Alice'"
   ]
  },
  {
   "cell_type": "code",
   "execution_count": 7,
   "id": "93364fe0-2742-4267-87c2-aae7b4ae39f2",
   "metadata": {
    "tags": []
   },
   "outputs": [],
   "source": [
    "patient_id_1=22 #This the patient id"
   ]
  },
  {
   "cell_type": "code",
   "execution_count": 5,
   "id": "515849f3-44e6-4684-a086-8f2e14cbd3bd",
   "metadata": {
    "tags": []
   },
   "outputs": [],
   "source": [
    "patient_weight=55.02"
   ]
  },
  {
   "cell_type": "code",
   "execution_count": 6,
   "id": "2abb8195-f5d3-4edb-bcfa-38d3ebe26ddf",
   "metadata": {
    "tags": []
   },
   "outputs": [
    {
     "data": {
      "text/plain": [
       "str"
      ]
     },
     "execution_count": 6,
     "metadata": {},
     "output_type": "execute_result"
    }
   ],
   "source": [
    "type(name)"
   ]
  },
  {
   "cell_type": "code",
   "execution_count": 8,
   "id": "a873a278-9adb-4b75-85bb-bd126fe5f2db",
   "metadata": {
    "tags": []
   },
   "outputs": [
    {
     "name": "stdout",
     "output_type": "stream",
     "text": [
      "Alice\n"
     ]
    }
   ],
   "source": [
    "print(name)"
   ]
  },
  {
   "cell_type": "code",
   "execution_count": 9,
   "id": "244562f9-85f6-410b-9334-380863774f48",
   "metadata": {
    "tags": []
   },
   "outputs": [
    {
     "name": "stdout",
     "output_type": "stream",
     "text": [
      "22\n"
     ]
    }
   ],
   "source": [
    "print(patient_id)"
   ]
  },
  {
   "cell_type": "code",
   "execution_count": 10,
   "id": "e221ad26-de1c-419b-823c-86b11e20ecfe",
   "metadata": {
    "tags": []
   },
   "outputs": [
    {
     "name": "stdout",
     "output_type": "stream",
     "text": [
      "4\n"
     ]
    }
   ],
   "source": [
    "print(5-1)"
   ]
  },
  {
   "cell_type": "code",
   "execution_count": 11,
   "id": "7dd18b2c-23b0-49f3-96c6-57982ad16f3a",
   "metadata": {
    "tags": []
   },
   "outputs": [
    {
     "ename": "TypeError",
     "evalue": "unsupported operand type(s) for -: 'str' and 'str'",
     "output_type": "error",
     "traceback": [
      "\u001b[1;31m---------------------------------------------------------------------------\u001b[0m",
      "\u001b[1;31mTypeError\u001b[0m                                 Traceback (most recent call last)",
      "Cell \u001b[1;32mIn[11], line 1\u001b[0m\n\u001b[1;32m----> 1\u001b[0m \u001b[38;5;28mprint\u001b[39m(\u001b[38;5;124m'\u001b[39m\u001b[38;5;124mhello\u001b[39m\u001b[38;5;124m'\u001b[39m\u001b[38;5;241m-\u001b[39m\u001b[38;5;124m'\u001b[39m\u001b[38;5;124mh\u001b[39m\u001b[38;5;124m'\u001b[39m)\n",
      "\u001b[1;31mTypeError\u001b[0m: unsupported operand type(s) for -: 'str' and 'str'"
     ]
    }
   ],
   "source": [
    "print('hello'-'h')"
   ]
  },
  {
   "cell_type": "code",
   "execution_count": 12,
   "id": "efd382bc-2bab-45c2-8bf2-82717211e1d2",
   "metadata": {
    "tags": []
   },
   "outputs": [
    {
     "ename": "SyntaxError",
     "evalue": "unterminated string literal (detected at line 1) (2776611171.py, line 1)",
     "output_type": "error",
     "traceback": [
      "\u001b[1;36m  Cell \u001b[1;32mIn[12], line 1\u001b[1;36m\u001b[0m\n\u001b[1;33m    print('Alice)\u001b[0m\n\u001b[1;37m          ^\u001b[0m\n\u001b[1;31mSyntaxError\u001b[0m\u001b[1;31m:\u001b[0m unterminated string literal (detected at line 1)\n"
     ]
    }
   ],
   "source": [
    "print('Alice)"
   ]
  },
  {
   "cell_type": "code",
   "execution_count": 13,
   "id": "4d33c556-ea83-4715-9b84-d01d69cb0d3d",
   "metadata": {
    "tags": []
   },
   "outputs": [
    {
     "ename": "SyntaxError",
     "evalue": "incomplete input (3998393677.py, line 1)",
     "output_type": "error",
     "traceback": [
      "\u001b[1;36m  Cell \u001b[1;32mIn[13], line 1\u001b[1;36m\u001b[0m\n\u001b[1;33m    print('Alice'\u001b[0m\n\u001b[1;37m                 ^\u001b[0m\n\u001b[1;31mSyntaxError\u001b[0m\u001b[1;31m:\u001b[0m incomplete input\n"
     ]
    }
   ],
   "source": [
    "print('Alice'"
   ]
  },
  {
   "cell_type": "code",
   "execution_count": 14,
   "id": "1864b928-aa29-4d9c-86e8-2fe38fa63f85",
   "metadata": {
    "tags": []
   },
   "outputs": [],
   "source": [
    "weight_kg=55"
   ]
  },
  {
   "cell_type": "code",
   "execution_count": 15,
   "id": "1c236420-fb0a-4d70-b40f-50901b139c22",
   "metadata": {
    "tags": []
   },
   "outputs": [],
   "source": [
    "weight_lb=2.2*weight_kg"
   ]
  },
  {
   "cell_type": "code",
   "execution_count": 16,
   "id": "99a69ca5-16d3-4bd9-9b1e-17fd1032964a",
   "metadata": {
    "tags": []
   },
   "outputs": [
    {
     "name": "stdout",
     "output_type": "stream",
     "text": [
      "121.00000000000001\n"
     ]
    }
   ],
   "source": [
    "print(weight_lb)"
   ]
  },
  {
   "cell_type": "code",
   "execution_count": 17,
   "id": "6548e8c8-be26-448c-a793-197b5c516b33",
   "metadata": {
    "tags": []
   },
   "outputs": [
    {
     "data": {
      "text/plain": [
       "121.00000000000001"
      ]
     },
     "execution_count": 17,
     "metadata": {},
     "output_type": "execute_result"
    }
   ],
   "source": [
    "weight_lb"
   ]
  },
  {
   "cell_type": "code",
   "execution_count": 18,
   "id": "9d4f9626-2e9b-4861-9402-d1fd1ae7b263",
   "metadata": {
    "tags": []
   },
   "outputs": [
    {
     "data": {
      "text/plain": [
       "121"
      ]
     },
     "execution_count": 18,
     "metadata": {},
     "output_type": "execute_result"
    }
   ],
   "source": [
    "round(weight_lb)"
   ]
  },
  {
   "cell_type": "code",
   "execution_count": 19,
   "id": "18e9d857-b577-4eab-af75-2e7f0f48a0c2",
   "metadata": {
    "tags": []
   },
   "outputs": [
    {
     "data": {
      "text/plain": [
       "121.0"
      ]
     },
     "execution_count": 19,
     "metadata": {},
     "output_type": "execute_result"
    }
   ],
   "source": [
    "round(weight_lb,2)"
   ]
  },
  {
   "cell_type": "code",
   "execution_count": 20,
   "id": "98f3e298-a41b-41dc-b053-ab3f3f5fe58d",
   "metadata": {
    "tags": []
   },
   "outputs": [
    {
     "name": "stdout",
     "output_type": "stream",
     "text": [
      "\n",
      "Welcome to Python 3.11's help utility!\n",
      "\n",
      "If this is your first time using Python, you should definitely check out\n",
      "the tutorial on the internet at https://docs.python.org/3.11/tutorial/.\n",
      "\n",
      "Enter the name of any module, keyword, or topic to get help on writing\n",
      "Python programs and using Python modules.  To quit this help utility and\n",
      "return to the interpreter, just type \"quit\".\n",
      "\n",
      "To get a list of available modules, keywords, symbols, or topics, type\n",
      "\"modules\", \"keywords\", \"symbols\", or \"topics\".  Each module also comes\n",
      "with a one-line summary of what it does; to list the modules whose name\n",
      "or summary contain a given string such as \"spam\", type \"modules spam\".\n",
      "\n"
     ]
    },
    {
     "name": "stdin",
     "output_type": "stream",
     "text": [
      "help>  round\n"
     ]
    },
    {
     "name": "stdout",
     "output_type": "stream",
     "text": [
      "Help on built-in function round in module builtins:\n",
      "\n",
      "round(number, ndigits=None)\n",
      "    Round a number to a given precision in decimal digits.\n",
      "    \n",
      "    The return value is an integer if ndigits is omitted or None.  Otherwise\n",
      "    the return value has the same type as the number.  ndigits may be negative.\n",
      "\n"
     ]
    },
    {
     "name": "stdin",
     "output_type": "stream",
     "text": [
      "help>  quit\n"
     ]
    },
    {
     "name": "stdout",
     "output_type": "stream",
     "text": [
      "\n",
      "You are now leaving help and returning to the Python interpreter.\n",
      "If you want to ask for help on a particular object directly from the\n",
      "interpreter, you can type \"help(object)\".  Executing \"help('string')\"\n",
      "has the same effect as typing a particular string at the help> prompt.\n"
     ]
    }
   ],
   "source": [
    "help()"
   ]
  },
  {
   "cell_type": "code",
   "execution_count": 21,
   "id": "b2b1c746-5f6b-40d5-ac42-3060b305f9f5",
   "metadata": {
    "tags": []
   },
   "outputs": [
    {
     "name": "stdout",
     "output_type": "stream",
     "text": [
      "Help on built-in function len in module builtins:\n",
      "\n",
      "len(obj, /)\n",
      "    Return the number of items in a container.\n",
      "\n"
     ]
    }
   ],
   "source": [
    "help(len)"
   ]
  },
  {
   "cell_type": "code",
   "execution_count": 22,
   "id": "bb209ec6-d575-47b4-bb4a-854d1145dcf7",
   "metadata": {
    "tags": []
   },
   "outputs": [
    {
     "name": "stdout",
     "output_type": "stream",
     "text": [
      "<class 'int'>\n"
     ]
    }
   ],
   "source": [
    "print(type(patient_id))"
   ]
  },
  {
   "cell_type": "code",
   "execution_count": 23,
   "id": "8f754bb5-c97b-4831-a5b8-da102e1834a0",
   "metadata": {
    "tags": []
   },
   "outputs": [],
   "source": [
    "odds=[1,3,5,5]"
   ]
  },
  {
   "cell_type": "code",
   "execution_count": 24,
   "id": "a62ad7bf-3fba-405f-9eb6-367a14984adb",
   "metadata": {
    "tags": []
   },
   "outputs": [
    {
     "data": {
      "text/plain": [
       "list"
      ]
     },
     "execution_count": 24,
     "metadata": {},
     "output_type": "execute_result"
    }
   ],
   "source": [
    "type(odds)"
   ]
  },
  {
   "cell_type": "code",
   "execution_count": 25,
   "id": "122294c0-b1e7-4382-bcf4-500d90e05a34",
   "metadata": {
    "tags": []
   },
   "outputs": [
    {
     "data": {
      "text/plain": [
       "1"
      ]
     },
     "execution_count": 25,
     "metadata": {},
     "output_type": "execute_result"
    }
   ],
   "source": [
    "odds[0]"
   ]
  },
  {
   "cell_type": "code",
   "execution_count": 26,
   "id": "a65bfa38-2bcd-4857-9f60-d95f634e987a",
   "metadata": {
    "tags": []
   },
   "outputs": [
    {
     "data": {
      "text/plain": [
       "3"
      ]
     },
     "execution_count": 26,
     "metadata": {},
     "output_type": "execute_result"
    }
   ],
   "source": [
    "odds[1]"
   ]
  },
  {
   "cell_type": "code",
   "execution_count": 27,
   "id": "5fb295e3-9e7d-46f6-a2d4-dac703bfa64a",
   "metadata": {
    "tags": []
   },
   "outputs": [
    {
     "data": {
      "text/plain": [
       "4"
      ]
     },
     "execution_count": 27,
     "metadata": {},
     "output_type": "execute_result"
    }
   ],
   "source": [
    "len(odds)"
   ]
  },
  {
   "cell_type": "code",
   "execution_count": 28,
   "id": "2f3f4e32-6fd4-454a-914a-7182dfff8292",
   "metadata": {
    "tags": []
   },
   "outputs": [
    {
     "data": {
      "text/plain": [
       "5"
      ]
     },
     "execution_count": 28,
     "metadata": {},
     "output_type": "execute_result"
    }
   ],
   "source": [
    "odds[3]"
   ]
  },
  {
   "cell_type": "code",
   "execution_count": 30,
   "id": "3d01bbf1-8287-40a8-b038-7ea65701b2ae",
   "metadata": {
    "tags": []
   },
   "outputs": [
    {
     "ename": "IndexError",
     "evalue": "list index out of range",
     "output_type": "error",
     "traceback": [
      "\u001b[1;31m---------------------------------------------------------------------------\u001b[0m",
      "\u001b[1;31mIndexError\u001b[0m                                Traceback (most recent call last)",
      "Cell \u001b[1;32mIn[30], line 1\u001b[0m\n\u001b[1;32m----> 1\u001b[0m odds[\u001b[38;5;241m6\u001b[39m]\n",
      "\u001b[1;31mIndexError\u001b[0m: list index out of range"
     ]
    }
   ],
   "source": [
    "odds[6]"
   ]
  },
  {
   "cell_type": "code",
   "execution_count": 31,
   "id": "bb06380a-0484-4c72-aff9-fc9ea1b823d6",
   "metadata": {
    "tags": []
   },
   "outputs": [
    {
     "data": {
      "text/plain": [
       "5"
      ]
     },
     "execution_count": 31,
     "metadata": {},
     "output_type": "execute_result"
    }
   ],
   "source": [
    "len(name)"
   ]
  },
  {
   "cell_type": "code",
   "execution_count": 32,
   "id": "66931c8a-33bf-4544-b5af-588bf1c11a7b",
   "metadata": {
    "tags": []
   },
   "outputs": [
    {
     "name": "stdout",
     "output_type": "stream",
     "text": [
      "Alice\n"
     ]
    }
   ],
   "source": [
    "print(name)"
   ]
  },
  {
   "cell_type": "code",
   "execution_count": 33,
   "id": "4760a5f7-d257-480e-9eed-6b62e127bc93",
   "metadata": {
    "tags": []
   },
   "outputs": [
    {
     "name": "stdout",
     "output_type": "stream",
     "text": [
      "Help on class list in module builtins:\n",
      "\n",
      "class list(object)\n",
      " |  list(iterable=(), /)\n",
      " |  \n",
      " |  Built-in mutable sequence.\n",
      " |  \n",
      " |  If no argument is given, the constructor creates a new empty list.\n",
      " |  The argument must be an iterable if specified.\n",
      " |  \n",
      " |  Methods defined here:\n",
      " |  \n",
      " |  __add__(self, value, /)\n",
      " |      Return self+value.\n",
      " |  \n",
      " |  __contains__(self, key, /)\n",
      " |      Return key in self.\n",
      " |  \n",
      " |  __delitem__(self, key, /)\n",
      " |      Delete self[key].\n",
      " |  \n",
      " |  __eq__(self, value, /)\n",
      " |      Return self==value.\n",
      " |  \n",
      " |  __ge__(self, value, /)\n",
      " |      Return self>=value.\n",
      " |  \n",
      " |  __getattribute__(self, name, /)\n",
      " |      Return getattr(self, name).\n",
      " |  \n",
      " |  __getitem__(...)\n",
      " |      x.__getitem__(y) <==> x[y]\n",
      " |  \n",
      " |  __gt__(self, value, /)\n",
      " |      Return self>value.\n",
      " |  \n",
      " |  __iadd__(self, value, /)\n",
      " |      Implement self+=value.\n",
      " |  \n",
      " |  __imul__(self, value, /)\n",
      " |      Implement self*=value.\n",
      " |  \n",
      " |  __init__(self, /, *args, **kwargs)\n",
      " |      Initialize self.  See help(type(self)) for accurate signature.\n",
      " |  \n",
      " |  __iter__(self, /)\n",
      " |      Implement iter(self).\n",
      " |  \n",
      " |  __le__(self, value, /)\n",
      " |      Return self<=value.\n",
      " |  \n",
      " |  __len__(self, /)\n",
      " |      Return len(self).\n",
      " |  \n",
      " |  __lt__(self, value, /)\n",
      " |      Return self<value.\n",
      " |  \n",
      " |  __mul__(self, value, /)\n",
      " |      Return self*value.\n",
      " |  \n",
      " |  __ne__(self, value, /)\n",
      " |      Return self!=value.\n",
      " |  \n",
      " |  __repr__(self, /)\n",
      " |      Return repr(self).\n",
      " |  \n",
      " |  __reversed__(self, /)\n",
      " |      Return a reverse iterator over the list.\n",
      " |  \n",
      " |  __rmul__(self, value, /)\n",
      " |      Return value*self.\n",
      " |  \n",
      " |  __setitem__(self, key, value, /)\n",
      " |      Set self[key] to value.\n",
      " |  \n",
      " |  __sizeof__(self, /)\n",
      " |      Return the size of the list in memory, in bytes.\n",
      " |  \n",
      " |  append(self, object, /)\n",
      " |      Append object to the end of the list.\n",
      " |  \n",
      " |  clear(self, /)\n",
      " |      Remove all items from list.\n",
      " |  \n",
      " |  copy(self, /)\n",
      " |      Return a shallow copy of the list.\n",
      " |  \n",
      " |  count(self, value, /)\n",
      " |      Return number of occurrences of value.\n",
      " |  \n",
      " |  extend(self, iterable, /)\n",
      " |      Extend list by appending elements from the iterable.\n",
      " |  \n",
      " |  index(self, value, start=0, stop=9223372036854775807, /)\n",
      " |      Return first index of value.\n",
      " |      \n",
      " |      Raises ValueError if the value is not present.\n",
      " |  \n",
      " |  insert(self, index, object, /)\n",
      " |      Insert object before index.\n",
      " |  \n",
      " |  pop(self, index=-1, /)\n",
      " |      Remove and return item at index (default last).\n",
      " |      \n",
      " |      Raises IndexError if list is empty or index is out of range.\n",
      " |  \n",
      " |  remove(self, value, /)\n",
      " |      Remove first occurrence of value.\n",
      " |      \n",
      " |      Raises ValueError if the value is not present.\n",
      " |  \n",
      " |  reverse(self, /)\n",
      " |      Reverse *IN PLACE*.\n",
      " |  \n",
      " |  sort(self, /, *, key=None, reverse=False)\n",
      " |      Sort the list in ascending order and return None.\n",
      " |      \n",
      " |      The sort is in-place (i.e. the list itself is modified) and stable (i.e. the\n",
      " |      order of two equal elements is maintained).\n",
      " |      \n",
      " |      If a key function is given, apply it once to each list item and sort them,\n",
      " |      ascending or descending, according to their function values.\n",
      " |      \n",
      " |      The reverse flag can be set to sort in descending order.\n",
      " |  \n",
      " |  ----------------------------------------------------------------------\n",
      " |  Class methods defined here:\n",
      " |  \n",
      " |  __class_getitem__(...) from builtins.type\n",
      " |      See PEP 585\n",
      " |  \n",
      " |  ----------------------------------------------------------------------\n",
      " |  Static methods defined here:\n",
      " |  \n",
      " |  __new__(*args, **kwargs) from builtins.type\n",
      " |      Create and return a new object.  See help(type) for accurate signature.\n",
      " |  \n",
      " |  ----------------------------------------------------------------------\n",
      " |  Data and other attributes defined here:\n",
      " |  \n",
      " |  __hash__ = None\n",
      "\n"
     ]
    }
   ],
   "source": [
    "help(list)"
   ]
  },
  {
   "cell_type": "code",
   "execution_count": 34,
   "id": "91391e68-3e39-4f97-a612-eb68e077bb92",
   "metadata": {
    "tags": []
   },
   "outputs": [
    {
     "data": {
      "text/plain": [
       "3"
      ]
     },
     "execution_count": 34,
     "metadata": {},
     "output_type": "execute_result"
    }
   ],
   "source": [
    "odds.pop(1)"
   ]
  },
  {
   "cell_type": "code",
   "execution_count": 35,
   "id": "aa127136-0626-4c7a-bf41-489cc9e61764",
   "metadata": {
    "tags": []
   },
   "outputs": [
    {
     "name": "stdout",
     "output_type": "stream",
     "text": [
      "[1, 5, 5]\n"
     ]
    }
   ],
   "source": [
    "print(odds)"
   ]
  },
  {
   "cell_type": "code",
   "execution_count": 36,
   "id": "a9c7c517-48b8-4cb9-807b-9740caca58bc",
   "metadata": {
    "tags": []
   },
   "outputs": [],
   "source": [
    "odds.remove(5)"
   ]
  },
  {
   "cell_type": "code",
   "execution_count": 37,
   "id": "afc8a126-5714-4708-ac2e-7532c2eaeac2",
   "metadata": {
    "tags": []
   },
   "outputs": [
    {
     "name": "stdout",
     "output_type": "stream",
     "text": [
      "[1, 5]\n"
     ]
    }
   ],
   "source": [
    "print(odds)"
   ]
  },
  {
   "cell_type": "code",
   "execution_count": 38,
   "id": "266ba187-8f81-42ac-bb92-82b1dfc2228b",
   "metadata": {
    "tags": []
   },
   "outputs": [
    {
     "name": "stdout",
     "output_type": "stream",
     "text": [
      "None\n"
     ]
    }
   ],
   "source": [
    "print(odds.reverse())"
   ]
  },
  {
   "cell_type": "code",
   "execution_count": 42,
   "id": "454a866f-bfd5-4006-bb9d-869e857db867",
   "metadata": {
    "tags": []
   },
   "outputs": [
    {
     "ename": "AttributeError",
     "evalue": "'list' object has no attribute 'reversed'",
     "output_type": "error",
     "traceback": [
      "\u001b[1;31m---------------------------------------------------------------------------\u001b[0m",
      "\u001b[1;31mAttributeError\u001b[0m                            Traceback (most recent call last)",
      "Cell \u001b[1;32mIn[42], line 1\u001b[0m\n\u001b[1;32m----> 1\u001b[0m odds\u001b[38;5;241m.\u001b[39mreversed()\n",
      "\u001b[1;31mAttributeError\u001b[0m: 'list' object has no attribute 'reversed'"
     ]
    }
   ],
   "source": [
    "odds.reversed()"
   ]
  },
  {
   "cell_type": "code",
   "execution_count": 40,
   "id": "4f9eb188-d960-48bd-9039-61ddf99d4475",
   "metadata": {
    "tags": []
   },
   "outputs": [
    {
     "name": "stdout",
     "output_type": "stream",
     "text": [
      "[1, 5]\n"
     ]
    }
   ],
   "source": [
    "print(odds)"
   ]
  },
  {
   "cell_type": "code",
   "execution_count": 41,
   "id": "7f834457-5461-4414-accc-eddc10bea50b",
   "metadata": {
    "tags": []
   },
   "outputs": [
    {
     "name": "stdout",
     "output_type": "stream",
     "text": [
      "Help on class list in module builtins:\n",
      "\n",
      "class list(object)\n",
      " |  list(iterable=(), /)\n",
      " |  \n",
      " |  Built-in mutable sequence.\n",
      " |  \n",
      " |  If no argument is given, the constructor creates a new empty list.\n",
      " |  The argument must be an iterable if specified.\n",
      " |  \n",
      " |  Methods defined here:\n",
      " |  \n",
      " |  __add__(self, value, /)\n",
      " |      Return self+value.\n",
      " |  \n",
      " |  __contains__(self, key, /)\n",
      " |      Return key in self.\n",
      " |  \n",
      " |  __delitem__(self, key, /)\n",
      " |      Delete self[key].\n",
      " |  \n",
      " |  __eq__(self, value, /)\n",
      " |      Return self==value.\n",
      " |  \n",
      " |  __ge__(self, value, /)\n",
      " |      Return self>=value.\n",
      " |  \n",
      " |  __getattribute__(self, name, /)\n",
      " |      Return getattr(self, name).\n",
      " |  \n",
      " |  __getitem__(...)\n",
      " |      x.__getitem__(y) <==> x[y]\n",
      " |  \n",
      " |  __gt__(self, value, /)\n",
      " |      Return self>value.\n",
      " |  \n",
      " |  __iadd__(self, value, /)\n",
      " |      Implement self+=value.\n",
      " |  \n",
      " |  __imul__(self, value, /)\n",
      " |      Implement self*=value.\n",
      " |  \n",
      " |  __init__(self, /, *args, **kwargs)\n",
      " |      Initialize self.  See help(type(self)) for accurate signature.\n",
      " |  \n",
      " |  __iter__(self, /)\n",
      " |      Implement iter(self).\n",
      " |  \n",
      " |  __le__(self, value, /)\n",
      " |      Return self<=value.\n",
      " |  \n",
      " |  __len__(self, /)\n",
      " |      Return len(self).\n",
      " |  \n",
      " |  __lt__(self, value, /)\n",
      " |      Return self<value.\n",
      " |  \n",
      " |  __mul__(self, value, /)\n",
      " |      Return self*value.\n",
      " |  \n",
      " |  __ne__(self, value, /)\n",
      " |      Return self!=value.\n",
      " |  \n",
      " |  __repr__(self, /)\n",
      " |      Return repr(self).\n",
      " |  \n",
      " |  __reversed__(self, /)\n",
      " |      Return a reverse iterator over the list.\n",
      " |  \n",
      " |  __rmul__(self, value, /)\n",
      " |      Return value*self.\n",
      " |  \n",
      " |  __setitem__(self, key, value, /)\n",
      " |      Set self[key] to value.\n",
      " |  \n",
      " |  __sizeof__(self, /)\n",
      " |      Return the size of the list in memory, in bytes.\n",
      " |  \n",
      " |  append(self, object, /)\n",
      " |      Append object to the end of the list.\n",
      " |  \n",
      " |  clear(self, /)\n",
      " |      Remove all items from list.\n",
      " |  \n",
      " |  copy(self, /)\n",
      " |      Return a shallow copy of the list.\n",
      " |  \n",
      " |  count(self, value, /)\n",
      " |      Return number of occurrences of value.\n",
      " |  \n",
      " |  extend(self, iterable, /)\n",
      " |      Extend list by appending elements from the iterable.\n",
      " |  \n",
      " |  index(self, value, start=0, stop=9223372036854775807, /)\n",
      " |      Return first index of value.\n",
      " |      \n",
      " |      Raises ValueError if the value is not present.\n",
      " |  \n",
      " |  insert(self, index, object, /)\n",
      " |      Insert object before index.\n",
      " |  \n",
      " |  pop(self, index=-1, /)\n",
      " |      Remove and return item at index (default last).\n",
      " |      \n",
      " |      Raises IndexError if list is empty or index is out of range.\n",
      " |  \n",
      " |  remove(self, value, /)\n",
      " |      Remove first occurrence of value.\n",
      " |      \n",
      " |      Raises ValueError if the value is not present.\n",
      " |  \n",
      " |  reverse(self, /)\n",
      " |      Reverse *IN PLACE*.\n",
      " |  \n",
      " |  sort(self, /, *, key=None, reverse=False)\n",
      " |      Sort the list in ascending order and return None.\n",
      " |      \n",
      " |      The sort is in-place (i.e. the list itself is modified) and stable (i.e. the\n",
      " |      order of two equal elements is maintained).\n",
      " |      \n",
      " |      If a key function is given, apply it once to each list item and sort them,\n",
      " |      ascending or descending, according to their function values.\n",
      " |      \n",
      " |      The reverse flag can be set to sort in descending order.\n",
      " |  \n",
      " |  ----------------------------------------------------------------------\n",
      " |  Class methods defined here:\n",
      " |  \n",
      " |  __class_getitem__(...) from builtins.type\n",
      " |      See PEP 585\n",
      " |  \n",
      " |  ----------------------------------------------------------------------\n",
      " |  Static methods defined here:\n",
      " |  \n",
      " |  __new__(*args, **kwargs) from builtins.type\n",
      " |      Create and return a new object.  See help(type) for accurate signature.\n",
      " |  \n",
      " |  ----------------------------------------------------------------------\n",
      " |  Data and other attributes defined here:\n",
      " |  \n",
      " |  __hash__ = None\n",
      "\n"
     ]
    }
   ],
   "source": [
    "help(list)"
   ]
  },
  {
   "cell_type": "code",
   "execution_count": 45,
   "id": "deb84c54-b2c0-4cba-832b-655f5326d076",
   "metadata": {
    "tags": []
   },
   "outputs": [],
   "source": [
    "odds.reverse()"
   ]
  },
  {
   "cell_type": "code",
   "execution_count": 46,
   "id": "3b9600b7-7bb5-4f19-8f71-740e837393d2",
   "metadata": {
    "tags": []
   },
   "outputs": [
    {
     "data": {
      "text/plain": [
       "[5, 1]"
      ]
     },
     "execution_count": 46,
     "metadata": {},
     "output_type": "execute_result"
    }
   ],
   "source": [
    "odds"
   ]
  },
  {
   "cell_type": "code",
   "execution_count": 47,
   "id": "e7ec352a-8df9-417d-b317-599ad14cbc0d",
   "metadata": {
    "tags": []
   },
   "outputs": [],
   "source": [
    "shopping_list=['salt','pepper','paprika']"
   ]
  },
  {
   "cell_type": "code",
   "execution_count": 48,
   "id": "9f8074eb-da8a-4478-8b27-1c8e35b689bb",
   "metadata": {
    "tags": []
   },
   "outputs": [
    {
     "data": {
      "text/plain": [
       "list"
      ]
     },
     "execution_count": 48,
     "metadata": {},
     "output_type": "execute_result"
    }
   ],
   "source": [
    "type(shopping_list)"
   ]
  },
  {
   "cell_type": "code",
   "execution_count": 49,
   "id": "03b9217a-fe50-4c02-b904-8d98be59cca4",
   "metadata": {
    "tags": []
   },
   "outputs": [
    {
     "data": {
      "text/plain": [
       "'salt'"
      ]
     },
     "execution_count": 49,
     "metadata": {},
     "output_type": "execute_result"
    }
   ],
   "source": [
    "shopping_list[0]"
   ]
  },
  {
   "cell_type": "code",
   "execution_count": 50,
   "id": "54b399a2-7783-4563-9f54-a285007f3a50",
   "metadata": {
    "tags": []
   },
   "outputs": [],
   "source": [
    "shopping_list[0]='tomato'"
   ]
  },
  {
   "cell_type": "code",
   "execution_count": 51,
   "id": "ffcb77a7-e73b-4947-ad2c-41df31cb7abd",
   "metadata": {
    "tags": []
   },
   "outputs": [
    {
     "data": {
      "text/plain": [
       "['tomato', 'pepper', 'paprika']"
      ]
     },
     "execution_count": 51,
     "metadata": {},
     "output_type": "execute_result"
    }
   ],
   "source": [
    "shopping_list"
   ]
  },
  {
   "cell_type": "code",
   "execution_count": 52,
   "id": "4a2a216f-0d82-45f5-85f2-101a6dc5b8b1",
   "metadata": {
    "tags": []
   },
   "outputs": [],
   "source": [
    "shopping_list_new=shopping_list"
   ]
  },
  {
   "cell_type": "code",
   "execution_count": 53,
   "id": "088afa3f-cb33-42fc-83bb-ee50722e3f1f",
   "metadata": {
    "tags": []
   },
   "outputs": [
    {
     "name": "stdout",
     "output_type": "stream",
     "text": [
      "['tomato', 'pepper', 'paprika']\n"
     ]
    }
   ],
   "source": [
    "print(shopping_list_new) #copy"
   ]
  },
  {
   "cell_type": "code",
   "execution_count": 54,
   "id": "d91aeb58-7399-4230-9556-8625a70bf463",
   "metadata": {
    "tags": []
   },
   "outputs": [],
   "source": [
    "shopping_list_new[0]='salt'"
   ]
  },
  {
   "cell_type": "code",
   "execution_count": 55,
   "id": "8aeaa7ec-6713-48ed-948f-91d3dcd28d9e",
   "metadata": {
    "tags": []
   },
   "outputs": [
    {
     "name": "stdout",
     "output_type": "stream",
     "text": [
      "['salt', 'pepper', 'paprika']\n"
     ]
    }
   ],
   "source": [
    "print(shopping_list_new)"
   ]
  },
  {
   "cell_type": "code",
   "execution_count": 56,
   "id": "f9bcd000-be90-4844-8abb-b442a91491b1",
   "metadata": {
    "tags": []
   },
   "outputs": [
    {
     "name": "stdout",
     "output_type": "stream",
     "text": [
      "['salt', 'pepper', 'paprika']\n"
     ]
    }
   ],
   "source": [
    "print(shopping_list)"
   ]
  },
  {
   "cell_type": "code",
   "execution_count": 57,
   "id": "175f1a4d-d998-4cb3-8b2e-26c0b2958682",
   "metadata": {
    "tags": []
   },
   "outputs": [],
   "source": [
    "shopping_list_new_deep=list(shopping_list)"
   ]
  },
  {
   "cell_type": "code",
   "execution_count": 58,
   "id": "76b1563f-dea6-4537-a82a-62f34aa3ae31",
   "metadata": {
    "tags": []
   },
   "outputs": [],
   "source": [
    "hetro_list=[1,3.05,'Alice']"
   ]
  },
  {
   "cell_type": "code",
   "execution_count": 59,
   "id": "e01690c3-3970-471b-a2ea-0caf97a13069",
   "metadata": {
    "tags": []
   },
   "outputs": [
    {
     "name": "stdout",
     "output_type": "stream",
     "text": [
      "[1, 3.05, 'Alice']\n"
     ]
    }
   ],
   "source": [
    "print(hetro_list)"
   ]
  },
  {
   "cell_type": "code",
   "execution_count": 60,
   "id": "33405a2e-25c1-41e3-ba88-5ec1ebde24de",
   "metadata": {
    "tags": []
   },
   "outputs": [
    {
     "data": {
      "text/plain": [
       "'Alice'"
      ]
     },
     "execution_count": 60,
     "metadata": {},
     "output_type": "execute_result"
    }
   ],
   "source": [
    "hetro_list[-1]"
   ]
  },
  {
   "cell_type": "code",
   "execution_count": 61,
   "id": "aa192ac2-fdb7-4d4f-90bc-691415cde6e3",
   "metadata": {
    "tags": []
   },
   "outputs": [],
   "source": [
    "import numpy"
   ]
  },
  {
   "cell_type": "code",
   "execution_count": 62,
   "id": "b392fb74-958b-4261-9e1f-115a57dca785",
   "metadata": {
    "tags": []
   },
   "outputs": [],
   "source": [
    "import numpy as np"
   ]
  },
  {
   "cell_type": "code",
   "execution_count": 69,
   "id": "673e9340-e13c-42ae-a286-83766a151d81",
   "metadata": {
    "tags": []
   },
   "outputs": [
    {
     "ename": "TypeError",
     "evalue": "unsupported operand type(s) for +: 'int' and 'list'",
     "output_type": "error",
     "traceback": [
      "\u001b[1;31m---------------------------------------------------------------------------\u001b[0m",
      "\u001b[1;31mTypeError\u001b[0m                                 Traceback (most recent call last)",
      "Cell \u001b[1;32mIn[69], line 2\u001b[0m\n\u001b[0;32m      1\u001b[0m arr\u001b[38;5;241m=\u001b[39m[[\u001b[38;5;241m1\u001b[39m,\u001b[38;5;241m3\u001b[39m],[\u001b[38;5;241m5\u001b[39m,\u001b[38;5;241m6\u001b[39m]]\n\u001b[1;32m----> 2\u001b[0m sum_arr\u001b[38;5;241m=\u001b[39m\u001b[38;5;28msum\u001b[39m(arr)\n\u001b[0;32m      3\u001b[0m \u001b[38;5;28mprint\u001b[39m(sum_arr)\n",
      "\u001b[1;31mTypeError\u001b[0m: unsupported operand type(s) for +: 'int' and 'list'"
     ]
    }
   ],
   "source": [
    "arr=[[1,3],[5,6]]\n",
    "sum_arr=sum(arr)\n",
    "print(sum_arr)"
   ]
  },
  {
   "cell_type": "code",
   "execution_count": 68,
   "id": "41cd0b05-9dee-4114-8710-8eb62f8fd2c5",
   "metadata": {
    "tags": []
   },
   "outputs": [
    {
     "name": "stdout",
     "output_type": "stream",
     "text": [
      "15\n"
     ]
    }
   ],
   "source": [
    "arr_with_lib=np.sum(arr,axis=0)\n",
    "print(arr_with_lib)"
   ]
  },
  {
   "cell_type": "code",
   "execution_count": 70,
   "id": "0e013dba-61cf-46f0-863b-d76ebcbd85ca",
   "metadata": {
    "tags": []
   },
   "outputs": [],
   "source": [
    "arr_1=[[1,3],[5,6]]\n"
   ]
  },
  {
   "cell_type": "markdown",
   "id": "1a403fa1-17a5-47df-908f-edcc890708f5",
   "metadata": {
    "tags": []
   },
   "source": [
    "sum_arr=np.sum(arr_1,axis=0)\n",
    "print(sum_arr)"
   ]
  },
  {
   "cell_type": "markdown",
   "id": "b0db79bc-970b-41fd-85ac-392fd988aafb",
   "metadata": {
    "tags": []
   },
   "source": [
    "# importing the data "
   ]
  },
  {
   "cell_type": "code",
   "execution_count": 76,
   "id": "21bde2f5-88a3-4be1-8977-4847ecd6159d",
   "metadata": {
    "tags": []
   },
   "outputs": [],
   "source": [
    "data=np.loadtxt(fname='data\\inflammation-01.csv',delimiter=',')"
   ]
  },
  {
   "cell_type": "code",
   "execution_count": 77,
   "id": "bdf907b8-50ca-4181-afaf-d63d48faa8fa",
   "metadata": {
    "tags": []
   },
   "outputs": [
    {
     "data": {
      "text/plain": [
       "(60, 40)"
      ]
     },
     "execution_count": 77,
     "metadata": {},
     "output_type": "execute_result"
    }
   ],
   "source": [
    "data.shape"
   ]
  },
  {
   "cell_type": "code",
   "execution_count": 78,
   "id": "b85d3773-dd8c-48ce-9847-5397e9c7b3b7",
   "metadata": {
    "tags": []
   },
   "outputs": [
    {
     "data": {
      "text/plain": [
       "numpy.ndarray"
      ]
     },
     "execution_count": 78,
     "metadata": {},
     "output_type": "execute_result"
    }
   ],
   "source": [
    "type(data)"
   ]
  },
  {
   "cell_type": "code",
   "execution_count": 79,
   "id": "fbc6bf23-0735-418c-8aad-5220ee1e1103",
   "metadata": {
    "tags": []
   },
   "outputs": [
    {
     "data": {
      "text/plain": [
       "dtype('float64')"
      ]
     },
     "execution_count": 79,
     "metadata": {},
     "output_type": "execute_result"
    }
   ],
   "source": [
    "data.dtype"
   ]
  },
  {
   "cell_type": "code",
   "execution_count": 80,
   "id": "4a413b56-efb7-41ba-875a-c83b75d92c60",
   "metadata": {
    "tags": []
   },
   "outputs": [],
   "source": [
    "import matplotlib.pyplot as plt"
   ]
  },
  {
   "cell_type": "code",
   "execution_count": 81,
   "id": "b6217a7b-a01c-41e3-bffd-150bbc72d868",
   "metadata": {
    "tags": []
   },
   "outputs": [
    {
     "data": {
      "text/plain": [
       "<matplotlib.image.AxesImage at 0x2242c111b10>"
      ]
     },
     "execution_count": 81,
     "metadata": {},
     "output_type": "execute_result"
    },
    {
     "data": {
      "image/png": "[encoded data removed]",
      "text/plain": [
       "<Figure size 640x480 with 1 Axes>"
      ]
     },
     "metadata": {},
     "output_type": "display_data"
    }
   ],
   "source": [
    "plt.imshow(data)"
   ]
  },
  {
   "cell_type": "code",
   "execution_count": null,
   "id": "a1a06de2-b32d-4af9-9f57-8b86f371a68a",
   "metadata": {},
   "outputs": [],
   "source": []
  }
 ],
 "metadata": {
  "kernelspec": {
   "display_name": "Python 3 (ipykernel)",
   "language": "python",
   "name": "python3"
  },
  "language_info": {
   "codemirror_mode": {
    "name": "ipython",
    "version": 3
   },
   "file_extension": ".py",
   "mimetype": "text/x-python",
   "name": "python",
   "nbconvert_exporter": "python",
   "pygments_lexer": "ipython3",
   "version": "3.11.4"
  }
 },
 "nbformat": 4,
 "nbformat_minor": 5
}
