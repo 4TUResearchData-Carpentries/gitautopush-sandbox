{
 "cells": [
  {
   "cell_type": "markdown",
   "id": "34e094e9-4399-44ba-9fa1-9a70046391fa",
   "metadata": {},
   "source": [
    "# Inflammation analysis\n",
    "## Plot mean, max, min in a single figure"
   ]
  },
  {
   "cell_type": "code",
   "execution_count": 1,
   "id": "95a1f791-5cf1-4605-9119-47986bc9a343",
   "metadata": {},
   "outputs": [],
   "source": [
    "import numpy\n",
    "import matplotlib.pyplot as plt"
   ]
  },
  {
   "cell_type": "code",
   "execution_count": null,
   "id": "993d2f49-35ac-4c1b-815f-85b8bb4ec24f",
   "metadata": {},
   "outputs": [],
   "source": [
    "#Import data\n"
   ]
  }
 ],
 "metadata": {
  "kernelspec": {
   "display_name": "Python 3 (ipykernel)",
   "language": "python",
   "name": "python3"
  },
  "language_info": {
   "codemirror_mode": {
    "name": "ipython",
    "version": 3
   },
   "file_extension": ".py",
   "mimetype": "text/x-python",
   "name": "python",
   "nbconvert_exporter": "python",
   "pygments_lexer": "ipython3",
   "version": "3.8.18"
  }
 },
 "nbformat": 4,
 "nbformat_minor": 5
}
