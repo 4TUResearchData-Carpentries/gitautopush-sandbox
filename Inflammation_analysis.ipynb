{
 "cells": [
  {
   "cell_type": "markdown",
   "id": "34e094e9-4399-44ba-9fa1-9a70046391fa",
   "metadata": {},
   "source": [
    "# Inflammation analysis\n",
    "## Plot mean, max, min in a single figure"
   ]
  },
  {
   "cell_type": "code",
   "execution_count": 4,
   "id": "95a1f791-5cf1-4605-9119-47986bc9a343",
   "metadata": {},
   "outputs": [
    {
     "data": {
      "text/plain": [
       "<Figure size 1000x300 with 0 Axes>"
      ]
     },
     "metadata": {},
     "output_type": "display_data"
    }
   ],
   "source": [
    "import numpy\n",
    "import matplotlib.pyplot as plt\n",
    "\n",
    "#Import data\n",
    "data = numpy.loadtxt(fname=\"data/inflammation-01.csv\", delimiter =',')\n",
    "\n",
    "#Set up figure\n",
    "fig = plt.figure(figsize=(10.0,3.0))\n",
    "\n",
    "# add subplots\n",
    "axes1 = fig.add_subplot(1, 3, 1) #nrows, ncols, pos\n",
    "axes2 = fig.add_subplot(1, 3, 2)\n",
    "\n"
   ]
  },
  {
   "cell_type": "code",
   "execution_count": 2,
   "id": "993d2f49-35ac-4c1b-815f-85b8bb4ec24f",
   "metadata": {},
   "outputs": [],
   "source": []
  }
 ],
 "metadata": {
  "kernelspec": {
   "display_name": "Python 3 (ipykernel)",
   "language": "python",
   "name": "python3"
  },
  "language_info": {
   "codemirror_mode": {
    "name": "ipython",
    "version": 3
   },
   "file_extension": ".py",
   "mimetype": "text/x-python",
   "name": "python",
   "nbconvert_exporter": "python",
   "pygments_lexer": "ipython3",
   "version": "3.8.18"
  }
 },
 "nbformat": 4,
 "nbformat_minor": 5
}
