{
 "cells": [
  {
   "cell_type": "code",
   "execution_count": null,
   "id": "1d48295f-e681-4533-8089-175e5eeac4ae",
   "metadata": {},
   "outputs": [],
   "source": [
    "import glob\n",
    "import numpy as np\n",
    "import matplotlib.pyplot as plt\n",
    "\n",
    "from processing import visualize, \n",
    "\n",
    "filenames = sorted(glob.glob('data/inflammation*.csv'))\n",
    "filenames = filenames[0:3]\n",
    "\n",
    "for filename in filenames:\n",
    "    detect_problems(filename)\n",
    "    visualize(filename)"
   ]
  }
 ],
 "metadata": {
  "kernelspec": {
   "display_name": "Python 3 (ipykernel)",
   "language": "python",
   "name": "python3"
  },
  "language_info": {
   "codemirror_mode": {
    "name": "ipython",
    "version": 3
   },
   "file_extension": ".py",
   "mimetype": "text/x-python",
   "name": "python",
   "nbconvert_exporter": "python",
   "pygments_lexer": "ipython3",
   "version": "3.8.18"
  }
 },
 "nbformat": 4,
 "nbformat_minor": 5
}
