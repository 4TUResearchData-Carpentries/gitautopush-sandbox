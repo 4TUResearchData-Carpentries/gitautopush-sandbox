{
 "cells": [
  {
   "cell_type": "markdown",
   "id": "9bb0d3e2-e674-4720-9523-7dfb2d0a7269",
   "metadata": {
    "tags": []
   },
   "source": [
    "# Exercise: Debugging"
   ]
  },
  {
   "cell_type": "markdown",
   "id": "d594ac85-ff5e-490c-abcb-0f7bda1aa9d4",
   "metadata": {},
   "source": [
    "## Using the following code:"
   ]
  },
  {
   "cell_type": "code",
   "execution_count": null,
   "id": "313927f9-694b-4670-94dc-d7c5bd6fe1dd",
   "metadata": {
    "tags": []
   },
   "outputs": [],
   "source": [
    "def print_message(day):\n",
    "    messages = [\n",
    "        'Hello, world!',\n",
    "        'Today is Tuesday!',\n",
    "        'It is the middle of the week.',\n",
    "        'Today is Donnerstag in German!',\n",
    "        'Last day of the week!',\n",
    "        'Hooray for the weekend!',\n",
    "        'Aw, the weekend is almost over.'\n",
    "    ]\n",
    "    print(messages[day])\n",
    "\n",
    "def print_sunday_message():\n",
    "    print_message(7)\n",
    "\n",
    "print_sunday_message()"
   ]
  },
  {
   "cell_type": "markdown",
   "id": "ae985809-49a8-4566-9f58-8905527a7d88",
   "metadata": {},
   "source": [
    "# Individually:\n",
    "\n",
    "1. What is the function name where the error occurred?\n",
    "2. On which line number in this function did the error occur?\n",
    "3. What is the type of error?\n",
    "4. What is the error message?"
   ]
  },
  {
   "cell_type": "markdown",
   "id": "8150caf8-e79d-41e3-8979-5fe9ac632f9f",
   "metadata": {
    "tags": []
   },
   "source": [
    "# In pairs\n",
    "\n",
    "5. Fix the errors (debug)\n",
    "6. Document your debugging steps"
   ]
  }
 ],
 "metadata": {
  "kernelspec": {
   "display_name": "Python 3 (ipykernel)",
   "language": "python",
   "name": "python3"
  },
  "language_info": {
   "codemirror_mode": {
    "name": "ipython",
    "version": 3
   },
   "file_extension": ".py",
   "mimetype": "text/x-python",
   "name": "python",
   "nbconvert_exporter": "python",
   "pygments_lexer": "ipython3",
   "version": "3.11.5"
  }
 },
 "nbformat": 4,
 "nbformat_minor": 5
}
