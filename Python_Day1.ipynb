{
 "cells": [
  {
   "cell_type": "markdown",
   "id": "0b8623f3-e731-46d4-94e1-fc31c818fdce",
   "metadata": {
    "tags": []
   },
   "source": [
    "# Python day 1\n",
    "\n",
    "This is plain text"
   ]
  },
  {
   "cell_type": "markdown",
   "id": "754690cd-b121-48bd-80c7-f5c66c637c97",
   "metadata": {},
   "source": [
    "## 1. Python fundamentals"
   ]
  },
  {
   "cell_type": "code",
   "execution_count": 1,
   "id": "48c29b07-a9d3-49b8-a955-032e62825226",
   "metadata": {},
   "outputs": [
    {
     "data": {
      "text/plain": [
       "4"
      ]
     },
     "execution_count": 1,
     "metadata": {},
     "output_type": "execute_result"
    }
   ],
   "source": [
    "2 + 2"
   ]
  },
  {
   "cell_type": "code",
   "execution_count": 2,
   "id": "d0924488-9dc8-4c4e-9f49-41f7ff8b24b2",
   "metadata": {},
   "outputs": [],
   "source": [
    "weight_kg = 60 #kilograms"
   ]
  },
  {
   "cell_type": "code",
   "execution_count": 3,
   "id": "7dfdd543-83cb-423d-944b-0a6cd6e5df24",
   "metadata": {},
   "outputs": [
    {
     "data": {
      "text/plain": [
       "60"
      ]
     },
     "execution_count": 3,
     "metadata": {},
     "output_type": "execute_result"
    }
   ],
   "source": [
    "weight_kg"
   ]
  },
  {
   "cell_type": "code",
   "execution_count": 4,
   "id": "09f0dcd8-6236-4070-8301-5bec6201ad10",
   "metadata": {},
   "outputs": [
    {
     "ename": "SyntaxError",
     "evalue": "invalid decimal literal (1419232609.py, line 1)",
     "output_type": "error",
     "traceback": [
      "\u001b[1;36m  Cell \u001b[1;32mIn[4], line 1\u001b[1;36m\u001b[0m\n\u001b[1;33m    1_patient_weight = 62\u001b[0m\n\u001b[1;37m     ^\u001b[0m\n\u001b[1;31mSyntaxError\u001b[0m\u001b[1;31m:\u001b[0m invalid decimal literal\n"
     ]
    }
   ],
   "source": [
    "1_patient_weight = 62"
   ]
  },
  {
   "cell_type": "code",
   "execution_count": 5,
   "id": "313f72cb-abb9-4739-a940-7d998fe2ba17",
   "metadata": {},
   "outputs": [
    {
     "ename": "NameError",
     "evalue": "name 'Weight_kg' is not defined",
     "output_type": "error",
     "traceback": [
      "\u001b[1;31m---------------------------------------------------------------------------\u001b[0m",
      "\u001b[1;31mNameError\u001b[0m                                 Traceback (most recent call last)",
      "Cell \u001b[1;32mIn[5], line 1\u001b[0m\n\u001b[1;32m----> 1\u001b[0m \u001b[43mWeight_kg\u001b[49m\n",
      "\u001b[1;31mNameError\u001b[0m: name 'Weight_kg' is not defined"
     ]
    }
   ],
   "source": [
    "Weight_kg"
   ]
  },
  {
   "cell_type": "markdown",
   "id": "d16e7a22-f43d-46ef-aa04-84eb443fb881",
   "metadata": {},
   "source": [
    "### Types of data"
   ]
  },
  {
   "cell_type": "code",
   "execution_count": 6,
   "id": "7bc62f80-3582-4505-bedb-af4d7337f951",
   "metadata": {},
   "outputs": [],
   "source": [
    "weight_kg = 60.3 #floating point"
   ]
  },
  {
   "cell_type": "code",
   "execution_count": 7,
   "id": "ed58089e-6421-4e3b-9f7e-b2c9f9c1b9c6",
   "metadata": {},
   "outputs": [],
   "source": [
    "patient_id = \"001\" #string"
   ]
  },
  {
   "cell_type": "code",
   "execution_count": 8,
   "id": "7d5c5b56-c419-4b1f-9d60-c056e53704f5",
   "metadata": {},
   "outputs": [],
   "source": [
    "weight_lb = weight_kg * 2.2"
   ]
  },
  {
   "cell_type": "code",
   "execution_count": 9,
   "id": "5b9acd96-b0a6-4548-a4ac-976912672b91",
   "metadata": {},
   "outputs": [
    {
     "data": {
      "text/plain": [
       "132.66"
      ]
     },
     "execution_count": 9,
     "metadata": {},
     "output_type": "execute_result"
    }
   ],
   "source": [
    "weight_lb"
   ]
  },
  {
   "cell_type": "code",
   "execution_count": 10,
   "id": "3a1e1cc9-dbd1-41a8-befd-18172b978f43",
   "metadata": {},
   "outputs": [],
   "source": [
    "patient_id = \"inflam_\" + patient_id"
   ]
  },
  {
   "cell_type": "code",
   "execution_count": 11,
   "id": "0a4007aa-debc-48ce-9322-5d40f22e0535",
   "metadata": {},
   "outputs": [
    {
     "data": {
      "text/plain": [
       "'inflam_001'"
      ]
     },
     "execution_count": 11,
     "metadata": {},
     "output_type": "execute_result"
    }
   ],
   "source": [
    "patient_id"
   ]
  },
  {
   "cell_type": "code",
   "execution_count": 12,
   "id": "b2b11edc-8cc2-47fe-a5f8-a6880d3030d7",
   "metadata": {},
   "outputs": [
    {
     "data": {
      "text/plain": [
       "str"
      ]
     },
     "execution_count": 12,
     "metadata": {},
     "output_type": "execute_result"
    }
   ],
   "source": [
    "type(patient_id)"
   ]
  },
  {
   "cell_type": "code",
   "execution_count": 13,
   "id": "50029bac-81c7-40e6-948f-e5de8a99d0cc",
   "metadata": {},
   "outputs": [
    {
     "data": {
      "text/plain": [
       "float"
      ]
     },
     "execution_count": 13,
     "metadata": {},
     "output_type": "execute_result"
    }
   ],
   "source": [
    "type(weight_kg)"
   ]
  },
  {
   "cell_type": "code",
   "execution_count": 14,
   "id": "2a34030b-e9f0-4d2a-a4ae-9da2f3cf5f9d",
   "metadata": {},
   "outputs": [
    {
     "name": "stdout",
     "output_type": "stream",
     "text": [
      "60.3\n"
     ]
    }
   ],
   "source": [
    "print(weight_kg)"
   ]
  },
  {
   "cell_type": "code",
   "execution_count": 15,
   "id": "b39245ed-87d7-4aba-8228-f6a6baf43262",
   "metadata": {},
   "outputs": [
    {
     "name": "stdout",
     "output_type": "stream",
     "text": [
      "inflam_001 60.3\n"
     ]
    }
   ],
   "source": [
    "print(patient_id, weight_kg)"
   ]
  },
  {
   "cell_type": "code",
   "execution_count": 16,
   "id": "2cd6645d-20ac-4284-85dd-89d9fa88e932",
   "metadata": {},
   "outputs": [
    {
     "name": "stdout",
     "output_type": "stream",
     "text": [
      "1.3333333333333333\n",
      "<class 'float'>\n"
     ]
    }
   ],
   "source": [
    "#Automatic type determination\n",
    "x = 4 / 3\n",
    "print(x)\n",
    "print(type(x))"
   ]
  },
  {
   "cell_type": "markdown",
   "id": "fd8b9e00-17c9-4c85-bbd9-192c48d39830",
   "metadata": {},
   "source": [
    "## 1.2 Python lists"
   ]
  },
  {
   "cell_type": "code",
   "execution_count": 17,
   "id": "f5780959-8aad-4c07-91d9-bf367f870d5b",
   "metadata": {},
   "outputs": [
    {
     "name": "stdout",
     "output_type": "stream",
     "text": [
      "odds are:  [1, 3, 5, 7]\n"
     ]
    }
   ],
   "source": [
    "odds = [1, 3, 5, 7]\n",
    "print('odds are: ', odds)"
   ]
  },
  {
   "cell_type": "code",
   "execution_count": 18,
   "id": "b7af6736-c878-4c79-b732-68a2d9a3008f",
   "metadata": {},
   "outputs": [
    {
     "data": {
      "text/plain": [
       "1"
      ]
     },
     "execution_count": 18,
     "metadata": {},
     "output_type": "execute_result"
    }
   ],
   "source": [
    "odds[0]"
   ]
  },
  {
   "cell_type": "code",
   "execution_count": 19,
   "id": "fb7b39ba-6d43-40c0-bb76-84febf5127be",
   "metadata": {},
   "outputs": [
    {
     "name": "stdout",
     "output_type": "stream",
     "text": [
      "7\n"
     ]
    }
   ],
   "source": [
    "print(odds[3])"
   ]
  },
  {
   "cell_type": "code",
   "execution_count": 20,
   "id": "f24045f4-4a64-4e53-aa28-47a64114005b",
   "metadata": {},
   "outputs": [
    {
     "ename": "IndexError",
     "evalue": "list index out of range",
     "output_type": "error",
     "traceback": [
      "\u001b[1;31m---------------------------------------------------------------------------\u001b[0m",
      "\u001b[1;31mIndexError\u001b[0m                                Traceback (most recent call last)",
      "Cell \u001b[1;32mIn[20], line 1\u001b[0m\n\u001b[1;32m----> 1\u001b[0m \u001b[43modds\u001b[49m\u001b[43m[\u001b[49m\u001b[38;5;241;43m14\u001b[39;49m\u001b[43m]\u001b[49m\n",
      "\u001b[1;31mIndexError\u001b[0m: list index out of range"
     ]
    }
   ],
   "source": [
    "odds[14]"
   ]
  },
  {
   "cell_type": "code",
   "execution_count": 21,
   "id": "1d1a1775-c575-4715-af0c-73d5abff42a7",
   "metadata": {},
   "outputs": [
    {
     "name": "stdout",
     "output_type": "stream",
     "text": [
      "['Curie', 'Darwing', 'Turing']\n"
     ]
    }
   ],
   "source": [
    "names = ['Curie', 'Darwing', 'Turing']\n",
    "print(names)"
   ]
  },
  {
   "cell_type": "code",
   "execution_count": 22,
   "id": "639dfedb-f13c-4acd-8c46-5b75c4797a9f",
   "metadata": {},
   "outputs": [
    {
     "name": "stdout",
     "output_type": "stream",
     "text": [
      "['Curie', 'Darwin', 'Turing']\n"
     ]
    }
   ],
   "source": [
    "names[1] = 'Darwin'\n",
    "print(names)"
   ]
  },
  {
   "cell_type": "code",
   "execution_count": 23,
   "id": "1436840e-ae2c-484e-8350-3e55a0a20247",
   "metadata": {},
   "outputs": [
    {
     "name": "stdout",
     "output_type": "stream",
     "text": [
      "['peppers', 'onions', 'cilantro', 'tomatoes']\n"
     ]
    }
   ],
   "source": [
    "salsa = ['peppers', 'onions', 'cilantro', 'tomatoes']\n",
    "print(salsa)"
   ]
  },
  {
   "cell_type": "code",
   "execution_count": 24,
   "id": "aaa558da-63e5-4e0d-969e-002fa79a36ba",
   "metadata": {},
   "outputs": [
    {
     "name": "stdout",
     "output_type": "stream",
     "text": [
      "['peppers', 'onions', 'cilantro', 'tomatoes']\n"
     ]
    }
   ],
   "source": [
    "my_salsa = salsa\n",
    "print(my_salsa)"
   ]
  },
  {
   "cell_type": "code",
   "execution_count": 25,
   "id": "ec10f819-667d-4990-aab0-72b16d6d5dd1",
   "metadata": {},
   "outputs": [],
   "source": [
    "my_salsa[0] = 'hot_peppers'"
   ]
  },
  {
   "cell_type": "code",
   "execution_count": 26,
   "id": "dd778762-5fa4-4f30-b631-d8d72ea8e701",
   "metadata": {},
   "outputs": [
    {
     "name": "stdout",
     "output_type": "stream",
     "text": [
      "['hot_peppers', 'onions', 'cilantro', 'tomatoes']\n"
     ]
    }
   ],
   "source": [
    "print(my_salsa)"
   ]
  },
  {
   "cell_type": "code",
   "execution_count": 27,
   "id": "ec390a1d-71f7-4316-9241-4ed80c201b5d",
   "metadata": {},
   "outputs": [
    {
     "name": "stdout",
     "output_type": "stream",
     "text": [
      "['hot_peppers', 'onions', 'cilantro', 'tomatoes']\n"
     ]
    }
   ],
   "source": [
    "print(salsa)"
   ]
  },
  {
   "cell_type": "code",
   "execution_count": 28,
   "id": "b8aaa69d-8f74-492d-8c86-81ca5e46cdb7",
   "metadata": {},
   "outputs": [
    {
     "name": "stdout",
     "output_type": "stream",
     "text": [
      "['peppers', 'onions', 'cilantro', 'tomatoes']\n"
     ]
    }
   ],
   "source": [
    "salsa = ['peppers', 'onions', 'cilantro', 'tomatoes']\n",
    "print(salsa)"
   ]
  },
  {
   "cell_type": "code",
   "execution_count": 29,
   "id": "745a8283-885c-4a50-89a8-7ffde584106f",
   "metadata": {},
   "outputs": [],
   "source": [
    "my_salsa = list(salsa)"
   ]
  },
  {
   "cell_type": "code",
   "execution_count": 30,
   "id": "96c720a0-bb79-452b-a486-e9114b07f94a",
   "metadata": {},
   "outputs": [
    {
     "name": "stdout",
     "output_type": "stream",
     "text": [
      "['peppers', 'onions', 'cilantro', 'tomatoes']\n"
     ]
    }
   ],
   "source": [
    "print(my_salsa)"
   ]
  },
  {
   "cell_type": "code",
   "execution_count": 31,
   "id": "86a36c6e-1356-400b-a128-06371f3b7c31",
   "metadata": {},
   "outputs": [
    {
     "name": "stdout",
     "output_type": "stream",
     "text": [
      "['hot_peppers', 'onions', 'cilantro', 'tomatoes']\n",
      "['peppers', 'onions', 'cilantro', 'tomatoes']\n"
     ]
    }
   ],
   "source": [
    "my_salsa[0] = 'hot_peppers'\n",
    "print(my_salsa)\n",
    "print(salsa)"
   ]
  },
  {
   "cell_type": "code",
   "execution_count": 32,
   "id": "c8a5ecd3-c91f-4328-985a-6db696fe374b",
   "metadata": {},
   "outputs": [
    {
     "name": "stdout",
     "output_type": "stream",
     "text": [
      "[[1, 2, 3], [4, 5, 6], [7, 8, 9]]\n"
     ]
    }
   ],
   "source": [
    "matrix = [ [1, 2, 3],  [4, 5, 6],  [7, 8, 9]  ]\n",
    "print(matrix)"
   ]
  },
  {
   "cell_type": "code",
   "execution_count": 34,
   "id": "d9d3fc9b-2a54-47c3-95f6-e30f6f2ff295",
   "metadata": {},
   "outputs": [
    {
     "data": {
      "text/plain": [
       "2"
      ]
     },
     "execution_count": 34,
     "metadata": {},
     "output_type": "execute_result"
    }
   ],
   "source": [
    "odds.index(5)"
   ]
  },
  {
   "cell_type": "code",
   "execution_count": 35,
   "id": "6458ce02-0026-49fa-bdfd-46bbde39dab6",
   "metadata": {},
   "outputs": [
    {
     "data": {
      "text/plain": [
       "5"
      ]
     },
     "execution_count": 35,
     "metadata": {},
     "output_type": "execute_result"
    }
   ],
   "source": [
    "matrix[1][1]"
   ]
  },
  {
   "cell_type": "markdown",
   "id": "2fae732d-2c1a-4308-a468-8632d2457be7",
   "metadata": {},
   "source": [
    "# 2. Analysing data"
   ]
  },
  {
   "cell_type": "code",
   "execution_count": 36,
   "id": "17816061-9ae4-4637-a666-c927ed16994d",
   "metadata": {},
   "outputs": [],
   "source": [
    "import numpy"
   ]
  },
  {
   "cell_type": "code",
   "execution_count": 37,
   "id": "c05eb7c1-9908-4eba-999d-ec1c30f044ad",
   "metadata": {},
   "outputs": [],
   "source": [
    "data = numpy.loadtxt(fname=\"data/inflammation-01.csv\", delimiter =',')"
   ]
  },
  {
   "cell_type": "code",
   "execution_count": 38,
   "id": "63dfcd66-f62d-4bf1-b954-7e69de762ff2",
   "metadata": {},
   "outputs": [
    {
     "name": "stdout",
     "output_type": "stream",
     "text": [
      "[[0. 0. 1. ... 3. 0. 0.]\n",
      " [0. 1. 2. ... 1. 0. 1.]\n",
      " [0. 1. 1. ... 2. 1. 1.]\n",
      " ...\n",
      " [0. 1. 1. ... 1. 1. 1.]\n",
      " [0. 0. 0. ... 0. 2. 0.]\n",
      " [0. 0. 1. ... 1. 1. 0.]]\n"
     ]
    }
   ],
   "source": [
    "print(data)"
   ]
  },
  {
   "cell_type": "code",
   "execution_count": 39,
   "id": "21083504-720b-4b81-b7c1-fe20e2eb0b60",
   "metadata": {},
   "outputs": [
    {
     "data": {
      "text/plain": [
       "numpy.ndarray"
      ]
     },
     "execution_count": 39,
     "metadata": {},
     "output_type": "execute_result"
    }
   ],
   "source": [
    "type(data)"
   ]
  },
  {
   "cell_type": "code",
   "execution_count": 40,
   "id": "985339db-1ad9-440f-9212-1a2f3319178e",
   "metadata": {},
   "outputs": [
    {
     "name": "stdout",
     "output_type": "stream",
     "text": [
      "float64\n"
     ]
    }
   ],
   "source": [
    "print(data.dtype)"
   ]
  },
  {
   "cell_type": "code",
   "execution_count": 41,
   "id": "c50a6c8c-0c7d-4d2c-a5a5-208d037e40c5",
   "metadata": {},
   "outputs": [
    {
     "name": "stdout",
     "output_type": "stream",
     "text": [
      "(60, 40)\n"
     ]
    }
   ],
   "source": [
    "print(data.shape)"
   ]
  },
  {
   "cell_type": "code",
   "execution_count": 42,
   "id": "bcebde03-3fdd-4093-8311-199d26e19d22",
   "metadata": {},
   "outputs": [
    {
     "data": {
      "text/plain": [
       "0.0"
      ]
     },
     "execution_count": 42,
     "metadata": {},
     "output_type": "execute_result"
    }
   ],
   "source": [
    "data[0, 0]"
   ]
  },
  {
   "cell_type": "markdown",
   "id": "85beced5-3f70-4a4c-9942-125d9813da9a",
   "metadata": {},
   "source": [
    "## Slicing data"
   ]
  },
  {
   "cell_type": "code",
   "execution_count": 43,
   "id": "79d9d6ae-55d7-4dc6-8d11-7fb99e80b04a",
   "metadata": {},
   "outputs": [
    {
     "data": {
      "text/plain": [
       "array([[0., 0., 1., 3., 1., 2., 4., 7., 8., 3.],\n",
       "       [0., 1., 2., 1., 2., 1., 3., 2., 2., 6.],\n",
       "       [0., 1., 1., 3., 3., 2., 6., 2., 5., 9.],\n",
       "       [0., 0., 2., 0., 4., 2., 2., 1., 6., 7.]])"
      ]
     },
     "execution_count": 43,
     "metadata": {},
     "output_type": "execute_result"
    }
   ],
   "source": [
    "data[0:4, 0:10]"
   ]
  },
  {
   "cell_type": "code",
   "execution_count": 44,
   "id": "ae5cce30-ca85-4ae6-b221-d17c098a4344",
   "metadata": {},
   "outputs": [
    {
     "data": {
      "text/plain": [
       "array([[0., 0., 1., 3., 1., 2., 4., 7., 8., 3.],\n",
       "       [0., 1., 2., 1., 2., 1., 3., 2., 2., 6.],\n",
       "       [0., 1., 1., 3., 3., 2., 6., 2., 5., 9.],\n",
       "       [0., 0., 2., 0., 4., 2., 2., 1., 6., 7.]])"
      ]
     },
     "execution_count": 44,
     "metadata": {},
     "output_type": "execute_result"
    }
   ],
   "source": [
    "data[:4, :10]"
   ]
  },
  {
   "cell_type": "code",
   "execution_count": 45,
   "id": "62c992da-dd5c-4095-b3eb-e775eb684c80",
   "metadata": {},
   "outputs": [
    {
     "data": {
      "text/plain": [
       "0.0"
      ]
     },
     "execution_count": 45,
     "metadata": {},
     "output_type": "execute_result"
    }
   ],
   "source": [
    "data[-1,-1]"
   ]
  },
  {
   "cell_type": "code",
   "execution_count": 46,
   "id": "b4115e00-5d1c-40bd-8cc2-583c377f9bf4",
   "metadata": {},
   "outputs": [
    {
     "data": {
      "text/plain": [
       "array([[2., 3., 0., 0.],\n",
       "       [1., 1., 0., 1.],\n",
       "       [2., 2., 1., 1.]])"
      ]
     },
     "execution_count": 46,
     "metadata": {},
     "output_type": "execute_result"
    }
   ],
   "source": [
    "data[:3, -4:]"
   ]
  },
  {
   "cell_type": "markdown",
   "id": "901804d1-da64-4ba6-af42-fe15c52691dc",
   "metadata": {},
   "source": [
    "## Analysing patient data"
   ]
  },
  {
   "cell_type": "code",
   "execution_count": 47,
   "id": "1b6094e7-ce6e-4735-a662-ebb92fe33931",
   "metadata": {},
   "outputs": [
    {
     "name": "stdout",
     "output_type": "stream",
     "text": [
      "6.14875\n"
     ]
    }
   ],
   "source": [
    "print(numpy.mean(data))"
   ]
  },
  {
   "cell_type": "code",
   "execution_count": 48,
   "id": "f8b963c5-6835-4a88-adef-58bb71651fbb",
   "metadata": {},
   "outputs": [],
   "source": [
    "maxval = numpy.max(data)"
   ]
  },
  {
   "cell_type": "code",
   "execution_count": 49,
   "id": "262ee03f-328f-4b4a-b0bd-f6c8b1f334c8",
   "metadata": {},
   "outputs": [
    {
     "data": {
      "text/plain": [
       "20.0"
      ]
     },
     "execution_count": 49,
     "metadata": {},
     "output_type": "execute_result"
    }
   ],
   "source": [
    "maxval"
   ]
  },
  {
   "cell_type": "code",
   "execution_count": 50,
   "id": "8f4e1b8b-5bf3-42d0-910d-e9a862a31c62",
   "metadata": {},
   "outputs": [
    {
     "name": "stdout",
     "output_type": "stream",
     "text": [
      "20.0 0.0 4.613833197118566\n"
     ]
    }
   ],
   "source": [
    "maxval, minval, stdval = numpy.max(data), numpy.min(data), numpy.std(data)\n",
    "\n",
    "print(maxval, minval, stdval)\n",
    "\n"
   ]
  },
  {
   "cell_type": "code",
   "execution_count": 51,
   "id": "476d4808-2ce2-49f4-95c8-eb9d74b4a2ca",
   "metadata": {},
   "outputs": [
    {
     "name": "stdout",
     "output_type": "stream",
     "text": [
      "18.0\n"
     ]
    }
   ],
   "source": [
    "#Option 1\n",
    "patient_0 = data[0,:]\n",
    "print(numpy.max(patient_0))"
   ]
  },
  {
   "cell_type": "code",
   "execution_count": 52,
   "id": "4cf6f654-a843-410e-a663-9b6098cdb3a8",
   "metadata": {},
   "outputs": [
    {
     "name": "stdout",
     "output_type": "stream",
     "text": [
      "[18. 18. 19. 17. 17. 18. 17. 20. 17. 18. 18. 18. 17. 16. 17. 18. 19. 19.\n",
      " 17. 19. 19. 16. 17. 15. 17. 17. 18. 17. 20. 17. 16. 19. 15. 15. 19. 17.\n",
      " 16. 17. 19. 16. 18. 19. 16. 19. 18. 16. 19. 15. 16. 18. 14. 20. 17. 15.\n",
      " 17. 16. 17. 19. 18. 18.]\n"
     ]
    }
   ],
   "source": [
    "#Option 2\n",
    "print(numpy.max(data, axis=1))"
   ]
  },
  {
   "cell_type": "code",
   "execution_count": 53,
   "id": "fdc4ec65-f266-42ef-83d4-21d05687334f",
   "metadata": {},
   "outputs": [
    {
     "name": "stdout",
     "output_type": "stream",
     "text": [
      "(60,)\n"
     ]
    }
   ],
   "source": [
    "print(numpy.max(data, axis=1).shape)"
   ]
  },
  {
   "cell_type": "code",
   "execution_count": 54,
   "id": "f58c80d2-640f-4a4c-944a-4fd7adbb3642",
   "metadata": {},
   "outputs": [
    {
     "name": "stdout",
     "output_type": "stream",
     "text": [
      "[ 0.          0.45        1.11666667  1.75        2.43333333  3.15\n",
      "  3.8         3.88333333  5.23333333  5.51666667  5.95        5.9\n",
      "  8.35        7.73333333  8.36666667  9.5         9.58333333 10.63333333\n",
      " 11.56666667 12.35       13.25       11.96666667 11.03333333 10.16666667\n",
      " 10.          8.66666667  9.15        7.25        7.33333333  6.58333333\n",
      "  6.06666667  5.95        5.11666667  3.6         3.3         3.56666667\n",
      "  2.48333333  1.5         1.13333333  0.56666667]\n"
     ]
    }
   ],
   "source": [
    "print(numpy.mean(data,axis=0))"
   ]
  },
  {
   "cell_type": "markdown",
   "id": "eef0858f-1d83-40ae-90cb-6899c6781b03",
   "metadata": {},
   "source": [
    "# 3. Visualizing data"
   ]
  },
  {
   "cell_type": "code",
   "execution_count": 55,
   "id": "e271da24-46f2-49c6-b1b2-2ac092c329b3",
   "metadata": {},
   "outputs": [],
   "source": [
    "import matplotlib.pyplot"
   ]
  },
  {
   "cell_type": "code",
   "execution_count": 56,
   "id": "4e56d0c5-3cec-4cc6-99c7-4088ee77b4dc",
   "metadata": {},
   "outputs": [
    {
     "data": {
      "image/png": "[encoded data removed]",
      "text/plain": [
       "<Figure size 640x480 with 1 Axes>"
      ]
     },
     "metadata": {},
     "output_type": "display_data"
    }
   ],
   "source": [
    "image = matplotlib.pyplot.imshow(data)\n",
    "matplotlib.pyplot.show()"
   ]
  }
 ],
 "metadata": {
  "kernelspec": {
   "display_name": "Python 3 (ipykernel)",
   "language": "python",
   "name": "python3"
  },
  "language_info": {
   "codemirror_mode": {
    "name": "ipython",
    "version": 3
   },
   "file_extension": ".py",
   "mimetype": "text/x-python",
   "name": "python",
   "nbconvert_exporter": "python",
   "pygments_lexer": "ipython3",
   "version": "3.8.18"
  }
 },
 "nbformat": 4,
 "nbformat_minor": 5
}
