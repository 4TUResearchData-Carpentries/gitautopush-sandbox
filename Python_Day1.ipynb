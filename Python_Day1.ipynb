{
 "cells": [
  {
   "cell_type": "markdown",
   "id": "0b8623f3-e731-46d4-94e1-fc31c818fdce",
   "metadata": {
    "tags": []
   },
   "source": [
    "# Python day 1\n",
    "\n",
    "This is plain text"
   ]
  },
  {
   "cell_type": "markdown",
   "id": "754690cd-b121-48bd-80c7-f5c66c637c97",
   "metadata": {},
   "source": [
    "## 1. Python fundamentals"
   ]
  },
  {
   "cell_type": "code",
   "execution_count": 1,
   "id": "48c29b07-a9d3-49b8-a955-032e62825226",
   "metadata": {},
   "outputs": [
    {
     "data": {
      "text/plain": [
       "4"
      ]
     },
     "execution_count": 1,
     "metadata": {},
     "output_type": "execute_result"
    }
   ],
   "source": [
    "2 + 2"
   ]
  },
  {
   "cell_type": "code",
   "execution_count": 2,
   "id": "d0924488-9dc8-4c4e-9f49-41f7ff8b24b2",
   "metadata": {},
   "outputs": [],
   "source": [
    "weight_kg = 60 #kilograms"
   ]
  },
  {
   "cell_type": "code",
   "execution_count": 3,
   "id": "7dfdd543-83cb-423d-944b-0a6cd6e5df24",
   "metadata": {},
   "outputs": [
    {
     "data": {
      "text/plain": [
       "60"
      ]
     },
     "execution_count": 3,
     "metadata": {},
     "output_type": "execute_result"
    }
   ],
   "source": [
    "weight_kg"
   ]
  },
  {
   "cell_type": "code",
   "execution_count": 4,
   "id": "09f0dcd8-6236-4070-8301-5bec6201ad10",
   "metadata": {},
   "outputs": [
    {
     "ename": "SyntaxError",
     "evalue": "invalid decimal literal (1419232609.py, line 1)",
     "output_type": "error",
     "traceback": [
      "\u001b[1;36m  Cell \u001b[1;32mIn[4], line 1\u001b[1;36m\u001b[0m\n\u001b[1;33m    1_patient_weight = 62\u001b[0m\n\u001b[1;37m     ^\u001b[0m\n\u001b[1;31mSyntaxError\u001b[0m\u001b[1;31m:\u001b[0m invalid decimal literal\n"
     ]
    }
   ],
   "source": [
    "1_patient_weight = 62"
   ]
  },
  {
   "cell_type": "code",
   "execution_count": 5,
   "id": "313f72cb-abb9-4739-a940-7d998fe2ba17",
   "metadata": {},
   "outputs": [
    {
     "ename": "NameError",
     "evalue": "name 'Weight_kg' is not defined",
     "output_type": "error",
     "traceback": [
      "\u001b[1;31m---------------------------------------------------------------------------\u001b[0m",
      "\u001b[1;31mNameError\u001b[0m                                 Traceback (most recent call last)",
      "Cell \u001b[1;32mIn[5], line 1\u001b[0m\n\u001b[1;32m----> 1\u001b[0m \u001b[43mWeight_kg\u001b[49m\n",
      "\u001b[1;31mNameError\u001b[0m: name 'Weight_kg' is not defined"
     ]
    }
   ],
   "source": [
    "Weight_kg"
   ]
  },
  {
   "cell_type": "markdown",
   "id": "d16e7a22-f43d-46ef-aa04-84eb443fb881",
   "metadata": {},
   "source": [
    "### Types of data"
   ]
  },
  {
   "cell_type": "code",
   "execution_count": 6,
   "id": "7bc62f80-3582-4505-bedb-af4d7337f951",
   "metadata": {},
   "outputs": [],
   "source": [
    "weight_kg = 60.3 #floating point"
   ]
  },
  {
   "cell_type": "code",
   "execution_count": 7,
   "id": "ed58089e-6421-4e3b-9f7e-b2c9f9c1b9c6",
   "metadata": {},
   "outputs": [],
   "source": [
    "patient_id = \"001\" #string"
   ]
  },
  {
   "cell_type": "code",
   "execution_count": 8,
   "id": "7d5c5b56-c419-4b1f-9d60-c056e53704f5",
   "metadata": {},
   "outputs": [],
   "source": [
    "weight_lb = weight_kg * 2.2"
   ]
  },
  {
   "cell_type": "code",
   "execution_count": 9,
   "id": "5b9acd96-b0a6-4548-a4ac-976912672b91",
   "metadata": {},
   "outputs": [
    {
     "data": {
      "text/plain": [
       "132.66"
      ]
     },
     "execution_count": 9,
     "metadata": {},
     "output_type": "execute_result"
    }
   ],
   "source": [
    "weight_lb"
   ]
  },
  {
   "cell_type": "code",
   "execution_count": 10,
   "id": "3a1e1cc9-dbd1-41a8-befd-18172b978f43",
   "metadata": {},
   "outputs": [],
   "source": [
    "patient_id = \"inflam_\" + patient_id"
   ]
  },
  {
   "cell_type": "code",
   "execution_count": 11,
   "id": "0a4007aa-debc-48ce-9322-5d40f22e0535",
   "metadata": {},
   "outputs": [
    {
     "data": {
      "text/plain": [
       "'inflam_001'"
      ]
     },
     "execution_count": 11,
     "metadata": {},
     "output_type": "execute_result"
    }
   ],
   "source": [
    "patient_id"
   ]
  },
  {
   "cell_type": "code",
   "execution_count": 12,
   "id": "b2b11edc-8cc2-47fe-a5f8-a6880d3030d7",
   "metadata": {},
   "outputs": [
    {
     "data": {
      "text/plain": [
       "str"
      ]
     },
     "execution_count": 12,
     "metadata": {},
     "output_type": "execute_result"
    }
   ],
   "source": [
    "type(patient_id)"
   ]
  },
  {
   "cell_type": "code",
   "execution_count": 13,
   "id": "50029bac-81c7-40e6-948f-e5de8a99d0cc",
   "metadata": {},
   "outputs": [
    {
     "data": {
      "text/plain": [
       "float"
      ]
     },
     "execution_count": 13,
     "metadata": {},
     "output_type": "execute_result"
    }
   ],
   "source": [
    "type(weight_kg)"
   ]
  },
  {
   "cell_type": "code",
   "execution_count": 14,
   "id": "2a34030b-e9f0-4d2a-a4ae-9da2f3cf5f9d",
   "metadata": {},
   "outputs": [
    {
     "name": "stdout",
     "output_type": "stream",
     "text": [
      "60.3\n"
     ]
    }
   ],
   "source": [
    "print(weight_kg)"
   ]
  },
  {
   "cell_type": "code",
   "execution_count": 15,
   "id": "b39245ed-87d7-4aba-8228-f6a6baf43262",
   "metadata": {},
   "outputs": [
    {
     "name": "stdout",
     "output_type": "stream",
     "text": [
      "inflam_001 60.3\n"
     ]
    }
   ],
   "source": [
    "print(patient_id, weight_kg)"
   ]
  },
  {
   "cell_type": "code",
   "execution_count": null,
   "id": "2cd6645d-20ac-4284-85dd-89d9fa88e932",
   "metadata": {},
   "outputs": [],
   "source": []
  }
 ],
 "metadata": {
  "kernelspec": {
   "display_name": "Python 3 (ipykernel)",
   "language": "python",
   "name": "python3"
  },
  "language_info": {
   "codemirror_mode": {
    "name": "ipython",
    "version": 3
   },
   "file_extension": ".py",
   "mimetype": "text/x-python",
   "name": "python",
   "nbconvert_exporter": "python",
   "pygments_lexer": "ipython3",
   "version": "3.8.18"
  }
 },
 "nbformat": 4,
 "nbformat_minor": 5
}
