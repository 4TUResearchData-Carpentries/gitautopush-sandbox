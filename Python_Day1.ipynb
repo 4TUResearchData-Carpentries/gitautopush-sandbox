{
 "cells": [
  {
   "cell_type": "markdown",
   "id": "0b8623f3-e731-46d4-94e1-fc31c818fdce",
   "metadata": {
    "tags": []
   },
   "source": [
    "# Python day 1\n",
    "\n",
    "This is plain text"
   ]
  },
  {
   "cell_type": "markdown",
   "id": "754690cd-b121-48bd-80c7-f5c66c637c97",
   "metadata": {},
   "source": [
    "## 1. Python fundamentals"
   ]
  },
  {
   "cell_type": "code",
   "execution_count": 1,
   "id": "48c29b07-a9d3-49b8-a955-032e62825226",
   "metadata": {},
   "outputs": [
    {
     "data": {
      "text/plain": [
       "4"
      ]
     },
     "execution_count": 1,
     "metadata": {},
     "output_type": "execute_result"
    }
   ],
   "source": [
    "2 + 2"
   ]
  },
  {
   "cell_type": "code",
   "execution_count": null,
   "id": "d0924488-9dc8-4c4e-9f49-41f7ff8b24b2",
   "metadata": {},
   "outputs": [],
   "source": [
    "wg"
   ]
  }
 ],
 "metadata": {
  "kernelspec": {
   "display_name": "Python 3 (ipykernel)",
   "language": "python",
   "name": "python3"
  },
  "language_info": {
   "codemirror_mode": {
    "name": "ipython",
    "version": 3
   },
   "file_extension": ".py",
   "mimetype": "text/x-python",
   "name": "python",
   "nbconvert_exporter": "python",
   "pygments_lexer": "ipython3",
   "version": "3.8.18"
  }
 },
 "nbformat": 4,
 "nbformat_minor": 5
}
