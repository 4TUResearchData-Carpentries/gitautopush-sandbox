{
 "cells": [
  {
   "cell_type": "markdown",
   "id": "40e7b3ec-3581-42d3-9fd0-eec4b14ec37e",
   "metadata": {},
   "source": [
    "# Exercise: visualisation and analysis of the dataset"
   ]
  },
  {
   "cell_type": "code",
   "execution_count": null,
   "id": "258394c1-8216-4de6-a9ac-934ce56e54ec",
   "metadata": {},
   "outputs": [],
   "source": [
    "# import libraries\n",
    "import numpy\n",
    "import matplotlib.pyplot as plt\n",
    "\n",
    "# load dataset\n",
    "data = numpy.loadtxt(fname= \"data/inflammation-01.csv\",\n",
    "                    )"
   ]
  }
 ],
 "metadata": {
  "kernelspec": {
   "display_name": "Python 3 (ipykernel)",
   "language": "python",
   "name": "python3"
  },
  "language_info": {
   "codemirror_mode": {
    "name": "ipython",
    "version": 3
   },
   "file_extension": ".py",
   "mimetype": "text/x-python",
   "name": "python",
   "nbconvert_exporter": "python",
   "pygments_lexer": "ipython3",
   "version": "3.11.5"
  }
 },
 "nbformat": 4,
 "nbformat_minor": 5
}
