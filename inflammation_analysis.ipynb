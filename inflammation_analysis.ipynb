{
 "cells": [
  {
   "cell_type": "markdown",
   "id": "db12a637-1905-4051-9d0e-f5c93f5e5df6",
   "metadata": {},
   "source": [
    "# Plot mean, max, min in a single figure\n",
    "\n",
    "Steps:\n",
    "1. load data\n",
    "1. setup subplots\n",
    "1. plot data\n",
    "1. add plot labels\n",
    "1. save figure"
   ]
  },
  {
   "cell_type": "code",
   "execution_count": null,
   "id": "49532777-4f06-4bfb-b54d-2a63b32be9ba",
   "metadata": {},
   "outputs": [],
   "source": [
    "import numpy as np\n",
    "import matplotlib.pyplot as plt\n",
    "\n",
    "# Import data\n",
    "data = np.loadtxt(fname='data/inflammation-01.csv', delimiter=',')\n",
    "\n",
    "# Setup figure\n",
    "fig = plt.figure(figsize=(10.0, 3.0))"
   ]
  }
 ],
 "metadata": {
  "kernelspec": {
   "display_name": "Python 3 (ipykernel)",
   "language": "python",
   "name": "python3"
  },
  "language_info": {
   "codemirror_mode": {
    "name": "ipython",
    "version": 3
   },
   "file_extension": ".py",
   "mimetype": "text/x-python",
   "name": "python",
   "nbconvert_exporter": "python",
   "pygments_lexer": "ipython3",
   "version": "3.8.18"
  }
 },
 "nbformat": 4,
 "nbformat_minor": 5
}
