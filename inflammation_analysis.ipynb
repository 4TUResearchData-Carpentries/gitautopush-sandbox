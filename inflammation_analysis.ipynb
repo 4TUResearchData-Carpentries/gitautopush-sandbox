{
 "cells": [
  {
   "cell_type": "markdown",
   "id": "40e7b3ec-3581-42d3-9fd0-eec4b14ec37e",
   "metadata": {},
   "source": [
    "# Exercise: visualisation and analysis of the dataset"
   ]
  },
  {
   "cell_type": "code",
   "execution_count": 1,
   "id": "258394c1-8216-4de6-a9ac-934ce56e54ec",
   "metadata": {
    "tags": []
   },
   "outputs": [
    {
     "name": "stdout",
     "output_type": "stream",
     "text": [
      "[[0. 0. 1. ... 3. 0. 0.]\n",
      " [0. 1. 2. ... 1. 0. 1.]\n",
      " [0. 1. 1. ... 2. 1. 1.]\n",
      " ...\n",
      " [0. 1. 1. ... 1. 1. 1.]\n",
      " [0. 0. 0. ... 0. 2. 0.]\n",
      " [0. 0. 1. ... 1. 1. 0.]]\n"
     ]
    }
   ],
   "source": [
    "# import libraries\n",
    "import numpy\n",
    "import matplotlib.pyplot as plt\n",
    "\n",
    "# load dataset\n",
    "data = numpy.loadtxt(fname= \"data/inflammation-01.csv\",\n",
    "                    delimiter= ',')\n",
    "print(data)\n",
    "\n",
    "# add subplots\n",
    "\n",
    "# add labels\n",
    "\n",
    "# calculate the statistics: mean, max, min of patients over time (axis = 0)\n",
    "\n",
    "# optional: save in a png"
   ]
  }
 ],
 "metadata": {
  "kernelspec": {
   "display_name": "Python 3 (ipykernel)",
   "language": "python",
   "name": "python3"
  },
  "language_info": {
   "codemirror_mode": {
    "name": "ipython",
    "version": 3
   },
   "file_extension": ".py",
   "mimetype": "text/x-python",
   "name": "python",
   "nbconvert_exporter": "python",
   "pygments_lexer": "ipython3",
   "version": "3.11.5"
  }
 },
 "nbformat": 4,
 "nbformat_minor": 5
}
