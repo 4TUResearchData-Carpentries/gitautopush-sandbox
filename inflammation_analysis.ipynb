{
 "cells": [
  {
   "cell_type": "markdown",
   "id": "db12a637-1905-4051-9d0e-f5c93f5e5df6",
   "metadata": {},
   "source": [
    "# Plot mean, max, min in a single figure\n",
    "\n",
    "Steps:\n",
    "1. load data\n",
    "1. setup subplots\n",
    "1. plot data\n",
    "1. add plot labels\n",
    "1. save figure"
   ]
  },
  {
   "cell_type": "code",
   "execution_count": null,
   "id": "49532777-4f06-4bfb-b54d-2a63b32be9ba",
   "metadata": {},
   "outputs": [],
   "source": [
    "import numpy as np\n",
    "import matplotlib.pyplot as plt\n",
    "\n",
    "# Import data\n",
    "data = np.loadtxt(fname='data/inflammation-01.csv', delimiter=',')\n",
    "\n",
    "# Setup figure\n",
    "fig = plt.figure(figsize=(10.0, 3.0))\n",
    "\n",
    "# Add subplots\n",
    "axes1 = fig.add_subplot(1, 3, 1) # (nrows, ncolumns, pos)\n",
    "axes2 = fig.add_subplot(1, 3, 2)\n",
    "axes3 = fig.add_subplot(1, 3, 3)\n",
    "\n",
    "# Add labels\n",
    "axes1.set_ylabel('mean')\n",
    "axes2.set_ylabel('max')\n",
    "axes3.set_ylabel('min')\n",
    "\n",
    "# Plot data\n",
    "axes1.plot(np.mean(data, axis=0))\n",
    "axes2.plot(np.max(data, axis=0))\n",
    "axes3.plot(np.min(data, axis=0))\n",
    "\n",
    "plt.show()"
   ]
  }
 ],
 "metadata": {
  "kernelspec": {
   "display_name": "Python 3 (ipykernel)",
   "language": "python",
   "name": "python3"
  },
  "language_info": {
   "codemirror_mode": {
    "name": "ipython",
    "version": 3
   },
   "file_extension": ".py",
   "mimetype": "text/x-python",
   "name": "python",
   "nbconvert_exporter": "python",
   "pygments_lexer": "ipython3",
   "version": "3.8.18"
  }
 },
 "nbformat": 4,
 "nbformat_minor": 5
}
