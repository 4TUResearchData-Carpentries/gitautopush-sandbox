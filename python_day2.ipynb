{
 "cells": [
  {
   "cell_type": "markdown",
   "id": "19d2c90c-968a-4d4f-a6a7-072f8f78d5bf",
   "metadata": {},
   "source": [
    "# 5. Making choices"
   ]
  },
  {
   "cell_type": "code",
   "execution_count": null,
   "id": "a4d4e06f-5999-4068-8b92-a1a8dd4c4688",
   "metadata": {},
   "outputs": [],
   "source": [
    "# Comparing values and variables\n",
    "print(1 > 0)\n",
    "print(1 <= 0)\n",
    "print("
   ]
  }
 ],
 "metadata": {
  "kernelspec": {
   "display_name": "Python 3 (ipykernel)",
   "language": "python",
   "name": "python3"
  },
  "language_info": {
   "codemirror_mode": {
    "name": "ipython",
    "version": 3
   },
   "file_extension": ".py",
   "mimetype": "text/x-python",
   "name": "python",
   "nbconvert_exporter": "python",
   "pygments_lexer": "ipython3",
   "version": "3.8.18"
  }
 },
 "nbformat": 4,
 "nbformat_minor": 5
}
