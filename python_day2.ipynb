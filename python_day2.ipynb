{
 "cells": [
  {
   "cell_type": "markdown",
   "id": "a0db34d9-df9e-4cc6-b501-eed829ecff3e",
   "metadata": {},
   "source": [
    "## Looping over multiple data files"
   ]
  },
  {
   "cell_type": "code",
   "execution_count": 1,
   "id": "95434878-7e70-41a1-b1e9-d64ff2c7855d",
   "metadata": {
    "tags": []
   },
   "outputs": [],
   "source": [
    "import glob # enable to identify my files"
   ]
  },
  {
   "cell_type": "code",
   "execution_count": 3,
   "id": "925fbc3f-bbed-4e3b-8601-8352b2eb3c15",
   "metadata": {
    "tags": []
   },
   "outputs": [
    {
     "name": "stdout",
     "output_type": "stream",
     "text": [
      "['data/inflammation-05.csv', 'data/inflammation-11.csv', 'data/inflammation-10.csv', 'data/inflammation-04.csv', 'data/inflammation-12.csv', 'data/inflammation-06.csv', 'data/inflammation-07.csv', 'data/inflammation-03.csv', 'data/inflammation-02.csv', 'data/inflammation-01.csv', 'data/inflammation-09.csv', 'data/inflammation-08.csv']\n"
     ]
    }
   ],
   "source": [
    "print(glob.glob(\"data/inflammation*.csv\"))"
   ]
  },
  {
   "cell_type": "markdown",
   "id": "de541610-eeb8-48e1-8d05-3544fc41e008",
   "metadata": {},
   "source": [
    "### Making choices with conditionals"
   ]
  },
  {
   "cell_type": "code",
   "execution_count": 4,
   "id": "407ec61a-ee3c-4c07-8616-76f71c08f972",
   "metadata": {
    "tags": []
   },
   "outputs": [
    {
     "name": "stdout",
     "output_type": "stream",
     "text": [
      "this number is NOT greater than 100\n"
     ]
    }
   ],
   "source": [
    "num = 37\n",
    "\n",
    "if num > 100:\n",
    "    print(\"this number is greater than 100\")\n",
    "else:\n",
    "    print(\"this number is NOT greater than 100\")"
   ]
  },
  {
   "cell_type": "code",
   "execution_count": 7,
   "id": "e6e7dcea-9410-46ea-adb9-28f0fefb8bfe",
   "metadata": {
    "tags": []
   },
   "outputs": [
    {
     "name": "stdout",
     "output_type": "stream",
     "text": [
      "-3 is negative\n"
     ]
    }
   ],
   "source": [
    "# what is the sign of that number?\n",
    "number = -3\n",
    "\n",
    "if number > 0:\n",
    "    print(number, \"is positive\")\n",
    "elif number == 0:\n",
    "    print(number, \"is zero\")\n",
    "else:\n",
    "    print(number, \"is negative\")\n",
    "    "
   ]
  },
  {
   "cell_type": "code",
   "execution_count": 8,
   "id": "99f13a11-2eda-465f-9e0c-6c4787da7737",
   "metadata": {
    "tags": []
   },
   "outputs": [
    {
     "name": "stdout",
     "output_type": "stream",
     "text": [
      "at least one part is false\n"
     ]
    }
   ],
   "source": [
    "# combine test using AND and OR\n",
    "# AND == only true if both parts are true\n",
    "if (1>0) and (-1 >= 0):\n",
    "    print(\"both parts are true\")\n",
    "else:\n",
    "    print(\"at least one part is false\")"
   ]
  },
  {
   "cell_type": "code",
   "execution_count": 9,
   "id": "edc0f45a-ef55-47f0-8daa-fc0bdb9fb42a",
   "metadata": {
    "tags": []
   },
   "outputs": [
    {
     "name": "stdout",
     "output_type": "stream",
     "text": [
      "at least one test is true\n"
     ]
    }
   ],
   "source": [
    "# OR is true if at least one part true\n",
    "if (1<0) or (1>=0):\n",
    "    print(\"at least one test is true\")"
   ]
  },
  {
   "cell_type": "markdown",
   "id": "226fc60e-53a5-432d-a5d6-e51414c680eb",
   "metadata": {},
   "source": [
    "## Checking our data"
   ]
  },
  {
   "cell_type": "code",
   "execution_count": 11,
   "id": "4f04a94b-ea55-440d-aaa1-a0ec6c9a11db",
   "metadata": {
    "tags": []
   },
   "outputs": [
    {
     "name": "stdout",
     "output_type": "stream",
     "text": [
      "[ 0.  1.  2.  3.  4.  5.  6.  7.  8.  9. 10. 11. 12. 13. 14. 15. 16. 17.\n",
      " 18. 19. 20. 19. 18. 17. 16. 15. 14. 13. 12. 11. 10.  9.  8.  7.  6.  5.\n",
      "  4.  3.  2.  1.]\n"
     ]
    }
   ],
   "source": [
    "import numpy\n",
    "data = numpy.loadtxt(fname = \"data/inflammation-01.csv\", delimiter = ',')\n",
    "\n",
    "max_inflammation = numpy.max(data, axis=0)\n",
    "print(max_inflammation)"
   ]
  },
  {
   "cell_type": "code",
   "execution_count": null,
   "id": "41c6dc69-02df-4a22-97c5-e47da67c01b7",
   "metadata": {},
   "outputs": [],
   "source": []
  },
  {
   "cell_type": "code",
   "execution_count": 12,
   "id": "af3ae304-c2d1-496f-9ef6-ee0f274e898b",
   "metadata": {
    "tags": []
   },
   "outputs": [
    {
     "name": "stdout",
     "output_type": "stream",
     "text": [
      "quality issue looking maxima!\n"
     ]
    }
   ],
   "source": [
    "if max_inflammation[0] == 0 and max_inflammation[20] == 20:\n",
    "    print(\"quality issue looking maxima!\")"
   ]
  },
  {
   "cell_type": "code",
   "execution_count": 13,
   "id": "fad18564-eee7-4415-9f1a-07dd30f3ea2d",
   "metadata": {
    "tags": []
   },
   "outputs": [
    {
     "name": "stdout",
     "output_type": "stream",
     "text": [
      "[0. 0. 0. 0. 0. 0. 0. 0. 0. 0. 0. 0. 0. 0. 0. 0. 0. 0. 0. 0. 0. 0. 0. 0.\n",
      " 0. 0. 0. 0. 0. 0. 0. 0. 0. 0. 0. 0. 0. 0. 0. 0.]\n"
     ]
    }
   ],
   "source": [
    "data_3 = numpy.loadtxt(fname = \"data/inflammation-03.csv\", delimiter = ',')\n",
    "min_inflammation = numpy.amin(data_3, axis =0)\n",
    "print(min_inflammation)"
   ]
  },
  {
   "cell_type": "markdown",
   "id": "ddfb667e-3681-4384-b939-f90623977727",
   "metadata": {},
   "source": [
    "### Optional: Lets test all our datasets\n",
    "1. Find files\n",
    "2. Create for-loop function\n",
    "3. Load all the datasets\n",
    "4. Tes the quality data"
   ]
  },
  {
   "cell_type": "code",
   "execution_count": 14,
   "id": "ef6b0600-3c8c-4dc1-9e3c-470368b83776",
   "metadata": {
    "tags": []
   },
   "outputs": [
    {
     "name": "stdout",
     "output_type": "stream",
     "text": [
      "data/inflammation-01.csv Suspicious looking maxima\n",
      "data/inflammation-02.csv Suspicious looking maxima\n",
      "data/inflammation-03.csv Suspicious looking minima\n",
      "data/inflammation-04.csv Suspicious looking maxima\n",
      "data/inflammation-05.csv Suspicious looking maxima\n",
      "data/inflammation-06.csv Suspicious looking maxima\n",
      "data/inflammation-07.csv Suspicious looking maxima\n",
      "data/inflammation-08.csv Suspicious looking minima\n",
      "data/inflammation-09.csv Suspicious looking maxima\n",
      "data/inflammation-10.csv Suspicious looking maxima\n",
      "data/inflammation-11.csv Suspicious looking minima\n",
      "data/inflammation-12.csv Suspicious looking maxima\n"
     ]
    }
   ],
   "source": [
    "import glob # list of filenames\n",
    "import numpy\n",
    "\n",
    "my_filenames = sorted(glob.glob(\"data/inflammation*.csv\"))\n",
    "\n",
    "for my_file in my_filenames:\n",
    "    # load data\n",
    "    my_data = numpy.loadtxt(fname = my_file, delimiter = ',')\n",
    "    \n",
    "    # create the data to test\n",
    "    max_inflammation = numpy.amax(my_data, axis = 0)\n",
    "    min_inflammation = numpy.amin(my_data, axis = 0)\n",
    "    \n",
    "    # if-statement and conditional\n",
    "    if (max_inflammation[0] == 0) and (max_inflammation[20] == 20):\n",
    "        print(my_file, \"Suspicious looking maxima\")\n",
    "    elif numpy.sum(min_inflammation) == 0:\n",
    "        print(my_file, \"Suspicious looking minima\")\n",
    "    else:\n",
    "        print(my_file, \"looks OK\")"
   ]
  },
  {
   "cell_type": "markdown",
   "id": "bc204c03-aff0-40c0-bea5-3d2d0f859a30",
   "metadata": {
    "tags": []
   },
   "source": [
    "# Creating functions"
   ]
  },
  {
   "cell_type": "markdown",
   "id": "0b029a43-09a6-4aa6-9e91-05a9c22ec98f",
   "metadata": {},
   "source": [
    "## Here we'll learn what are functions and how to use them"
   ]
  },
  {
   "cell_type": "markdown",
   "id": "b5db27fe-0b08-4c45-be96-76a2892d5722",
   "metadata": {},
   "source": [
    "## Let's start by converting temperature values"
   ]
  },
  {
   "cell_type": "code",
   "execution_count": 2,
   "id": "15bab738-459d-4be0-84c8-a2b1c92e2234",
   "metadata": {
    "tags": []
   },
   "outputs": [
    {
     "data": {
      "text/plain": [
       "37.22222222222222"
      ]
     },
     "execution_count": 2,
     "metadata": {},
     "output_type": "execute_result"
    }
   ],
   "source": [
    "fahrenheit_val = 99\n",
    "celsius_val = ((fahrenheit_val - 32) * (5/9))\n",
    "celsius_val"
   ]
  },
  {
   "cell_type": "code",
   "execution_count": 3,
   "id": "23aebc66-dbb1-44a7-901d-d69499e97352",
   "metadata": {
    "tags": []
   },
   "outputs": [
    {
     "data": {
      "text/plain": [
       "6.111111111111112"
      ]
     },
     "execution_count": 3,
     "metadata": {},
     "output_type": "execute_result"
    }
   ],
   "source": [
    "fahrenheit_val = 43\n",
    "celsius_val = ((fahrenheit_val - 32) * (5/9))\n",
    "celsius_val"
   ]
  },
  {
   "cell_type": "code",
   "execution_count": 5,
   "id": "0354e0e2-8eec-4f8b-b8e5-819eda0d8992",
   "metadata": {
    "tags": []
   },
   "outputs": [],
   "source": [
    "def fahr_to_celsius(temp):\n",
    "    return((temp - 32) * (5/9))"
   ]
  },
  {
   "cell_type": "code",
   "execution_count": 9,
   "id": "656891b3-3cb8-4a81-a0ee-c7e19bfd7b48",
   "metadata": {
    "tags": []
   },
   "outputs": [
    {
     "data": {
      "text/plain": [
       "6.111111111111112"
      ]
     },
     "execution_count": 9,
     "metadata": {},
     "output_type": "execute_result"
    }
   ],
   "source": [
    "fahr_to_celsius(43)"
   ]
  },
  {
   "cell_type": "markdown",
   "id": "92a35117-4ea4-4d92-acdd-a38f0a1d25be",
   "metadata": {},
   "source": [
    "## Now we can define a function to turn Celsius into Kelvin"
   ]
  },
  {
   "cell_type": "code",
   "execution_count": 12,
   "id": "cf8b3979-e1f9-4096-bf8c-629e8c9c358c",
   "metadata": {
    "tags": []
   },
   "outputs": [
    {
     "data": {
      "text/plain": [
       "300.15"
      ]
     },
     "execution_count": 12,
     "metadata": {},
     "output_type": "execute_result"
    }
   ],
   "source": [
    "def celsius_to_kelvin(temp_c):\n",
    "    return(temp_c + 273.15)\n",
    "\n",
    "celsius_to_kelvin(27)"
   ]
  },
  {
   "cell_type": "markdown",
   "id": "74e237be-a7b6-4539-820b-308acb8a2a4e",
   "metadata": {},
   "source": [
    "## How about using both functions to calculate Fahreneith to Kelvin; this is **composing** functions"
   ]
  },
  {
   "cell_type": "code",
   "execution_count": 14,
   "id": "6fa2921b-9e07-4e73-8a26-365ac725ce25",
   "metadata": {
    "tags": []
   },
   "outputs": [
    {
     "name": "stdout",
     "output_type": "stream",
     "text": [
      "99 degrees Fahrenheit in Kelvin are:  310.3722222222222\n"
     ]
    }
   ],
   "source": [
    "def fahr_to_kelvin(temp_f):\n",
    "    temp_c = fahr_to_celsius(temp_f)\n",
    "    temp_k = celsius_to_kelvin(temp_c)\n",
    "    return(temp_k)\n",
    "\n",
    "print('99 degrees Fahrenheit in Kelvin are: ', fahr_to_kelvin(99))"
   ]
  },
  {
   "cell_type": "markdown",
   "id": "3bfc65ac-ee90-41a8-8f38-a6da013b8619",
   "metadata": {},
   "source": [
    "## Variables have a **scope** depending on where they were **defined**"
   ]
  },
  {
   "cell_type": "code",
   "execution_count": 16,
   "id": "42b6bbc8-a901-4498-94f7-c28fe7502894",
   "metadata": {
    "tags": []
   },
   "outputs": [
    {
     "ename": "NameError",
     "evalue": "name 'temp_k' is not defined",
     "output_type": "error",
     "traceback": [
      "\u001b[1;31m---------------------------------------------------------------------------\u001b[0m",
      "\u001b[1;31mNameError\u001b[0m                                 Traceback (most recent call last)",
      "Cell \u001b[1;32mIn[16], line 1\u001b[0m\n\u001b[1;32m----> 1\u001b[0m \u001b[38;5;28mprint\u001b[39m(\u001b[38;5;124m'\u001b[39m\u001b[38;5;124mTemperature in Kelvin was:\u001b[39m\u001b[38;5;124m'\u001b[39m, temp_k)\n",
      "\u001b[1;31mNameError\u001b[0m: name 'temp_k' is not defined"
     ]
    }
   ],
   "source": [
    "print('Temperature in Kelvin was:', temp_k)"
   ]
  },
  {
   "cell_type": "code",
   "execution_count": null,
   "id": "1cae200a-33fe-409e-a56b-724c6f92353e",
   "metadata": {},
   "outputs": [],
   "source": [
    "## temp_k was defined within F"
   ]
  }
 ],
 "metadata": {
  "kernelspec": {
   "display_name": "Python 3 (ipykernel)",
   "language": "python",
   "name": "python3"
  },
  "language_info": {
   "codemirror_mode": {
    "name": "ipython",
    "version": 3
   },
   "file_extension": ".py",
   "mimetype": "text/x-python",
   "name": "python",
   "nbconvert_exporter": "python",
   "pygments_lexer": "ipython3",
   "version": "3.11.5"
  }
 },
 "nbformat": 4,
 "nbformat_minor": 5
}
