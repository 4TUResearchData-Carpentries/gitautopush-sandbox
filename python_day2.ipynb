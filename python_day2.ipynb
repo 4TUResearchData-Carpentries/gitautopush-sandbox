{
 "cells": [
  {
   "cell_type": "markdown",
   "id": "3929610a-7fce-4f6c-b1d6-1449b84841ed",
   "metadata": {},
   "source": [
    "# 5. Making choices"
   ]
  },
  {
   "cell_type": "code",
   "execution_count": 1,
   "id": "7d9a0311-afdd-45b9-a200-46bd3d741122",
   "metadata": {},
   "outputs": [
    {
     "name": "stdout",
     "output_type": "stream",
     "text": [
      "not greater\n",
      "done\n"
     ]
    }
   ],
   "source": [
    "num = 37\n",
    "if num > 100:\n",
    "    print('greater')\n",
    "else: \n",
    "    print('not greater')\n",
    "print('done')"
   ]
  },
  {
   "cell_type": "code",
   "execution_count": 2,
   "id": "6de89952-b038-41dd-a346-b78dfd0445f3",
   "metadata": {},
   "outputs": [
    {
     "name": "stdout",
     "output_type": "stream",
     "text": [
      "before conditional\n",
      "after conditional\n"
     ]
    }
   ],
   "source": [
    "# Conditional statements don't have to include an else\n",
    "num = 54\n",
    "print('before conditional')\n",
    "if num > 100:\n",
    "    print(num, 'is greater than 100')\n",
    "print('after conditional')"
   ]
  },
  {
   "cell_type": "code",
   "execution_count": 5,
   "id": "d9329c7a-73af-41af-b5c0-4c5ea50bda40",
   "metadata": {},
   "outputs": [
    {
     "name": "stdout",
     "output_type": "stream",
     "text": [
      "0 is zero\n"
     ]
    }
   ],
   "source": [
    "num = 0\n",
    "\n",
    "if num > 0:\n",
    "    print(num, 'is positive')\n",
    "elif num == 0:\n",
    "    print(num, 'is zero')\n",
    "else:\n",
    "    print(num, 'is negative')"
   ]
  },
  {
   "cell_type": "code",
   "execution_count": null,
   "id": "110db4c0-9c1a-4b72-914d-8d50dffab2c7",
   "metadata": {},
   "outputs": [],
   "source": []
  }
 ],
 "metadata": {
  "kernelspec": {
   "display_name": "Python 3 (ipykernel)",
   "language": "python",
   "name": "python3"
  },
  "language_info": {
   "codemirror_mode": {
    "name": "ipython",
    "version": 3
   },
   "file_extension": ".py",
   "mimetype": "text/x-python",
   "name": "python",
   "nbconvert_exporter": "python",
   "pygments_lexer": "ipython3",
   "version": "3.8.18"
  }
 },
 "nbformat": 4,
 "nbformat_minor": 5
}
