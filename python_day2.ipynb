{
 "cells": [
  {
   "cell_type": "code",
   "execution_count": 1,
   "id": "30430dba-633f-4b5e-9ea8-fac0025762b2",
   "metadata": {},
   "outputs": [],
   "source": [
    "import numpy"
   ]
  },
  {
   "cell_type": "code",
   "execution_count": 2,
   "id": "e8d007a6-628d-4c97-b408-24ba4a4ae7f8",
   "metadata": {},
   "outputs": [],
   "source": [
    "data = numpy.loadtxt(fname='data/inflammation-01.csv',delimiter=',')"
   ]
  },
  {
   "cell_type": "code",
   "execution_count": 3,
   "id": "deb94eb3-930b-4c52-87bd-d81c241ebf29",
   "metadata": {},
   "outputs": [
    {
     "data": {
      "text/plain": [
       "numpy.ndarray"
      ]
     },
     "execution_count": 3,
     "metadata": {},
     "output_type": "execute_result"
    }
   ],
   "source": [
    "type(data)"
   ]
  },
  {
   "cell_type": "code",
   "execution_count": 4,
   "id": "e9b74792-d172-452b-8238-855e1ee8613f",
   "metadata": {},
   "outputs": [
    {
     "name": "stdout",
     "output_type": "stream",
     "text": [
      "(60, 40)\n"
     ]
    }
   ],
   "source": [
    "print(data.shape)"
   ]
  },
  {
   "cell_type": "code",
   "execution_count": 5,
   "id": "2878137f-0a25-460c-8308-c4f432863b5c",
   "metadata": {},
   "outputs": [
    {
     "data": {
      "text/plain": [
       "(60, 40)"
      ]
     },
     "execution_count": 5,
     "metadata": {},
     "output_type": "execute_result"
    }
   ],
   "source": [
    "data.shape"
   ]
  },
  {
   "cell_type": "code",
   "execution_count": 6,
   "id": "078c886d-8662-4eff-bef4-cc4331189f4b",
   "metadata": {},
   "outputs": [
    {
     "data": {
      "text/plain": [
       "6.14875"
      ]
     },
     "execution_count": 6,
     "metadata": {},
     "output_type": "execute_result"
    }
   ],
   "source": [
    "numpy.mean(data)"
   ]
  },
  {
   "cell_type": "code",
   "execution_count": 7,
   "id": "9a218dc0-37de-419a-86cd-038bcd936b59",
   "metadata": {},
   "outputs": [
    {
     "data": {
      "text/plain": [
       "0.25"
      ]
     },
     "execution_count": 7,
     "metadata": {},
     "output_type": "execute_result"
    }
   ],
   "source": [
    "numpy.mean(data[0:2,:2])"
   ]
  },
  {
   "cell_type": "code",
   "execution_count": 8,
   "id": "40fb100b-72b4-4eb3-9aaa-f8f7dc86e493",
   "metadata": {},
   "outputs": [
    {
     "name": "stdout",
     "output_type": "stream",
     "text": [
      "[[0. 0.]\n",
      " [0. 1.]]\n"
     ]
    }
   ],
   "source": [
    "print(data[:2,:2])"
   ]
  },
  {
   "cell_type": "code",
   "execution_count": 9,
   "id": "dd984212-ee66-4349-8169-568d5d0a6c31",
   "metadata": {},
   "outputs": [
    {
     "name": "stdout",
     "output_type": "stream",
     "text": [
      "[[0. 0.]\n",
      " [0. 1.]]\n"
     ]
    }
   ],
   "source": [
    "subset = data[:2,:2]\n",
    "print(subset)"
   ]
  },
  {
   "cell_type": "code",
   "execution_count": 10,
   "id": "84658e44-0ba5-4f13-be9d-aaa18fd2b5f2",
   "metadata": {},
   "outputs": [
    {
     "data": {
      "text/plain": [
       "0.25"
      ]
     },
     "execution_count": 10,
     "metadata": {},
     "output_type": "execute_result"
    }
   ],
   "source": [
    "numpy.mean(subset)"
   ]
  },
  {
   "cell_type": "code",
   "execution_count": 12,
   "id": "ebf3762d-748b-4e6b-a368-3ecad656ab59",
   "metadata": {},
   "outputs": [
    {
     "name": "stdout",
     "output_type": "stream",
     "text": [
      "[0.  0.5]\n"
     ]
    }
   ],
   "source": [
    "print(numpy.mean(subset,axis=0))"
   ]
  },
  {
   "cell_type": "code",
   "execution_count": 13,
   "id": "a59f992d-696f-48ef-82c9-a9076cb30e3d",
   "metadata": {},
   "outputs": [
    {
     "name": "stdout",
     "output_type": "stream",
     "text": [
      "[0.  0.5]\n"
     ]
    }
   ],
   "source": [
    "print(numpy.mean(subset,axis=1))"
   ]
  },
  {
   "cell_type": "code",
   "execution_count": 16,
   "id": "139bec6b-e202-4d5b-b7ab-0302a80a08fa",
   "metadata": {},
   "outputs": [
    {
     "name": "stdout",
     "output_type": "stream",
     "text": [
      "[[3. 0. 0.]\n",
      " [1. 0. 1.]\n",
      " [2. 1. 1.]]\n"
     ]
    }
   ],
   "source": [
    "subset = data[0:3,-3:]\n",
    "print(subset)"
   ]
  },
  {
   "cell_type": "code",
   "execution_count": 19,
   "id": "6bd665d0-c8cd-4fa2-a46a-25251df810c4",
   "metadata": {},
   "outputs": [
    {
     "name": "stdout",
     "output_type": "stream",
     "text": [
      "[2.         0.33333333 0.66666667]\n"
     ]
    }
   ],
   "source": [
    "# it sweeps the columns --- the result is a row\n",
    "print(numpy.mean(subset,axis=0))"
   ]
  },
  {
   "cell_type": "code",
   "execution_count": 20,
   "id": "765bf66e-1d19-4474-888b-601bbe025e1a",
   "metadata": {},
   "outputs": [
    {
     "name": "stdout",
     "output_type": "stream",
     "text": [
      "[1.         0.66666667 1.33333333]\n"
     ]
    }
   ],
   "source": [
    "# it sweeps the rows ... the result is a column \n",
    "print(numpy.mean(subset,axis=1))"
   ]
  },
  {
   "cell_type": "code",
   "execution_count": 22,
   "id": "08312894-cf32-4a5e-b787-56ace467d39b",
   "metadata": {},
   "outputs": [
    {
     "name": "stdout",
     "output_type": "stream",
     "text": [
      "[ 0.          0.45        1.11666667  1.75        2.43333333  3.15\n",
      "  3.8         3.88333333  5.23333333  5.51666667  5.95        5.9\n",
      "  8.35        7.73333333  8.36666667  9.5         9.58333333 10.63333333\n",
      " 11.56666667 12.35       13.25       11.96666667 11.03333333 10.16666667\n",
      " 10.          8.66666667  9.15        7.25        7.33333333  6.58333333\n",
      "  6.06666667  5.95        5.11666667  3.6         3.3         3.56666667\n",
      "  2.48333333  1.5         1.13333333  0.56666667]\n"
     ]
    }
   ],
   "source": [
    "# mean of disease among patients over time\n",
    "print(numpy.mean(data,axis=0))"
   ]
  },
  {
   "cell_type": "code",
   "execution_count": 23,
   "id": "a3f6bfe2-3a9e-4924-8c05-3592a07c3d7e",
   "metadata": {},
   "outputs": [
    {
     "name": "stdout",
     "output_type": "stream",
     "text": [
      "(40,)\n"
     ]
    }
   ],
   "source": [
    "print(numpy.mean(data, axis=0).shape)"
   ]
  },
  {
   "cell_type": "code",
   "execution_count": null,
   "id": "4ce6ffcc-7dba-4a2c-8072-7df163f34fca",
   "metadata": {},
   "outputs": [],
   "source": []
  }
 ],
 "metadata": {
  "kernelspec": {
   "display_name": "Python 3",
   "language": "python",
   "name": "python3"
  },
  "language_info": {
   "codemirror_mode": {
    "name": "ipython",
    "version": 3
   },
   "file_extension": ".py",
   "mimetype": "text/x-python",
   "name": "python",
   "nbconvert_exporter": "python",
   "pygments_lexer": "ipython3",
   "version": "3.7.13"
  }
 },
 "nbformat": 4,
 "nbformat_minor": 5
}
