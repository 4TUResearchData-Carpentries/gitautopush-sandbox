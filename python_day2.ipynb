{
 "cells": [
  {
   "cell_type": "code",
   "execution_count": 1,
   "id": "30430dba-633f-4b5e-9ea8-fac0025762b2",
   "metadata": {},
   "outputs": [],
   "source": [
    "import numpy"
   ]
  },
  {
   "cell_type": "code",
   "execution_count": 2,
   "id": "e8d007a6-628d-4c97-b408-24ba4a4ae7f8",
   "metadata": {},
   "outputs": [],
   "source": [
    "data = numpy.loadtxt(fname='data/inflammation-01.csv',delimiter=',')"
   ]
  },
  {
   "cell_type": "code",
   "execution_count": 3,
   "id": "deb94eb3-930b-4c52-87bd-d81c241ebf29",
   "metadata": {},
   "outputs": [
    {
     "data": {
      "text/plain": [
       "numpy.ndarray"
      ]
     },
     "execution_count": 3,
     "metadata": {},
     "output_type": "execute_result"
    }
   ],
   "source": [
    "type(data)"
   ]
  },
  {
   "cell_type": "code",
   "execution_count": 4,
   "id": "e9b74792-d172-452b-8238-855e1ee8613f",
   "metadata": {},
   "outputs": [
    {
     "name": "stdout",
     "output_type": "stream",
     "text": [
      "(60, 40)\n"
     ]
    }
   ],
   "source": [
    "print(data.shape)"
   ]
  },
  {
   "cell_type": "code",
   "execution_count": 5,
   "id": "2878137f-0a25-460c-8308-c4f432863b5c",
   "metadata": {},
   "outputs": [
    {
     "data": {
      "text/plain": [
       "(60, 40)"
      ]
     },
     "execution_count": 5,
     "metadata": {},
     "output_type": "execute_result"
    }
   ],
   "source": [
    "data.shape"
   ]
  },
  {
   "cell_type": "code",
   "execution_count": 6,
   "id": "078c886d-8662-4eff-bef4-cc4331189f4b",
   "metadata": {},
   "outputs": [
    {
     "data": {
      "text/plain": [
       "6.14875"
      ]
     },
     "execution_count": 6,
     "metadata": {},
     "output_type": "execute_result"
    }
   ],
   "source": [
    "numpy.mean(data)"
   ]
  },
  {
   "cell_type": "code",
   "execution_count": 7,
   "id": "9a218dc0-37de-419a-86cd-038bcd936b59",
   "metadata": {},
   "outputs": [
    {
     "data": {
      "text/plain": [
       "0.25"
      ]
     },
     "execution_count": 7,
     "metadata": {},
     "output_type": "execute_result"
    }
   ],
   "source": [
    "numpy.mean(data[0:2,:2])"
   ]
  },
  {
   "cell_type": "code",
   "execution_count": 8,
   "id": "40fb100b-72b4-4eb3-9aaa-f8f7dc86e493",
   "metadata": {},
   "outputs": [
    {
     "name": "stdout",
     "output_type": "stream",
     "text": [
      "[[0. 0.]\n",
      " [0. 1.]]\n"
     ]
    }
   ],
   "source": [
    "print(data[:2,:2])"
   ]
  },
  {
   "cell_type": "code",
   "execution_count": 9,
   "id": "dd984212-ee66-4349-8169-568d5d0a6c31",
   "metadata": {},
   "outputs": [
    {
     "name": "stdout",
     "output_type": "stream",
     "text": [
      "[[0. 0.]\n",
      " [0. 1.]]\n"
     ]
    }
   ],
   "source": [
    "subset = data[:2,:2]\n",
    "print(subset)"
   ]
  },
  {
   "cell_type": "code",
   "execution_count": 10,
   "id": "84658e44-0ba5-4f13-be9d-aaa18fd2b5f2",
   "metadata": {},
   "outputs": [
    {
     "data": {
      "text/plain": [
       "0.25"
      ]
     },
     "execution_count": 10,
     "metadata": {},
     "output_type": "execute_result"
    }
   ],
   "source": [
    "numpy.mean(subset)"
   ]
  },
  {
   "cell_type": "code",
   "execution_count": 12,
   "id": "ebf3762d-748b-4e6b-a368-3ecad656ab59",
   "metadata": {},
   "outputs": [
    {
     "name": "stdout",
     "output_type": "stream",
     "text": [
      "[0.  0.5]\n"
     ]
    }
   ],
   "source": [
    "print(numpy.mean(subset,axis=0))"
   ]
  },
  {
   "cell_type": "code",
   "execution_count": 13,
   "id": "a59f992d-696f-48ef-82c9-a9076cb30e3d",
   "metadata": {},
   "outputs": [
    {
     "name": "stdout",
     "output_type": "stream",
     "text": [
      "[0.  0.5]\n"
     ]
    }
   ],
   "source": [
    "print(numpy.mean(subset,axis=1))"
   ]
  },
  {
   "cell_type": "code",
   "execution_count": 16,
   "id": "139bec6b-e202-4d5b-b7ab-0302a80a08fa",
   "metadata": {},
   "outputs": [
    {
     "name": "stdout",
     "output_type": "stream",
     "text": [
      "[[3. 0. 0.]\n",
      " [1. 0. 1.]\n",
      " [2. 1. 1.]]\n"
     ]
    }
   ],
   "source": [
    "subset = data[0:3,-3:]\n",
    "print(subset)"
   ]
  },
  {
   "cell_type": "code",
   "execution_count": 19,
   "id": "6bd665d0-c8cd-4fa2-a46a-25251df810c4",
   "metadata": {},
   "outputs": [
    {
     "name": "stdout",
     "output_type": "stream",
     "text": [
      "[2.         0.33333333 0.66666667]\n"
     ]
    }
   ],
   "source": [
    "# it sweeps the columns --- the result is a row\n",
    "print(numpy.mean(subset,axis=0))"
   ]
  },
  {
   "cell_type": "code",
   "execution_count": 20,
   "id": "765bf66e-1d19-4474-888b-601bbe025e1a",
   "metadata": {},
   "outputs": [
    {
     "name": "stdout",
     "output_type": "stream",
     "text": [
      "[1.         0.66666667 1.33333333]\n"
     ]
    }
   ],
   "source": [
    "# it sweeps the rows ... the result is a column \n",
    "print(numpy.mean(subset,axis=1))"
   ]
  },
  {
   "cell_type": "code",
   "execution_count": 22,
   "id": "08312894-cf32-4a5e-b787-56ace467d39b",
   "metadata": {},
   "outputs": [
    {
     "name": "stdout",
     "output_type": "stream",
     "text": [
      "[ 0.          0.45        1.11666667  1.75        2.43333333  3.15\n",
      "  3.8         3.88333333  5.23333333  5.51666667  5.95        5.9\n",
      "  8.35        7.73333333  8.36666667  9.5         9.58333333 10.63333333\n",
      " 11.56666667 12.35       13.25       11.96666667 11.03333333 10.16666667\n",
      " 10.          8.66666667  9.15        7.25        7.33333333  6.58333333\n",
      "  6.06666667  5.95        5.11666667  3.6         3.3         3.56666667\n",
      "  2.48333333  1.5         1.13333333  0.56666667]\n"
     ]
    }
   ],
   "source": [
    "# mean of disease among patients over time\n",
    "print(numpy.mean(data,axis=0))"
   ]
  },
  {
   "cell_type": "code",
   "execution_count": 23,
   "id": "a3f6bfe2-3a9e-4924-8c05-3592a07c3d7e",
   "metadata": {},
   "outputs": [
    {
     "name": "stdout",
     "output_type": "stream",
     "text": [
      "(40,)\n"
     ]
    }
   ],
   "source": [
    "print(numpy.mean(data, axis=0).shape)"
   ]
  },
  {
   "cell_type": "code",
   "execution_count": 26,
   "id": "4ce6ffcc-7dba-4a2c-8072-7df163f34fca",
   "metadata": {},
   "outputs": [],
   "source": [
    "import matplotlib.pyplot"
   ]
  },
  {
   "cell_type": "code",
   "execution_count": 28,
   "id": "f14ab20f-d9a0-4d56-bf58-232b4e4aebc3",
   "metadata": {},
   "outputs": [
    {
     "data": {
      "image/png": "[encoded data removed]",
      "text/plain": [
       "<Figure size 432x288 with 1 Axes>"
      ]
     },
     "metadata": {
      "needs_background": "light"
     },
     "output_type": "display_data"
    }
   ],
   "source": [
    "image = matplotlib.pyplot.imshow(data)"
   ]
  },
  {
   "cell_type": "code",
   "execution_count": 29,
   "id": "cc3e9c44-b59a-4332-af6c-e4b43a871cf2",
   "metadata": {},
   "outputs": [],
   "source": [
    "ave_inflammation = numpy.mean(data, axis=0)"
   ]
  },
  {
   "cell_type": "code",
   "execution_count": 31,
   "id": "3caa889b-d1ab-4b6d-b2b1-6dc152591d16",
   "metadata": {},
   "outputs": [
    {
     "data": {
      "text/plain": [
       "(numpy.ndarray, 40)"
      ]
     },
     "execution_count": 31,
     "metadata": {},
     "output_type": "execute_result"
    }
   ],
   "source": [
    "type(ave_inflammation), len(ave_inflammation)"
   ]
  },
  {
   "cell_type": "code",
   "execution_count": 32,
   "id": "1814cc4a-da27-454f-b0e4-2e109833f200",
   "metadata": {},
   "outputs": [
    {
     "name": "stdout",
     "output_type": "stream",
     "text": [
      "[ 0.          0.45        1.11666667  1.75        2.43333333  3.15\n",
      "  3.8         3.88333333  5.23333333  5.51666667  5.95        5.9\n",
      "  8.35        7.73333333  8.36666667  9.5         9.58333333 10.63333333\n",
      " 11.56666667 12.35       13.25       11.96666667 11.03333333 10.16666667\n",
      " 10.          8.66666667  9.15        7.25        7.33333333  6.58333333\n",
      "  6.06666667  5.95        5.11666667  3.6         3.3         3.56666667\n",
      "  2.48333333  1.5         1.13333333  0.56666667]\n"
     ]
    }
   ],
   "source": [
    "print(ave_inflammation)"
   ]
  },
  {
   "cell_type": "code",
   "execution_count": 33,
   "id": "7faef87c-2939-4b96-96d0-5617d8d32b7f",
   "metadata": {},
   "outputs": [
    {
     "data": {
      "image/png": "[encoded data removed]",
      "text/plain": [
       "<Figure size 432x288 with 1 Axes>"
      ]
     },
     "metadata": {
      "needs_background": "light"
     },
     "output_type": "display_data"
    }
   ],
   "source": [
    "ave_plot = matplotlib.pyplot.plot(ave_inflammation)"
   ]
  },
  {
   "cell_type": "code",
   "execution_count": 34,
   "id": "aa8cadc6-5cdc-4f9b-b47e-3b51ff91fdad",
   "metadata": {},
   "outputs": [
    {
     "data": {
      "text/plain": [
       "matplotlib.image.AxesImage"
      ]
     },
     "execution_count": 34,
     "metadata": {},
     "output_type": "execute_result"
    }
   ],
   "source": [
    "type(image)"
   ]
  },
  {
   "cell_type": "code",
   "execution_count": 35,
   "id": "60d3fbb0-6437-43b4-9a29-278032da644b",
   "metadata": {},
   "outputs": [
    {
     "data": {
      "text/plain": [
       "list"
      ]
     },
     "execution_count": 35,
     "metadata": {},
     "output_type": "execute_result"
    }
   ],
   "source": [
    "type(ave_plot)"
   ]
  },
  {
   "cell_type": "code",
   "execution_count": 36,
   "id": "ce26c33f-4c17-452a-be57-c9b7cdff9865",
   "metadata": {},
   "outputs": [
    {
     "data": {
      "image/png": "[encoded data removed]",
      "text/plain": [
       "<Figure size 432x288 with 1 Axes>"
      ]
     },
     "metadata": {
      "needs_background": "light"
     },
     "output_type": "display_data"
    }
   ],
   "source": [
    "max_plot = matplotlib.pyplot.plot(numpy.amax(data, axis=0))"
   ]
  },
  {
   "cell_type": "code",
   "execution_count": 37,
   "id": "cc135eb8-0687-499b-8186-c2386955567e",
   "metadata": {},
   "outputs": [
    {
     "data": {
      "image/png": "[encoded data removed]",
      "text/plain": [
       "<Figure size 432x288 with 1 Axes>"
      ]
     },
     "metadata": {
      "needs_background": "light"
     },
     "output_type": "display_data"
    }
   ],
   "source": [
    "min_plot = matplotlib.pyplot.plot(numpy.amin(data, axis=0))"
   ]
  },
  {
   "cell_type": "code",
   "execution_count": 46,
   "id": "de4bd245-13da-4a26-adf1-a1082138f560",
   "metadata": {},
   "outputs": [
    {
     "data": {
      "image/png": "[encoded data removed]",
      "text/plain": [
       "<Figure size 720x216 with 3 Axes>"
      ]
     },
     "metadata": {
      "needs_background": "light"
     },
     "output_type": "display_data"
    }
   ],
   "source": [
    "fig = matplotlib.pyplot.figure(figsize=(10., 3.))\n",
    "\n",
    "axes1 = fig.add_subplot(1, 3, 1)\n",
    "axes2 = fig.add_subplot(1, 3, 2)\n",
    "axes3 = fig.add_subplot(1, 3, 3)\n",
    "\n",
    "axes1.set_ylabel('average')\n",
    "axes1.set_xlabel('time')\n",
    "axes1.plot(numpy.mean(data, axis=0))\n",
    "\n",
    "axes2.set_ylabel('max')\n",
    "axes2.plot(numpy.amax(data, axis=0))\n",
    "\n",
    "axes3.set_ylabel('min')\n",
    "axes3.plot(numpy.amin(data, axis=0))\n",
    "\n",
    "matplotlib.pyplot.savefig('inflammation.png')\n"
   ]
  },
  {
   "cell_type": "code",
   "execution_count": 51,
   "id": "bfebaf6d-2624-4ff1-bf83-2bff4e0a467c",
   "metadata": {},
   "outputs": [
    {
     "name": "stdout",
     "output_type": "stream",
     "text": [
      "zero\n"
     ]
    }
   ],
   "source": [
    "num = 0\n",
    "\n",
    "if num > 0:\n",
    "    print('positive number')\n",
    "elif num == 0:\n",
    "    print('zero')\n",
    "elif num < 0:\n",
    "    print('negative number')\n",
    "else:\n",
    "    print('something strange is going on here')"
   ]
  },
  {
   "cell_type": "code",
   "execution_count": 52,
   "id": "99a19dff-4485-428f-b785-8726653315c2",
   "metadata": {},
   "outputs": [],
   "source": [
    "# == > => < <= != "
   ]
  },
  {
   "cell_type": "code",
   "execution_count": 56,
   "id": "ea7f6017-d31a-4e5d-8bd1-c9c83f758b6c",
   "metadata": {},
   "outputs": [
    {
     "name": "stdout",
     "output_type": "stream",
     "text": [
      "one at least is false\n"
     ]
    }
   ],
   "source": [
    "if (1 > 0 and -1 >= 0):\n",
    "    print('both are true')\n",
    "else:\n",
    "    print('one at least is false')"
   ]
  },
  {
   "cell_type": "code",
   "execution_count": 55,
   "id": "9912aa0b-f894-416c-815c-a7a3220eeaef",
   "metadata": {},
   "outputs": [
    {
     "name": "stdout",
     "output_type": "stream",
     "text": [
      "at least one is true\n"
     ]
    }
   ],
   "source": [
    "if 1 < 0 or 1 >= 0:\n",
    "    print('at least one is true')\n",
    "else:\n",
    "    print('both are false')"
   ]
  },
  {
   "cell_type": "code",
   "execution_count": 58,
   "id": "188ef717-737c-4b46-b3bb-0b25b914f2e8",
   "metadata": {},
   "outputs": [
    {
     "name": "stdout",
     "output_type": "stream",
     "text": [
      "2. I was here\n",
      "3. I was here\n"
     ]
    }
   ],
   "source": [
    "# True and False\n",
    "\n",
    "if False:\n",
    "    print('1. I was here')\n",
    "    \n",
    "if True:\n",
    "    print('2. I was here')\n",
    "    \n",
    "if True or False:\n",
    "    print('3. I was here')"
   ]
  },
  {
   "cell_type": "code",
   "execution_count": 59,
   "id": "2495a05c-1dc2-4d8d-9495-b54e27e30967",
   "metadata": {},
   "outputs": [],
   "source": [
    "test = False"
   ]
  },
  {
   "cell_type": "code",
   "execution_count": 60,
   "id": "3e23c8f9-3992-4db0-bdb1-32e1d1f95160",
   "metadata": {},
   "outputs": [
    {
     "data": {
      "text/plain": [
       "bool"
      ]
     },
     "execution_count": 60,
     "metadata": {},
     "output_type": "execute_result"
    }
   ],
   "source": [
    "type(test)"
   ]
  },
  {
   "cell_type": "code",
   "execution_count": 61,
   "id": "09fc0c81-7361-4f11-9412-7ad3de0511b4",
   "metadata": {},
   "outputs": [],
   "source": [
    "if test:\n",
    "    print('I was here too')"
   ]
  },
  {
   "cell_type": "code",
   "execution_count": 62,
   "id": "aa4dd74c-5c8b-4369-ad9a-a2f041ff74ec",
   "metadata": {},
   "outputs": [],
   "source": [
    "test = 1 > 0"
   ]
  },
  {
   "cell_type": "code",
   "execution_count": 64,
   "id": "4ee89b78-0338-4551-b37c-c2e1568da5c1",
   "metadata": {},
   "outputs": [
    {
     "data": {
      "text/plain": [
       "bool"
      ]
     },
     "execution_count": 64,
     "metadata": {},
     "output_type": "execute_result"
    }
   ],
   "source": [
    "type(test)"
   ]
  },
  {
   "cell_type": "code",
   "execution_count": 65,
   "id": "d072b390-1f2a-4da1-823d-971ba9485fed",
   "metadata": {},
   "outputs": [
    {
     "name": "stdout",
     "output_type": "stream",
     "text": [
      "I was there again\n"
     ]
    }
   ],
   "source": [
    "if test:\n",
    "    print('I was there again')"
   ]
  },
  {
   "cell_type": "code",
   "execution_count": 66,
   "id": "c4f58309-334f-49ca-871d-c28d1bcafef3",
   "metadata": {},
   "outputs": [
    {
     "name": "stdout",
     "output_type": "stream",
     "text": [
      "[[0. 0. 1. ... 3. 0. 0.]\n",
      " [0. 1. 2. ... 1. 0. 1.]\n",
      " [0. 1. 1. ... 2. 1. 1.]\n",
      " ...\n",
      " [0. 1. 1. ... 1. 1. 1.]\n",
      " [0. 0. 0. ... 0. 2. 0.]\n",
      " [0. 0. 1. ... 1. 1. 0.]]\n"
     ]
    }
   ],
   "source": [
    "print(data)"
   ]
  },
  {
   "cell_type": "code",
   "execution_count": 68,
   "id": "7db29885-117c-4fe3-bc72-2763f1dfb383",
   "metadata": {},
   "outputs": [
    {
     "name": "stdout",
     "output_type": "stream",
     "text": [
      "[0. 0. 0. 0. 1. 1. 1. 1. 2. 2. 2. 2. 3. 3. 3. 3. 4. 5. 5. 5. 5. 4. 4. 4.\n",
      " 4. 3. 3. 3. 3. 2. 2. 2. 2. 1. 1. 1. 1. 0. 0. 0.]\n"
     ]
    }
   ],
   "source": [
    "print(numpy.amin(data,axis=0))"
   ]
  },
  {
   "cell_type": "code",
   "execution_count": 72,
   "id": "fd4b9007-e9bd-4347-bc71-597e1f7bc7e0",
   "metadata": {},
   "outputs": [
    {
     "name": "stdout",
     "output_type": "stream",
     "text": [
      "Test passed\n"
     ]
    }
   ],
   "source": [
    "if numpy.sum(numpy.amin(data, axis=0)) == 0:\n",
    "    print('There must be an error')\n",
    "else:\n",
    "    print('Test passed')\n"
   ]
  },
  {
   "cell_type": "code",
   "execution_count": 73,
   "id": "53da7d9d-be2f-4d93-8309-99dd3183fc14",
   "metadata": {},
   "outputs": [
    {
     "name": "stdout",
     "output_type": "stream",
     "text": [
      "non-empty string is handled as True\n"
     ]
    }
   ],
   "source": [
    "if '':\n",
    "    print('empty string is handled as True')\n",
    "    \n",
    "if 'anything':\n",
    "    print('non-empty string is handled as True')"
   ]
  },
  {
   "cell_type": "code",
   "execution_count": 74,
   "id": "9b8546b5-1306-4ce7-98d0-6b19eec381ea",
   "metadata": {},
   "outputs": [
    {
     "name": "stdout",
     "output_type": "stream",
     "text": [
      "non-empty list is True\n"
     ]
    }
   ],
   "source": [
    "if []:\n",
    "    print('empty list is handled as True')\n",
    "    \n",
    "if [1, 2, 3]:\n",
    "    print('non-empty list is True')"
   ]
  },
  {
   "cell_type": "code",
   "execution_count": 75,
   "id": "1aa1e539-50a9-4884-bd88-141f62262045",
   "metadata": {},
   "outputs": [
    {
     "name": "stdout",
     "output_type": "stream",
     "text": [
      "a non-zero number is true\n"
     ]
    }
   ],
   "source": [
    "if 0:\n",
    "    print('0 is True')\n",
    "\n",
    "if 99:\n",
    "    print('a non-zero number is true')"
   ]
  },
  {
   "cell_type": "code",
   "execution_count": 76,
   "id": "4f2ba036-482f-4831-ac80-23d6f4fb9be5",
   "metadata": {},
   "outputs": [
    {
     "name": "stdout",
     "output_type": "stream",
     "text": [
      "1. this is true\n",
      "3. this is true\n"
     ]
    }
   ],
   "source": [
    "# fill-in exercise\n",
    "\n",
    "if not 0:\n",
    "    print('1. this is true')\n",
    "    \n",
    "if not True:\n",
    "    print('2. this is false')\n",
    "    \n",
    "if not not True:\n",
    "    print('3. this is true')"
   ]
  },
  {
   "cell_type": "code",
   "execution_count": 77,
   "id": "d53781b7-4146-414c-8a8c-8041958073b7",
   "metadata": {},
   "outputs": [],
   "source": [
    "# FUNCTIONS"
   ]
  },
  {
   "cell_type": "code",
   "execution_count": 78,
   "id": "d89d6bf5-5aa4-4871-a1ab-91ff2e2631c1",
   "metadata": {},
   "outputs": [
    {
     "name": "stdout",
     "output_type": "stream",
     "text": [
      "37.22222222222222\n"
     ]
    }
   ],
   "source": [
    "# F to C\n",
    "fahrenheit_val = 99\n",
    "celsius_val = (fahrenheit_val - 32 ) * 5/9\n",
    "print(celsius_val)"
   ]
  },
  {
   "cell_type": "code",
   "execution_count": 79,
   "id": "783a00c7-9596-4454-9717-26c115b7d1dd",
   "metadata": {},
   "outputs": [
    {
     "name": "stdout",
     "output_type": "stream",
     "text": [
      "232.77777777777777\n"
     ]
    }
   ],
   "source": [
    "fahrenheit_val2 = 451\n",
    "celsius_val2 = (fahrenheit_val2 - 32 ) * 5/9\n",
    "print(celsius_val2)"
   ]
  },
  {
   "cell_type": "code",
   "execution_count": 82,
   "id": "acb5fc61-fbff-45bc-b038-6272df16cf35",
   "metadata": {},
   "outputs": [],
   "source": [
    "def explicit_fahr_to_cel(input_temp):\n",
    "    converted = ( input_temp - 32 ) * 5/9\n",
    "    return converted    "
   ]
  },
  {
   "cell_type": "code",
   "execution_count": 83,
   "id": "92ba0300-d9cd-4608-9a57-a792b7fd186f",
   "metadata": {},
   "outputs": [
    {
     "data": {
      "text/plain": [
       "232.77777777777777"
      ]
     },
     "execution_count": 83,
     "metadata": {},
     "output_type": "execute_result"
    }
   ],
   "source": [
    "explicit_fahr_to_cel(451)"
   ]
  },
  {
   "cell_type": "code",
   "execution_count": 85,
   "id": "3e5779bc-abe8-4d5f-857b-5b125fac784d",
   "metadata": {},
   "outputs": [
    {
     "data": {
      "text/plain": [
       "37.22222222222222"
      ]
     },
     "execution_count": 85,
     "metadata": {},
     "output_type": "execute_result"
    }
   ],
   "source": [
    "explicit_fahr_to_cel(99)"
   ]
  },
  {
   "cell_type": "code",
   "execution_count": 86,
   "id": "efb24d79-cc55-43ec-b8f5-0fa6e155a781",
   "metadata": {},
   "outputs": [
    {
     "ename": "NameError",
     "evalue": "name 'converted' is not defined",
     "output_type": "error",
     "traceback": [
      "\u001b[0;31m---------------------------------------------------------------------------\u001b[0m",
      "\u001b[0;31mNameError\u001b[0m                                 Traceback (most recent call last)",
      "\u001b[0;32m<ipython-input-86-722fb200578e>\u001b[0m in \u001b[0;36m<module>\u001b[0;34m\u001b[0m\n\u001b[0;32m----> 1\u001b[0;31m \u001b[0mprint\u001b[0m\u001b[0;34m(\u001b[0m\u001b[0mconverted\u001b[0m\u001b[0;34m)\u001b[0m\u001b[0;34m\u001b[0m\u001b[0;34m\u001b[0m\u001b[0m\n\u001b[0m",
      "\u001b[0;31mNameError\u001b[0m: name 'converted' is not defined"
     ]
    }
   ],
   "source": [
    "print(converted)"
   ]
  },
  {
   "cell_type": "code",
   "execution_count": 87,
   "id": "771be286-9894-47d4-b3b7-1a9ac2221bbf",
   "metadata": {},
   "outputs": [],
   "source": [
    "fahrenheit_val = explicit_fahr_to_cel(564)"
   ]
  },
  {
   "cell_type": "code",
   "execution_count": 88,
   "id": "e8a03c99-67dd-4ae3-b214-9a26daa709ba",
   "metadata": {},
   "outputs": [
    {
     "name": "stdout",
     "output_type": "stream",
     "text": [
      "295.55555555555554\n"
     ]
    }
   ],
   "source": [
    "print(fahrenheit_val)"
   ]
  },
  {
   "cell_type": "code",
   "execution_count": 90,
   "id": "82c3f1db-e9a3-4ee6-8e1d-bc4a2ad74252",
   "metadata": {},
   "outputs": [],
   "source": [
    "def fahr_to_cel(input_temp):\n",
    "    return (input_temp - 32) * 5/9"
   ]
  },
  {
   "cell_type": "code",
   "execution_count": 91,
   "id": "1b410bbc-211f-43f1-8d49-df01d58111e4",
   "metadata": {},
   "outputs": [
    {
     "data": {
      "text/plain": [
       "295.55555555555554"
      ]
     },
     "execution_count": 91,
     "metadata": {},
     "output_type": "execute_result"
    }
   ],
   "source": [
    "fahr_to_cel(564)"
   ]
  },
  {
   "cell_type": "code",
   "execution_count": 92,
   "id": "c5f23f01-6cae-46c5-acba-e14506486dd9",
   "metadata": {},
   "outputs": [],
   "source": [
    "def cel_to_kel(input_temp):\n",
    "    return input_temp + 273.15"
   ]
  },
  {
   "cell_type": "code",
   "execution_count": 93,
   "id": "7bd88e5e-2d34-496c-a28b-59049b493fd0",
   "metadata": {},
   "outputs": [
    {
     "name": "stdout",
     "output_type": "stream",
     "text": [
      "freezing point of water in degrees Kelvin is: 273.15\n"
     ]
    }
   ],
   "source": [
    "print('freezing point of water in degrees Kelvin is:', cel_to_kel(0))"
   ]
  },
  {
   "cell_type": "code",
   "execution_count": 94,
   "id": "04b46c66-1688-4a10-91bd-e2699c087dff",
   "metadata": {},
   "outputs": [],
   "source": [
    "def fahr_to_kel(input_temp):\n",
    "    temp_c = fahr_to_cel(input_temp)\n",
    "    temp_k = cel_to_kel(temp_c)\n",
    "    return temp_k"
   ]
  },
  {
   "cell_type": "code",
   "execution_count": 95,
   "id": "4d9b7ba2-124c-4598-8cc6-70097399d255",
   "metadata": {},
   "outputs": [
    {
     "data": {
      "text/plain": [
       "310.3722222222222"
      ]
     },
     "execution_count": 95,
     "metadata": {},
     "output_type": "execute_result"
    }
   ],
   "source": [
    "fahr_to_kel(99)"
   ]
  },
  {
   "cell_type": "code",
   "execution_count": 108,
   "id": "4ac485f1-a5c6-4d5f-8cc5-685b38b17afe",
   "metadata": {},
   "outputs": [],
   "source": [
    "def visualise(file_path):\n",
    "    \"\"\"\n",
    "    Given a file path, produce plots and a mean\n",
    "    \"\"\"\n",
    "    \n",
    "    # load inflammation file \n",
    "    data = numpy.loadtxt(fname=file_path,delimiter=',')\n",
    "\n",
    "    # set dimensions of figure\n",
    "    fig = matplotlib.pyplot.figure(figsize=(10., 3.))\n",
    "\n",
    "    # set plot number, arrangement and position\n",
    "    axes1 = fig.add_subplot(1, 3, 1)\n",
    "    axes2 = fig.add_subplot(1, 3, 2)\n",
    "    axes3 = fig.add_subplot(1, 3, 3)\n",
    "\n",
    "    # prepare plot 1\n",
    "    axes1.set_ylabel('average')\n",
    "    axes1.set_xlabel('time')\n",
    "    axes1.plot(numpy.mean(data, axis=0))\n",
    "\n",
    "    #\n",
    "    axes2.set_ylabel('max')\n",
    "    axes2.set_xlabel('time')\n",
    "    axes2.plot(numpy.amax(data, axis=0))\n",
    "\n",
    "    #\n",
    "    axes3.set_ylabel('min')\n",
    "    axes3.set_xlabel('time')\n",
    "    axes3.plot(numpy.amin(data, axis=0))\n",
    "\n",
    "    #\n",
    "    matplotlib.pyplot.savefig('inflammation.png')\n",
    "    \n",
    "    #\n",
    "    return numpy.mean(data)  # fully optional\n",
    "    "
   ]
  },
  {
   "cell_type": "code",
   "execution_count": 109,
   "id": "9170f5f9-8cf1-42d8-a83d-825bc5e13028",
   "metadata": {},
   "outputs": [
    {
     "data": {
      "text/plain": [
       "5.990833333333334"
      ]
     },
     "execution_count": 109,
     "metadata": {},
     "output_type": "execute_result"
    },
    {
     "data": {
      "image/png": "[encoded data removed]",
      "text/plain": [
       "<Figure size 720x216 with 3 Axes>"
      ]
     },
     "metadata": {
      "needs_background": "light"
     },
     "output_type": "display_data"
    }
   ],
   "source": [
    "# visualise(data)\n",
    "# visualise('data/inflammation-01.csv')\n",
    "visualise('data/inflammation-02.csv')"
   ]
  },
  {
   "cell_type": "code",
   "execution_count": 110,
   "id": "b52e340d-d4f3-4581-937c-445cdbe3d009",
   "metadata": {},
   "outputs": [],
   "source": [
    "# mean_3 = visualise('data/inflammation-03.csv')"
   ]
  },
  {
   "cell_type": "code",
   "execution_count": 111,
   "id": "8aa82561-5e49-438b-894b-7e60865c7a94",
   "metadata": {},
   "outputs": [],
   "source": [
    "# print(mean_3)"
   ]
  },
  {
   "cell_type": "code",
   "execution_count": 112,
   "id": "3c1e9166-70aa-4214-81c4-370b9fe9cc1a",
   "metadata": {},
   "outputs": [
    {
     "name": "stdout",
     "output_type": "stream",
     "text": [
      "Help on function visualise in module __main__:\n",
      "\n",
      "visualise(file_path)\n",
      "    Given a file path, produce plots and a mean\n",
      "\n"
     ]
    }
   ],
   "source": [
    "help(visualise)"
   ]
  },
  {
   "cell_type": "code",
   "execution_count": 113,
   "id": "19580ea1-7a15-4a67-8eda-ad1c7f158f96",
   "metadata": {},
   "outputs": [
    {
     "name": "stdout",
     "output_type": "stream",
     "text": [
      "Help on function loadtxt in module numpy:\n",
      "\n",
      "loadtxt(fname, dtype=<class 'float'>, comments='#', delimiter=None, converters=None, skiprows=0, usecols=None, unpack=False, ndmin=0, encoding='bytes', max_rows=None, *, like=None)\n",
      "    Load data from a text file.\n",
      "    \n",
      "    Each row in the text file must have the same number of values.\n",
      "    \n",
      "    Parameters\n",
      "    ----------\n",
      "    fname : file, str, or pathlib.Path\n",
      "        File, filename, or generator to read.  If the filename extension is\n",
      "        ``.gz`` or ``.bz2``, the file is first decompressed. Note that\n",
      "        generators should return byte strings.\n",
      "    dtype : data-type, optional\n",
      "        Data-type of the resulting array; default: float.  If this is a\n",
      "        structured data-type, the resulting array will be 1-dimensional, and\n",
      "        each row will be interpreted as an element of the array.  In this\n",
      "        case, the number of columns used must match the number of fields in\n",
      "        the data-type.\n",
      "    comments : str or sequence of str, optional\n",
      "        The characters or list of characters used to indicate the start of a\n",
      "        comment. None implies no comments. For backwards compatibility, byte\n",
      "        strings will be decoded as 'latin1'. The default is '#'.\n",
      "    delimiter : str, optional\n",
      "        The string used to separate values. For backwards compatibility, byte\n",
      "        strings will be decoded as 'latin1'. The default is whitespace.\n",
      "    converters : dict, optional\n",
      "        A dictionary mapping column number to a function that will parse the\n",
      "        column string into the desired value.  E.g., if column 0 is a date\n",
      "        string: ``converters = {0: datestr2num}``.  Converters can also be\n",
      "        used to provide a default value for missing data (but see also\n",
      "        `genfromtxt`): ``converters = {3: lambda s: float(s.strip() or 0)}``.\n",
      "        Default: None.\n",
      "    skiprows : int, optional\n",
      "        Skip the first `skiprows` lines, including comments; default: 0.\n",
      "    usecols : int or sequence, optional\n",
      "        Which columns to read, with 0 being the first. For example,\n",
      "        ``usecols = (1,4,5)`` will extract the 2nd, 5th and 6th columns.\n",
      "        The default, None, results in all columns being read.\n",
      "    \n",
      "        .. versionchanged:: 1.11.0\n",
      "            When a single column has to be read it is possible to use\n",
      "            an integer instead of a tuple. E.g ``usecols = 3`` reads the\n",
      "            fourth column the same way as ``usecols = (3,)`` would.\n",
      "    unpack : bool, optional\n",
      "        If True, the returned array is transposed, so that arguments may be\n",
      "        unpacked using ``x, y, z = loadtxt(...)``.  When used with a\n",
      "        structured data-type, arrays are returned for each field.\n",
      "        Default is False.\n",
      "    ndmin : int, optional\n",
      "        The returned array will have at least `ndmin` dimensions.\n",
      "        Otherwise mono-dimensional axes will be squeezed.\n",
      "        Legal values: 0 (default), 1 or 2.\n",
      "    \n",
      "        .. versionadded:: 1.6.0\n",
      "    encoding : str, optional\n",
      "        Encoding used to decode the inputfile. Does not apply to input streams.\n",
      "        The special value 'bytes' enables backward compatibility workarounds\n",
      "        that ensures you receive byte arrays as results if possible and passes\n",
      "        'latin1' encoded strings to converters. Override this value to receive\n",
      "        unicode arrays and pass strings as input to converters.  If set to None\n",
      "        the system default is used. The default value is 'bytes'.\n",
      "    \n",
      "        .. versionadded:: 1.14.0\n",
      "    max_rows : int, optional\n",
      "        Read `max_rows` lines of content after `skiprows` lines. The default\n",
      "        is to read all the lines.\n",
      "    \n",
      "        .. versionadded:: 1.16.0\n",
      "    like : array_like\n",
      "        Reference object to allow the creation of arrays which are not\n",
      "        NumPy arrays. If an array-like passed in as ``like`` supports\n",
      "        the ``__array_function__`` protocol, the result will be defined\n",
      "        by it. In this case, it ensures the creation of an array object\n",
      "        compatible with that passed in via this argument.\n",
      "    \n",
      "        .. versionadded:: 1.20.0\n",
      "    \n",
      "    Returns\n",
      "    -------\n",
      "    out : ndarray\n",
      "        Data read from the text file.\n",
      "    \n",
      "    See Also\n",
      "    --------\n",
      "    load, fromstring, fromregex\n",
      "    genfromtxt : Load data with missing values handled as specified.\n",
      "    scipy.io.loadmat : reads MATLAB data files\n",
      "    \n",
      "    Notes\n",
      "    -----\n",
      "    This function aims to be a fast reader for simply formatted files.  The\n",
      "    `genfromtxt` function provides more sophisticated handling of, e.g.,\n",
      "    lines with missing values.\n",
      "    \n",
      "    .. versionadded:: 1.10.0\n",
      "    \n",
      "    The strings produced by the Python float.hex method can be used as\n",
      "    input for floats.\n",
      "    \n",
      "    Examples\n",
      "    --------\n",
      "    >>> from io import StringIO   # StringIO behaves like a file object\n",
      "    >>> c = StringIO(\"0 1\\n2 3\")\n",
      "    >>> np.loadtxt(c)\n",
      "    array([[0., 1.],\n",
      "           [2., 3.]])\n",
      "    \n",
      "    >>> d = StringIO(\"M 21 72\\nF 35 58\")\n",
      "    >>> np.loadtxt(d, dtype={'names': ('gender', 'age', 'weight'),\n",
      "    ...                      'formats': ('S1', 'i4', 'f4')})\n",
      "    array([(b'M', 21, 72.), (b'F', 35, 58.)],\n",
      "          dtype=[('gender', 'S1'), ('age', '<i4'), ('weight', '<f4')])\n",
      "    \n",
      "    >>> c = StringIO(\"1,0,2\\n3,0,4\")\n",
      "    >>> x, y = np.loadtxt(c, delimiter=',', usecols=(0, 2), unpack=True)\n",
      "    >>> x\n",
      "    array([1., 3.])\n",
      "    >>> y\n",
      "    array([2., 4.])\n",
      "    \n",
      "    This example shows how `converters` can be used to convert a field\n",
      "    with a trailing minus sign into a negative number.\n",
      "    \n",
      "    >>> s = StringIO('10.01 31.25-\\n19.22 64.31\\n17.57- 63.94')\n",
      "    >>> def conv(fld):\n",
      "    ...     return -float(fld[:-1]) if fld.endswith(b'-') else float(fld)\n",
      "    ...\n",
      "    >>> np.loadtxt(s, converters={0: conv, 1: conv})\n",
      "    array([[ 10.01, -31.25],\n",
      "           [ 19.22,  64.31],\n",
      "           [-17.57,  63.94]])\n",
      "\n"
     ]
    }
   ],
   "source": [
    "help(numpy.loadtxt)"
   ]
  },
  {
   "cell_type": "code",
   "execution_count": 123,
   "id": "e46e7f36-fe35-44c1-9a12-aeae47df6817",
   "metadata": {},
   "outputs": [],
   "source": [
    "def fahr_to_cel(input_temp, symbol='C'):\n",
    "    '''\n",
    "    write your docstrings here and show the help to a peer\n",
    "    '''\n",
    "    return (input_temp - 32) * 5/9, symbol"
   ]
  },
  {
   "cell_type": "code",
   "execution_count": 124,
   "id": "3ced29c2-bad4-4558-8795-aeb5de856a47",
   "metadata": {},
   "outputs": [
    {
     "data": {
      "text/plain": [
       "(232.77777777777777, 'C')"
      ]
     },
     "execution_count": 124,
     "metadata": {},
     "output_type": "execute_result"
    }
   ],
   "source": [
    "fahr_to_cel(451)"
   ]
  },
  {
   "cell_type": "code",
   "execution_count": 119,
   "id": "9f7f3499-d3b4-44a1-a1c1-735f432867b1",
   "metadata": {},
   "outputs": [],
   "source": [
    "data2 = numpy.loadtxt('data/inflammation-02.csv', delimiter=',')"
   ]
  },
  {
   "cell_type": "code",
   "execution_count": 125,
   "id": "15fc76f0-e7c1-41c4-b5a0-73d2b34c96f9",
   "metadata": {},
   "outputs": [],
   "source": [
    "def display(a=1, b=2, c=3):\n",
    "    print('a:', a, 'b:', b, 'c:', c)"
   ]
  },
  {
   "cell_type": "code",
   "execution_count": 126,
   "id": "5fc61a61-dc2a-41c2-b7bc-7f85ba452ccc",
   "metadata": {},
   "outputs": [
    {
     "name": "stdout",
     "output_type": "stream",
     "text": [
      "a: 1 b: 2 c: 3\n"
     ]
    }
   ],
   "source": [
    "display()"
   ]
  },
  {
   "cell_type": "code",
   "execution_count": 127,
   "id": "aeb44931-1a67-4524-b9ae-d83d82a1a8b6",
   "metadata": {},
   "outputs": [
    {
     "name": "stdout",
     "output_type": "stream",
     "text": [
      "a: A b: 5 c: 3\n"
     ]
    }
   ],
   "source": [
    "display('A', 5)"
   ]
  },
  {
   "cell_type": "code",
   "execution_count": 128,
   "id": "769c4069-933d-4480-94fd-8c09975a5788",
   "metadata": {},
   "outputs": [
    {
     "name": "stdout",
     "output_type": "stream",
     "text": [
      "a: 1 b: 54 c: 3\n"
     ]
    }
   ],
   "source": [
    "display(b=54)"
   ]
  },
  {
   "cell_type": "code",
   "execution_count": null,
   "id": "916d5133-4229-4e9f-ba07-85762fb9fa73",
   "metadata": {},
   "outputs": [],
   "source": []
  }
 ],
 "metadata": {
  "kernelspec": {
   "display_name": "Python 3",
   "language": "python",
   "name": "python3"
  },
  "language_info": {
   "codemirror_mode": {
    "name": "ipython",
    "version": 3
   },
   "file_extension": ".py",
   "mimetype": "text/x-python",
   "name": "python",
   "nbconvert_exporter": "python",
   "pygments_lexer": "ipython3",
   "version": "3.7.13"
  }
 },
 "nbformat": 4,
 "nbformat_minor": 5
}
