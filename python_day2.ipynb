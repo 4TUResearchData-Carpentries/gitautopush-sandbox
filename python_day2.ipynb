{
 "cells": [
  {
   "cell_type": "markdown",
   "id": "a0db34d9-df9e-4cc6-b501-eed829ecff3e",
   "metadata": {},
   "source": [
    "## Looping over multiple data files"
   ]
  },
  {
   "cell_type": "code",
   "execution_count": 1,
   "id": "95434878-7e70-41a1-b1e9-d64ff2c7855d",
   "metadata": {
    "tags": []
   },
   "outputs": [],
   "source": [
    "import glob # enable to identify my files"
   ]
  },
  {
   "cell_type": "code",
   "execution_count": 3,
   "id": "925fbc3f-bbed-4e3b-8601-8352b2eb3c15",
   "metadata": {
    "tags": []
   },
   "outputs": [
    {
     "name": "stdout",
     "output_type": "stream",
     "text": [
      "['data/inflammation-05.csv', 'data/inflammation-11.csv', 'data/inflammation-10.csv', 'data/inflammation-04.csv', 'data/inflammation-12.csv', 'data/inflammation-06.csv', 'data/inflammation-07.csv', 'data/inflammation-03.csv', 'data/inflammation-02.csv', 'data/inflammation-01.csv', 'data/inflammation-09.csv', 'data/inflammation-08.csv']\n"
     ]
    }
   ],
   "source": [
    "print(glob.glob(\"data/inflammation*.csv\"))"
   ]
  },
  {
   "cell_type": "markdown",
   "id": "de541610-eeb8-48e1-8d05-3544fc41e008",
   "metadata": {},
   "source": [
    "### Making choices with conditionals"
   ]
  },
  {
   "cell_type": "code",
   "execution_count": 4,
   "id": "407ec61a-ee3c-4c07-8616-76f71c08f972",
   "metadata": {
    "tags": []
   },
   "outputs": [
    {
     "name": "stdout",
     "output_type": "stream",
     "text": [
      "this number is NOT greater than 100\n"
     ]
    }
   ],
   "source": [
    "num = 37\n",
    "\n",
    "if num > 100:\n",
    "    print(\"this number is greater than 100\")\n",
    "else:\n",
    "    print(\"this number is NOT greater than 100\")"
   ]
  },
  {
   "cell_type": "code",
   "execution_count": 5,
   "id": "e6e7dcea-9410-46ea-adb9-28f0fefb8bfe",
   "metadata": {
    "tags": []
   },
   "outputs": [],
   "source": [
    "# what is the sign of that number?\n",
    "number = -3\n",
    "\n",
    "if number > 0:\n",
    "    print(number, \"is positive\")\n",
    "elif number == 0:\n",
    "    print(number, \"is ZERO\")\n",
    "else:\n",
    "    print(number, \"is negative\")\n",
    "    "
   ]
  }
 ],
 "metadata": {
  "kernelspec": {
   "display_name": "Python 3 (ipykernel)",
   "language": "python",
   "name": "python3"
  },
  "language_info": {
   "codemirror_mode": {
    "name": "ipython",
    "version": 3
   },
   "file_extension": ".py",
   "mimetype": "text/x-python",
   "name": "python",
   "nbconvert_exporter": "python",
   "pygments_lexer": "ipython3",
   "version": "3.11.5"
  }
 },
 "nbformat": 4,
 "nbformat_minor": 5
}
