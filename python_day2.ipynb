{
 "cells": [
  {
   "cell_type": "markdown",
   "id": "3929610a-7fce-4f6c-b1d6-1449b84841ed",
   "metadata": {},
   "source": [
    "# 5. Making choices"
   ]
  },
  {
   "cell_type": "code",
   "execution_count": 1,
   "id": "7d9a0311-afdd-45b9-a200-46bd3d741122",
   "metadata": {},
   "outputs": [
    {
     "name": "stdout",
     "output_type": "stream",
     "text": [
      "not greater\n",
      "done\n"
     ]
    }
   ],
   "source": [
    "num = 37\n",
    "if num > 100:\n",
    "    print('greater')\n",
    "else: \n",
    "    print('not greater')\n",
    "print('done')"
   ]
  },
  {
   "cell_type": "code",
   "execution_count": 2,
   "id": "6de89952-b038-41dd-a346-b78dfd0445f3",
   "metadata": {},
   "outputs": [
    {
     "name": "stdout",
     "output_type": "stream",
     "text": [
      "before conditional\n",
      "after conditional\n"
     ]
    }
   ],
   "source": [
    "# Conditional statements don't have to include an else\n",
    "num = 54\n",
    "print('before conditional')\n",
    "if num > 100:\n",
    "    print(num, 'is greater than 100')\n",
    "print('after conditional')"
   ]
  },
  {
   "cell_type": "code",
   "execution_count": 5,
   "id": "d9329c7a-73af-41af-b5c0-4c5ea50bda40",
   "metadata": {},
   "outputs": [
    {
     "name": "stdout",
     "output_type": "stream",
     "text": [
      "0 is zero\n"
     ]
    }
   ],
   "source": [
    "num = 0\n",
    "\n",
    "if num > 0:\n",
    "    print(num, 'is positive')\n",
    "elif num == 0:\n",
    "    print(num, 'is zero')\n",
    "else:\n",
    "    print(num, 'is negative')"
   ]
  },
  {
   "cell_type": "code",
   "execution_count": 6,
   "id": "110db4c0-9c1a-4b72-914d-8d50dffab2c7",
   "metadata": {},
   "outputs": [
    {
     "name": "stdout",
     "output_type": "stream",
     "text": [
      "False\n",
      "True\n"
     ]
    }
   ],
   "source": [
    "print(num == 4)\n",
    "num = 5\n",
    "print(num == 5)"
   ]
  },
  {
   "cell_type": "code",
   "execution_count": 7,
   "id": "3eb78f83-d11f-41cb-888d-27f7a3702db4",
   "metadata": {},
   "outputs": [
    {
     "data": {
      "text/plain": [
       "bool"
      ]
     },
     "execution_count": 7,
     "metadata": {},
     "output_type": "execute_result"
    }
   ],
   "source": [
    "type(num == 3)"
   ]
  },
  {
   "cell_type": "code",
   "execution_count": 10,
   "id": "78ca470b-792b-4997-a9d4-5ec368719cc9",
   "metadata": {},
   "outputs": [
    {
     "name": "stdout",
     "output_type": "stream",
     "text": [
      "at least one part is false\n"
     ]
    }
   ],
   "source": [
    "# Combine comparisons with 'and'\n",
    "\n",
    "if (1 > 0) and (-1 >= 0): # parentheses is best practice\n",
    "    print('both statements are')\n",
    "else:\n",
    "    print('at least one part is false')"
   ]
  },
  {
   "cell_type": "code",
   "execution_count": 11,
   "id": "34a8356e-99d8-4142-89c0-ec82a1299f84",
   "metadata": {},
   "outputs": [
    {
     "name": "stdout",
     "output_type": "stream",
     "text": [
      "at least one test is true\n"
     ]
    }
   ],
   "source": [
    "# Combine with 'or'\n",
    "\n",
    "if (1 > 0) or (-1 >= 0):\n",
    "    print('at least one test is true')"
   ]
  },
  {
   "cell_type": "markdown",
   "id": "de0c6eee-dbd1-425e-a80d-917def3e2367",
   "metadata": {},
   "source": [
    "## Checking our data"
   ]
  },
  {
   "cell_type": "code",
   "execution_count": 12,
   "id": "5e4c71e6-42a5-4da4-9342-87ee096c01bf",
   "metadata": {},
   "outputs": [
    {
     "name": "stdout",
     "output_type": "stream",
     "text": [
      "[ 0.  1.  2.  3.  4.  5.  6.  7.  8.  9. 10. 11. 12. 13. 14. 15. 16. 17.\n",
      " 18. 19. 20. 19. 18. 17. 16. 15. 14. 13. 12. 11. 10.  9.  8.  7.  6.  5.\n",
      "  4.  3.  2.  1.]\n"
     ]
    }
   ],
   "source": [
    "import numpy\n",
    "\n",
    "data = numpy.loadtxt(fname='data/inflammation-01.csv', delimiter=',')\n",
    "\n",
    "max_inflammation = numpy.max(data, axis=0)\n",
    "print(max_inflammation)"
   ]
  },
  {
   "cell_type": "code",
   "execution_count": 13,
   "id": "14849fa6-b970-47c0-8c35-0d57a4521187",
   "metadata": {},
   "outputs": [
    {
     "name": "stdout",
     "output_type": "stream",
     "text": [
      "Suspicious looking maxima\n"
     ]
    }
   ],
   "source": [
    "if (max_inflammation[0] == 0) and (max_inflammation[20] == 20):\n",
    "    print('Suspicious looking maxima')"
   ]
  },
  {
   "cell_type": "code",
   "execution_count": 17,
   "id": "b8617abb-8600-4757-8758-730a3ff29dcd",
   "metadata": {},
   "outputs": [
    {
     "name": "stdout",
     "output_type": "stream",
     "text": [
      "[0. 0. 0. 0. 1. 1. 1. 1. 2. 2. 2. 2. 3. 3. 3. 3. 4. 5. 5. 5. 5. 4. 4. 4.\n",
      " 4. 3. 3. 3. 3. 2. 2. 2. 2. 1. 1. 1. 1. 0. 0. 0.]\n"
     ]
    }
   ],
   "source": [
    "data = numpy.loadtxt(fname='data/inflammation-01.csv', delimiter=',')\n",
    "\n",
    "min_inflammation = numpy.min(data, axis=0)\n",
    "print(min_inflammation)"
   ]
  },
  {
   "cell_type": "code",
   "execution_count": 18,
   "id": "c27a2fcd-4631-41ee-8ce7-e82a06f15524",
   "metadata": {},
   "outputs": [],
   "source": [
    "if numpy.sum(min_inflammation) == 0:\n",
    "    print('Minima add up to zero')"
   ]
  },
  {
   "cell_type": "markdown",
   "id": "f96bd0bc-fed9-4d5c-8fdd-9d04809b14a9",
   "metadata": {},
   "source": [
    "# 6. Creating functions"
   ]
  },
  {
   "cell_type": "code",
   "execution_count": 19,
   "id": "6c41e967-8b4b-468d-b1c6-8e92c9e61f72",
   "metadata": {},
   "outputs": [],
   "source": [
    "# Function to convert Fahrenheit to Celsius\n",
    "\n",
    "def fahr_to_celsius(temp_F):\n",
    "    temp_C = (temp_F - 32) * ( 5 / 9)\n",
    "    return temp_C"
   ]
  },
  {
   "cell_type": "code",
   "execution_count": 20,
   "id": "c483f581-7172-4667-8e03-231929636d5a",
   "metadata": {},
   "outputs": [
    {
     "data": {
      "text/plain": [
       "0.0"
      ]
     },
     "execution_count": 20,
     "metadata": {},
     "output_type": "execute_result"
    }
   ],
   "source": [
    "fahr_to_celsius(32)"
   ]
  },
  {
   "cell_type": "code",
   "execution_count": 21,
   "id": "a2a1501f-959b-420a-8254-f14074f694d5",
   "metadata": {},
   "outputs": [],
   "source": [
    "def celsius_to_kelvin(temp_C):\n",
    "    return temp_C + 273.15"
   ]
  },
  {
   "cell_type": "code",
   "execution_count": 22,
   "id": "86e33151-7f15-4514-86ab-5112ffbb49d7",
   "metadata": {},
   "outputs": [
    {
     "data": {
      "text/plain": [
       "273.15"
      ]
     },
     "execution_count": 22,
     "metadata": {},
     "output_type": "execute_result"
    }
   ],
   "source": [
    "celsius_to_kelvin(0)"
   ]
  },
  {
   "cell_type": "code",
   "execution_count": 26,
   "id": "20352723-7a56-4b1d-8059-6f7c42494c00",
   "metadata": {},
   "outputs": [],
   "source": [
    "# Combine functions to convert Fahrenheit to Kelvin\n",
    "\n",
    "def fahr_to_kelvin(temp_F):\n",
    "    \"\"\"Conversion from Fahrenheit to Kelvin\"\"\"\n",
    "    temp_C = fahr_to_celsius(temp_F)\n",
    "    temp_K = celsius_to_kelvin(temp_C)\n",
    "    return temp_K\n"
   ]
  },
  {
   "cell_type": "code",
   "execution_count": 24,
   "id": "ef194522-bb8d-4a83-b9e6-9c062f8f2f5c",
   "metadata": {},
   "outputs": [
    {
     "data": {
      "text/plain": [
       "373.15"
      ]
     },
     "execution_count": 24,
     "metadata": {},
     "output_type": "execute_result"
    }
   ],
   "source": [
    "fahr_to_kelvin(212)"
   ]
  },
  {
   "cell_type": "markdown",
   "id": "03c6f665-744e-40e2-8714-92e8409e6936",
   "metadata": {},
   "source": [
    "## Variable scope"
   ]
  },
  {
   "cell_type": "code",
   "execution_count": 25,
   "id": "d87071e7-957b-4155-a767-219372771542",
   "metadata": {},
   "outputs": [
    {
     "ename": "NameError",
     "evalue": "name 'temp_K' is not defined",
     "output_type": "error",
     "traceback": [
      "\u001b[1;31m---------------------------------------------------------------------------\u001b[0m",
      "\u001b[1;31mNameError\u001b[0m                                 Traceback (most recent call last)",
      "Cell \u001b[1;32mIn[25], line 1\u001b[0m\n\u001b[1;32m----> 1\u001b[0m \u001b[38;5;28mprint\u001b[39m(\u001b[38;5;124m'\u001b[39m\u001b[38;5;124mtemperature in Kelvin was:\u001b[39m\u001b[38;5;124m'\u001b[39m, \u001b[43mtemp_K\u001b[49m)\n",
      "\u001b[1;31mNameError\u001b[0m: name 'temp_K' is not defined"
     ]
    }
   ],
   "source": [
    "print('temperature in Kelvin was:', temp_K)"
   ]
  },
  {
   "cell_type": "code",
   "execution_count": 27,
   "id": "032bfa9b-ce09-4435-876f-467b748da48c",
   "metadata": {},
   "outputs": [
    {
     "name": "stdout",
     "output_type": "stream",
     "text": [
      "Help on function fahr_to_kelvin in module __main__:\n",
      "\n",
      "fahr_to_kelvin(temp_F)\n",
      "    Conversion from Fahrenheit to Kelvin\n",
      "\n"
     ]
    }
   ],
   "source": [
    "help(fahr_to_kelvin)"
   ]
  },
  {
   "cell_type": "code",
   "execution_count": null,
   "id": "6afda718-0b25-47af-87d7-435041b35a3a",
   "metadata": {},
   "outputs": [],
   "source": [
    "help(numpy.loadtxt)"
   ]
  },
  {
   "cell_type": "markdown",
   "id": "1eed8500-40a8-46e8-9811-589739122902",
   "metadata": {},
   "source": [
    "# 7. Errors and exceptions"
   ]
  },
  {
   "cell_type": "code",
   "execution_count": 29,
   "id": "0e413416-3f20-41e4-8b6a-99d50bbbcc54",
   "metadata": {},
   "outputs": [
    {
     "ename": "IndexError",
     "evalue": "list index out of range",
     "output_type": "error",
     "traceback": [
      "\u001b[1;31m---------------------------------------------------------------------------\u001b[0m",
      "\u001b[1;31mIndexError\u001b[0m                                Traceback (most recent call last)",
      "Cell \u001b[1;32mIn[29], line 9\u001b[0m\n\u001b[0;32m      2\u001b[0m     ice_creams \u001b[38;5;241m=\u001b[39m [\n\u001b[0;32m      3\u001b[0m         \u001b[38;5;124m'\u001b[39m\u001b[38;5;124mchocolate\u001b[39m\u001b[38;5;124m'\u001b[39m,\n\u001b[0;32m      4\u001b[0m         \u001b[38;5;124m'\u001b[39m\u001b[38;5;124mvanilla\u001b[39m\u001b[38;5;124m'\u001b[39m,\n\u001b[0;32m      5\u001b[0m         \u001b[38;5;124m'\u001b[39m\u001b[38;5;124mstrawberry\u001b[39m\u001b[38;5;124m'\u001b[39m\n\u001b[0;32m      6\u001b[0m     ]\n\u001b[0;32m      7\u001b[0m     \u001b[38;5;28mprint\u001b[39m(ice_creams[\u001b[38;5;241m3\u001b[39m])\n\u001b[1;32m----> 9\u001b[0m \u001b[43mfavorite_ice_cream\u001b[49m\u001b[43m(\u001b[49m\u001b[43m)\u001b[49m\n",
      "Cell \u001b[1;32mIn[29], line 7\u001b[0m, in \u001b[0;36mfavorite_ice_cream\u001b[1;34m()\u001b[0m\n\u001b[0;32m      1\u001b[0m \u001b[38;5;28;01mdef\u001b[39;00m \u001b[38;5;21mfavorite_ice_cream\u001b[39m():\n\u001b[0;32m      2\u001b[0m     ice_creams \u001b[38;5;241m=\u001b[39m [\n\u001b[0;32m      3\u001b[0m         \u001b[38;5;124m'\u001b[39m\u001b[38;5;124mchocolate\u001b[39m\u001b[38;5;124m'\u001b[39m,\n\u001b[0;32m      4\u001b[0m         \u001b[38;5;124m'\u001b[39m\u001b[38;5;124mvanilla\u001b[39m\u001b[38;5;124m'\u001b[39m,\n\u001b[0;32m      5\u001b[0m         \u001b[38;5;124m'\u001b[39m\u001b[38;5;124mstrawberry\u001b[39m\u001b[38;5;124m'\u001b[39m\n\u001b[0;32m      6\u001b[0m     ]\n\u001b[1;32m----> 7\u001b[0m     \u001b[38;5;28mprint\u001b[39m(\u001b[43mice_creams\u001b[49m\u001b[43m[\u001b[49m\u001b[38;5;241;43m3\u001b[39;49m\u001b[43m]\u001b[49m)\n",
      "\u001b[1;31mIndexError\u001b[0m: list index out of range"
     ]
    }
   ],
   "source": [
    "def favorite_ice_cream():\n",
    "    ice_creams = [\n",
    "        'chocolate',\n",
    "        'vanilla',\n",
    "        'strawberry'\n",
    "    ]\n",
    "    print(ice_creams[3])\n",
    "    \n",
    "favorite_ice_cream()"
   ]
  },
  {
   "cell_type": "code",
   "execution_count": 31,
   "id": "b7f03d3f-892c-4888-867c-142b2ca4efd2",
   "metadata": {},
   "outputs": [
    {
     "ename": "SyntaxError",
     "evalue": "invalid syntax (282078926.py, line 2)",
     "output_type": "error",
     "traceback": [
      "\u001b[1;36m  Cell \u001b[1;32mIn[31], line 2\u001b[1;36m\u001b[0m\n\u001b[1;33m    def some_function()\u001b[0m\n\u001b[1;37m                       ^\u001b[0m\n\u001b[1;31mSyntaxError\u001b[0m\u001b[1;31m:\u001b[0m invalid syntax\n"
     ]
    }
   ],
   "source": [
    "# syntax error\n",
    "def some_function()\n",
    "    msg = \"hello world\"\n",
    "    print(msg)\n",
    "     return msg"
   ]
  },
  {
   "cell_type": "code",
   "execution_count": 32,
   "id": "4b1aa615-8d4b-4c96-a733-111676d55782",
   "metadata": {},
   "outputs": [
    {
     "ename": "NameError",
     "evalue": "name 'aa' is not defined",
     "output_type": "error",
     "traceback": [
      "\u001b[1;31m---------------------------------------------------------------------------\u001b[0m",
      "\u001b[1;31mNameError\u001b[0m                                 Traceback (most recent call last)",
      "Cell \u001b[1;32mIn[32], line 2\u001b[0m\n\u001b[0;32m      1\u001b[0m \u001b[38;5;66;03m# Name error\u001b[39;00m\n\u001b[1;32m----> 2\u001b[0m \u001b[38;5;28mprint\u001b[39m(\u001b[43maa\u001b[49m)\n",
      "\u001b[1;31mNameError\u001b[0m: name 'aa' is not defined"
     ]
    }
   ],
   "source": [
    "# Name error\n",
    "print(aa)"
   ]
  },
  {
   "cell_type": "code",
   "execution_count": 33,
   "id": "9d76439d-eddb-45ab-b98d-ca24ef7e20cb",
   "metadata": {},
   "outputs": [
    {
     "ename": "TypeError",
     "evalue": "can only concatenate str (not \"int\") to str",
     "output_type": "error",
     "traceback": [
      "\u001b[1;31m---------------------------------------------------------------------------\u001b[0m",
      "\u001b[1;31mTypeError\u001b[0m                                 Traceback (most recent call last)",
      "Cell \u001b[1;32mIn[33], line 3\u001b[0m\n\u001b[0;32m      1\u001b[0m \u001b[38;5;66;03m# Type error\u001b[39;00m\n\u001b[0;32m      2\u001b[0m number \u001b[38;5;241m=\u001b[39m \u001b[38;5;124m'\u001b[39m\u001b[38;5;124mone\u001b[39m\u001b[38;5;124m'\u001b[39m\n\u001b[1;32m----> 3\u001b[0m sum_values \u001b[38;5;241m=\u001b[39m \u001b[43mnumber\u001b[49m\u001b[43m \u001b[49m\u001b[38;5;241;43m+\u001b[39;49m\u001b[43m \u001b[49m\u001b[38;5;241;43m1\u001b[39;49m\n",
      "\u001b[1;31mTypeError\u001b[0m: can only concatenate str (not \"int\") to str"
     ]
    }
   ],
   "source": [
    "# Type error\n",
    "number = 'one'\n",
    "sum_values = number + 1"
   ]
  },
  {
   "cell_type": "code",
   "execution_count": 34,
   "id": "79ee5895-aac7-4c84-9ad5-e704f67f465f",
   "metadata": {},
   "outputs": [
    {
     "ename": "FileNotFoundError",
     "evalue": "[Errno 2] No such file or directory: 'data/inflammation-00.csv'",
     "output_type": "error",
     "traceback": [
      "\u001b[1;31m---------------------------------------------------------------------------\u001b[0m",
      "\u001b[1;31mFileNotFoundError\u001b[0m                         Traceback (most recent call last)",
      "Cell \u001b[1;32mIn[34], line 1\u001b[0m\n\u001b[1;32m----> 1\u001b[0m file \u001b[38;5;241m=\u001b[39m \u001b[38;5;28;43mopen\u001b[39;49m\u001b[43m(\u001b[49m\u001b[38;5;124;43m'\u001b[39;49m\u001b[38;5;124;43mdata/inflammation-00.csv\u001b[39;49m\u001b[38;5;124;43m'\u001b[39;49m\u001b[43m)\u001b[49m\n",
      "File \u001b[1;32m~\\Anaconda3\\lib\\site-packages\\IPython\\core\\interactiveshell.py:282\u001b[0m, in \u001b[0;36m_modified_open\u001b[1;34m(file, *args, **kwargs)\u001b[0m\n\u001b[0;32m    275\u001b[0m \u001b[38;5;28;01mif\u001b[39;00m file \u001b[38;5;129;01min\u001b[39;00m {\u001b[38;5;241m0\u001b[39m, \u001b[38;5;241m1\u001b[39m, \u001b[38;5;241m2\u001b[39m}:\n\u001b[0;32m    276\u001b[0m     \u001b[38;5;28;01mraise\u001b[39;00m \u001b[38;5;167;01mValueError\u001b[39;00m(\n\u001b[0;32m    277\u001b[0m         \u001b[38;5;124mf\u001b[39m\u001b[38;5;124m\"\u001b[39m\u001b[38;5;124mIPython won\u001b[39m\u001b[38;5;124m'\u001b[39m\u001b[38;5;124mt let you open fd=\u001b[39m\u001b[38;5;132;01m{\u001b[39;00mfile\u001b[38;5;132;01m}\u001b[39;00m\u001b[38;5;124m by default \u001b[39m\u001b[38;5;124m\"\u001b[39m\n\u001b[0;32m    278\u001b[0m         \u001b[38;5;124m\"\u001b[39m\u001b[38;5;124mas it is likely to crash IPython. If you know what you are doing, \u001b[39m\u001b[38;5;124m\"\u001b[39m\n\u001b[0;32m    279\u001b[0m         \u001b[38;5;124m\"\u001b[39m\u001b[38;5;124myou can use builtins\u001b[39m\u001b[38;5;124m'\u001b[39m\u001b[38;5;124m open.\u001b[39m\u001b[38;5;124m\"\u001b[39m\n\u001b[0;32m    280\u001b[0m     )\n\u001b[1;32m--> 282\u001b[0m \u001b[38;5;28;01mreturn\u001b[39;00m \u001b[43mio_open\u001b[49m\u001b[43m(\u001b[49m\u001b[43mfile\u001b[49m\u001b[43m,\u001b[49m\u001b[43m \u001b[49m\u001b[38;5;241;43m*\u001b[39;49m\u001b[43margs\u001b[49m\u001b[43m,\u001b[49m\u001b[43m \u001b[49m\u001b[38;5;241;43m*\u001b[39;49m\u001b[38;5;241;43m*\u001b[39;49m\u001b[43mkwargs\u001b[49m\u001b[43m)\u001b[49m\n",
      "\u001b[1;31mFileNotFoundError\u001b[0m: [Errno 2] No such file or directory: 'data/inflammation-00.csv'"
     ]
    }
   ],
   "source": [
    "file = open('data/inflammation-00.csv')"
   ]
  },
  {
   "cell_type": "markdown",
   "id": "59bfe3e5-f139-4022-b7a0-fea616d714c6",
   "metadata": {},
   "source": [
    "# 8 Defensive programming"
   ]
  },
  {
   "cell_type": "code",
   "execution_count": null,
   "id": "1c6a7d95-3ec0-413c-b4d1-01df47b60df9",
   "metadata": {},
   "outputs": [],
   "source": [
    "# Example assertion\n",
    "assert 0 > 1, "
   ]
  }
 ],
 "metadata": {
  "kernelspec": {
   "display_name": "Python 3 (ipykernel)",
   "language": "python",
   "name": "python3"
  },
  "language_info": {
   "codemirror_mode": {
    "name": "ipython",
    "version": 3
   },
   "file_extension": ".py",
   "mimetype": "text/x-python",
   "name": "python",
   "nbconvert_exporter": "python",
   "pygments_lexer": "ipython3",
   "version": "3.8.18"
  }
 },
 "nbformat": 4,
 "nbformat_minor": 5
}
