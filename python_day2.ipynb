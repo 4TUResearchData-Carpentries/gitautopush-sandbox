{
 "cells": [
  {
   "cell_type": "markdown",
   "id": "19d2c90c-968a-4d4f-a6a7-072f8f78d5bf",
   "metadata": {},
   "source": [
    "# 5. Making choices"
   ]
  },
  {
   "cell_type": "code",
   "execution_count": 1,
   "id": "a4d4e06f-5999-4068-8b92-a1a8dd4c4688",
   "metadata": {},
   "outputs": [
    {
     "name": "stdout",
     "output_type": "stream",
     "text": [
      "True\n",
      "False\n",
      "False\n",
      "True\n"
     ]
    }
   ],
   "source": [
    "# Comparing values and variables\n",
    "print(1 > 0)\n",
    "print(1 <= 0)\n",
    "print(1 == 0) # == is used for comparing equality\n",
    "print(1 != 0)"
   ]
  },
  {
   "cell_type": "code",
   "execution_count": 2,
   "id": "b809f90e-09e4-4143-b35f-47e5e91ced83",
   "metadata": {},
   "outputs": [
    {
     "data": {
      "text/plain": [
       "bool"
      ]
     },
     "execution_count": 2,
     "metadata": {},
     "output_type": "execute_result"
    }
   ],
   "source": [
    "type(1 > 0)"
   ]
  },
  {
   "cell_type": "code",
   "execution_count": 4,
   "id": "63e96997-b300-4e7c-ac84-4006c2440a80",
   "metadata": {},
   "outputs": [
    {
     "name": "stdout",
     "output_type": "stream",
     "text": [
      "greater\n",
      "done\n"
     ]
    }
   ],
   "source": [
    "# if-statement to check whether a number is greater 100\n",
    "num = 200\n",
    "if num > 100:\n",
    "    print('greater')\n",
    "else:\n",
    "    print('not greater')\n",
    "print('done')"
   ]
  },
  {
   "cell_type": "code",
   "execution_count": 5,
   "id": "0cf67977-72f8-464b-82b4-002d90150b63",
   "metadata": {},
   "outputs": [
    {
     "name": "stdout",
     "output_type": "stream",
     "text": [
      "before conditional\n",
      "after conditional\n"
     ]
    }
   ],
   "source": [
    "num = 54\n",
    "print('before conditional')\n",
    "if num > 100:\n",
    "    print(num, 'is greater than 100')\n",
    "print('after conditional')"
   ]
  },
  {
   "cell_type": "code",
   "execution_count": 8,
   "id": "e49cf86b-e86d-43b7-9c44-b3c86d7e378d",
   "metadata": {},
   "outputs": [
    {
     "name": "stdout",
     "output_type": "stream",
     "text": [
      "3 is positive\n"
     ]
    }
   ],
   "source": [
    "# Chaining multiple if-statements\n",
    "num = 3\n",
    "\n",
    "if num > 0:\n",
    "    print(num, 'is positive')\n",
    "elif num == 0:\n",
    "    print(num, 'is zero')\n",
    "else:\n",
    "    print(num, 'is negative')\n"
   ]
  },
  {
   "cell_type": "code",
   "execution_count": 10,
   "id": "27f13538-dfac-4934-b0e6-15965c50f1cd",
   "metadata": {},
   "outputs": [
    {
     "name": "stdout",
     "output_type": "stream",
     "text": [
      "both parts are true\n"
     ]
    }
   ],
   "source": [
    "# Combine true with `and`\n",
    "\n",
    "if (1 > 0) and (1 >= 0):\n",
    "    print('both parts are true')\n",
    "else:\n",
    "    print(' at least one part is false')"
   ]
  },
  {
   "cell_type": "code",
   "execution_count": 11,
   "id": "7149e621-2a2a-4dae-885e-634395870335",
   "metadata": {},
   "outputs": [
    {
     "name": "stdout",
     "output_type": "stream",
     "text": [
      "at least on part is true\n"
     ]
    }
   ],
   "source": [
    "# Combine with 'or'\n",
    "if (1 > 0) or (-1 >= 0):\n",
    "    print('at least on part is true')"
   ]
  },
  {
   "cell_type": "markdown",
   "id": "5ae3d3ac-e636-4af5-b81d-9957d21f62b4",
   "metadata": {},
   "source": [
    "## Checking our data"
   ]
  },
  {
   "cell_type": "code",
   "execution_count": 12,
   "id": "39f0aa21-22be-4c53-ae32-61c973b6346c",
   "metadata": {},
   "outputs": [
    {
     "name": "stdout",
     "output_type": "stream",
     "text": [
      "[ 0.  1.  2.  3.  4.  5.  6.  7.  8.  9. 10. 11. 12. 13. 14. 15. 16. 17.\n",
      " 18. 19. 20. 19. 18. 17. 16. 15. 14. 13. 12. 11. 10.  9.  8.  7.  6.  5.\n",
      "  4.  3.  2.  1.]\n"
     ]
    }
   ],
   "source": [
    "import numpy as np\n",
    "\n",
    "data = np.loadtxt(fname='data/inflammation-01.csv', delimiter=',')\n",
    "\n",
    "max_inflammation = np.max(data, axis=0)\n",
    "print(max_inflammation)"
   ]
  },
  {
   "cell_type": "code",
   "execution_count": 13,
   "id": "15da0fa2-fd05-4b3c-abee-bf449b016f92",
   "metadata": {},
   "outputs": [
    {
     "name": "stdout",
     "output_type": "stream",
     "text": [
      "Suspicious looking maxima\n"
     ]
    }
   ],
   "source": [
    "if (max_inflammation[0] == 0) and (max_inflammation[20] == 20):\n",
    "    print('Suspicious looking maxima')"
   ]
  },
  {
   "cell_type": "markdown",
   "id": "d0c3b8c3-652d-4739-a276-fded0875b336",
   "metadata": {},
   "source": [
    "# Creating functions"
   ]
  },
  {
   "cell_type": "code",
   "execution_count": 14,
   "id": "a6d3bf40-19e9-459f-a882-02b89e418bc6",
   "metadata": {},
   "outputs": [],
   "source": [
    "def fahr_to_celsius(temp_F):\n",
    "    temp_C = (temp_F - 32) * (5 / 9)\n",
    "    return temp_C"
   ]
  },
  {
   "cell_type": "code",
   "execution_count": 15,
   "id": "5c4b831c-d2e3-4497-9ddd-888ac25edf56",
   "metadata": {},
   "outputs": [
    {
     "data": {
      "text/plain": [
       "0.0"
      ]
     },
     "execution_count": 15,
     "metadata": {},
     "output_type": "execute_result"
    }
   ],
   "source": [
    "fahr_to_celsius(32)"
   ]
  },
  {
   "cell_type": "code",
   "execution_count": 22,
   "id": "f1d7d214-be15-489c-93f2-edd61f130e5d",
   "metadata": {},
   "outputs": [],
   "source": [
    "def celsius_to_kelvin(temp_C):\n",
    "    \"\"\"Converts celsius to Kelvin\"\"\"\n",
    "    return temp_C + 273.15"
   ]
  },
  {
   "cell_type": "code",
   "execution_count": 17,
   "id": "eff51835-51ae-4097-bb76-cd400dd20cee",
   "metadata": {},
   "outputs": [
    {
     "name": "stdout",
     "output_type": "stream",
     "text": [
      "freezing point of water in Kelvin: 273.15\n"
     ]
    }
   ],
   "source": [
    "print('freezing point of water in Kelvin:', celsius_to_kelvin(0))"
   ]
  },
  {
   "cell_type": "code",
   "execution_count": 18,
   "id": "847934e2-7ae5-496f-b8e5-c308d29bd76f",
   "metadata": {},
   "outputs": [
    {
     "ename": "TypeError",
     "evalue": "can only concatenate str (not \"float\") to str",
     "output_type": "error",
     "traceback": [
      "\u001b[1;31m---------------------------------------------------------------------------\u001b[0m",
      "\u001b[1;31mTypeError\u001b[0m                                 Traceback (most recent call last)",
      "Cell \u001b[1;32mIn[18], line 1\u001b[0m\n\u001b[1;32m----> 1\u001b[0m \u001b[43mcelsius_to_kelvin\u001b[49m\u001b[43m(\u001b[49m\u001b[38;5;124;43m'\u001b[39;49m\u001b[38;5;124;43mabc\u001b[39;49m\u001b[38;5;124;43m'\u001b[39;49m\u001b[43m)\u001b[49m\n",
      "Cell \u001b[1;32mIn[16], line 2\u001b[0m, in \u001b[0;36mcelsius_to_kelvin\u001b[1;34m(temp_C)\u001b[0m\n\u001b[0;32m      1\u001b[0m \u001b[38;5;28;01mdef\u001b[39;00m \u001b[38;5;21mcelsius_to_kelvin\u001b[39m(temp_C):\n\u001b[1;32m----> 2\u001b[0m     \u001b[38;5;28;01mreturn\u001b[39;00m \u001b[43mtemp_C\u001b[49m\u001b[43m \u001b[49m\u001b[38;5;241;43m+\u001b[39;49m\u001b[43m \u001b[49m\u001b[38;5;241;43m273.15\u001b[39;49m\n",
      "\u001b[1;31mTypeError\u001b[0m: can only concatenate str (not \"float\") to str"
     ]
    }
   ],
   "source": [
    "celsius_to_kelvin('abc')"
   ]
  },
  {
   "cell_type": "code",
   "execution_count": 19,
   "id": "f71e0e64-ce8d-49bb-82b5-bd0edb94f5ab",
   "metadata": {},
   "outputs": [
    {
     "data": {
      "text/plain": [
       "'abcedf'"
      ]
     },
     "execution_count": 19,
     "metadata": {},
     "output_type": "execute_result"
    }
   ],
   "source": [
    "'abc' + 'edf'"
   ]
  },
  {
   "cell_type": "code",
   "execution_count": 21,
   "id": "cd6427f8-6df0-4d82-9157-86e45cec4369",
   "metadata": {},
   "outputs": [
    {
     "data": {
      "text/plain": [
       "'abc100'"
      ]
     },
     "execution_count": 21,
     "metadata": {},
     "output_type": "execute_result"
    }
   ],
   "source": [
    "'abc' + '100'"
   ]
  },
  {
   "cell_type": "code",
   "execution_count": 23,
   "id": "62c0b177-3b25-474d-8065-775f0211e4f8",
   "metadata": {},
   "outputs": [
    {
     "name": "stdout",
     "output_type": "stream",
     "text": [
      "Help on function celsius_to_kelvin in module __main__:\n",
      "\n",
      "celsius_to_kelvin(temp_C)\n",
      "    Converts celsius to Kelvin\n",
      "\n"
     ]
    }
   ],
   "source": [
    "help(celsius_to_kelvin)"
   ]
  },
  {
   "cell_type": "markdown",
   "id": "eaf56044-a2f3-4a06-803a-63c6c5f7c43a",
   "metadata": {},
   "source": [
    "## 8. Defensive programming"
   ]
  },
  {
   "cell_type": "code",
   "execution_count": 25,
   "id": "585299eb-4203-465c-9de6-32d4c4cf28d7",
   "metadata": {},
   "outputs": [
    {
     "ename": "AssertionError",
     "evalue": "0 should be smaller than 1",
     "output_type": "error",
     "traceback": [
      "\u001b[1;31m---------------------------------------------------------------------------\u001b[0m",
      "\u001b[1;31mAssertionError\u001b[0m                            Traceback (most recent call last)",
      "Cell \u001b[1;32mIn[25], line 1\u001b[0m\n\u001b[1;32m----> 1\u001b[0m \u001b[38;5;28;01massert\u001b[39;00m \u001b[38;5;241m0\u001b[39m \u001b[38;5;241m>\u001b[39m \u001b[38;5;241m1\u001b[39m, \u001b[38;5;124m\"\u001b[39m\u001b[38;5;124m0 should be smaller than 1\u001b[39m\u001b[38;5;124m\"\u001b[39m\n",
      "\u001b[1;31mAssertionError\u001b[0m: 0 should be smaller than 1"
     ]
    }
   ],
   "source": [
    "assert 0 > 1, \"0 should be smaller than 1\""
   ]
  },
  {
   "cell_type": "code",
   "execution_count": 27,
   "id": "25ffa173-f64c-48ea-8ea9-904317d01fa2",
   "metadata": {},
   "outputs": [
    {
     "name": "stdout",
     "output_type": "stream",
     "text": [
      "total is 12.6\n"
     ]
    }
   ],
   "source": [
    "# Calculate the sum of positive numbers\n",
    "numbers = [1.5, 2.3, 0.7, 0.1, 4.4]\n",
    "total = 0\n",
    "for num in numbers:\n",
    "    assert num > 0, \"Data should only contain positive values\"\n",
    "    total = total + num\n",
    "    \n",
    "print(\"total is\", total)"
   ]
  },
  {
   "cell_type": "markdown",
   "id": "4c8cb0f9-b397-4cd0-a9c2-aee0fd4e7fde",
   "metadata": {},
   "source": [
    "## What should in our analysis?\n",
    "\n",
    "- Are the data loaded properly?"
   ]
  },
  {
   "cell_type": "code",
   "execution_count": 28,
   "id": "77a6c280-6473-4b1b-8f08-8be50f5f7197",
   "metadata": {},
   "outputs": [
    {
     "name": "stdout",
     "output_type": "stream",
     "text": [
      "[1 1]\n",
      "[]\n"
     ]
    }
   ],
   "source": [
    "import numpy as np\n",
    "\n",
    "array = np.array([1, 1])\n",
    "array_empty = np.array([])\n",
    "\n",
    "print(array)\n",
    "print(array_empty)"
   ]
  },
  {
   "cell_type": "code",
   "execution_count": 29,
   "id": "0cf0ec02-fc39-4abe-9504-0166a4a50459",
   "metadata": {},
   "outputs": [
    {
     "data": {
      "text/plain": [
       "2"
      ]
     },
     "execution_count": 29,
     "metadata": {},
     "output_type": "execute_result"
    }
   ],
   "source": [
    "array.size"
   ]
  },
  {
   "cell_type": "code",
   "execution_count": 30,
   "id": "ccd95007-3bb3-4992-9264-1f5a1f848e6a",
   "metadata": {},
   "outputs": [
    {
     "data": {
      "text/plain": [
       "0"
      ]
     },
     "execution_count": 30,
     "metadata": {},
     "output_type": "execute_result"
    }
   ],
   "source": [
    "array_empty.size"
   ]
  },
  {
   "cell_type": "code",
   "execution_count": 31,
   "id": "9fc43b92-67e4-4a90-a45a-a9ea1be20b65",
   "metadata": {},
   "outputs": [
    {
     "ename": "AssertionError",
     "evalue": "Expected non-empty array",
     "output_type": "error",
     "traceback": [
      "\u001b[1;31m---------------------------------------------------------------------------\u001b[0m",
      "\u001b[1;31mAssertionError\u001b[0m                            Traceback (most recent call last)",
      "Cell \u001b[1;32mIn[31], line 2\u001b[0m\n\u001b[0;32m      1\u001b[0m \u001b[38;5;28;01massert\u001b[39;00m array\u001b[38;5;241m.\u001b[39msize \u001b[38;5;241m>\u001b[39m \u001b[38;5;241m0\u001b[39m, \u001b[38;5;124m\"\u001b[39m\u001b[38;5;124mExpected non-empty array\u001b[39m\u001b[38;5;124m\"\u001b[39m\n\u001b[1;32m----> 2\u001b[0m \u001b[38;5;28;01massert\u001b[39;00m array_empty\u001b[38;5;241m.\u001b[39msize \u001b[38;5;241m>\u001b[39m \u001b[38;5;241m0\u001b[39m, \u001b[38;5;124m\"\u001b[39m\u001b[38;5;124mExpected non-empty array\u001b[39m\u001b[38;5;124m\"\u001b[39m\n",
      "\u001b[1;31mAssertionError\u001b[0m: Expected non-empty array"
     ]
    }
   ],
   "source": [
    "assert array.size > 0, \"Expected non-empty array\"\n",
    "assert array_empty.size > 0, \"Expected non-empty array\""
   ]
  },
  {
   "cell_type": "code",
   "execution_count": null,
   "id": "5c063e2b-654c-476f-9495-39589640d378",
   "metadata": {},
   "outputs": [],
   "source": []
  }
 ],
 "metadata": {
  "kernelspec": {
   "display_name": "Python 3 (ipykernel)",
   "language": "python",
   "name": "python3"
  },
  "language_info": {
   "codemirror_mode": {
    "name": "ipython",
    "version": 3
   },
   "file_extension": ".py",
   "mimetype": "text/x-python",
   "name": "python",
   "nbconvert_exporter": "python",
   "pygments_lexer": "ipython3",
   "version": "3.8.18"
  }
 },
 "nbformat": 4,
 "nbformat_minor": 5
}
