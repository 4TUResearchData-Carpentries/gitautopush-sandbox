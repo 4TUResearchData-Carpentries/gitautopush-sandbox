{
 "cells": [
  {
   "cell_type": "markdown",
   "id": "19d2c90c-968a-4d4f-a6a7-072f8f78d5bf",
   "metadata": {},
   "source": [
    "# 5. Making choices"
   ]
  },
  {
   "cell_type": "code",
   "execution_count": 1,
   "id": "a4d4e06f-5999-4068-8b92-a1a8dd4c4688",
   "metadata": {},
   "outputs": [
    {
     "name": "stdout",
     "output_type": "stream",
     "text": [
      "True\n",
      "False\n",
      "False\n",
      "True\n"
     ]
    }
   ],
   "source": [
    "# Comparing values and variables\n",
    "print(1 > 0)\n",
    "print(1 <= 0)\n",
    "print(1 == 0) # == is used for comparing equality\n",
    "print(1 != 0)"
   ]
  },
  {
   "cell_type": "code",
   "execution_count": 2,
   "id": "b809f90e-09e4-4143-b35f-47e5e91ced83",
   "metadata": {},
   "outputs": [
    {
     "data": {
      "text/plain": [
       "bool"
      ]
     },
     "execution_count": 2,
     "metadata": {},
     "output_type": "execute_result"
    }
   ],
   "source": [
    "type(1 > 0)"
   ]
  },
  {
   "cell_type": "code",
   "execution_count": 4,
   "id": "63e96997-b300-4e7c-ac84-4006c2440a80",
   "metadata": {},
   "outputs": [
    {
     "name": "stdout",
     "output_type": "stream",
     "text": [
      "greater\n",
      "done\n"
     ]
    }
   ],
   "source": [
    "# if-statement to check whether a number is greater 100\n",
    "num = 200\n",
    "if num > 100:\n",
    "    print('greater')\n",
    "else:\n",
    "    print('not greater')\n",
    "print('done')"
   ]
  },
  {
   "cell_type": "code",
   "execution_count": 5,
   "id": "0cf67977-72f8-464b-82b4-002d90150b63",
   "metadata": {},
   "outputs": [
    {
     "name": "stdout",
     "output_type": "stream",
     "text": [
      "before conditional\n",
      "after conditional\n"
     ]
    }
   ],
   "source": [
    "num = 54\n",
    "print('before conditional')\n",
    "if num > 100:\n",
    "    print(num, 'is greater than 100')\n",
    "print('after conditional')"
   ]
  },
  {
   "cell_type": "code",
   "execution_count": 8,
   "id": "e49cf86b-e86d-43b7-9c44-b3c86d7e378d",
   "metadata": {},
   "outputs": [
    {
     "name": "stdout",
     "output_type": "stream",
     "text": [
      "3 is positive\n"
     ]
    }
   ],
   "source": [
    "# Chaining multiple if-statements\n",
    "num = 3\n",
    "\n",
    "if num > 0:\n",
    "    print(num, 'is positive')\n",
    "elif num == 0:\n",
    "    print(num, 'is zero')\n",
    "else:\n",
    "    print(num, 'is negative')\n"
   ]
  },
  {
   "cell_type": "code",
   "execution_count": null,
   "id": "27f13538-dfac-4934-b0e6-15965c50f1cd",
   "metadata": {},
   "outputs": [],
   "source": [
    "# Combine true with `and`\n",
    "\n",
    "if (1 > 0) and (-1 >= 0):\n",
    "    print('both parts are true')\n",
    "else:\n",
    "    print(' at least one part is false'"
   ]
  }
 ],
 "metadata": {
  "kernelspec": {
   "display_name": "Python 3 (ipykernel)",
   "language": "python",
   "name": "python3"
  },
  "language_info": {
   "codemirror_mode": {
    "name": "ipython",
    "version": 3
   },
   "file_extension": ".py",
   "mimetype": "text/x-python",
   "name": "python",
   "nbconvert_exporter": "python",
   "pygments_lexer": "ipython3",
   "version": "3.8.18"
  }
 },
 "nbformat": 4,
 "nbformat_minor": 5
}
