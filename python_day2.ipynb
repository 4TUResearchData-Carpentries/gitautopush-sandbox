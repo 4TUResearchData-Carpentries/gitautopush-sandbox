{
 "cells": [
  {
   "cell_type": "markdown",
   "id": "a0db34d9-df9e-4cc6-b501-eed829ecff3e",
   "metadata": {},
   "source": [
    "## Looping over multiple data files"
   ]
  },
  {
   "cell_type": "code",
   "execution_count": 1,
   "id": "95434878-7e70-41a1-b1e9-d64ff2c7855d",
   "metadata": {
    "tags": []
   },
   "outputs": [],
   "source": [
    "import glob # ena"
   ]
  },
  {
   "cell_type": "code",
   "execution_count": null,
   "id": "925fbc3f-bbed-4e3b-8601-8352b2eb3c15",
   "metadata": {},
   "outputs": [],
   "source": []
  }
 ],
 "metadata": {
  "kernelspec": {
   "display_name": "Python 3 (ipykernel)",
   "language": "python",
   "name": "python3"
  },
  "language_info": {
   "codemirror_mode": {
    "name": "ipython",
    "version": 3
   },
   "file_extension": ".py",
   "mimetype": "text/x-python",
   "name": "python",
   "nbconvert_exporter": "python",
   "pygments_lexer": "ipython3",
   "version": "3.11.5"
  }
 },
 "nbformat": 4,
 "nbformat_minor": 5
}
