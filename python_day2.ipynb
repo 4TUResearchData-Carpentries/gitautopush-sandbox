{
 "cells": [
  {
   "cell_type": "markdown",
   "id": "3929610a-7fce-4f6c-b1d6-1449b84841ed",
   "metadata": {},
   "source": [
    "# 5. Making choices"
   ]
  },
  {
   "cell_type": "code",
   "execution_count": 1,
   "id": "7d9a0311-afdd-45b9-a200-46bd3d741122",
   "metadata": {},
   "outputs": [
    {
     "name": "stdout",
     "output_type": "stream",
     "text": [
      "not greater\n",
      "done\n"
     ]
    }
   ],
   "source": [
    "num = 37\n",
    "if num > 100:\n",
    "    print('greater')\n",
    "else: \n",
    "    print('not greater')\n",
    "print('done')"
   ]
  },
  {
   "cell_type": "code",
   "execution_count": 2,
   "id": "6de89952-b038-41dd-a346-b78dfd0445f3",
   "metadata": {},
   "outputs": [
    {
     "name": "stdout",
     "output_type": "stream",
     "text": [
      "before conditional\n",
      "after conditional\n"
     ]
    }
   ],
   "source": [
    "# Conditional statements don't have to include an else\n",
    "num = 54\n",
    "print('before conditional')\n",
    "if num > 100:\n",
    "    print(num, 'is greater than 100')\n",
    "print('after conditional')"
   ]
  },
  {
   "cell_type": "code",
   "execution_count": 5,
   "id": "d9329c7a-73af-41af-b5c0-4c5ea50bda40",
   "metadata": {},
   "outputs": [
    {
     "name": "stdout",
     "output_type": "stream",
     "text": [
      "0 is zero\n"
     ]
    }
   ],
   "source": [
    "num = 0\n",
    "\n",
    "if num > 0:\n",
    "    print(num, 'is positive')\n",
    "elif num == 0:\n",
    "    print(num, 'is zero')\n",
    "else:\n",
    "    print(num, 'is negative')"
   ]
  },
  {
   "cell_type": "code",
   "execution_count": 6,
   "id": "110db4c0-9c1a-4b72-914d-8d50dffab2c7",
   "metadata": {},
   "outputs": [
    {
     "name": "stdout",
     "output_type": "stream",
     "text": [
      "False\n",
      "True\n"
     ]
    }
   ],
   "source": [
    "print(num == 4)\n",
    "num = 5\n",
    "print(num == 5)"
   ]
  },
  {
   "cell_type": "code",
   "execution_count": 7,
   "id": "3eb78f83-d11f-41cb-888d-27f7a3702db4",
   "metadata": {},
   "outputs": [
    {
     "data": {
      "text/plain": [
       "bool"
      ]
     },
     "execution_count": 7,
     "metadata": {},
     "output_type": "execute_result"
    }
   ],
   "source": [
    "type(num == 3)"
   ]
  },
  {
   "cell_type": "code",
   "execution_count": 10,
   "id": "78ca470b-792b-4997-a9d4-5ec368719cc9",
   "metadata": {},
   "outputs": [
    {
     "name": "stdout",
     "output_type": "stream",
     "text": [
      "at least one part is false\n"
     ]
    }
   ],
   "source": [
    "# Combine comparisons with 'and'\n",
    "\n",
    "if (1 > 0) and (-1 >= 0): # parentheses is best practice\n",
    "    print('both statements are')\n",
    "else:\n",
    "    print('at least one part is false')"
   ]
  },
  {
   "cell_type": "code",
   "execution_count": 11,
   "id": "34a8356e-99d8-4142-89c0-ec82a1299f84",
   "metadata": {},
   "outputs": [
    {
     "name": "stdout",
     "output_type": "stream",
     "text": [
      "at least one test is true\n"
     ]
    }
   ],
   "source": [
    "# Combine with 'or'\n",
    "\n",
    "if (1 > 0) or (-1 >= 0):\n",
    "    print('at least one test is true')"
   ]
  },
  {
   "cell_type": "markdown",
   "id": "de0c6eee-dbd1-425e-a80d-917def3e2367",
   "metadata": {},
   "source": [
    "## Checking our data"
   ]
  },
  {
   "cell_type": "code",
   "execution_count": 12,
   "id": "5e4c71e6-42a5-4da4-9342-87ee096c01bf",
   "metadata": {},
   "outputs": [
    {
     "name": "stdout",
     "output_type": "stream",
     "text": [
      "[ 0.  1.  2.  3.  4.  5.  6.  7.  8.  9. 10. 11. 12. 13. 14. 15. 16. 17.\n",
      " 18. 19. 20. 19. 18. 17. 16. 15. 14. 13. 12. 11. 10.  9.  8.  7.  6.  5.\n",
      "  4.  3.  2.  1.]\n"
     ]
    }
   ],
   "source": [
    "import numpy\n",
    "\n",
    "data = numpy.loadtxt(fname='data/inflammation-01.csv', delimiter=',')\n",
    "\n",
    "max_inflammation = numpy.max(data, axis=0)\n",
    "print(max_inflammation)"
   ]
  },
  {
   "cell_type": "code",
   "execution_count": 13,
   "id": "14849fa6-b970-47c0-8c35-0d57a4521187",
   "metadata": {},
   "outputs": [
    {
     "name": "stdout",
     "output_type": "stream",
     "text": [
      "Suspicious looking maxima\n"
     ]
    }
   ],
   "source": [
    "if (max_inflammation[0] == 0) and (max_inflammation[20] == 20):\n",
    "    print('Suspicious looking maxima')"
   ]
  },
  {
   "cell_type": "code",
   "execution_count": 17,
   "id": "b8617abb-8600-4757-8758-730a3ff29dcd",
   "metadata": {},
   "outputs": [
    {
     "name": "stdout",
     "output_type": "stream",
     "text": [
      "[0. 0. 0. 0. 1. 1. 1. 1. 2. 2. 2. 2. 3. 3. 3. 3. 4. 5. 5. 5. 5. 4. 4. 4.\n",
      " 4. 3. 3. 3. 3. 2. 2. 2. 2. 1. 1. 1. 1. 0. 0. 0.]\n"
     ]
    }
   ],
   "source": [
    "data = numpy.loadtxt(fname='data/inflammation-01.csv', delimiter=',')\n",
    "\n",
    "min_inflammation = numpy.min(data, axis=0)\n",
    "print(min_inflammation)"
   ]
  },
  {
   "cell_type": "code",
   "execution_count": 18,
   "id": "c27a2fcd-4631-41ee-8ce7-e82a06f15524",
   "metadata": {},
   "outputs": [],
   "source": [
    "if numpy.sum(min_inflammation) == 0:\n",
    "    print('Minima add up to zero')"
   ]
  },
  {
   "cell_type": "markdown",
   "id": "f96bd0bc-fed9-4d5c-8fdd-9d04809b14a9",
   "metadata": {},
   "source": [
    "# 6. Creating functions"
   ]
  },
  {
   "cell_type": "code",
   "execution_count": 19,
   "id": "6c41e967-8b4b-468d-b1c6-8e92c9e61f72",
   "metadata": {},
   "outputs": [],
   "source": [
    "# Function to convert Fahrenheit to Celsius\n",
    "\n",
    "def fahr_to_celsius(temp_F):\n",
    "    temp_C = (temp_F - 32) * ( 5 / 9)\n",
    "    return temp_C"
   ]
  },
  {
   "cell_type": "code",
   "execution_count": 20,
   "id": "c483f581-7172-4667-8e03-231929636d5a",
   "metadata": {},
   "outputs": [
    {
     "data": {
      "text/plain": [
       "0.0"
      ]
     },
     "execution_count": 20,
     "metadata": {},
     "output_type": "execute_result"
    }
   ],
   "source": [
    "fahr_to_celsius(32)"
   ]
  },
  {
   "cell_type": "code",
   "execution_count": 21,
   "id": "a2a1501f-959b-420a-8254-f14074f694d5",
   "metadata": {},
   "outputs": [],
   "source": [
    "def celsius_to_kelvin(temp_C):\n",
    "    return temp_C + 273.15"
   ]
  },
  {
   "cell_type": "code",
   "execution_count": 22,
   "id": "86e33151-7f15-4514-86ab-5112ffbb49d7",
   "metadata": {},
   "outputs": [
    {
     "data": {
      "text/plain": [
       "273.15"
      ]
     },
     "execution_count": 22,
     "metadata": {},
     "output_type": "execute_result"
    }
   ],
   "source": [
    "celsius_to_kelvin(0)"
   ]
  },
  {
   "cell_type": "code",
   "execution_count": 23,
   "id": "20352723-7a56-4b1d-8059-6f7c42494c00",
   "metadata": {},
   "outputs": [],
   "source": [
    "# Combine functions to convert Fahrenheit to Kelvin\n",
    "\n",
    "def fahr_to_kelvin(temp_F):\n",
    "    temp_C = fahr_to_celsius(temp_F)\n",
    "    temp_K = celsius_to_kelvin(temp_C)\n",
    "    return temp_K\n"
   ]
  },
  {
   "cell_type": "code",
   "execution_count": 24,
   "id": "ef194522-bb8d-4a83-b9e6-9c062f8f2f5c",
   "metadata": {},
   "outputs": [
    {
     "data": {
      "text/plain": [
       "373.15"
      ]
     },
     "execution_count": 24,
     "metadata": {},
     "output_type": "execute_result"
    }
   ],
   "source": [
    "fahr_to_kelvin(212)"
   ]
  },
  {
   "cell_type": "code",
   "execution_count": 25,
   "id": "d87071e7-957b-4155-a767-219372771542",
   "metadata": {},
   "outputs": [
    {
     "ename": "NameError",
     "evalue": "name 'temp_K' is not defined",
     "output_type": "error",
     "traceback": [
      "\u001b[1;31m---------------------------------------------------------------------------\u001b[0m",
      "\u001b[1;31mNameError\u001b[0m                                 Traceback (most recent call last)",
      "Cell \u001b[1;32mIn[25], line 1\u001b[0m\n\u001b[1;32m----> 1\u001b[0m \u001b[38;5;28mprint\u001b[39m(\u001b[38;5;124m'\u001b[39m\u001b[38;5;124mtemperature in Kelvin was:\u001b[39m\u001b[38;5;124m'\u001b[39m, \u001b[43mtemp_K\u001b[49m)\n",
      "\u001b[1;31mNameError\u001b[0m: name 'temp_K' is not defined"
     ]
    }
   ],
   "source": [
    "print('temperature in Kelvin was:', temp_K)"
   ]
  },
  {
   "cell_type": "code",
   "execution_count": null,
   "id": "032bfa9b-ce09-4435-876f-467b748da48c",
   "metadata": {},
   "outputs": [],
   "source": []
  }
 ],
 "metadata": {
  "kernelspec": {
   "display_name": "Python 3 (ipykernel)",
   "language": "python",
   "name": "python3"
  },
  "language_info": {
   "codemirror_mode": {
    "name": "ipython",
    "version": 3
   },
   "file_extension": ".py",
   "mimetype": "text/x-python",
   "name": "python",
   "nbconvert_exporter": "python",
   "pygments_lexer": "ipython3",
   "version": "3.8.18"
  }
 },
 "nbformat": 4,
 "nbformat_minor": 5
}
