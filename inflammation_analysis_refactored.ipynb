{
 "cells": [
  {
   "cell_type": "code",
   "execution_count": null,
   "id": "ca9f8135-f69d-4ae1-9dc4-b13c968667b0",
   "metadata": {},
   "outputs": [],
   "source": [
    "# Combine analysis functions\n",
    "import glob\n",
    "import numpy\n",
    "import matplotlib.pyplot as plt\n",
    "\n",
    "filenames = sorted(glob.glob('data/inflammation*.csv'))\n",
    "filenames = filenames[0:3]\n",
    "\n",
    "for filename in filenames:\n",
    "    detect_problems(filename)\n",
    "    visualize(filename)"
   ]
  }
 ],
 "metadata": {
  "kernelspec": {
   "display_name": "Python 3 (ipykernel)",
   "language": "python",
   "name": "python3"
  },
  "language_info": {
   "codemirror_mode": {
    "name": "ipython",
    "version": 3
   },
   "file_extension": ".py",
   "mimetype": "text/x-python",
   "name": "python",
   "nbconvert_exporter": "python",
   "pygments_lexer": "ipython3",
   "version": "3.8.18"
  }
 },
 "nbformat": 4,
 "nbformat_minor": 5
}
