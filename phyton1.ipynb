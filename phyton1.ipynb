{
 "cells": [
  {
   "cell_type": "markdown",
   "id": "8c829d4d-4eb7-40f2-bd1c-590ca4a7ed8c",
   "metadata": {
    "tags": []
   },
   "source": [
    "## Episode 1 - Fundamentals"
   ]
  },
  {
   "cell_type": "code",
   "execution_count": 1,
   "id": "73d1c8ff-ce05-4093-9821-5d281c2f3a68",
   "metadata": {},
   "outputs": [
    {
     "data": {
      "text/plain": [
       "23"
      ]
     },
     "execution_count": 1,
     "metadata": {},
     "output_type": "execute_result"
    }
   ],
   "source": [
    "3 + 5 * 4"
   ]
  },
  {
   "cell_type": "code",
   "execution_count": 2,
   "id": "ca3e129a-be15-44b8-84ec-fbe9d96a09f1",
   "metadata": {},
   "outputs": [],
   "source": [
    "weight_kg = 60"
   ]
  },
  {
   "cell_type": "code",
   "execution_count": 3,
   "id": "ecad62b8-23ea-49f7-abbe-65b1738b4dbd",
   "metadata": {
    "tags": []
   },
   "outputs": [
    {
     "ename": "SyntaxError",
     "evalue": "invalid syntax (2031422302.py, line 1)",
     "output_type": "error",
     "traceback": [
      "\u001b[0;36m  File \u001b[0;32m\"/tmp/ipykernel_32653/2031422302.py\"\u001b[0;36m, line \u001b[0;32m1\u001b[0m\n\u001b[0;31m    0weight = 60\u001b[0m\n\u001b[0m     ^\u001b[0m\n\u001b[0;31mSyntaxError\u001b[0m\u001b[0;31m:\u001b[0m invalid syntax\n"
     ]
    }
   ],
   "source": [
    "0weight = 60"
   ]
  },
  {
   "cell_type": "code",
   "execution_count": null,
   "id": "db64144c-976c-4124-8a18-1333d96009d7",
   "metadata": {},
   "outputs": [],
   "source": [
    "type(weight_kg)"
   ]
  },
  {
   "cell_type": "code",
   "execution_count": null,
   "id": "f852528f-0c40-43af-9879-3b94169b8d6e",
   "metadata": {},
   "outputs": [],
   "source": [
    "weight_kg = 60.3"
   ]
  },
  {
   "cell_type": "code",
   "execution_count": null,
   "id": "746be4bf-f540-4523-91ef-8a131daabad0",
   "metadata": {},
   "outputs": [],
   "source": [
    "type(weight_kg)"
   ]
  },
  {
   "cell_type": "code",
   "execution_count": null,
   "id": "0c7b50a5-12da-4c13-a62f-5c1104d33a63",
   "metadata": {},
   "outputs": [],
   "source": [
    "patient_id='001'"
   ]
  },
  {
   "cell_type": "code",
   "execution_count": null,
   "id": "dc90f428-3e36-4853-a2cb-7452f5c41b81",
   "metadata": {},
   "outputs": [],
   "source": [
    "type(patient_id)"
   ]
  },
  {
   "cell_type": "code",
   "execution_count": null,
   "id": "99ec5c9a-2ee2-4629-a2ff-6d341ed744b1",
   "metadata": {},
   "outputs": [],
   "source": [
    "weight_lb = 2.2 * weight_kg"
   ]
  },
  {
   "cell_type": "code",
   "execution_count": null,
   "id": "2fc8647f-bb24-4c36-9e9b-102ab831a9f2",
   "metadata": {},
   "outputs": [],
   "source": [
    "print(weight_lb)"
   ]
  },
  {
   "cell_type": "code",
   "execution_count": null,
   "id": "3233d3e8-6b22-4357-b7b4-c7688e3c3b62",
   "metadata": {},
   "outputs": [],
   "source": [
    "print(weight_kg)"
   ]
  },
  {
   "cell_type": "code",
   "execution_count": null,
   "id": "d977ccba-7c9f-44ce-abab-1c237491b1d2",
   "metadata": {},
   "outputs": [],
   "source": [
    "patient_id = 'inflam_' + patient_id"
   ]
  },
  {
   "cell_type": "code",
   "execution_count": null,
   "id": "1c26e226-a8f7-4ace-a56b-4068c3054c69",
   "metadata": {},
   "outputs": [],
   "source": [
    "print(patient_id)"
   ]
  },
  {
   "cell_type": "code",
   "execution_count": null,
   "id": "b2ef6fc2-ba99-4738-ae00-92846357844a",
   "metadata": {},
   "outputs": [],
   "source": [
    "print(patient_id, 'weight in kilograms:', weight_kg)"
   ]
  },
  {
   "cell_type": "markdown",
   "id": "dc044384-245d-4e39-a0be-d9178035b6f9",
   "metadata": {},
   "source": [
    "nested functions"
   ]
  },
  {
   "cell_type": "code",
   "execution_count": null,
   "id": "76627653-b987-4dd0-925e-dbf77fed362b",
   "metadata": {},
   "outputs": [],
   "source": [
    "print(type(60.3))"
   ]
  },
  {
   "cell_type": "code",
   "execution_count": null,
   "id": "f4784e7f-7290-413e-a685-0c170dcff0b3",
   "metadata": {},
   "outputs": [],
   "source": [
    "type(60.3)"
   ]
  },
  {
   "cell_type": "raw",
   "id": "f9dad4e3-3cb0-445b-9195-d1f8db60eeeb",
   "metadata": {},
   "source": [
    "operations inside argument = no assignment"
   ]
  },
  {
   "cell_type": "code",
   "execution_count": null,
   "id": "c0cf0741-f305-41d9-9280-b91b5a720702",
   "metadata": {},
   "outputs": [],
   "source": [
    "print('weight in pounds:', 2.2 * weight_kg)"
   ]
  },
  {
   "cell_type": "code",
   "execution_count": null,
   "id": "6d846ca0-64e3-4f23-89fd-deb15cb08f67",
   "metadata": {},
   "outputs": [],
   "source": [
    "print(weight_kg) "
   ]
  },
  {
   "cell_type": "raw",
   "id": "c619fc91-a7a1-48b4-8186-bf17dcdfdbd9",
   "metadata": {},
   "source": [
    "assignment"
   ]
  },
  {
   "cell_type": "code",
   "execution_count": null,
   "id": "3aeea895-458d-411b-bf4f-6828e4d4415c",
   "metadata": {},
   "outputs": [],
   "source": [
    "weight_kg = 65.0\n",
    "print('weight in kilograms is now:', weight_kg)"
   ]
  },
  {
   "cell_type": "raw",
   "id": "af5f1077-6eff-4fb3-8c75-2a925751d9db",
   "metadata": {},
   "source": [
    "check your understanding 1"
   ]
  },
  {
   "cell_type": "code",
   "execution_count": null,
   "id": "ac9915a4-e590-43ac-8432-c804b3d01fda",
   "metadata": {},
   "outputs": [],
   "source": [
    "mass = 47.5\n",
    "age = 122"
   ]
  },
  {
   "cell_type": "code",
   "execution_count": null,
   "id": "d188b1e2-aa53-4fb2-b9ae-f498dd96d5a6",
   "metadata": {},
   "outputs": [],
   "source": [
    "print(mass)"
   ]
  },
  {
   "cell_type": "code",
   "execution_count": null,
   "id": "be2038b6-6bae-41a8-983e-4648005889ae",
   "metadata": {},
   "outputs": [],
   "source": [
    "print(mass, age)"
   ]
  },
  {
   "cell_type": "code",
   "execution_count": null,
   "id": "48141817-5a7c-4622-a872-89f2220be04c",
   "metadata": {},
   "outputs": [],
   "source": [
    "print(age)"
   ]
  },
  {
   "cell_type": "code",
   "execution_count": null,
   "id": "d4eb3093-e4ff-4d6f-a248-ef42a5d1f114",
   "metadata": {},
   "outputs": [],
   "source": [
    "print(mass, age)"
   ]
  },
  {
   "cell_type": "code",
   "execution_count": null,
   "id": "82a91b46-1b37-44e7-821f-32960c6d0272",
   "metadata": {},
   "outputs": [],
   "source": [
    "# you can delete a cell but a declared variable can stay in memory; how to delete a variable?"
   ]
  },
  {
   "cell_type": "code",
   "execution_count": null,
   "id": "6256b64a-4bfa-402d-b001-c96bc6eb96a2",
   "metadata": {},
   "outputs": [],
   "source": [
    "print(age)"
   ]
  },
  {
   "cell_type": "code",
   "execution_count": null,
   "id": "f1d9545a-6ddb-4104-aa4a-f792a53fecdd",
   "metadata": {},
   "outputs": [],
   "source": [
    "first, second = 'Grace', 'Hopper'"
   ]
  },
  {
   "cell_type": "code",
   "execution_count": null,
   "id": "8e0d6133-072e-49ea-b6d6-87cf5e272966",
   "metadata": {},
   "outputs": [],
   "source": [
    "third, fourth = second, first"
   ]
  },
  {
   "cell_type": "code",
   "execution_count": null,
   "id": "7c525cf2-f44f-4987-ab25-4c8c24486f44",
   "metadata": {},
   "outputs": [],
   "source": [
    "print(third, fourth)"
   ]
  },
  {
   "cell_type": "code",
   "execution_count": null,
   "id": "6ae04888-107c-4a64-9c52-f053bed944e7",
   "metadata": {},
   "outputs": [],
   "source": [
    "print(fourth, first)"
   ]
  },
  {
   "cell_type": "code",
   "execution_count": null,
   "id": "73b40558-1698-4cf7-bde6-cf9e22e3496d",
   "metadata": {},
   "outputs": [],
   "source": [
    "planet = 'Earth'\n",
    "apples = 5\n",
    "distance = 10.5"
   ]
  },
  {
   "cell_type": "code",
   "execution_count": null,
   "id": "78ad5627-8a5f-4dde-bebf-fb20d9bbcf12",
   "metadata": {},
   "outputs": [],
   "source": [
    "type(planet)"
   ]
  },
  {
   "cell_type": "code",
   "execution_count": null,
   "id": "08c396c5-31b5-4b58-a19a-abbfa11565c1",
   "metadata": {},
   "outputs": [],
   "source": [
    "type(apples)\n",
    "type(distance)"
   ]
  },
  {
   "cell_type": "code",
   "execution_count": null,
   "id": "95b1aff7-7704-45c3-9b3d-0232f9cd9a2e",
   "metadata": {},
   "outputs": [],
   "source": [
    "type(apples)"
   ]
  },
  {
   "cell_type": "code",
   "execution_count": null,
   "id": "d4f1f122-49c5-40e0-b667-9400a2cc3868",
   "metadata": {},
   "outputs": [],
   "source": [
    "type(apples)"
   ]
  },
  {
   "cell_type": "markdown",
   "id": "89379738-42cc-43cb-ae27-116097f3a3cd",
   "metadata": {},
   "source": [
    "## Episode 4 Lists"
   ]
  },
  {
   "cell_type": "markdown",
   "id": "02ba795c-46e7-494f-a505-a103fcae00cc",
   "metadata": {},
   "source": [
    "This line is here to tickle gitautopush!"
   ]
  },
  {
   "cell_type": "markdown",
   "id": "0f3ed157-aa3b-49f2-9b7b-7b9464439816",
   "metadata": {},
   "source": [
    "Do I need to save the file  manually to trigger gitautopush?"
   ]
  },
  {
   "cell_type": "markdown",
   "id": "a5acdc22-8633-455b-98c0-928e15c4a09d",
   "metadata": {},
   "source": [
    "I changed the autosave interval to 2 seconds"
   ]
  },
  {
   "cell_type": "code",
   "execution_count": null,
   "id": "a4903a6d-e9c0-42ba-ae59-fdeeb319c996",
   "metadata": {},
   "outputs": [],
   "source": [
    "# gitautopush provocation"
   ]
  },
  {
   "cell_type": "code",
   "execution_count": null,
   "id": "d5113d52-a9f5-4f32-aa81-6699b83cecc8",
   "metadata": {},
   "outputs": [],
   "source": []
  },
  {
   "cell_type": "code",
   "execution_count": null,
   "id": "5ad1ad55-ccf1-46d2-8087-10162dd68cc5",
   "metadata": {},
   "outputs": [],
   "source": []
  }
 ],
 "metadata": {
  "kernelspec": {
   "display_name": "Python 3 (ipykernel)",
   "language": "python",
   "name": "python3"
  },
  "language_info": {
   "codemirror_mode": {
    "name": "ipython",
    "version": 3
   },
   "file_extension": ".py",
   "mimetype": "text/x-python",
   "name": "python",
   "nbconvert_exporter": "python",
   "pygments_lexer": "ipython3",
   "version": "3.8.16"
  }
 },
 "nbformat": 4,
 "nbformat_minor": 5
}
