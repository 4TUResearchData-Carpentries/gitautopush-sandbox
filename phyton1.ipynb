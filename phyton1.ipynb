{
 "cells": [
  {
   "cell_type": "markdown",
   "id": "8c829d4d-4eb7-40f2-bd1c-590ca4a7ed8c",
   "metadata": {
    "tags": []
   },
   "source": [
    "## Episode 1 - Fundamentals"
   ]
  },
  {
   "cell_type": "code",
   "execution_count": 1,
   "id": "73d1c8ff-ce05-4093-9821-5d281c2f3a68",
   "metadata": {},
   "outputs": [
    {
     "data": {
      "text/plain": [
       "23"
      ]
     },
     "execution_count": 1,
     "metadata": {},
     "output_type": "execute_result"
    }
   ],
   "source": [
    "3 + 5 * 4"
   ]
  },
  {
   "cell_type": "code",
   "execution_count": 2,
   "id": "ca3e129a-be15-44b8-84ec-fbe9d96a09f1",
   "metadata": {},
   "outputs": [],
   "source": [
    "weight_kg = 60"
   ]
  },
  {
   "cell_type": "code",
   "execution_count": 3,
   "id": "ecad62b8-23ea-49f7-abbe-65b1738b4dbd",
   "metadata": {
    "tags": []
   },
   "outputs": [
    {
     "ename": "SyntaxError",
     "evalue": "invalid syntax (2031422302.py, line 1)",
     "output_type": "error",
     "traceback": [
      "\u001b[0;36m  File \u001b[0;32m\"/tmp/ipykernel_32653/2031422302.py\"\u001b[0;36m, line \u001b[0;32m1\u001b[0m\n\u001b[0;31m    0weight = 60\u001b[0m\n\u001b[0m     ^\u001b[0m\n\u001b[0;31mSyntaxError\u001b[0m\u001b[0;31m:\u001b[0m invalid syntax\n"
     ]
    }
   ],
   "source": [
    "0weight = 60"
   ]
  },
  {
   "cell_type": "code",
   "execution_count": 5,
   "id": "db64144c-976c-4124-8a18-1333d96009d7",
   "metadata": {},
   "outputs": [
    {
     "data": {
      "text/plain": [
       "int"
      ]
     },
     "execution_count": 5,
     "metadata": {},
     "output_type": "execute_result"
    }
   ],
   "source": [
    "type(weight_kg)"
   ]
  },
  {
   "cell_type": "code",
   "execution_count": 6,
   "id": "f852528f-0c40-43af-9879-3b94169b8d6e",
   "metadata": {},
   "outputs": [],
   "source": [
    "weight_kg = 60.3"
   ]
  },
  {
   "cell_type": "code",
   "execution_count": 7,
   "id": "746be4bf-f540-4523-91ef-8a131daabad0",
   "metadata": {},
   "outputs": [
    {
     "data": {
      "text/plain": [
       "float"
      ]
     },
     "execution_count": 7,
     "metadata": {},
     "output_type": "execute_result"
    }
   ],
   "source": [
    "type(weight_kg)"
   ]
  },
  {
   "cell_type": "code",
   "execution_count": 8,
   "id": "0c7b50a5-12da-4c13-a62f-5c1104d33a63",
   "metadata": {},
   "outputs": [],
   "source": [
    "patient_id='001'"
   ]
  },
  {
   "cell_type": "code",
   "execution_count": 9,
   "id": "dc90f428-3e36-4853-a2cb-7452f5c41b81",
   "metadata": {},
   "outputs": [
    {
     "data": {
      "text/plain": [
       "str"
      ]
     },
     "execution_count": 9,
     "metadata": {},
     "output_type": "execute_result"
    }
   ],
   "source": [
    "type(patient_id)"
   ]
  },
  {
   "cell_type": "code",
   "execution_count": 10,
   "id": "99ec5c9a-2ee2-4629-a2ff-6d341ed744b1",
   "metadata": {},
   "outputs": [],
   "source": [
    "weight_lb = 2.2 * weight_kg"
   ]
  },
  {
   "cell_type": "code",
   "execution_count": 11,
   "id": "2fc8647f-bb24-4c36-9e9b-102ab831a9f2",
   "metadata": {},
   "outputs": [
    {
     "name": "stdout",
     "output_type": "stream",
     "text": [
      "132.66\n"
     ]
    }
   ],
   "source": [
    "print(weight_lb)"
   ]
  },
  {
   "cell_type": "code",
   "execution_count": 12,
   "id": "3233d3e8-6b22-4357-b7b4-c7688e3c3b62",
   "metadata": {},
   "outputs": [
    {
     "name": "stdout",
     "output_type": "stream",
     "text": [
      "60.3\n"
     ]
    }
   ],
   "source": [
    "print(weight_kg)"
   ]
  },
  {
   "cell_type": "code",
   "execution_count": 13,
   "id": "d977ccba-7c9f-44ce-abab-1c237491b1d2",
   "metadata": {},
   "outputs": [],
   "source": [
    "patient_id = 'inflam_' + patient_id"
   ]
  },
  {
   "cell_type": "code",
   "execution_count": 14,
   "id": "1c26e226-a8f7-4ace-a56b-4068c3054c69",
   "metadata": {},
   "outputs": [
    {
     "name": "stdout",
     "output_type": "stream",
     "text": [
      "inflam_001\n"
     ]
    }
   ],
   "source": [
    "print(patient_id)"
   ]
  },
  {
   "cell_type": "code",
   "execution_count": 15,
   "id": "b2ef6fc2-ba99-4738-ae00-92846357844a",
   "metadata": {},
   "outputs": [
    {
     "name": "stdout",
     "output_type": "stream",
     "text": [
      "inflam_001 weight in kilograms: 60.3\n"
     ]
    }
   ],
   "source": [
    "print(patient_id, 'weight in kilograms:', weight_kg)"
   ]
  },
  {
   "cell_type": "markdown",
   "id": "dc044384-245d-4e39-a0be-d9178035b6f9",
   "metadata": {},
   "source": [
    "nested functions"
   ]
  },
  {
   "cell_type": "code",
   "execution_count": 16,
   "id": "76627653-b987-4dd0-925e-dbf77fed362b",
   "metadata": {},
   "outputs": [
    {
     "name": "stdout",
     "output_type": "stream",
     "text": [
      "<class 'float'>\n"
     ]
    }
   ],
   "source": [
    "print(type(60.3))"
   ]
  },
  {
   "cell_type": "code",
   "execution_count": 17,
   "id": "f4784e7f-7290-413e-a685-0c170dcff0b3",
   "metadata": {},
   "outputs": [
    {
     "data": {
      "text/plain": [
       "float"
      ]
     },
     "execution_count": 17,
     "metadata": {},
     "output_type": "execute_result"
    }
   ],
   "source": [
    "type(60.3)"
   ]
  },
  {
   "cell_type": "raw",
   "id": "f9dad4e3-3cb0-445b-9195-d1f8db60eeeb",
   "metadata": {},
   "source": [
    "operations inside argument = no assignment"
   ]
  },
  {
   "cell_type": "code",
   "execution_count": 18,
   "id": "c0cf0741-f305-41d9-9280-b91b5a720702",
   "metadata": {},
   "outputs": [
    {
     "name": "stdout",
     "output_type": "stream",
     "text": [
      "weight in pounds: 132.66\n"
     ]
    }
   ],
   "source": [
    "print('weight in pounds:', 2.2 * weight_kg)"
   ]
  },
  {
   "cell_type": "code",
   "execution_count": 19,
   "id": "6d846ca0-64e3-4f23-89fd-deb15cb08f67",
   "metadata": {},
   "outputs": [
    {
     "name": "stdout",
     "output_type": "stream",
     "text": [
      "60.3\n"
     ]
    }
   ],
   "source": [
    "print(weight_kg) "
   ]
  },
  {
   "cell_type": "raw",
   "id": "c619fc91-a7a1-48b4-8186-bf17dcdfdbd9",
   "metadata": {},
   "source": [
    "assignment"
   ]
  },
  {
   "cell_type": "code",
   "execution_count": 20,
   "id": "3aeea895-458d-411b-bf4f-6828e4d4415c",
   "metadata": {},
   "outputs": [
    {
     "name": "stdout",
     "output_type": "stream",
     "text": [
      "weight in kilograms is now: 65.0\n"
     ]
    }
   ],
   "source": [
    "weight_kg = 65.0\n",
    "print('weight in kilograms is now:', weight_kg)"
   ]
  },
  {
   "cell_type": "raw",
   "id": "af5f1077-6eff-4fb3-8c75-2a925751d9db",
   "metadata": {},
   "source": [
    "check your understanding 1"
   ]
  },
  {
   "cell_type": "code",
   "execution_count": 21,
   "id": "ac9915a4-e590-43ac-8432-c804b3d01fda",
   "metadata": {},
   "outputs": [],
   "source": [
    "mass = 47.5\n",
    "age = 122"
   ]
  },
  {
   "cell_type": "code",
   "execution_count": 22,
   "id": "d188b1e2-aa53-4fb2-b9ae-f498dd96d5a6",
   "metadata": {},
   "outputs": [
    {
     "name": "stdout",
     "output_type": "stream",
     "text": [
      "47.5\n"
     ]
    }
   ],
   "source": [
    "print(mass)"
   ]
  },
  {
   "cell_type": "code",
   "execution_count": 23,
   "id": "be2038b6-6bae-41a8-983e-4648005889ae",
   "metadata": {},
   "outputs": [
    {
     "name": "stdout",
     "output_type": "stream",
     "text": [
      "47.5 122\n"
     ]
    }
   ],
   "source": [
    "print(mass, age)"
   ]
  },
  {
   "cell_type": "code",
   "execution_count": 24,
   "id": "48141817-5a7c-4622-a872-89f2220be04c",
   "metadata": {},
   "outputs": [
    {
     "name": "stdout",
     "output_type": "stream",
     "text": [
      "122\n"
     ]
    }
   ],
   "source": [
    "print(age)"
   ]
  },
  {
   "cell_type": "code",
   "execution_count": 25,
   "id": "d4eb3093-e4ff-4d6f-a248-ef42a5d1f114",
   "metadata": {},
   "outputs": [
    {
     "name": "stdout",
     "output_type": "stream",
     "text": [
      "47.5 122\n"
     ]
    }
   ],
   "source": [
    "print(mass, age)"
   ]
  },
  {
   "cell_type": "code",
   "execution_count": 26,
   "id": "82a91b46-1b37-44e7-821f-32960c6d0272",
   "metadata": {},
   "outputs": [],
   "source": [
    "# you can delete a cell but a declared variable can stay in memory; how to delete a variable?"
   ]
  },
  {
   "cell_type": "code",
   "execution_count": 27,
   "id": "6256b64a-4bfa-402d-b001-c96bc6eb96a2",
   "metadata": {},
   "outputs": [
    {
     "name": "stdout",
     "output_type": "stream",
     "text": [
      "122\n"
     ]
    }
   ],
   "source": [
    "print(age)"
   ]
  },
  {
   "cell_type": "code",
   "execution_count": 28,
   "id": "f1d9545a-6ddb-4104-aa4a-f792a53fecdd",
   "metadata": {},
   "outputs": [],
   "source": [
    "first, second = 'Grace', 'Hopper'"
   ]
  },
  {
   "cell_type": "code",
   "execution_count": 29,
   "id": "8e0d6133-072e-49ea-b6d6-87cf5e272966",
   "metadata": {},
   "outputs": [],
   "source": [
    "third, fourth = second, first"
   ]
  },
  {
   "cell_type": "code",
   "execution_count": 30,
   "id": "7c525cf2-f44f-4987-ab25-4c8c24486f44",
   "metadata": {},
   "outputs": [
    {
     "name": "stdout",
     "output_type": "stream",
     "text": [
      "Hopper Grace\n"
     ]
    }
   ],
   "source": [
    "print(third, fourth)"
   ]
  },
  {
   "cell_type": "code",
   "execution_count": 31,
   "id": "6ae04888-107c-4a64-9c52-f053bed944e7",
   "metadata": {},
   "outputs": [
    {
     "name": "stdout",
     "output_type": "stream",
     "text": [
      "Grace Grace\n"
     ]
    }
   ],
   "source": [
    "print(fourth, first)"
   ]
  },
  {
   "cell_type": "code",
   "execution_count": 32,
   "id": "73b40558-1698-4cf7-bde6-cf9e22e3496d",
   "metadata": {},
   "outputs": [],
   "source": [
    "planet = 'Earth'\n",
    "apples = 5\n",
    "distance = 10.5"
   ]
  },
  {
   "cell_type": "code",
   "execution_count": 33,
   "id": "78ad5627-8a5f-4dde-bebf-fb20d9bbcf12",
   "metadata": {},
   "outputs": [
    {
     "data": {
      "text/plain": [
       "str"
      ]
     },
     "execution_count": 33,
     "metadata": {},
     "output_type": "execute_result"
    }
   ],
   "source": [
    "type(planet)"
   ]
  },
  {
   "cell_type": "code",
   "execution_count": 34,
   "id": "08c396c5-31b5-4b58-a19a-abbfa11565c1",
   "metadata": {},
   "outputs": [
    {
     "data": {
      "text/plain": [
       "float"
      ]
     },
     "execution_count": 34,
     "metadata": {},
     "output_type": "execute_result"
    }
   ],
   "source": [
    "type(apples)\n",
    "type(distance)"
   ]
  },
  {
   "cell_type": "code",
   "execution_count": 35,
   "id": "95b1aff7-7704-45c3-9b3d-0232f9cd9a2e",
   "metadata": {},
   "outputs": [
    {
     "data": {
      "text/plain": [
       "int"
      ]
     },
     "execution_count": 35,
     "metadata": {},
     "output_type": "execute_result"
    }
   ],
   "source": [
    "type(apples)"
   ]
  },
  {
   "cell_type": "code",
   "execution_count": 36,
   "id": "d4f1f122-49c5-40e0-b667-9400a2cc3868",
   "metadata": {},
   "outputs": [
    {
     "data": {
      "text/plain": [
       "int"
      ]
     },
     "execution_count": 36,
     "metadata": {},
     "output_type": "execute_result"
    }
   ],
   "source": [
    "type(apples)"
   ]
  },
  {
   "cell_type": "markdown",
   "id": "89379738-42cc-43cb-ae27-116097f3a3cd",
   "metadata": {},
   "source": [
    "## Episode 4 Lists"
   ]
  },
  {
   "cell_type": "markdown",
   "id": "02ba795c-46e7-494f-a505-a103fcae00cc",
   "metadata": {},
   "source": [
    "This line is here to tickle gitautopush!"
   ]
  },
  {
   "cell_type": "markdown",
   "id": "0f3ed157-aa3b-49f2-9b7b-7b9464439816",
   "metadata": {},
   "source": [
    "Do I need to save the file  manually to trigger gitautopush?"
   ]
  },
  {
   "cell_type": "markdown",
   "id": "a5acdc22-8633-455b-98c0-928e15c4a09d",
   "metadata": {},
   "source": [
    "I changed the autosave interval to 2 seconds"
   ]
  },
  {
   "cell_type": "code",
   "execution_count": 37,
   "id": "a4903a6d-e9c0-42ba-ae59-fdeeb319c996",
   "metadata": {},
   "outputs": [],
   "source": [
    "# gitautopush provocation"
   ]
  },
  {
   "cell_type": "code",
   "execution_count": 93,
   "id": "d5113d52-a9f5-4f32-aa81-6699b83cecc8",
   "metadata": {},
   "outputs": [],
   "source": [
    "odds = [1, 3, 5, 7]"
   ]
  },
  {
   "cell_type": "code",
   "execution_count": 39,
   "id": "5ad1ad55-ccf1-46d2-8087-10162dd68cc5",
   "metadata": {},
   "outputs": [
    {
     "name": "stdout",
     "output_type": "stream",
     "text": [
      "odds are: [1, 3, 5, 7]\n"
     ]
    }
   ],
   "source": [
    "print('odds are:', odds)"
   ]
  },
  {
   "cell_type": "code",
   "execution_count": 40,
   "id": "7e89db1e-3472-4a77-915e-ac63e4a385b2",
   "metadata": {},
   "outputs": [
    {
     "name": "stdout",
     "output_type": "stream",
     "text": [
      "first element: 1\n"
     ]
    }
   ],
   "source": [
    "print('first element:', odds[0])"
   ]
  },
  {
   "cell_type": "code",
   "execution_count": 41,
   "id": "ff3341c9-dc0d-4399-8d5b-7bf1c19d4d3d",
   "metadata": {},
   "outputs": [
    {
     "name": "stdout",
     "output_type": "stream",
     "text": [
      "lasr element: 7\n"
     ]
    }
   ],
   "source": [
    "print('lasr element:', odds[3])"
   ]
  },
  {
   "cell_type": "code",
   "execution_count": 42,
   "id": "dae605da-d0c3-49bb-9833-ff422b0640e5",
   "metadata": {},
   "outputs": [
    {
     "name": "stdout",
     "output_type": "stream",
     "text": [
      "-1 element: 7\n"
     ]
    }
   ],
   "source": [
    "print('-1 element:', odds[-1])"
   ]
  },
  {
   "cell_type": "code",
   "execution_count": 43,
   "id": "0d053fa0-2eac-4ef0-b1de-d25b5b9ed1f9",
   "metadata": {},
   "outputs": [],
   "source": [
    "names = ['Curie', 'Darwing', 'Turing'] # typo in second name"
   ]
  },
  {
   "cell_type": "code",
   "execution_count": 44,
   "id": "06106db1-1e19-498f-97a4-f48d213606d8",
   "metadata": {},
   "outputs": [
    {
     "name": "stdout",
     "output_type": "stream",
     "text": [
      "names is originally: ['Curie', 'Darwing', 'Turing']\n"
     ]
    }
   ],
   "source": [
    "print('names is originally:', names)"
   ]
  },
  {
   "cell_type": "code",
   "execution_count": 45,
   "id": "a7be5c76-2418-4375-9380-e270f95e3dd3",
   "metadata": {},
   "outputs": [],
   "source": [
    "names[1] = 'Darwin' # correct the name"
   ]
  },
  {
   "cell_type": "code",
   "execution_count": 46,
   "id": "338d5a09-70bc-467c-b50f-c7a7b2ec43f4",
   "metadata": {},
   "outputs": [
    {
     "name": "stdout",
     "output_type": "stream",
     "text": [
      "final values of names: ['Curie', 'Darwin', 'Turing']\n"
     ]
    }
   ],
   "source": [
    "print('final values of names:', names)"
   ]
  },
  {
   "cell_type": "code",
   "execution_count": 49,
   "id": "23610bf3-0ae7-4fd3-a866-030958541f88",
   "metadata": {},
   "outputs": [],
   "source": [
    "names[0] = 'Curie'"
   ]
  },
  {
   "cell_type": "code",
   "execution_count": 50,
   "id": "30ac539b-2052-4371-b645-735764dbd315",
   "metadata": {},
   "outputs": [
    {
     "name": "stdout",
     "output_type": "stream",
     "text": [
      "final values of names: ['Curie', 'Darwin', 'Turing']\n"
     ]
    }
   ],
   "source": [
    "print('final values of names:', names)"
   ]
  },
  {
   "cell_type": "code",
   "execution_count": 51,
   "id": "efc4c319-06dc-45e1-9721-24761eefbacf",
   "metadata": {},
   "outputs": [],
   "source": [
    "# assignment of lists"
   ]
  },
  {
   "cell_type": "code",
   "execution_count": 52,
   "id": "9eeff95f-f0ae-48cf-8ba8-0546ee4bd84e",
   "metadata": {},
   "outputs": [],
   "source": [
    "name = 'Darwin'"
   ]
  },
  {
   "cell_type": "code",
   "execution_count": 53,
   "id": "4f1b4a32-6a5d-4b9f-a43d-8f0bbb7f05a8",
   "metadata": {},
   "outputs": [
    {
     "ename": "TypeError",
     "evalue": "'str' object does not support item assignment",
     "output_type": "error",
     "traceback": [
      "\u001b[0;31m---------------------------------------------------------------------------\u001b[0m",
      "\u001b[0;31mTypeError\u001b[0m                                 Traceback (most recent call last)",
      "\u001b[0;32m/tmp/ipykernel_32653/4072119703.py\u001b[0m in \u001b[0;36m<module>\u001b[0;34m\u001b[0m\n\u001b[0;32m----> 1\u001b[0;31m \u001b[0mname\u001b[0m\u001b[0;34m[\u001b[0m\u001b[0;36m0\u001b[0m\u001b[0;34m]\u001b[0m \u001b[0;34m=\u001b[0m \u001b[0;34m'd'\u001b[0m\u001b[0;34m\u001b[0m\u001b[0;34m\u001b[0m\u001b[0m\n\u001b[0m",
      "\u001b[0;31mTypeError\u001b[0m: 'str' object does not support item assignment"
     ]
    }
   ],
   "source": [
    "name[0] = 'd'"
   ]
  },
  {
   "cell_type": "code",
   "execution_count": 54,
   "id": "5d8b53be-d3a7-4ba8-ad90-b18e5e177ce6",
   "metadata": {},
   "outputs": [
    {
     "data": {
      "text/plain": [
       "list"
      ]
     },
     "execution_count": 54,
     "metadata": {},
     "output_type": "execute_result"
    }
   ],
   "source": [
    "type(names)"
   ]
  },
  {
   "cell_type": "code",
   "execution_count": 55,
   "id": "e5169d84-a45d-4ead-8a6c-1b037c41a97c",
   "metadata": {},
   "outputs": [
    {
     "data": {
      "text/plain": [
       "str"
      ]
     },
     "execution_count": 55,
     "metadata": {},
     "output_type": "execute_result"
    }
   ],
   "source": [
    "type(names[0])"
   ]
  },
  {
   "cell_type": "code",
   "execution_count": 56,
   "id": "14b5c38b-f398-4b64-8544-1257e9df99c6",
   "metadata": {},
   "outputs": [],
   "source": [
    "# mutable and immutable variables (types actually)"
   ]
  },
  {
   "cell_type": "code",
   "execution_count": 57,
   "id": "61da1fa6-c123-46d7-98a0-e8430204ae85",
   "metadata": {},
   "outputs": [],
   "source": [
    "mild_salsa = ['peppers', 'onions', 'cilantro', 'tomatoes']"
   ]
  },
  {
   "cell_type": "code",
   "execution_count": 58,
   "id": "f6e7641c-3c68-4fd3-905f-714223e418c1",
   "metadata": {},
   "outputs": [],
   "source": [
    "hot_salsa = mild_salsa # names pointing to the same list"
   ]
  },
  {
   "cell_type": "code",
   "execution_count": 59,
   "id": "2d74cfb5-f0c4-4787-a3e5-fbb9c4a62bff",
   "metadata": {},
   "outputs": [],
   "source": [
    "hot_salsa[0] = 'hot peppers' "
   ]
  },
  {
   "cell_type": "code",
   "execution_count": 60,
   "id": "013d5fef-9a6a-4db6-a563-99997b0f5c0f",
   "metadata": {},
   "outputs": [
    {
     "name": "stdout",
     "output_type": "stream",
     "text": [
      "Ingredients in mild salsa: ['hot peppers', 'onions', 'cilantro', 'tomatoes']\n"
     ]
    }
   ],
   "source": [
    "print('Ingredients in mild salsa:', mild_salsa) "
   ]
  },
  {
   "cell_type": "code",
   "execution_count": 61,
   "id": "3c5c3a2e-e6dd-4881-af55-1bd49063fb7e",
   "metadata": {},
   "outputs": [
    {
     "name": "stdout",
     "output_type": "stream",
     "text": [
      "Ingredients in hot salsa: ['hot peppers', 'onions', 'cilantro', 'tomatoes']\n"
     ]
    }
   ],
   "source": [
    "print('Ingredients in hot salsa:', hot_salsa)"
   ]
  },
  {
   "cell_type": "code",
   "execution_count": 62,
   "id": "6d625830-8c0a-4abc-98d1-f64bfc0de7b6",
   "metadata": {},
   "outputs": [],
   "source": [
    "mild_salsa = ['peppers', 'onions', 'cilantro', 'tomatoes']"
   ]
  },
  {
   "cell_type": "code",
   "execution_count": 63,
   "id": "1c1651ff-d804-4c5a-97b9-ec87c48ede4e",
   "metadata": {},
   "outputs": [],
   "source": [
    "hot_salsa = list(mild_salsa)"
   ]
  },
  {
   "cell_type": "code",
   "execution_count": 64,
   "id": "cf9d228f-55a8-4363-9ccb-e96421902049",
   "metadata": {},
   "outputs": [],
   "source": [
    "hot_salsa[0] = 'red hot chili peppers'"
   ]
  },
  {
   "cell_type": "code",
   "execution_count": 65,
   "id": "63d8e362-ed4a-41ca-a31e-7a3f8f8033f1",
   "metadata": {},
   "outputs": [
    {
     "name": "stdout",
     "output_type": "stream",
     "text": [
      "Ingredients in mild salsa: ['peppers', 'onions', 'cilantro', 'tomatoes']\n"
     ]
    }
   ],
   "source": [
    "print('Ingredients in mild salsa:', mild_salsa)"
   ]
  },
  {
   "cell_type": "code",
   "execution_count": 66,
   "id": "92fd6101-4a35-4024-91fa-cdd3205ad966",
   "metadata": {},
   "outputs": [
    {
     "name": "stdout",
     "output_type": "stream",
     "text": [
      "Ingredients in hot salsa: ['red hot chili peppers', 'onions', 'cilantro', 'tomatoes']\n"
     ]
    }
   ],
   "source": [
    "print('Ingredients in hot salsa:', hot_salsa)"
   ]
  },
  {
   "cell_type": "code",
   "execution_count": 68,
   "id": "3cf642a2-3019-4ea4-aac0-f4a0e45cc6b9",
   "metadata": {},
   "outputs": [
    {
     "data": {
      "text/plain": [
       "list"
      ]
     },
     "execution_count": 68,
     "metadata": {},
     "output_type": "execute_result"
    }
   ],
   "source": [
    "type(hot_salsa)"
   ]
  },
  {
   "cell_type": "code",
   "execution_count": 69,
   "id": "6e725abb-72ba-4f6e-9716-25f0c454cba5",
   "metadata": {},
   "outputs": [
    {
     "data": {
      "text/plain": [
       "str"
      ]
     },
     "execution_count": 69,
     "metadata": {},
     "output_type": "execute_result"
    }
   ],
   "source": [
    "type(hot_salsa[0])"
   ]
  },
  {
   "cell_type": "code",
   "execution_count": 70,
   "id": "8a909d04-52af-4980-8c67-40e1eaf934cf",
   "metadata": {},
   "outputs": [],
   "source": [
    "# nested lists"
   ]
  },
  {
   "cell_type": "code",
   "execution_count": 72,
   "id": "d6c72833-9912-4809-957a-091186896239",
   "metadata": {},
   "outputs": [
    {
     "ename": "NameError",
     "evalue": "name 'a' is not defined",
     "output_type": "error",
     "traceback": [
      "\u001b[0;31m---------------------------------------------------------------------------\u001b[0m",
      "\u001b[0;31mNameError\u001b[0m                                 Traceback (most recent call last)",
      "\u001b[0;32m/tmp/ipykernel_32653/2523721525.py\u001b[0m in \u001b[0;36m<module>\u001b[0;34m\u001b[0m\n\u001b[0;32m----> 1\u001b[0;31m \u001b[0mveg\u001b[0m \u001b[0;34m=\u001b[0m \u001b[0;34m[\u001b[0m\u001b[0;34m[\u001b[0m\u001b[0ma\u001b[0m\u001b[0;34m,\u001b[0m \u001b[0mb\u001b[0m\u001b[0;34m,\u001b[0m \u001b[0mc\u001b[0m\u001b[0;34m]\u001b[0m\u001b[0;34m,\u001b[0m \u001b[0;34m[\u001b[0m\u001b[0mA\u001b[0m\u001b[0;34m,\u001b[0m \u001b[0mB\u001b[0m\u001b[0;34m,\u001b[0m \u001b[0mC\u001b[0m\u001b[0;34m]\u001b[0m \u001b[0;34m,\u001b[0m \u001b[0;34m[\u001b[0m\u001b[0maA\u001b[0m\u001b[0;34m,\u001b[0m \u001b[0mbB\u001b[0m\u001b[0;34m,\u001b[0m \u001b[0mcC\u001b[0m\u001b[0;34m]\u001b[0m \u001b[0;34m]\u001b[0m\u001b[0;34m\u001b[0m\u001b[0;34m\u001b[0m\u001b[0m\n\u001b[0m",
      "\u001b[0;31mNameError\u001b[0m: name 'a' is not defined"
     ]
    }
   ],
   "source": [
    "veg = [[a, b, c], [A, B, C] , [aA, bB, cC] ]"
   ]
  },
  {
   "cell_type": "code",
   "execution_count": 73,
   "id": "b6410f7f-d0f6-4479-ab91-6bdae87f4023",
   "metadata": {},
   "outputs": [],
   "source": [
    "veg = [ ['a', 'b', 'c'], ['i', 'j', 'k'], ['x', 'y', 'z']]"
   ]
  },
  {
   "cell_type": "code",
   "execution_count": 74,
   "id": "0cfc5e79-1f64-4b92-a81e-cf4f4cc450c4",
   "metadata": {},
   "outputs": [
    {
     "data": {
      "text/plain": [
       "[['a', 'b', 'c'], ['i', 'j', 'k'], ['x', 'y', 'z']]"
      ]
     },
     "execution_count": 74,
     "metadata": {},
     "output_type": "execute_result"
    }
   ],
   "source": [
    "veg"
   ]
  },
  {
   "cell_type": "code",
   "execution_count": 75,
   "id": "e749cd76-48fc-4f2b-b536-715c51e32e95",
   "metadata": {},
   "outputs": [
    {
     "name": "stdout",
     "output_type": "stream",
     "text": [
      "[['a', 'b', 'c'], ['i', 'j', 'k'], ['x', 'y', 'z']]\n"
     ]
    }
   ],
   "source": [
    "print(veg)"
   ]
  },
  {
   "cell_type": "code",
   "execution_count": 76,
   "id": "2a1b490e-3550-4bef-8275-daeb9494964f",
   "metadata": {},
   "outputs": [
    {
     "data": {
      "text/plain": [
       "['red hot chili peppers', 'onions', 'cilantro', 'tomatoes']"
      ]
     },
     "execution_count": 76,
     "metadata": {},
     "output_type": "execute_result"
    }
   ],
   "source": [
    "hot_salsa"
   ]
  },
  {
   "cell_type": "code",
   "execution_count": 77,
   "id": "677865c9-cf5f-4faf-8fa8-d5fce1e28944",
   "metadata": {},
   "outputs": [
    {
     "data": {
      "text/plain": [
       "('is it this easier',\n",
       " ['red hot chili peppers', 'onions', 'cilantro', 'tomatoes'])"
      ]
     },
     "execution_count": 77,
     "metadata": {},
     "output_type": "execute_result"
    }
   ],
   "source": [
    "'is it this easier', hot_salsa"
   ]
  },
  {
   "cell_type": "code",
   "execution_count": 80,
   "id": "55116ae0-6817-482f-94f7-21c8f961b791",
   "metadata": {},
   "outputs": [
    {
     "name": "stdout",
     "output_type": "stream",
     "text": [
      "['x', 'y', 'z']\n"
     ]
    }
   ],
   "source": [
    "print(veg[2])"
   ]
  },
  {
   "cell_type": "code",
   "execution_count": 81,
   "id": "3494e840-ca7c-4951-8725-3c8636c4654c",
   "metadata": {},
   "outputs": [
    {
     "name": "stdout",
     "output_type": "stream",
     "text": [
      "['a', 'b', 'c']\n"
     ]
    }
   ],
   "source": [
    "print(veg[0])"
   ]
  },
  {
   "cell_type": "code",
   "execution_count": 82,
   "id": "70605343-4add-4f90-81dc-aa434eb05eb9",
   "metadata": {},
   "outputs": [
    {
     "data": {
      "text/plain": [
       "list"
      ]
     },
     "execution_count": 82,
     "metadata": {},
     "output_type": "execute_result"
    }
   ],
   "source": [
    "type(veg[0])"
   ]
  },
  {
   "cell_type": "code",
   "execution_count": 83,
   "id": "b7ae5c3e-ffeb-4ee3-9bc1-83ac8823a386",
   "metadata": {},
   "outputs": [
    {
     "data": {
      "text/plain": [
       "'a'"
      ]
     },
     "execution_count": 83,
     "metadata": {},
     "output_type": "execute_result"
    }
   ],
   "source": [
    "veg[0][0]"
   ]
  },
  {
   "cell_type": "code",
   "execution_count": 84,
   "id": "b48b5b84-ead4-4065-b79d-e16e701528f5",
   "metadata": {},
   "outputs": [
    {
     "data": {
      "text/plain": [
       "'k'"
      ]
     },
     "execution_count": 84,
     "metadata": {},
     "output_type": "execute_result"
    }
   ],
   "source": [
    "veg[1][2]"
   ]
  },
  {
   "cell_type": "code",
   "execution_count": 85,
   "id": "4e6acc02-1a1d-42ff-a972-924004416847",
   "metadata": {},
   "outputs": [],
   "source": [
    "# hetereogenous lists"
   ]
  },
  {
   "cell_type": "code",
   "execution_count": 86,
   "id": "3fb85a24-46f9-4517-896f-acb71b07b298",
   "metadata": {},
   "outputs": [],
   "source": [
    "sample_ages = [10, 12.5, 'Unknown']"
   ]
  },
  {
   "cell_type": "code",
   "execution_count": 87,
   "id": "690b3d3e-3857-4838-9c79-37e8e387a2df",
   "metadata": {},
   "outputs": [],
   "source": [
    "# various ways to change a list"
   ]
  },
  {
   "cell_type": "code",
   "execution_count": 94,
   "id": "0c225c89-320e-481b-9a66-453d480f20eb",
   "metadata": {},
   "outputs": [
    {
     "data": {
      "text/plain": [
       "[1, 3, 5, 7]"
      ]
     },
     "execution_count": 94,
     "metadata": {},
     "output_type": "execute_result"
    }
   ],
   "source": [
    "odds"
   ]
  },
  {
   "cell_type": "code",
   "execution_count": 95,
   "id": "a061b97a-7b3d-4983-af42-8bb32fb215cc",
   "metadata": {},
   "outputs": [
    {
     "name": "stdout",
     "output_type": "stream",
     "text": [
      "odds after adding a value: [1, 3, 5, 7, 11]\n"
     ]
    }
   ],
   "source": [
    "odds.append(11)\n",
    "print('odds after adding a value:', odds)"
   ]
  },
  {
   "cell_type": "code",
   "execution_count": 96,
   "id": "bdbce4b7-79b9-4f92-8f63-aa14cab28a66",
   "metadata": {},
   "outputs": [
    {
     "name": "stdout",
     "output_type": "stream",
     "text": [
      "odds after removing the element: [3, 5, 7, 11]\n",
      "removed element: 1\n"
     ]
    }
   ],
   "source": [
    "removed_element = odds.pop(0)\n",
    "print('odds after removing the element:', odds)\n",
    "print('removed element:', removed_element)"
   ]
  },
  {
   "cell_type": "code",
   "execution_count": 97,
   "id": "76e03f04-728d-4e62-91b3-00be7f876b02",
   "metadata": {},
   "outputs": [
    {
     "name": "stdout",
     "output_type": "stream",
     "text": [
      "odds after reversing: [11, 7, 5, 3]\n"
     ]
    }
   ],
   "source": [
    "odds.reverse()\n",
    "print('odds after reversing:', odds)"
   ]
  },
  {
   "cell_type": "code",
   "execution_count": 98,
   "id": "cb99827b-1afd-4d81-a950-b67e87a17c00",
   "metadata": {},
   "outputs": [
    {
     "data": {
      "text/plain": [
       "[11, 7, 5, 3]"
      ]
     },
     "execution_count": 98,
     "metadata": {},
     "output_type": "execute_result"
    }
   ],
   "source": [
    "odds"
   ]
  },
  {
   "cell_type": "code",
   "execution_count": 99,
   "id": "4b7eaaee-6260-4a14-872c-d2212a86c25a",
   "metadata": {},
   "outputs": [],
   "source": [
    "odds.reverse()"
   ]
  },
  {
   "cell_type": "code",
   "execution_count": 100,
   "id": "18cb0723-a5d6-4380-937c-03270974a77c",
   "metadata": {},
   "outputs": [
    {
     "data": {
      "text/plain": [
       "[3, 5, 7, 11]"
      ]
     },
     "execution_count": 100,
     "metadata": {},
     "output_type": "execute_result"
    }
   ],
   "source": [
    "odds"
   ]
  },
  {
   "cell_type": "code",
   "execution_count": 101,
   "id": "b094ca71-3401-4c57-a9f8-6257a4518e9b",
   "metadata": {},
   "outputs": [],
   "source": [
    "primes = odds # i like this"
   ]
  },
  {
   "cell_type": "code",
   "execution_count": 102,
   "id": "5672b426-52dc-4aec-a58a-c901161cfd09",
   "metadata": {},
   "outputs": [],
   "source": [
    "primes.append(2)"
   ]
  },
  {
   "cell_type": "code",
   "execution_count": 103,
   "id": "8d7185bd-122e-419c-9c8d-04b9b71c1acc",
   "metadata": {},
   "outputs": [
    {
     "name": "stdout",
     "output_type": "stream",
     "text": [
      "primes: [3, 5, 7, 11, 2]\n",
      "odds: [3, 5, 7, 11, 2]\n"
     ]
    }
   ],
   "source": [
    "print('primes:', primes)\n",
    "print('odds:', odds)"
   ]
  },
  {
   "cell_type": "code",
   "execution_count": 104,
   "id": "f65bc616-412a-4ade-81ed-27a24d7565fa",
   "metadata": {},
   "outputs": [
    {
     "name": "stdout",
     "output_type": "stream",
     "text": [
      "primes: [3, 5, 7, 2]\n",
      "odds: [3, 5, 7]\n"
     ]
    }
   ],
   "source": [
    "odds = [3, 5, 7]\n",
    "primes = list(odds)\n",
    "primes.append(2)\n",
    "print('primes:', primes)\n",
    "print('odds:', odds)"
   ]
  },
  {
   "cell_type": "code",
   "execution_count": 105,
   "id": "a356ca6e-b70b-4a01-9727-7127a178b842",
   "metadata": {},
   "outputs": [],
   "source": [
    "# slices = ranges of values"
   ]
  },
  {
   "cell_type": "code",
   "execution_count": 110,
   "id": "788a7fa5-465b-4256-937f-20e734fbff43",
   "metadata": {},
   "outputs": [
    {
     "name": "stdout",
     "output_type": "stream",
     "text": [
      "Drosophila is the group\n"
     ]
    }
   ],
   "source": [
    "binomial_name = 'Drosophila melanogaster'\n",
    "group = binomial_name[0:10]\n",
    "print(group, 'is the group')"
   ]
  },
  {
   "cell_type": "code",
   "execution_count": 111,
   "id": "bbdbd36d-94b3-40ed-883a-061ecee6c541",
   "metadata": {},
   "outputs": [
    {
     "name": "stdout",
     "output_type": "stream",
     "text": [
      "melanogaster is the species\n"
     ]
    }
   ],
   "source": [
    "species = binomial_name[11:23]\n",
    "print(species, 'is the species')"
   ]
  },
  {
   "cell_type": "code",
   "execution_count": 112,
   "id": "91c29c06-e975-43c8-b786-4144b2bb13ff",
   "metadata": {},
   "outputs": [
    {
     "data": {
      "text/plain": [
       "23"
      ]
     },
     "execution_count": 112,
     "metadata": {},
     "output_type": "execute_result"
    }
   ],
   "source": [
    "len(binomial_name)"
   ]
  },
  {
   "cell_type": "code",
   "execution_count": 113,
   "id": "5f9b1e8d-512d-4a10-8a25-f49a206da44c",
   "metadata": {},
   "outputs": [
    {
     "data": {
      "text/plain": [
       "str"
      ]
     },
     "execution_count": 113,
     "metadata": {},
     "output_type": "execute_result"
    }
   ],
   "source": [
    "type(binomial_name)"
   ]
  },
  {
   "cell_type": "code",
   "execution_count": 114,
   "id": "3acde4d6-f8e7-4f40-8c41-7bddbd23d1ca",
   "metadata": {},
   "outputs": [],
   "source": [
    "chromosomes = ['X', 'Y', '2', '3', '4']"
   ]
  },
  {
   "cell_type": "code",
   "execution_count": 115,
   "id": "e09f64fb-6780-493c-b085-11592ed6f2af",
   "metadata": {},
   "outputs": [],
   "source": [
    "#autosomes are the third to sixth element"
   ]
  },
  {
   "cell_type": "code",
   "execution_count": 116,
   "id": "37c7dc6a-1cb1-4914-919f-8f221ba539fb",
   "metadata": {},
   "outputs": [
    {
     "name": "stdout",
     "output_type": "stream",
     "text": [
      "['2', '3', '4'] are the autosomes\n"
     ]
    }
   ],
   "source": [
    "autosomes = chromosomes[2:5]\n",
    "print(autosomes, 'are the autosomes')"
   ]
  },
  {
   "cell_type": "code",
   "execution_count": 117,
   "id": "07a4647f-74d5-4aac-8ca6-f4cf2fa6deeb",
   "metadata": {},
   "outputs": [
    {
     "name": "stdout",
     "output_type": "stream",
     "text": [
      "4 is the last\n"
     ]
    }
   ],
   "source": [
    "last = chromosomes[-1]\n",
    "print(last, 'is the last')"
   ]
  },
  {
   "cell_type": "code",
   "execution_count": 118,
   "id": "5cab0afc-8047-4179-97ce-03de027e2e99",
   "metadata": {},
   "outputs": [],
   "source": [
    "# test deep/shallow copy with slices"
   ]
  },
  {
   "cell_type": "code",
   "execution_count": 120,
   "id": "5c37c4c1-6112-4e71-a423-d518cf732280",
   "metadata": {},
   "outputs": [],
   "source": [
    "autosomes[0] = 'aargh'"
   ]
  },
  {
   "cell_type": "code",
   "execution_count": 121,
   "id": "7851efe3-a26f-459d-be86-17e62f96ee11",
   "metadata": {},
   "outputs": [
    {
     "data": {
      "text/plain": [
       "['aargh', '3', '4']"
      ]
     },
     "execution_count": 121,
     "metadata": {},
     "output_type": "execute_result"
    }
   ],
   "source": [
    "autosomes"
   ]
  },
  {
   "cell_type": "code",
   "execution_count": 122,
   "id": "f6380a92-2ff4-4a04-bc6b-ba3a7ed766cf",
   "metadata": {},
   "outputs": [
    {
     "data": {
      "text/plain": [
       "['X', 'Y', '2', '3', '4']"
      ]
     },
     "execution_count": 122,
     "metadata": {},
     "output_type": "execute_result"
    }
   ],
   "source": [
    "chromosomes"
   ]
  },
  {
   "cell_type": "code",
   "execution_count": 123,
   "id": "d4d45f8c-0eca-4242-b89d-b56c687a4869",
   "metadata": {},
   "outputs": [],
   "source": [
    "# test which output is printed if a cell consists of multiple prints"
   ]
  },
  {
   "cell_type": "code",
   "execution_count": 124,
   "id": "749614f1-a06d-4481-a6b7-d92815726fba",
   "metadata": {},
   "outputs": [
    {
     "name": "stdout",
     "output_type": "stream",
     "text": [
      "group: Drosophila\n",
      "species: melanogaster\n",
      "autosomes: ['2', '3', '4']\n",
      "last: 4\n"
     ]
    }
   ],
   "source": [
    "binomial_name = 'Drosophila melanogaster'\n",
    "group = binomial_name[0:10]\n",
    "print('group:', group)\n",
    "\n",
    "species = binomial_name[11:23]\n",
    "print('species:', species)\n",
    "\n",
    "chromosomes = ['X', 'Y', '2', '3', '4']\n",
    "autosomes = chromosomes[2:5]\n",
    "print('autosomes:', autosomes)\n",
    "\n",
    "last = chromosomes[-1]\n",
    "print('last:', last)"
   ]
  },
  {
   "cell_type": "code",
   "execution_count": 125,
   "id": "131cebf3-9025-4f66-aec3-aa64c8d6b59a",
   "metadata": {},
   "outputs": [
    {
     "data": {
      "text/plain": [
       "[3, 5, 7, 2]"
      ]
     },
     "execution_count": 125,
     "metadata": {},
     "output_type": "execute_result"
    }
   ],
   "source": [
    "veg\n",
    "odds\n",
    "primes"
   ]
  },
  {
   "cell_type": "code",
   "execution_count": 126,
   "id": "5fd7581f-279c-4f71-ab7c-45788d6698dd",
   "metadata": {},
   "outputs": [
    {
     "name": "stdout",
     "output_type": "stream",
     "text": [
      "[['a', 'b', 'c'], ['i', 'j', 'k'], ['x', 'y', 'z']]\n",
      "[3, 5, 7]\n",
      "[3, 5, 7, 2]\n"
     ]
    }
   ],
   "source": [
    "print(veg)\n",
    "print(odds)\n",
    "print(primes)"
   ]
  },
  {
   "cell_type": "code",
   "execution_count": 127,
   "id": "1a9935ae-381d-4cdb-8463-516a7595d329",
   "metadata": {},
   "outputs": [],
   "source": [
    "# (exercise) slicing from the end: shows only the last four characters"
   ]
  },
  {
   "cell_type": "code",
   "execution_count": 133,
   "id": "6358c387-8fbf-4e9b-b2ef-00b3f9d3270c",
   "metadata": {},
   "outputs": [],
   "source": [
    "string_for_slicing = 'Observation date: 02-Feb-2013'"
   ]
  },
  {
   "cell_type": "code",
   "execution_count": 134,
   "id": "83e6f726-b4da-4c60-b81b-9fb24c0cc260",
   "metadata": {},
   "outputs": [
    {
     "name": "stdout",
     "output_type": "stream",
     "text": [
      "201 are the last four characters\n"
     ]
    }
   ],
   "source": [
    "print(string_for_slicing[-4:-1], 'are the last four characters')"
   ]
  },
  {
   "cell_type": "code",
   "execution_count": 144,
   "id": "20634fca-1faa-4659-ac2a-7313e6a37670",
   "metadata": {},
   "outputs": [
    {
     "name": "stdout",
     "output_type": "stream",
     "text": [
      "2013 are the last four characters\n"
     ]
    }
   ],
   "source": [
    "print(string_for_slicing[-4:], 'are the last four characters')\n"
   ]
  },
  {
   "cell_type": "code",
   "execution_count": 136,
   "id": "d9c66b38-2b4c-4b96-a106-64db45858892",
   "metadata": {},
   "outputs": [
    {
     "name": "stdout",
     "output_type": "stream",
     "text": [
      " are the last four characters\n"
     ]
    }
   ],
   "source": [
    "print(string_for_slicing[-4:0], 'are the last four characters')"
   ]
  },
  {
   "cell_type": "code",
   "execution_count": 145,
   "id": "0863bf55-0b99-412c-b482-fc113aee5b7c",
   "metadata": {},
   "outputs": [
    {
     "data": {
      "text/plain": [
       "'Obse'"
      ]
     },
     "execution_count": 145,
     "metadata": {},
     "output_type": "execute_result"
    }
   ],
   "source": [
    "string_for_slicing[0:4]"
   ]
  },
  {
   "cell_type": "code",
   "execution_count": 146,
   "id": "2bffd28a-c4a5-463a-94c9-74bec1a5339a",
   "metadata": {},
   "outputs": [
    {
     "data": {
      "text/plain": [
       "'Obse'"
      ]
     },
     "execution_count": 146,
     "metadata": {},
     "output_type": "execute_result"
    }
   ],
   "source": [
    "string_for_slicing[:4]"
   ]
  },
  {
   "cell_type": "code",
   "execution_count": 147,
   "id": "f491144a-bece-4efe-b5c8-7d91aaf7e6ef",
   "metadata": {},
   "outputs": [
    {
     "data": {
      "text/plain": [
       "'2013'"
      ]
     },
     "execution_count": 147,
     "metadata": {},
     "output_type": "execute_result"
    }
   ],
   "source": [
    "string_for_slicing[-4:]"
   ]
  },
  {
   "cell_type": "code",
   "execution_count": 148,
   "id": "db2ed6b2-2bd9-411a-a9e7-aa10f49b647c",
   "metadata": {},
   "outputs": [
    {
     "data": {
      "text/plain": [
       "'201'"
      ]
     },
     "execution_count": 148,
     "metadata": {},
     "output_type": "execute_result"
    }
   ],
   "source": [
    "string_for_slicing[-4:-1]"
   ]
  },
  {
   "cell_type": "code",
   "execution_count": 149,
   "id": "8e68be65-23a5-43a0-b775-0c2d2b978a0d",
   "metadata": {},
   "outputs": [
    {
     "data": {
      "text/plain": [
       "'3'"
      ]
     },
     "execution_count": 149,
     "metadata": {},
     "output_type": "execute_result"
    }
   ],
   "source": [
    "string_for_slicing[-1]"
   ]
  },
  {
   "cell_type": "code",
   "execution_count": 150,
   "id": "5f4e310e-7370-4ac5-b1db-07f15c1426aa",
   "metadata": {},
   "outputs": [
    {
     "data": {
      "text/plain": [
       "'O'"
      ]
     },
     "execution_count": 150,
     "metadata": {},
     "output_type": "execute_result"
    }
   ],
   "source": [
    "string_for_slicing[0]"
   ]
  },
  {
   "cell_type": "code",
   "execution_count": 151,
   "id": "c4472b3d-304c-46af-8eac-f637090b340d",
   "metadata": {},
   "outputs": [],
   "source": [
    "# (exercise) non-continuous slices"
   ]
  },
  {
   "cell_type": "code",
   "execution_count": 152,
   "id": "e2bf627d-ee96-48ed-9bfd-39cfafbd985c",
   "metadata": {},
   "outputs": [],
   "source": [
    "primes = [2, 3, 5, 7, 11, 13, 17, 19, 23, 29, 31, 37]"
   ]
  },
  {
   "cell_type": "code",
   "execution_count": 153,
   "id": "62ee8480-4346-431a-91fb-8e62142bb0da",
   "metadata": {},
   "outputs": [
    {
     "data": {
      "text/plain": [
       "12"
      ]
     },
     "execution_count": 153,
     "metadata": {},
     "output_type": "execute_result"
    }
   ],
   "source": [
    "len(primes)"
   ]
  },
  {
   "cell_type": "code",
   "execution_count": 155,
   "id": "8abc51d9-413a-4502-a190-ea412b4407f4",
   "metadata": {},
   "outputs": [
    {
     "name": "stdout",
     "output_type": "stream",
     "text": [
      "[2, 3, 5, 7, 11, 13, 17, 19, 23, 29, 31, 37]\n"
     ]
    }
   ],
   "source": [
    "subset=primes[0:12]\n",
    "print(subset)"
   ]
  },
  {
   "cell_type": "code",
   "execution_count": 158,
   "id": "3f4a5321-1223-4f22-942b-5b3b725db4ba",
   "metadata": {},
   "outputs": [
    {
     "name": "stdout",
     "output_type": "stream",
     "text": [
      "[2, 7, 17, 29]\n"
     ]
    }
   ],
   "source": [
    "subset=primes[0:12:3] # every third, so it skips two\n",
    "print(subset)"
   ]
  },
  {
   "cell_type": "code",
   "execution_count": 159,
   "id": "9ba236d5-4f5f-4c30-ab3e-50374cdefa1a",
   "metadata": {},
   "outputs": [
    {
     "name": "stdout",
     "output_type": "stream",
     "text": [
      "[5, 13, 23, 37]\n"
     ]
    }
   ],
   "source": [
    "subset=primes[2:12:3]\n",
    "print(subset)"
   ]
  },
  {
   "cell_type": "markdown",
   "id": "3f3054e0-d84c-4e16-befd-9e2477048f57",
   "metadata": {},
   "source": [
    "I really believe it is easier with the first twelve numbers:"
   ]
  },
  {
   "cell_type": "code",
   "execution_count": 160,
   "id": "86242f73-a620-4ced-945c-3c35e0c44bd7",
   "metadata": {},
   "outputs": [],
   "source": [
    "numbers = [1,2,3,4,5,6,7,8,9,10,11,12] "
   ]
  },
  {
   "cell_type": "code",
   "execution_count": 161,
   "id": "8d5def39-ef46-4ccb-b404-36a1db368ab1",
   "metadata": {},
   "outputs": [
    {
     "data": {
      "text/plain": [
       "12"
      ]
     },
     "execution_count": 161,
     "metadata": {},
     "output_type": "execute_result"
    }
   ],
   "source": [
    "len(numbers)"
   ]
  },
  {
   "cell_type": "code",
   "execution_count": 164,
   "id": "57920235-3a17-4963-badb-a885c71f5bf1",
   "metadata": {},
   "outputs": [
    {
     "name": "stdout",
     "output_type": "stream",
     "text": [
      "[1, 2, 3, 4, 5, 6, 7, 8, 9, 10, 11, 12]\n"
     ]
    }
   ],
   "source": [
    "subset=numbers[0:12]\n",
    "print(subset)"
   ]
  },
  {
   "cell_type": "code",
   "execution_count": 165,
   "id": "dcead52e-b999-42f1-8297-f8077ac61f32",
   "metadata": {},
   "outputs": [
    {
     "name": "stdout",
     "output_type": "stream",
     "text": [
      "[1, 4, 7, 10]\n"
     ]
    }
   ],
   "source": [
    "subset=numbers[0:12:3]\n",
    "print(subset)"
   ]
  },
  {
   "cell_type": "code",
   "execution_count": 168,
   "id": "0d477675-8ee7-4908-9c4f-d29bf3c258ef",
   "metadata": {},
   "outputs": [
    {
     "name": "stdout",
     "output_type": "stream",
     "text": [
      "[3, 6, 9, 12] is the subset\n"
     ]
    }
   ],
   "source": [
    "subset=numbers[2:12:3]\n",
    "print(subset, 'is the subset')"
   ]
  },
  {
   "cell_type": "code",
   "execution_count": 179,
   "id": "0bcb5cb1-d25e-4f5d-b1f6-5aa37a3e607a",
   "metadata": {},
   "outputs": [],
   "source": [
    "# beatles' line and slicing strings"
   ]
  },
  {
   "cell_type": "code",
   "execution_count": 180,
   "id": "ada3b556-4d8c-4191-b99a-de37e068076e",
   "metadata": {},
   "outputs": [],
   "source": [
    "beatles=\"In an octopus's garden in the shade\" "
   ]
  },
  {
   "cell_type": "code",
   "execution_count": 181,
   "id": "81422f42-ba7b-40e4-aae5-c809cf33164f",
   "metadata": {},
   "outputs": [
    {
     "data": {
      "text/plain": [
       "35"
      ]
     },
     "execution_count": 181,
     "metadata": {},
     "output_type": "execute_result"
    }
   ],
   "source": [
    "len(beatles)"
   ]
  },
  {
   "cell_type": "code",
   "execution_count": 182,
   "id": "7e3aed0b-08b8-48c8-9168-b88441d7d93a",
   "metadata": {},
   "outputs": [
    {
     "name": "stdout",
     "output_type": "stream",
     "text": [
      "I notpssgre ntesae\n"
     ]
    }
   ],
   "source": [
    "print(beatles[0:35:2])"
   ]
  },
  {
   "cell_type": "code",
   "execution_count": 183,
   "id": "0028fdb2-7b23-4a7b-9c05-0284a9e54a11",
   "metadata": {},
   "outputs": [],
   "source": [
    "# slices from the beginning"
   ]
  },
  {
   "cell_type": "code",
   "execution_count": 184,
   "id": "7ed1808e-9d83-47dc-8d72-c4974f30fbd6",
   "metadata": {},
   "outputs": [
    {
     "name": "stdout",
     "output_type": "stream",
     "text": [
      "I notpssgre ntesae\n"
     ]
    }
   ],
   "source": [
    "print(beatles[:35:2])"
   ]
  },
  {
   "cell_type": "code",
   "execution_count": 185,
   "id": "fde5dad8-c04c-4170-96a7-179eb7b060e7",
   "metadata": {},
   "outputs": [
    {
     "name": "stdout",
     "output_type": "stream",
     "text": [
      "I notpssgre ntesae\n"
     ]
    }
   ],
   "source": [
    "print(beatles[::2])"
   ]
  },
  {
   "cell_type": "code",
   "execution_count": 186,
   "id": "20f975a5-50e1-4dbd-bcc0-55c4f2d5559c",
   "metadata": {},
   "outputs": [
    {
     "name": "stdout",
     "output_type": "stream",
     "text": [
      "I notpssgre ntesa\n"
     ]
    }
   ],
   "source": [
    "print(beatles[:-1:2])"
   ]
  },
  {
   "cell_type": "code",
   "execution_count": 187,
   "id": "c361b375-9aa7-41c7-8e15-f6ccfcf7face",
   "metadata": {},
   "outputs": [],
   "source": [
    "# slice from the beginning"
   ]
  },
  {
   "cell_type": "code",
   "execution_count": 188,
   "id": "7229fb90-6a99-4b9a-84b3-b1e77bfaabd6",
   "metadata": {},
   "outputs": [
    {
     "name": "stdout",
     "output_type": "stream",
     "text": [
      "Monday using 0 to begin the range\n"
     ]
    }
   ],
   "source": [
    "date = 'Monday 4 January 2016'\n",
    "day = date[0:6]\n",
    "print(day, 'using 0 to begin the range')"
   ]
  },
  {
   "cell_type": "code",
   "execution_count": 189,
   "id": "c1f8e7ad-8ccd-4ea3-bcbd-87464dba1a49",
   "metadata": {},
   "outputs": [
    {
     "name": "stdout",
     "output_type": "stream",
     "text": [
      "Monday , omitting the start index\n"
     ]
    }
   ],
   "source": [
    "day = date[:6]\n",
    "print(day, ', omitting the start index')"
   ]
  },
  {
   "cell_type": "code",
   "execution_count": 190,
   "id": "538abe99-ccd2-4644-aca9-71a152b8b855",
   "metadata": {},
   "outputs": [],
   "source": [
    "# the months"
   ]
  },
  {
   "cell_type": "code",
   "execution_count": 191,
   "id": "92473ba4-4d08-4497-b511-57f1d7ed03a5",
   "metadata": {},
   "outputs": [],
   "source": [
    "months = ['jan', 'feb', 'mar', 'apr', 'may', 'jun', 'jul', 'aug', 'sep', 'oct', 'nov', 'dec' ]"
   ]
  },
  {
   "cell_type": "code",
   "execution_count": 192,
   "id": "a5242181-9ed3-470d-a5ba-5ca75db74365",
   "metadata": {},
   "outputs": [
    {
     "name": "stdout",
     "output_type": "stream",
     "text": [
      "['jan', 'feb', 'mar', 'apr', 'may', 'jun', 'jul', 'aug', 'sep', 'oct', 'nov', 'dec']\n"
     ]
    }
   ],
   "source": [
    "print(months)"
   ]
  },
  {
   "cell_type": "code",
   "execution_count": 195,
   "id": "da8adcd6-b080-4241-a12c-6dcedd8efa29",
   "metadata": {},
   "outputs": [
    {
     "name": "stdout",
     "output_type": "stream",
     "text": [
      "['sep', 'oct', 'nov', 'dec'] with explicit end item\n"
     ]
    }
   ],
   "source": [
    "sond = months[8:12] # for sept, oct, nov, dec\n",
    "print(sond, 'with explicit end item')"
   ]
  },
  {
   "cell_type": "code",
   "execution_count": 197,
   "id": "681784e7-3992-4122-a5da-b86c4f894b4a",
   "metadata": {},
   "outputs": [
    {
     "name": "stdout",
     "output_type": "stream",
     "text": [
      "['sep', 'oct', 'nov', 'dec'] with soft-coded end item\n"
     ]
    }
   ],
   "source": [
    "sond = months[8:len(months)]\n",
    "print(sond, 'with soft-coded end item')"
   ]
  },
  {
   "cell_type": "code",
   "execution_count": 198,
   "id": "9b6e237b-fbd7-4380-be02-ab062ebf380c",
   "metadata": {},
   "outputs": [
    {
     "name": "stdout",
     "output_type": "stream",
     "text": [
      "['sep', 'oct', 'nov', 'dec'] omitting the last item\n"
     ]
    }
   ],
   "source": [
    "sond = months[8:]\n",
    "print(sond, 'omitting the last item')"
   ]
  },
  {
   "cell_type": "code",
   "execution_count": 199,
   "id": "71d47674-4a71-4688-938b-1b76ae8ac4c6",
   "metadata": {},
   "outputs": [],
   "source": [
    "# OVERLOADING"
   ]
  },
  {
   "cell_type": "code",
   "execution_count": 200,
   "id": "4a702527-7033-42f6-8cca-7d638528e0b6",
   "metadata": {},
   "outputs": [
    {
     "name": "stdout",
     "output_type": "stream",
     "text": [
      "[1, 2, 3, 4, 5, 6, 7, 8, 9, 10, 11, 12]\n"
     ]
    }
   ],
   "source": [
    "print(numbers)"
   ]
  },
  {
   "cell_type": "code",
   "execution_count": 201,
   "id": "173fbeca-0156-432f-95d0-1b6335e04ec6",
   "metadata": {},
   "outputs": [
    {
     "name": "stdout",
     "output_type": "stream",
     "text": [
      "[1, 2, 3, 4, 5, 6, 7, 8, 9, 10, 11, 12, 1, 2, 3, 4, 5, 6, 7, 8, 9, 10, 11, 12]\n"
     ]
    }
   ],
   "source": [
    "print(numbers * 2)"
   ]
  },
  {
   "cell_type": "code",
   "execution_count": 202,
   "id": "37f02840-948d-462f-9c94-99c8b7eabb22",
   "metadata": {},
   "outputs": [
    {
     "name": "stdout",
     "output_type": "stream",
     "text": [
      "[1, 2, 3, 4, 5, 6, 7, 8, 9, 10, 11, 12, 1, 2, 3, 4, 5, 6, 7, 8, 9, 10, 11, 12, 1, 2, 3, 4, 5, 6, 7, 8, 9, 10, 11, 12]\n"
     ]
    }
   ],
   "source": [
    "print(numbers * 3)"
   ]
  },
  {
   "cell_type": "code",
   "execution_count": 203,
   "id": "308414b0-418f-4093-88d5-69edb173b979",
   "metadata": {},
   "outputs": [
    {
     "data": {
      "text/plain": [
       "list"
      ]
     },
     "execution_count": 203,
     "metadata": {},
     "output_type": "execute_result"
    }
   ],
   "source": [
    "type(numbers)"
   ]
  },
  {
   "cell_type": "code",
   "execution_count": 204,
   "id": "378fe633-3148-4d33-a7a6-0dba8401db89",
   "metadata": {},
   "outputs": [
    {
     "data": {
      "text/plain": [
       "list"
      ]
     },
     "execution_count": 204,
     "metadata": {},
     "output_type": "execute_result"
    }
   ],
   "source": [
    "type(numbers[0:3])"
   ]
  },
  {
   "cell_type": "code",
   "execution_count": 205,
   "id": "b027d11e-d005-4a46-baa1-96f1df59352a",
   "metadata": {},
   "outputs": [
    {
     "data": {
      "text/plain": [
       "int"
      ]
     },
     "execution_count": 205,
     "metadata": {},
     "output_type": "execute_result"
    }
   ],
   "source": [
    "type(numbers[0])"
   ]
  },
  {
   "cell_type": "code",
   "execution_count": 206,
   "id": "de62ea5e-6e30-4674-86de-f9fb11235e4d",
   "metadata": {},
   "outputs": [
    {
     "data": {
      "text/plain": [
       "list"
      ]
     },
     "execution_count": 206,
     "metadata": {},
     "output_type": "execute_result"
    }
   ],
   "source": [
    "type(numbers[0:1])"
   ]
  },
  {
   "cell_type": "code",
   "execution_count": null,
   "id": "e2bf9707-f32f-4934-afc2-f25282f620ee",
   "metadata": {},
   "outputs": [],
   "source": []
  }
 ],
 "metadata": {
  "kernelspec": {
   "display_name": "Python 3 (ipykernel)",
   "language": "python",
   "name": "python3"
  },
  "language_info": {
   "codemirror_mode": {
    "name": "ipython",
    "version": 3
   },
   "file_extension": ".py",
   "mimetype": "text/x-python",
   "name": "python",
   "nbconvert_exporter": "python",
   "pygments_lexer": "ipython3",
   "version": "3.8.16"
  }
 },
 "nbformat": 4,
 "nbformat_minor": 5
}
