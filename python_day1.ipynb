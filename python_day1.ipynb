{
 "cells": [
  {
   "cell_type": "code",
   "execution_count": 3,
   "id": "d30572ec-9a7e-4873-88b7-b47681654a2d",
   "metadata": {},
   "outputs": [
    {
     "data": {
      "text/plain": [
       "24"
      ]
     },
     "execution_count": 3,
     "metadata": {},
     "output_type": "execute_result"
    }
   ],
   "source": [
    "2 + 3 * 6 + 4"
   ]
  },
  {
   "cell_type": "code",
   "execution_count": 4,
   "id": "e7b5bf26-92e4-4b7d-b9f4-a7ab334eaa23",
   "metadata": {},
   "outputs": [],
   "source": [
    "weight_kg = 60"
   ]
  },
  {
   "cell_type": "code",
   "execution_count": 5,
   "id": "c8ca501a-1791-45b7-aeb7-7f100b3403c9",
   "metadata": {},
   "outputs": [
    {
     "ename": "SyntaxError",
     "evalue": "invalid syntax (<ipython-input-5-12d5035ace32>, line 1)",
     "output_type": "error",
     "traceback": [
      "\u001b[0;36m  File \u001b[0;32m\"<ipython-input-5-12d5035ace32>\"\u001b[0;36m, line \u001b[0;32m1\u001b[0m\n\u001b[0;31m    0weight_kg = 60\u001b[0m\n\u001b[0m             ^\u001b[0m\n\u001b[0;31mSyntaxError\u001b[0m\u001b[0;31m:\u001b[0m invalid syntax\n"
     ]
    }
   ],
   "source": [
    "0weight_kg = 60"
   ]
  },
  {
   "cell_type": "code",
   "execution_count": 6,
   "id": "5c556680-ce57-40d2-8b01-f5763d4e0a83",
   "metadata": {},
   "outputs": [
    {
     "data": {
      "text/plain": [
       "int"
      ]
     },
     "execution_count": 6,
     "metadata": {},
     "output_type": "execute_result"
    }
   ],
   "source": [
    "type(weight_kg)"
   ]
  },
  {
   "cell_type": "code",
   "execution_count": 7,
   "id": "dda08cb7-46f1-4590-9e65-4263105a2c82",
   "metadata": {},
   "outputs": [],
   "source": [
    "weight_kg = 60.4"
   ]
  },
  {
   "cell_type": "code",
   "execution_count": 8,
   "id": "f7bf5e56-0767-4c0b-81f7-f7245a861d22",
   "metadata": {},
   "outputs": [
    {
     "data": {
      "text/plain": [
       "float"
      ]
     },
     "execution_count": 8,
     "metadata": {},
     "output_type": "execute_result"
    }
   ],
   "source": [
    "type(weight_kg)"
   ]
  },
  {
   "cell_type": "code",
   "execution_count": 9,
   "id": "fde54f5d-62b5-43a9-96ec-771e5ed77d7b",
   "metadata": {},
   "outputs": [
    {
     "name": "stdout",
     "output_type": "stream",
     "text": [
      "60.4\n"
     ]
    }
   ],
   "source": [
    "print(weight_kg)"
   ]
  },
  {
   "cell_type": "code",
   "execution_count": 10,
   "id": "4aa39b79-c5b3-4e09-82c3-0417bd2383da",
   "metadata": {},
   "outputs": [],
   "source": [
    "weight_lb = 2.2 * weight_kg"
   ]
  },
  {
   "cell_type": "code",
   "execution_count": 11,
   "id": "b67fecef-c204-4b60-840c-76e3de78bfb5",
   "metadata": {},
   "outputs": [
    {
     "name": "stdout",
     "output_type": "stream",
     "text": [
      "132.88\n"
     ]
    }
   ],
   "source": [
    "print(weight_lb)"
   ]
  },
  {
   "cell_type": "code",
   "execution_count": 12,
   "id": "653ef8c6-7f4d-4f7e-a8d0-086579b07469",
   "metadata": {},
   "outputs": [],
   "source": [
    "patient_id = '001'"
   ]
  },
  {
   "cell_type": "code",
   "execution_count": 13,
   "id": "918c55c7-a7ea-4e52-b91f-e103a80a1f65",
   "metadata": {},
   "outputs": [
    {
     "data": {
      "text/plain": [
       "str"
      ]
     },
     "execution_count": 13,
     "metadata": {},
     "output_type": "execute_result"
    }
   ],
   "source": [
    "type(patient_id)"
   ]
  },
  {
   "cell_type": "code",
   "execution_count": 14,
   "id": "5f60ecde-e992-43b0-81b5-8503d467cadd",
   "metadata": {},
   "outputs": [
    {
     "name": "stdout",
     "output_type": "stream",
     "text": [
      "001\n"
     ]
    }
   ],
   "source": [
    "print(patient_id)"
   ]
  },
  {
   "cell_type": "code",
   "execution_count": 15,
   "id": "bfec2abe-b705-4450-a738-19b58c086bbc",
   "metadata": {},
   "outputs": [],
   "source": [
    "patient_id = 'inflam_' + patient_id"
   ]
  },
  {
   "cell_type": "code",
   "execution_count": 16,
   "id": "6b6c33e6-bee6-4cb1-b73d-8340b594b621",
   "metadata": {},
   "outputs": [
    {
     "name": "stdout",
     "output_type": "stream",
     "text": [
      "inflam_001\n"
     ]
    }
   ],
   "source": [
    "print(patient_id)"
   ]
  },
  {
   "cell_type": "code",
   "execution_count": 17,
   "id": "c5e128db-f040-4c01-8d01-309fb1cb60df",
   "metadata": {},
   "outputs": [
    {
     "name": "stdout",
     "output_type": "stream",
     "text": [
      "inflam_001 weight in kilogram: 60.4\n"
     ]
    }
   ],
   "source": [
    "print(patient_id, 'weight in kilogram:', weight_kg) "
   ]
  },
  {
   "cell_type": "code",
   "execution_count": 18,
   "id": "7c03c766-5894-410e-baf6-84ffe580890c",
   "metadata": {},
   "outputs": [
    {
     "data": {
      "text/plain": [
       "int"
      ]
     },
     "execution_count": 18,
     "metadata": {},
     "output_type": "execute_result"
    }
   ],
   "source": [
    "type(56)"
   ]
  },
  {
   "cell_type": "code",
   "execution_count": 19,
   "id": "b2d23d40-1842-4d0d-9e57-9af88fbc876b",
   "metadata": {},
   "outputs": [
    {
     "name": "stdout",
     "output_type": "stream",
     "text": [
      "<class 'int'>\n"
     ]
    }
   ],
   "source": [
    "print(type(56))"
   ]
  },
  {
   "cell_type": "code",
   "execution_count": 20,
   "id": "56df0156-bf45-4f0d-bbeb-93b6e70f4246",
   "metadata": {},
   "outputs": [
    {
     "name": "stdout",
     "output_type": "stream",
     "text": [
      "weight in pound: 132.88\n"
     ]
    }
   ],
   "source": [
    "print('weight in pound:', 2.2 * weight_kg)"
   ]
  },
  {
   "cell_type": "code",
   "execution_count": 21,
   "id": "dd58df4a-7ba2-406e-8043-6b5c9e019dd9",
   "metadata": {},
   "outputs": [],
   "source": [
    "mass = 47.5"
   ]
  },
  {
   "cell_type": "code",
   "execution_count": 22,
   "id": "0b7d7938-f1c3-45c6-a0fc-a446d95da5af",
   "metadata": {},
   "outputs": [
    {
     "name": "stdout",
     "output_type": "stream",
     "text": [
      "47.5\n"
     ]
    }
   ],
   "source": [
    "print(mass)"
   ]
  },
  {
   "cell_type": "code",
   "execution_count": 24,
   "id": "4f77c993-77b7-4d40-b7b0-d19f3e764113",
   "metadata": {},
   "outputs": [
    {
     "name": "stdout",
     "output_type": "stream",
     "text": [
      "122\n"
     ]
    }
   ],
   "source": [
    "print(age)"
   ]
  },
  {
   "cell_type": "code",
   "execution_count": 26,
   "id": "fce90503-dafe-4b52-b9d9-7f143ec6459c",
   "metadata": {},
   "outputs": [
    {
     "name": "stdout",
     "output_type": "stream",
     "text": [
      "47.5 122\n"
     ]
    }
   ],
   "source": [
    "print(mass, age)"
   ]
  },
  {
   "cell_type": "code",
   "execution_count": 27,
   "id": "715ddfa0-b8a5-4eca-a971-02b70ec4d1ff",
   "metadata": {},
   "outputs": [],
   "source": [
    "del(age)"
   ]
  },
  {
   "cell_type": "code",
   "execution_count": 28,
   "id": "6efb49cc-83f5-4419-98a2-6a6be5d7a4dc",
   "metadata": {},
   "outputs": [
    {
     "ename": "NameError",
     "evalue": "name 'age' is not defined",
     "output_type": "error",
     "traceback": [
      "\u001b[0;31m---------------------------------------------------------------------------\u001b[0m",
      "\u001b[0;31mNameError\u001b[0m                                 Traceback (most recent call last)",
      "\u001b[0;32m<ipython-input-28-5f7a7c5b2c60>\u001b[0m in \u001b[0;36m<module>\u001b[0;34m\u001b[0m\n\u001b[0;32m----> 1\u001b[0;31m \u001b[0mprint\u001b[0m\u001b[0;34m(\u001b[0m\u001b[0mage\u001b[0m\u001b[0;34m)\u001b[0m\u001b[0;34m\u001b[0m\u001b[0;34m\u001b[0m\u001b[0m\n\u001b[0m",
      "\u001b[0;31mNameError\u001b[0m: name 'age' is not defined"
     ]
    }
   ],
   "source": [
    "print(age)"
   ]
  },
  {
   "cell_type": "code",
   "execution_count": 29,
   "id": "732069b0-fa0b-46b4-9482-4d8bb547e281",
   "metadata": {},
   "outputs": [],
   "source": [
    "first, second = 'Grace', 'Hopper'"
   ]
  },
  {
   "cell_type": "code",
   "execution_count": 30,
   "id": "3c97ca34-3173-4eb4-b23f-c7d82be030cc",
   "metadata": {},
   "outputs": [
    {
     "name": "stdout",
     "output_type": "stream",
     "text": [
      "Grace\n",
      "Hopper\n"
     ]
    }
   ],
   "source": [
    "print(first)\n",
    "print(second)"
   ]
  },
  {
   "cell_type": "code",
   "execution_count": 31,
   "id": "724942a7-641c-4de0-9678-2f63f74af0e9",
   "metadata": {},
   "outputs": [
    {
     "name": "stdout",
     "output_type": "stream",
     "text": [
      "Grace\n",
      "Hopper\n",
      "Grace Grace\n"
     ]
    }
   ],
   "source": [
    "third, fourth = first, second\n",
    "print(third)\n",
    "print(fourth)\n",
    "print(first, third)"
   ]
  },
  {
   "cell_type": "code",
   "execution_count": 32,
   "id": "8f0e65c4-d65b-4ed1-959d-68bcf91a7a87",
   "metadata": {},
   "outputs": [],
   "source": [
    "planet = 'Earth'\n",
    "apples = 5\n",
    "distance = 10.5"
   ]
  },
  {
   "cell_type": "code",
   "execution_count": 33,
   "id": "cd49105e-f27e-4db7-8900-8c4fbab4a7b9",
   "metadata": {},
   "outputs": [
    {
     "data": {
      "text/plain": [
       "float"
      ]
     },
     "execution_count": 33,
     "metadata": {},
     "output_type": "execute_result"
    }
   ],
   "source": [
    "type(planet)\n",
    "type(apples)\n",
    "type(distance)"
   ]
  },
  {
   "cell_type": "code",
   "execution_count": 34,
   "id": "c5a314e0-8ff0-461b-a280-18426da5702b",
   "metadata": {},
   "outputs": [
    {
     "name": "stdout",
     "output_type": "stream",
     "text": [
      "Earth\n",
      "5\n",
      "10.5\n"
     ]
    }
   ],
   "source": [
    "print(planet)\n",
    "print(apples)\n",
    "print(distance)"
   ]
  },
  {
   "cell_type": "code",
   "execution_count": 36,
   "id": "4b70f894-76da-42cb-9eb4-865100048c41",
   "metadata": {},
   "outputs": [
    {
     "data": {
      "text/plain": [
       "tuple"
      ]
     },
     "execution_count": 36,
     "metadata": {},
     "output_type": "execute_result"
    }
   ],
   "source": [
    "type((planet, apples, distance))"
   ]
  },
  {
   "cell_type": "code",
   "execution_count": 37,
   "id": "56b55236-73fe-4371-963e-d7394b4691d2",
   "metadata": {},
   "outputs": [
    {
     "name": "stdout",
     "output_type": "stream",
     "text": [
      "<class 'str'> <class 'int'> <class 'float'>\n"
     ]
    }
   ],
   "source": [
    "print(type(planet), type(apples), type(distance))"
   ]
  },
  {
   "cell_type": "code",
   "execution_count": 38,
   "id": "50e1ec6d-9841-4838-a0c5-ee9f2a4dde57",
   "metadata": {},
   "outputs": [],
   "source": [
    "# LISTS"
   ]
  },
  {
   "cell_type": "code",
   "execution_count": 39,
   "id": "43d06230-becb-450d-8035-593e6aa5b2c9",
   "metadata": {},
   "outputs": [],
   "source": [
    "odds = [1, 3, 5, 7]"
   ]
  },
  {
   "cell_type": "code",
   "execution_count": 40,
   "id": "68464c07-2dce-4ae1-97d9-13e7679dfe2a",
   "metadata": {},
   "outputs": [
    {
     "data": {
      "text/plain": [
       "list"
      ]
     },
     "execution_count": 40,
     "metadata": {},
     "output_type": "execute_result"
    }
   ],
   "source": [
    "type(odds)"
   ]
  },
  {
   "cell_type": "code",
   "execution_count": 41,
   "id": "65d859cf-1748-441d-b298-5304370643f5",
   "metadata": {},
   "outputs": [
    {
     "name": "stdout",
     "output_type": "stream",
     "text": [
      "odds are: [1, 3, 5, 7]\n"
     ]
    }
   ],
   "source": [
    "print('odds are:', odds)"
   ]
  },
  {
   "cell_type": "code",
   "execution_count": 42,
   "id": "d32626ea-33a0-4733-addb-23c784ba171d",
   "metadata": {},
   "outputs": [
    {
     "name": "stdout",
     "output_type": "stream",
     "text": [
      "first element is: 1\n"
     ]
    }
   ],
   "source": [
    "print('first element is:', odds[0])"
   ]
  },
  {
   "cell_type": "code",
   "execution_count": 43,
   "id": "01ea7c70-e491-476d-a8f3-1f8646b49cc8",
   "metadata": {},
   "outputs": [
    {
     "name": "stdout",
     "output_type": "stream",
     "text": [
      "ĺast element is: 7\n"
     ]
    }
   ],
   "source": [
    "print('ĺast element is:', odds[3]) "
   ]
  },
  {
   "cell_type": "code",
   "execution_count": 45,
   "id": "cc1cb469-ebe1-4fcd-92cd-31a3a7c920c0",
   "metadata": {},
   "outputs": [
    {
     "name": "stdout",
     "output_type": "stream",
     "text": [
      "which element is: 5 ?\n"
     ]
    }
   ],
   "source": [
    "print('which element is:', odds[-2], '?')"
   ]
  },
  {
   "cell_type": "code",
   "execution_count": 46,
   "id": "a17f8b7a-5ee0-4dae-82c1-a45556b30f67",
   "metadata": {},
   "outputs": [],
   "source": [
    "names = [ 'Curie', 'Darwing', 'Turing' ]"
   ]
  },
  {
   "cell_type": "code",
   "execution_count": 47,
   "id": "a32b329a-6629-459c-8169-a01702b9b2c1",
   "metadata": {},
   "outputs": [
    {
     "data": {
      "text/plain": [
       "list"
      ]
     },
     "execution_count": 47,
     "metadata": {},
     "output_type": "execute_result"
    }
   ],
   "source": [
    "type(names)"
   ]
  },
  {
   "cell_type": "code",
   "execution_count": 48,
   "id": "d9294659-2e4a-4a74-8397-785c31d19da8",
   "metadata": {},
   "outputs": [
    {
     "data": {
      "text/plain": [
       "str"
      ]
     },
     "execution_count": 48,
     "metadata": {},
     "output_type": "execute_result"
    }
   ],
   "source": [
    "type(names[0])"
   ]
  },
  {
   "cell_type": "code",
   "execution_count": 49,
   "id": "126ca72d-e5f7-45d1-aa57-64e79f618640",
   "metadata": {},
   "outputs": [],
   "source": [
    "names[1] = 'Darwin'"
   ]
  },
  {
   "cell_type": "code",
   "execution_count": 50,
   "id": "cd912f18-0819-4d52-9a1b-64b5620d7417",
   "metadata": {},
   "outputs": [
    {
     "name": "stdout",
     "output_type": "stream",
     "text": [
      "['Curie', 'Darwin', 'Turing']\n"
     ]
    }
   ],
   "source": [
    "print(names)"
   ]
  },
  {
   "cell_type": "code",
   "execution_count": 51,
   "id": "ad46e616-dd2b-4a3b-bcbe-b94c32c6a31a",
   "metadata": {},
   "outputs": [],
   "source": [
    "mixed = [ 1, 'one']"
   ]
  },
  {
   "cell_type": "code",
   "execution_count": 52,
   "id": "7c6ef730-62ba-4696-afb4-e7251bf88aaa",
   "metadata": {},
   "outputs": [],
   "source": [
    "mild_salsa = ['peppers', 'onions', 'cilantro', 'tomatoes']"
   ]
  },
  {
   "cell_type": "code",
   "execution_count": 53,
   "id": "1f12f1a6-b2ee-48be-b155-ebcbff888cbb",
   "metadata": {},
   "outputs": [],
   "source": [
    "hot_salsa = mild_salsa"
   ]
  },
  {
   "cell_type": "code",
   "execution_count": 54,
   "id": "9e3acc6d-e873-4bf4-9a48-3007507d93f1",
   "metadata": {},
   "outputs": [],
   "source": [
    "hot_salsa[0] = 'red hot chili peppers'"
   ]
  },
  {
   "cell_type": "code",
   "execution_count": 55,
   "id": "9eae1be7-4720-4f80-a3bb-8a6d61917e5b",
   "metadata": {},
   "outputs": [
    {
     "name": "stdout",
     "output_type": "stream",
     "text": [
      "ingredients in hot salsa: ['red hot chili peppers', 'onions', 'cilantro', 'tomatoes']\n"
     ]
    }
   ],
   "source": [
    "print('ingredients in hot salsa:', hot_salsa)"
   ]
  },
  {
   "cell_type": "code",
   "execution_count": 56,
   "id": "b0ff4349-55ba-4e7b-9764-34b813de1f81",
   "metadata": {},
   "outputs": [
    {
     "name": "stdout",
     "output_type": "stream",
     "text": [
      "ingredients in mild salsa: ['red hot chili peppers', 'onions', 'cilantro', 'tomatoes']\n"
     ]
    }
   ],
   "source": [
    "print('ingredients in mild salsa:', mild_salsa)"
   ]
  },
  {
   "cell_type": "code",
   "execution_count": 57,
   "id": "9c569bdf-86a7-47b0-a833-735aa6c1f17d",
   "metadata": {},
   "outputs": [],
   "source": [
    "mild_salsa[0] = 'peppers'"
   ]
  },
  {
   "cell_type": "code",
   "execution_count": 58,
   "id": "04b9d3f5-d4b1-409f-ae2c-ea2c8a9b1ed1",
   "metadata": {},
   "outputs": [
    {
     "name": "stdout",
     "output_type": "stream",
     "text": [
      "['peppers', 'onions', 'cilantro', 'tomatoes']\n"
     ]
    }
   ],
   "source": [
    "print(hot_salsa)"
   ]
  },
  {
   "cell_type": "code",
   "execution_count": 59,
   "id": "daf57bd7-3574-4039-97d4-9c8100469d80",
   "metadata": {},
   "outputs": [],
   "source": [
    "hot_salsa = list(mild_salsa)"
   ]
  },
  {
   "cell_type": "code",
   "execution_count": 60,
   "id": "fff6142b-1a48-42b5-a8ec-a39f89ca089e",
   "metadata": {},
   "outputs": [],
   "source": [
    "hot_salsa[0] = 'hot peppers'"
   ]
  },
  {
   "cell_type": "code",
   "execution_count": 61,
   "id": "0e34f341-59b4-42b5-b537-36bb55915214",
   "metadata": {},
   "outputs": [
    {
     "name": "stdout",
     "output_type": "stream",
     "text": [
      "['hot peppers', 'onions', 'cilantro', 'tomatoes']\n"
     ]
    }
   ],
   "source": [
    "print(hot_salsa)"
   ]
  },
  {
   "cell_type": "code",
   "execution_count": 62,
   "id": "9e92339a-f290-41e7-ad84-3eb2e970f8fb",
   "metadata": {},
   "outputs": [
    {
     "name": "stdout",
     "output_type": "stream",
     "text": [
      "['peppers', 'onions', 'cilantro', 'tomatoes']\n"
     ]
    }
   ],
   "source": [
    "print(mild_salsa)"
   ]
  },
  {
   "cell_type": "code",
   "execution_count": 63,
   "id": "bc94fb2c-f3e7-4d4f-8914-1b45e6266da8",
   "metadata": {},
   "outputs": [],
   "source": [
    " a = 10"
   ]
  },
  {
   "cell_type": "code",
   "execution_count": 64,
   "id": "3f6dfe7f-e930-44a7-ab72-0631bbc6a554",
   "metadata": {},
   "outputs": [],
   "source": [
    "b = a"
   ]
  },
  {
   "cell_type": "code",
   "execution_count": 65,
   "id": "dd259c9e-6071-40cd-9e01-aeb3a17fe9d1",
   "metadata": {},
   "outputs": [],
   "source": [
    "b = 5.0"
   ]
  },
  {
   "cell_type": "code",
   "execution_count": 66,
   "id": "615f2caa-900b-41f4-adea-64db3d89bbac",
   "metadata": {},
   "outputs": [
    {
     "name": "stdout",
     "output_type": "stream",
     "text": [
      "10\n"
     ]
    }
   ],
   "source": [
    "print(a)"
   ]
  },
  {
   "cell_type": "code",
   "execution_count": 67,
   "id": "03d4ace6-9d8f-4c9a-99b5-d85597cd9f12",
   "metadata": {},
   "outputs": [
    {
     "name": "stdout",
     "output_type": "stream",
     "text": [
      "5.0\n"
     ]
    }
   ],
   "source": [
    "print(b)"
   ]
  },
  {
   "cell_type": "code",
   "execution_count": 68,
   "id": "e643749d-26f1-486c-a4c0-6e8e7a3aa90d",
   "metadata": {},
   "outputs": [
    {
     "ename": "NameError",
     "evalue": "name 'c' is not defined",
     "output_type": "error",
     "traceback": [
      "\u001b[0;31m---------------------------------------------------------------------------\u001b[0m",
      "\u001b[0;31mNameError\u001b[0m                                 Traceback (most recent call last)",
      "\u001b[0;32m<ipython-input-68-3d545c3f2016>\u001b[0m in \u001b[0;36m<module>\u001b[0;34m\u001b[0m\n\u001b[0;32m----> 1\u001b[0;31m \u001b[0mnested_list\u001b[0m \u001b[0;34m=\u001b[0m \u001b[0;34m[\u001b[0m\u001b[0;34m[\u001b[0m\u001b[0ma\u001b[0m\u001b[0;34m,\u001b[0m \u001b[0mb\u001b[0m\u001b[0;34m,\u001b[0m \u001b[0mc\u001b[0m\u001b[0;34m]\u001b[0m\u001b[0;34m,\u001b[0m \u001b[0;34m[\u001b[0m\u001b[0mi\u001b[0m\u001b[0;34m,\u001b[0m \u001b[0mj\u001b[0m\u001b[0;34m,\u001b[0m \u001b[0mk\u001b[0m\u001b[0;34m]\u001b[0m\u001b[0;34m,\u001b[0m \u001b[0;34m[\u001b[0m\u001b[0mx\u001b[0m\u001b[0;34m,\u001b[0m \u001b[0my\u001b[0m\u001b[0;34m,\u001b[0m \u001b[0mz\u001b[0m\u001b[0;34m]\u001b[0m\u001b[0;34m]\u001b[0m\u001b[0;34m\u001b[0m\u001b[0;34m\u001b[0m\u001b[0m\n\u001b[0m",
      "\u001b[0;31mNameError\u001b[0m: name 'c' is not defined"
     ]
    }
   ],
   "source": [
    "nested_list = [['a', b, c], [i, j, k], [x, y, z]]"
   ]
  },
  {
   "cell_type": "code",
   "execution_count": null,
   "id": "8ea89c13-ba99-4124-a0bb-09d2052f9aee",
   "metadata": {},
   "outputs": [],
   "source": []
  }
 ],
 "metadata": {
  "kernelspec": {
   "display_name": "Python 3",
   "language": "python",
   "name": "python3"
  },
  "language_info": {
   "codemirror_mode": {
    "name": "ipython",
    "version": 3
   },
   "file_extension": ".py",
   "mimetype": "text/x-python",
   "name": "python",
   "nbconvert_exporter": "python",
   "pygments_lexer": "ipython3",
   "version": "3.7.13"
  }
 },
 "nbformat": 4,
 "nbformat_minor": 5
}
