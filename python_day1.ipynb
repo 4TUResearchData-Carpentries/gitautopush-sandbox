{
 "cells": [
  {
   "cell_type": "code",
   "execution_count": 2,
   "id": "d30572ec-9a7e-4873-88b7-b47681654a2d",
   "metadata": {},
   "outputs": [
    {
     "data": {
      "text/plain": [
       "20"
      ]
     },
     "execution_count": 2,
     "metadata": {},
     "output_type": "execute_result"
    }
   ],
   "source": [
    "2 + 3 * 6 + 4"
   ]
  },
  {
   "cell_type": "code",
   "execution_count": null,
   "id": "e7b5bf26-92e4-4b7d-b9f4-a7ab334eaa23",
   "metadata": {},
   "outputs": [],
   "source": []
  }
 ],
 "metadata": {
  "kernelspec": {
   "display_name": "Python 3",
   "language": "python",
   "name": "python3"
  },
  "language_info": {
   "codemirror_mode": {
    "name": "ipython",
    "version": 3
   },
   "file_extension": ".py",
   "mimetype": "text/x-python",
   "name": "python",
   "nbconvert_exporter": "python",
   "pygments_lexer": "ipython3",
   "version": "3.7.13"
  }
 },
 "nbformat": 4,
 "nbformat_minor": 5
}
