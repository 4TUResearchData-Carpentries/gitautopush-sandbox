{
 "cells": [
  {
   "cell_type": "markdown",
   "id": "2eeb91ee-71e1-4ca1-9585-791a477952ce",
   "metadata": {},
   "source": [
    "## Variables"
   ]
  },
  {
   "cell_type": "code",
   "execution_count": 1,
   "id": "9a3398cc-794b-4d02-95b6-2c44080e497f",
   "metadata": {
    "tags": []
   },
   "outputs": [
    {
     "data": {
      "text/plain": [
       "23"
      ]
     },
     "execution_count": 1,
     "metadata": {},
     "output_type": "execute_result"
    }
   ],
   "source": [
    "3+5*4"
   ]
  },
  {
   "cell_type": "code",
   "execution_count": 9,
   "id": "547e9752-dec9-4a39-8751-a15ffce6c531",
   "metadata": {
    "tags": []
   },
   "outputs": [],
   "source": [
    "weight_kg=60"
   ]
  },
  {
   "cell_type": "code",
   "execution_count": 3,
   "id": "b9b085dd-42c2-4bcb-a67a-730ebda60591",
   "metadata": {
    "tags": []
   },
   "outputs": [],
   "source": [
    "weig6_=10"
   ]
  },
  {
   "cell_type": "code",
   "execution_count": 4,
   "id": "46b1d55f-32c0-4d40-8778-f9e620020041",
   "metadata": {
    "tags": []
   },
   "outputs": [
    {
     "ename": "SyntaxError",
     "evalue": "invalid decimal literal (2998321253.py, line 1)",
     "output_type": "error",
     "traceback": [
      "\u001b[1;36m  Cell \u001b[1;32mIn[4], line 1\u001b[1;36m\u001b[0m\n\u001b[1;33m    6weight\u001b[0m\n\u001b[1;37m    ^\u001b[0m\n\u001b[1;31mSyntaxError\u001b[0m\u001b[1;31m:\u001b[0m invalid decimal literal\n"
     ]
    }
   ],
   "source": [
    "6weight"
   ]
  },
  {
   "cell_type": "code",
   "execution_count": 5,
   "id": "0f4688ad-b3f5-4f42-9c0d-551ec080665e",
   "metadata": {
    "tags": []
   },
   "outputs": [
    {
     "ename": "NameError",
     "evalue": "name 'Weight_kg' is not defined",
     "output_type": "error",
     "traceback": [
      "\u001b[1;31m---------------------------------------------------------------------------\u001b[0m",
      "\u001b[1;31mNameError\u001b[0m                                 Traceback (most recent call last)",
      "Cell \u001b[1;32mIn[5], line 1\u001b[0m\n\u001b[1;32m----> 1\u001b[0m Weight_kg\n",
      "\u001b[1;31mNameError\u001b[0m: name 'Weight_kg' is not defined"
     ]
    }
   ],
   "source": [
    "Weight_kg"
   ]
  },
  {
   "cell_type": "code",
   "execution_count": 6,
   "id": "ae6415cc-cda6-46c4-af48-afcfaf50b060",
   "metadata": {
    "tags": []
   },
   "outputs": [],
   "source": [
    "weight_kg=60.3"
   ]
  },
  {
   "cell_type": "code",
   "execution_count": 7,
   "id": "7d233683-ccf3-409d-9b54-04e5af22ba11",
   "metadata": {
    "tags": []
   },
   "outputs": [],
   "source": [
    "patient_id=\"001\""
   ]
  },
  {
   "cell_type": "code",
   "execution_count": 8,
   "id": "57a90bc0-d7e3-4318-b83b-28b824e922bf",
   "metadata": {
    "tags": []
   },
   "outputs": [
    {
     "data": {
      "text/plain": [
       "'001'"
      ]
     },
     "execution_count": 8,
     "metadata": {},
     "output_type": "execute_result"
    }
   ],
   "source": [
    "patient_id"
   ]
  },
  {
   "cell_type": "code",
   "execution_count": 10,
   "id": "cf0fe560-c3c2-4c7b-ad0a-9ce2400c1b54",
   "metadata": {
    "tags": []
   },
   "outputs": [],
   "source": [
    "weight_lb=2.2*weight_kg"
   ]
  },
  {
   "cell_type": "code",
   "execution_count": 11,
   "id": "ea81ecf4-7b15-45c5-9424-18b96a904b30",
   "metadata": {
    "tags": []
   },
   "outputs": [
    {
     "data": {
      "text/plain": [
       "132.0"
      ]
     },
     "execution_count": 11,
     "metadata": {},
     "output_type": "execute_result"
    }
   ],
   "source": [
    "weight_lb"
   ]
  },
  {
   "cell_type": "code",
   "execution_count": 12,
   "id": "cf05f48c-0b5d-479a-8257-f18d272981df",
   "metadata": {
    "tags": []
   },
   "outputs": [],
   "source": [
    "patient_id=\"inflam\"+patient_id"
   ]
  },
  {
   "cell_type": "code",
   "execution_count": 13,
   "id": "bef96e4c-4ef8-4383-9988-e2da2a5d3fef",
   "metadata": {
    "tags": []
   },
   "outputs": [
    {
     "data": {
      "text/plain": [
       "'inflam001'"
      ]
     },
     "execution_count": 13,
     "metadata": {},
     "output_type": "execute_result"
    }
   ],
   "source": [
    "patient_id"
   ]
  },
  {
   "cell_type": "code",
   "execution_count": 14,
   "id": "9780a3c5-899e-4d67-9725-4f723fcc9763",
   "metadata": {
    "tags": []
   },
   "outputs": [
    {
     "name": "stdout",
     "output_type": "stream",
     "text": [
      "inflam001\n"
     ]
    }
   ],
   "source": [
    "print(patient_id)"
   ]
  },
  {
   "cell_type": "code",
   "execution_count": 15,
   "id": "08210ce5-5d5f-4d64-8046-8e69e05ad816",
   "metadata": {
    "tags": []
   },
   "outputs": [
    {
     "name": "stdout",
     "output_type": "stream",
     "text": [
      "132.0\n"
     ]
    }
   ],
   "source": [
    "print(weight_lb)"
   ]
  },
  {
   "cell_type": "code",
   "execution_count": 16,
   "id": "c43c3505-51c0-49b0-9fac-d2f07ce07203",
   "metadata": {
    "tags": []
   },
   "outputs": [
    {
     "name": "stdout",
     "output_type": "stream",
     "text": [
      "inflam001 weight in kg: 60\n"
     ]
    }
   ],
   "source": [
    "print(patient_id,\"weight in kg:\",weight_kg)"
   ]
  },
  {
   "cell_type": "code",
   "execution_count": 17,
   "id": "f8ea7bd7-6542-45f0-b9a6-2f52edaa8a68",
   "metadata": {
    "tags": []
   },
   "outputs": [
    {
     "data": {
      "text/plain": [
       "str"
      ]
     },
     "execution_count": 17,
     "metadata": {},
     "output_type": "execute_result"
    }
   ],
   "source": [
    "type(patient_id)"
   ]
  },
  {
   "cell_type": "code",
   "execution_count": 18,
   "id": "633639e4-363a-4655-9b6e-89de930c803f",
   "metadata": {
    "tags": []
   },
   "outputs": [
    {
     "data": {
      "text/plain": [
       "int"
      ]
     },
     "execution_count": 18,
     "metadata": {},
     "output_type": "execute_result"
    }
   ],
   "source": [
    "type(weight_kg)"
   ]
  },
  {
   "cell_type": "code",
   "execution_count": 19,
   "id": "c074055b-a7c4-446c-8274-4b02c8c89f7f",
   "metadata": {
    "tags": []
   },
   "outputs": [
    {
     "data": {
      "text/plain": [
       "float"
      ]
     },
     "execution_count": 19,
     "metadata": {},
     "output_type": "execute_result"
    }
   ],
   "source": [
    "type(weight_lb)"
   ]
  },
  {
   "cell_type": "code",
   "execution_count": 21,
   "id": "b009d308-0f29-4c6f-aeba-8655553cda65",
   "metadata": {
    "tags": []
   },
   "outputs": [
    {
     "name": "stdout",
     "output_type": "stream",
     "text": [
      "<class 'int'>\n"
     ]
    }
   ],
   "source": [
    "print(type(weight_kg))#print the type of weight_kg"
   ]
  },
  {
   "cell_type": "markdown",
   "id": "a5192f25-0b60-4247-b980-0e9b180bd287",
   "metadata": {},
   "source": [
    "## Lists "
   ]
  },
  {
   "cell_type": "code",
   "execution_count": 22,
   "id": "a46d3854-3ef9-43f6-9406-144c194dae8e",
   "metadata": {
    "tags": []
   },
   "outputs": [],
   "source": [
    "odds=[1,3,5,7]"
   ]
  },
  {
   "cell_type": "code",
   "execution_count": 23,
   "id": "48baf64f-0d0a-4b7b-8fe8-66d4c2766f5a",
   "metadata": {
    "tags": []
   },
   "outputs": [
    {
     "name": "stdout",
     "output_type": "stream",
     "text": [
      "the first element: 1\n"
     ]
    }
   ],
   "source": [
    "print(\"the first element:\",odds[0])"
   ]
  },
  {
   "cell_type": "code",
   "execution_count": 24,
   "id": "2d75c299-40dd-4050-bd66-931eb63d09bb",
   "metadata": {
    "tags": []
   },
   "outputs": [
    {
     "name": "stdout",
     "output_type": "stream",
     "text": [
      "the second element: 3\n"
     ]
    }
   ],
   "source": [
    "print(\"the second element:\",odds[1])"
   ]
  },
  {
   "cell_type": "code",
   "execution_count": 25,
   "id": "a6ba58f4-ad87-4842-a4ee-56f7b79237f6",
   "metadata": {
    "tags": []
   },
   "outputs": [
    {
     "name": "stdout",
     "output_type": "stream",
     "text": [
      "the last element: 7\n"
     ]
    }
   ],
   "source": [
    "print(\"the last element:\",odds[3])"
   ]
  },
  {
   "cell_type": "code",
   "execution_count": 26,
   "id": "f0ecc2c8-9361-46a1-a30f-034428c980bf",
   "metadata": {
    "tags": []
   },
   "outputs": [
    {
     "name": "stdout",
     "output_type": "stream",
     "text": [
      "the last element: 7\n"
     ]
    }
   ],
   "source": [
    "print(\"the last element:\",odds[-1])"
   ]
  },
  {
   "cell_type": "code",
   "execution_count": 27,
   "id": "a2a18f04-f715-42a0-be3b-0cd144836713",
   "metadata": {
    "tags": []
   },
   "outputs": [],
   "source": [
    "veg=[[\"lettuce\",\"tomato\",\"peppers\"],[\"cucumber\"],[\"cilantro\",\"zucchini\"]]"
   ]
  },
  {
   "cell_type": "code",
   "execution_count": 29,
   "id": "e848260f-1765-4ad5-851c-1c6a315cd40a",
   "metadata": {
    "tags": []
   },
   "outputs": [
    {
     "data": {
      "text/plain": [
       "'lettuce'"
      ]
     },
     "execution_count": 29,
     "metadata": {},
     "output_type": "execute_result"
    }
   ],
   "source": [
    "veg[0][0]"
   ]
  },
  {
   "cell_type": "code",
   "execution_count": 31,
   "id": "e695ddd4-6bf9-4532-bb4c-b5a863fbc738",
   "metadata": {
    "tags": []
   },
   "outputs": [
    {
     "data": {
      "text/plain": [
       "'cucumber'"
      ]
     },
     "execution_count": 31,
     "metadata": {},
     "output_type": "execute_result"
    }
   ],
   "source": [
    "veg[1][0]"
   ]
  },
  {
   "cell_type": "code",
   "execution_count": null,
   "id": "515cb2e1-9430-4dac-be36-041997563352",
   "metadata": {},
   "outputs": [],
   "source": [
    "veg[]"
   ]
  }
 ],
 "metadata": {
  "kernelspec": {
   "display_name": "Python 3 (ipykernel)",
   "language": "python",
   "name": "python3"
  },
  "language_info": {
   "codemirror_mode": {
    "name": "ipython",
    "version": 3
   },
   "file_extension": ".py",
   "mimetype": "text/x-python",
   "name": "python",
   "nbconvert_exporter": "python",
   "pygments_lexer": "ipython3",
   "version": "3.11.5"
  }
 },
 "nbformat": 4,
 "nbformat_minor": 5
}
