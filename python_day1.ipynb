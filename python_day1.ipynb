{
 "cells": [
  {
   "cell_type": "markdown",
   "id": "2eeb91ee-71e1-4ca1-9585-791a477952ce",
   "metadata": {},
   "source": [
    "## Variables"
   ]
  },
  {
   "cell_type": "code",
   "execution_count": 1,
   "id": "9a3398cc-794b-4d02-95b6-2c44080e497f",
   "metadata": {
    "tags": []
   },
   "outputs": [
    {
     "data": {
      "text/plain": [
       "23"
      ]
     },
     "execution_count": 1,
     "metadata": {},
     "output_type": "execute_result"
    }
   ],
   "source": [
    "3+5*4"
   ]
  },
  {
   "cell_type": "code",
   "execution_count": 9,
   "id": "547e9752-dec9-4a39-8751-a15ffce6c531",
   "metadata": {
    "tags": []
   },
   "outputs": [],
   "source": [
    "weight_kg=60"
   ]
  },
  {
   "cell_type": "code",
   "execution_count": 3,
   "id": "b9b085dd-42c2-4bcb-a67a-730ebda60591",
   "metadata": {
    "tags": []
   },
   "outputs": [],
   "source": [
    "weig6_=10"
   ]
  },
  {
   "cell_type": "code",
   "execution_count": 4,
   "id": "46b1d55f-32c0-4d40-8778-f9e620020041",
   "metadata": {
    "tags": []
   },
   "outputs": [
    {
     "ename": "SyntaxError",
     "evalue": "invalid decimal literal (2998321253.py, line 1)",
     "output_type": "error",
     "traceback": [
      "\u001b[1;36m  Cell \u001b[1;32mIn[4], line 1\u001b[1;36m\u001b[0m\n\u001b[1;33m    6weight\u001b[0m\n\u001b[1;37m    ^\u001b[0m\n\u001b[1;31mSyntaxError\u001b[0m\u001b[1;31m:\u001b[0m invalid decimal literal\n"
     ]
    }
   ],
   "source": [
    "6weight"
   ]
  },
  {
   "cell_type": "code",
   "execution_count": 5,
   "id": "0f4688ad-b3f5-4f42-9c0d-551ec080665e",
   "metadata": {
    "tags": []
   },
   "outputs": [
    {
     "ename": "NameError",
     "evalue": "name 'Weight_kg' is not defined",
     "output_type": "error",
     "traceback": [
      "\u001b[1;31m---------------------------------------------------------------------------\u001b[0m",
      "\u001b[1;31mNameError\u001b[0m                                 Traceback (most recent call last)",
      "Cell \u001b[1;32mIn[5], line 1\u001b[0m\n\u001b[1;32m----> 1\u001b[0m Weight_kg\n",
      "\u001b[1;31mNameError\u001b[0m: name 'Weight_kg' is not defined"
     ]
    }
   ],
   "source": [
    "Weight_kg"
   ]
  },
  {
   "cell_type": "code",
   "execution_count": 6,
   "id": "ae6415cc-cda6-46c4-af48-afcfaf50b060",
   "metadata": {
    "tags": []
   },
   "outputs": [],
   "source": [
    "weight_kg=60.3"
   ]
  },
  {
   "cell_type": "code",
   "execution_count": 7,
   "id": "7d233683-ccf3-409d-9b54-04e5af22ba11",
   "metadata": {
    "tags": []
   },
   "outputs": [],
   "source": [
    "patient_id=\"001\""
   ]
  },
  {
   "cell_type": "code",
   "execution_count": 8,
   "id": "57a90bc0-d7e3-4318-b83b-28b824e922bf",
   "metadata": {
    "tags": []
   },
   "outputs": [
    {
     "data": {
      "text/plain": [
       "'001'"
      ]
     },
     "execution_count": 8,
     "metadata": {},
     "output_type": "execute_result"
    }
   ],
   "source": [
    "patient_id"
   ]
  }
 ],
 "metadata": {
  "kernelspec": {
   "display_name": "Python 3 (ipykernel)",
   "language": "python",
   "name": "python3"
  },
  "language_info": {
   "codemirror_mode": {
    "name": "ipython",
    "version": 3
   },
   "file_extension": ".py",
   "mimetype": "text/x-python",
   "name": "python",
   "nbconvert_exporter": "python",
   "pygments_lexer": "ipython3",
   "version": "3.11.5"
  }
 },
 "nbformat": 4,
 "nbformat_minor": 5
}
