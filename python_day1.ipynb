{
 "cells": [
  {
   "cell_type": "code",
   "execution_count": 3,
   "id": "d30572ec-9a7e-4873-88b7-b47681654a2d",
   "metadata": {},
   "outputs": [
    {
     "data": {
      "text/plain": [
       "24"
      ]
     },
     "execution_count": 3,
     "metadata": {},
     "output_type": "execute_result"
    }
   ],
   "source": [
    "2 + 3 * 6 + 4"
   ]
  },
  {
   "cell_type": "code",
   "execution_count": 4,
   "id": "e7b5bf26-92e4-4b7d-b9f4-a7ab334eaa23",
   "metadata": {},
   "outputs": [],
   "source": [
    "weight_kg = 60"
   ]
  },
  {
   "cell_type": "code",
   "execution_count": 5,
   "id": "c8ca501a-1791-45b7-aeb7-7f100b3403c9",
   "metadata": {},
   "outputs": [
    {
     "ename": "SyntaxError",
     "evalue": "invalid syntax (<ipython-input-5-12d5035ace32>, line 1)",
     "output_type": "error",
     "traceback": [
      "\u001b[0;36m  File \u001b[0;32m\"<ipython-input-5-12d5035ace32>\"\u001b[0;36m, line \u001b[0;32m1\u001b[0m\n\u001b[0;31m    0weight_kg = 60\u001b[0m\n\u001b[0m             ^\u001b[0m\n\u001b[0;31mSyntaxError\u001b[0m\u001b[0;31m:\u001b[0m invalid syntax\n"
     ]
    }
   ],
   "source": [
    "0weight_kg = 60"
   ]
  },
  {
   "cell_type": "code",
   "execution_count": 6,
   "id": "5c556680-ce57-40d2-8b01-f5763d4e0a83",
   "metadata": {},
   "outputs": [
    {
     "data": {
      "text/plain": [
       "int"
      ]
     },
     "execution_count": 6,
     "metadata": {},
     "output_type": "execute_result"
    }
   ],
   "source": [
    "type(weight_kg)"
   ]
  },
  {
   "cell_type": "code",
   "execution_count": 7,
   "id": "dda08cb7-46f1-4590-9e65-4263105a2c82",
   "metadata": {},
   "outputs": [],
   "source": [
    "weight_kg = 60.4"
   ]
  },
  {
   "cell_type": "code",
   "execution_count": 8,
   "id": "f7bf5e56-0767-4c0b-81f7-f7245a861d22",
   "metadata": {},
   "outputs": [
    {
     "data": {
      "text/plain": [
       "float"
      ]
     },
     "execution_count": 8,
     "metadata": {},
     "output_type": "execute_result"
    }
   ],
   "source": [
    "type(weight_kg)"
   ]
  },
  {
   "cell_type": "code",
   "execution_count": 9,
   "id": "fde54f5d-62b5-43a9-96ec-771e5ed77d7b",
   "metadata": {},
   "outputs": [
    {
     "name": "stdout",
     "output_type": "stream",
     "text": [
      "60.4\n"
     ]
    }
   ],
   "source": [
    "print(weight_kg)"
   ]
  },
  {
   "cell_type": "code",
   "execution_count": 10,
   "id": "4aa39b79-c5b3-4e09-82c3-0417bd2383da",
   "metadata": {},
   "outputs": [],
   "source": [
    "weight_lb = 2.2 * weight_kg"
   ]
  },
  {
   "cell_type": "code",
   "execution_count": 11,
   "id": "b67fecef-c204-4b60-840c-76e3de78bfb5",
   "metadata": {},
   "outputs": [
    {
     "name": "stdout",
     "output_type": "stream",
     "text": [
      "132.88\n"
     ]
    }
   ],
   "source": [
    "print(weight_lb)"
   ]
  },
  {
   "cell_type": "code",
   "execution_count": 12,
   "id": "653ef8c6-7f4d-4f7e-a8d0-086579b07469",
   "metadata": {},
   "outputs": [],
   "source": [
    "patient_id = '001'"
   ]
  },
  {
   "cell_type": "code",
   "execution_count": 13,
   "id": "918c55c7-a7ea-4e52-b91f-e103a80a1f65",
   "metadata": {},
   "outputs": [
    {
     "data": {
      "text/plain": [
       "str"
      ]
     },
     "execution_count": 13,
     "metadata": {},
     "output_type": "execute_result"
    }
   ],
   "source": [
    "type(patient_id)"
   ]
  },
  {
   "cell_type": "code",
   "execution_count": 14,
   "id": "5f60ecde-e992-43b0-81b5-8503d467cadd",
   "metadata": {},
   "outputs": [
    {
     "name": "stdout",
     "output_type": "stream",
     "text": [
      "001\n"
     ]
    }
   ],
   "source": [
    "print(patient_id)"
   ]
  },
  {
   "cell_type": "code",
   "execution_count": 15,
   "id": "bfec2abe-b705-4450-a738-19b58c086bbc",
   "metadata": {},
   "outputs": [],
   "source": [
    "patient_id = 'inflam_' + patient_id"
   ]
  },
  {
   "cell_type": "code",
   "execution_count": 16,
   "id": "6b6c33e6-bee6-4cb1-b73d-8340b594b621",
   "metadata": {},
   "outputs": [
    {
     "name": "stdout",
     "output_type": "stream",
     "text": [
      "inflam_001\n"
     ]
    }
   ],
   "source": [
    "print(patient_id)"
   ]
  },
  {
   "cell_type": "code",
   "execution_count": 17,
   "id": "c5e128db-f040-4c01-8d01-309fb1cb60df",
   "metadata": {},
   "outputs": [
    {
     "name": "stdout",
     "output_type": "stream",
     "text": [
      "inflam_001 weight in kilogram: 60.4\n"
     ]
    }
   ],
   "source": [
    "print(patient_id, 'weight in kilogram:', weight_kg) "
   ]
  },
  {
   "cell_type": "code",
   "execution_count": 18,
   "id": "7c03c766-5894-410e-baf6-84ffe580890c",
   "metadata": {},
   "outputs": [
    {
     "data": {
      "text/plain": [
       "int"
      ]
     },
     "execution_count": 18,
     "metadata": {},
     "output_type": "execute_result"
    }
   ],
   "source": [
    "type(56)"
   ]
  },
  {
   "cell_type": "code",
   "execution_count": 19,
   "id": "b2d23d40-1842-4d0d-9e57-9af88fbc876b",
   "metadata": {},
   "outputs": [
    {
     "name": "stdout",
     "output_type": "stream",
     "text": [
      "<class 'int'>\n"
     ]
    }
   ],
   "source": [
    "print(type(56))"
   ]
  },
  {
   "cell_type": "code",
   "execution_count": 20,
   "id": "56df0156-bf45-4f0d-bbeb-93b6e70f4246",
   "metadata": {},
   "outputs": [
    {
     "name": "stdout",
     "output_type": "stream",
     "text": [
      "weight in pound: 132.88\n"
     ]
    }
   ],
   "source": [
    "print('weight in pound:', 2.2 * weight_kg)"
   ]
  },
  {
   "cell_type": "code",
   "execution_count": 21,
   "id": "dd58df4a-7ba2-406e-8043-6b5c9e019dd9",
   "metadata": {},
   "outputs": [],
   "source": [
    "mass = 47.5"
   ]
  },
  {
   "cell_type": "code",
   "execution_count": null,
   "id": "0b7d7938-f1c3-45c6-a0fc-a446d95da5af",
   "metadata": {},
   "outputs": [],
   "source": []
  }
 ],
 "metadata": {
  "kernelspec": {
   "display_name": "Python 3",
   "language": "python",
   "name": "python3"
  },
  "language_info": {
   "codemirror_mode": {
    "name": "ipython",
    "version": 3
   },
   "file_extension": ".py",
   "mimetype": "text/x-python",
   "name": "python",
   "nbconvert_exporter": "python",
   "pygments_lexer": "ipython3",
   "version": "3.7.13"
  }
 },
 "nbformat": 4,
 "nbformat_minor": 5
}
