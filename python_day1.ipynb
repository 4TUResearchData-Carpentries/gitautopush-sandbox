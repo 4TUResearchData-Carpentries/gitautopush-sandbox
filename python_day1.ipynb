{
 "cells": [
  {
   "cell_type": "markdown",
   "id": "cfaa98e8-3849-4734-b43f-53cf732a929c",
   "metadata": {},
   "source": [
    "## FUNDAMENTALS\n",
    "\n",
    "An introduction to episode: https://swcarpentry.github.io/python-novice-inflammation/01-intro.html"
   ]
  },
  {
   "cell_type": "code",
   "execution_count": 1,
   "id": "d30572ec-9a7e-4873-88b7-b47681654a2d",
   "metadata": {},
   "outputs": [
    {
     "data": {
      "text/plain": [
       "24"
      ]
     },
     "execution_count": 1,
     "metadata": {},
     "output_type": "execute_result"
    }
   ],
   "source": [
    "# python as calculator\n",
    "2 + 3 * 6 + 4"
   ]
  },
  {
   "cell_type": "code",
   "execution_count": 2,
   "id": "e7b5bf26-92e4-4b7d-b9f4-a7ab334eaa23",
   "metadata": {},
   "outputs": [],
   "source": [
    "# variable assignment\n",
    "weight_kg = 60"
   ]
  },
  {
   "cell_type": "code",
   "execution_count": 3,
   "id": "c8ca501a-1791-45b7-aeb7-7f100b3403c9",
   "metadata": {},
   "outputs": [
    {
     "ename": "SyntaxError",
     "evalue": "invalid syntax (<ipython-input-3-dcfa20cf517b>, line 2)",
     "output_type": "error",
     "traceback": [
      "\u001b[0;36m  File \u001b[0;32m\"<ipython-input-3-dcfa20cf517b>\"\u001b[0;36m, line \u001b[0;32m2\u001b[0m\n\u001b[0;31m    0weight_kg = 60\u001b[0m\n\u001b[0m             ^\u001b[0m\n\u001b[0;31mSyntaxError\u001b[0m\u001b[0;31m:\u001b[0m invalid syntax\n"
     ]
    }
   ],
   "source": [
    "# variable name have syntax requirements\n",
    "0weight_kg = 60"
   ]
  },
  {
   "cell_type": "code",
   "execution_count": 4,
   "id": "5c556680-ce57-40d2-8b01-f5763d4e0a83",
   "metadata": {},
   "outputs": [
    {
     "data": {
      "text/plain": [
       "int"
      ]
     },
     "execution_count": 4,
     "metadata": {},
     "output_type": "execute_result"
    }
   ],
   "source": [
    "# variables have type\n",
    "# example of built-in function\n",
    "type(weight_kg)"
   ]
  },
  {
   "cell_type": "code",
   "execution_count": 5,
   "id": "dda08cb7-46f1-4590-9e65-4263105a2c82",
   "metadata": {},
   "outputs": [],
   "source": [
    "# variables can be reassigned\n",
    "weight_kg = 60.4"
   ]
  },
  {
   "cell_type": "code",
   "execution_count": 6,
   "id": "f7bf5e56-0767-4c0b-81f7-f7245a861d22",
   "metadata": {},
   "outputs": [
    {
     "data": {
      "text/plain": [
       "float"
      ]
     },
     "execution_count": 6,
     "metadata": {},
     "output_type": "execute_result"
    }
   ],
   "source": [
    "# the type is assigned based on the value\n",
    "type(weight_kg)"
   ]
  },
  {
   "cell_type": "code",
   "execution_count": 7,
   "id": "fde54f5d-62b5-43a9-96ec-771e5ed77d7b",
   "metadata": {},
   "outputs": [
    {
     "name": "stdout",
     "output_type": "stream",
     "text": [
      "60.4\n"
     ]
    }
   ],
   "source": [
    "# another built-in function\n",
    "print(weight_kg)"
   ]
  },
  {
   "cell_type": "code",
   "execution_count": 8,
   "id": "4aa39b79-c5b3-4e09-82c3-0417bd2383da",
   "metadata": {},
   "outputs": [],
   "source": [
    "# assignments can be used as formulas\n",
    "weight_lb = 2.2 * weight_kg"
   ]
  },
  {
   "cell_type": "code",
   "execution_count": 9,
   "id": "b67fecef-c204-4b60-840c-76e3de78bfb5",
   "metadata": {},
   "outputs": [
    {
     "name": "stdout",
     "output_type": "stream",
     "text": [
      "132.88\n"
     ]
    }
   ],
   "source": [
    "print(weight_lb)"
   ]
  },
  {
   "cell_type": "code",
   "execution_count": 10,
   "id": "653ef8c6-7f4d-4f7e-a8d0-086579b07469",
   "metadata": {},
   "outputs": [],
   "source": [
    "# variable assignment\n",
    "# the value is string (of characters)\n",
    "# a string is enclosed between quotes\n",
    "patient_id = '001'"
   ]
  },
  {
   "cell_type": "code",
   "execution_count": 11,
   "id": "918c55c7-a7ea-4e52-b91f-e103a80a1f65",
   "metadata": {},
   "outputs": [
    {
     "data": {
      "text/plain": [
       "str"
      ]
     },
     "execution_count": 11,
     "metadata": {},
     "output_type": "execute_result"
    }
   ],
   "source": [
    "# string is a type python recognises \n",
    "type(patient_id)"
   ]
  },
  {
   "cell_type": "code",
   "execution_count": 12,
   "id": "5f60ecde-e992-43b0-81b5-8503d467cadd",
   "metadata": {},
   "outputs": [
    {
     "name": "stdout",
     "output_type": "stream",
     "text": [
      "001\n"
     ]
    }
   ],
   "source": [
    "print(patient_id)"
   ]
  },
  {
   "cell_type": "code",
   "execution_count": 13,
   "id": "bfec2abe-b705-4450-a738-19b58c086bbc",
   "metadata": {},
   "outputs": [],
   "source": [
    "# different operations can be expressed with the same operator\n",
    "# + does not mean addition here\n",
    "# this is called operator overloading\n",
    "patient_id = 'inflam_' + patient_id"
   ]
  },
  {
   "cell_type": "code",
   "execution_count": 14,
   "id": "6b6c33e6-bee6-4cb1-b73d-8340b594b621",
   "metadata": {},
   "outputs": [
    {
     "name": "stdout",
     "output_type": "stream",
     "text": [
      "inflam_001\n"
     ]
    }
   ],
   "source": [
    "print(patient_id)"
   ]
  },
  {
   "cell_type": "code",
   "execution_count": 15,
   "id": "c5e128db-f040-4c01-8d01-309fb1cb60df",
   "metadata": {},
   "outputs": [
    {
     "name": "stdout",
     "output_type": "stream",
     "text": [
      "inflam_001 weight in kilogram: 60.4\n"
     ]
    }
   ],
   "source": [
    "# a function can take more than one parameter (argument), comma-separated\n",
    "print(patient_id, 'weight in kilogram:', weight_kg) "
   ]
  },
  {
   "cell_type": "code",
   "execution_count": 16,
   "id": "7c03c766-5894-410e-baf6-84ffe580890c",
   "metadata": {},
   "outputs": [
    {
     "data": {
      "text/plain": [
       "int"
      ]
     },
     "execution_count": 16,
     "metadata": {},
     "output_type": "execute_result"
    }
   ],
   "source": [
    "type(56)"
   ]
  },
  {
   "cell_type": "code",
   "execution_count": 17,
   "id": "b2d23d40-1842-4d0d-9e57-9af88fbc876b",
   "metadata": {},
   "outputs": [
    {
     "name": "stdout",
     "output_type": "stream",
     "text": [
      "<class 'int'>\n"
     ]
    }
   ],
   "source": [
    "# functions can be nested\n",
    "print(type(56))"
   ]
  },
  {
   "cell_type": "code",
   "execution_count": 18,
   "id": "56df0156-bf45-4f0d-bbeb-93b6e70f4246",
   "metadata": {},
   "outputs": [
    {
     "name": "stdout",
     "output_type": "stream",
     "text": [
      "weight in pound: 132.88\n"
     ]
    }
   ],
   "source": [
    "# operations can be part of functions parameter\n",
    "print('weight in pound:', 2.2 * weight_kg)"
   ]
  },
  {
   "cell_type": "code",
   "execution_count": 19,
   "id": "dd58df4a-7ba2-406e-8043-6b5c9e019dd9",
   "metadata": {},
   "outputs": [],
   "source": [
    "# applications:\n",
    "mass = 47.5\n",
    "age = 22 # if you delete `age = 122` from the cell, the variable age and its values persist in the memory"
   ]
  },
  {
   "cell_type": "code",
   "execution_count": 20,
   "id": "0b7d7938-f1c3-45c6-a0fc-a446d95da5af",
   "metadata": {},
   "outputs": [
    {
     "name": "stdout",
     "output_type": "stream",
     "text": [
      "47.5\n"
     ]
    }
   ],
   "source": [
    "print(mass)"
   ]
  },
  {
   "cell_type": "code",
   "execution_count": 21,
   "id": "4f77c993-77b7-4d40-b7b0-d19f3e764113",
   "metadata": {},
   "outputs": [
    {
     "name": "stdout",
     "output_type": "stream",
     "text": [
      "22\n"
     ]
    }
   ],
   "source": [
    "print(age)"
   ]
  },
  {
   "cell_type": "code",
   "execution_count": 22,
   "id": "fce90503-dafe-4b52-b9d9-7f143ec6459c",
   "metadata": {},
   "outputs": [
    {
     "name": "stdout",
     "output_type": "stream",
     "text": [
      "47.5 22\n"
     ]
    }
   ],
   "source": [
    "print(mass, age)"
   ]
  },
  {
   "cell_type": "code",
   "execution_count": 23,
   "id": "715ddfa0-b8a5-4eca-a971-02b70ec4d1ff",
   "metadata": {},
   "outputs": [],
   "source": [
    "# this built-in function really deletes the variable (wiped out at memory level)\n",
    "del(age)"
   ]
  },
  {
   "cell_type": "code",
   "execution_count": 24,
   "id": "6efb49cc-83f5-4419-98a2-6a6be5d7a4dc",
   "metadata": {},
   "outputs": [
    {
     "ename": "NameError",
     "evalue": "name 'age' is not defined",
     "output_type": "error",
     "traceback": [
      "\u001b[0;31m------------------------------------------------------------------------\u001b[0m",
      "\u001b[0;31mNameError\u001b[0m                              Traceback (most recent call last)",
      "\u001b[0;32m<ipython-input-24-0d07b7e98b05>\u001b[0m in \u001b[0;36m<module>\u001b[0;34m\u001b[0m\n\u001b[1;32m      1\u001b[0m \u001b[0;31m# expected failure: python throws an error message (see episode 11 in Carpentries\u001b[0m\u001b[0;34m\u001b[0m\u001b[0;34m\u001b[0m\u001b[0;34m\u001b[0m\u001b[0m\n\u001b[0;32m----> 2\u001b[0;31m \u001b[0mprint\u001b[0m\u001b[0;34m(\u001b[0m\u001b[0mage\u001b[0m\u001b[0;34m)\u001b[0m\u001b[0;34m\u001b[0m\u001b[0;34m\u001b[0m\u001b[0m\n\u001b[0m",
      "\u001b[0;31mNameError\u001b[0m: name 'age' is not defined"
     ]
    }
   ],
   "source": [
    "# expected failure: python throws an error message (see episode 11 in Carpentries\n",
    "print(age)"
   ]
  },
  {
   "cell_type": "code",
   "execution_count": null,
   "id": "732069b0-fa0b-46b4-9482-4d8bb547e281",
   "metadata": {},
   "outputs": [],
   "source": [
    "# give a pair of variables a pair of values\n",
    "first, second = 'Grace', 'Hopper'"
   ]
  },
  {
   "cell_type": "code",
   "execution_count": 25,
   "id": "3c97ca34-3173-4eb4-b23f-c7d82be030cc",
   "metadata": {},
   "outputs": [
    {
     "ename": "NameError",
     "evalue": "name 'first' is not defined",
     "output_type": "error",
     "traceback": [
      "\u001b[0;31m------------------------------------------------------------------------\u001b[0m",
      "\u001b[0;31mNameError\u001b[0m                              Traceback (most recent call last)",
      "\u001b[0;32m<ipython-input-25-71b4712f1138>\u001b[0m in \u001b[0;36m<module>\u001b[0;34m\u001b[0m\n\u001b[0;32m----> 1\u001b[0;31m \u001b[0mprint\u001b[0m\u001b[0;34m(\u001b[0m\u001b[0mfirst\u001b[0m\u001b[0;34m)\u001b[0m\u001b[0;34m\u001b[0m\u001b[0;34m\u001b[0m\u001b[0m\n\u001b[0m\u001b[1;32m      2\u001b[0m \u001b[0mprint\u001b[0m\u001b[0;34m(\u001b[0m\u001b[0msecond\u001b[0m\u001b[0;34m)\u001b[0m\u001b[0;34m\u001b[0m\u001b[0;34m\u001b[0m\u001b[0m\n",
      "\u001b[0;31mNameError\u001b[0m: name 'first' is not defined"
     ]
    }
   ],
   "source": [
    "print(first)\n",
    "print(second)"
   ]
  },
  {
   "cell_type": "code",
   "execution_count": 26,
   "id": "724942a7-641c-4de0-9678-2f63f74af0e9",
   "metadata": {},
   "outputs": [
    {
     "ename": "NameError",
     "evalue": "name 'first' is not defined",
     "output_type": "error",
     "traceback": [
      "\u001b[0;31m------------------------------------------------------------------------\u001b[0m",
      "\u001b[0;31mNameError\u001b[0m                              Traceback (most recent call last)",
      "\u001b[0;32m<ipython-input-26-81b5bff33fb6>\u001b[0m in \u001b[0;36m<module>\u001b[0;34m\u001b[0m\n\u001b[1;32m      1\u001b[0m \u001b[0;31m# repeat\u001b[0m\u001b[0;34m\u001b[0m\u001b[0;34m\u001b[0m\u001b[0;34m\u001b[0m\u001b[0m\n\u001b[0;32m----> 2\u001b[0;31m \u001b[0mthird\u001b[0m\u001b[0;34m,\u001b[0m \u001b[0mfourth\u001b[0m \u001b[0;34m=\u001b[0m \u001b[0mfirst\u001b[0m\u001b[0;34m,\u001b[0m \u001b[0msecond\u001b[0m\u001b[0;34m\u001b[0m\u001b[0;34m\u001b[0m\u001b[0m\n\u001b[0m\u001b[1;32m      3\u001b[0m \u001b[0mprint\u001b[0m\u001b[0;34m(\u001b[0m\u001b[0mthird\u001b[0m\u001b[0;34m)\u001b[0m\u001b[0;34m\u001b[0m\u001b[0;34m\u001b[0m\u001b[0m\n\u001b[1;32m      4\u001b[0m \u001b[0mprint\u001b[0m\u001b[0;34m(\u001b[0m\u001b[0mfourth\u001b[0m\u001b[0;34m)\u001b[0m\u001b[0;34m\u001b[0m\u001b[0;34m\u001b[0m\u001b[0m\n\u001b[1;32m      5\u001b[0m \u001b[0mprint\u001b[0m\u001b[0;34m(\u001b[0m\u001b[0mfirst\u001b[0m\u001b[0;34m,\u001b[0m \u001b[0mthird\u001b[0m\u001b[0;34m)\u001b[0m\u001b[0;34m\u001b[0m\u001b[0;34m\u001b[0m\u001b[0m\n",
      "\u001b[0;31mNameError\u001b[0m: name 'first' is not defined"
     ]
    }
   ],
   "source": [
    "# repeat\n",
    "third, fourth = first, second\n",
    "print(third)\n",
    "print(fourth)\n",
    "print(first, third)"
   ]
  },
  {
   "cell_type": "code",
   "execution_count": 27,
   "id": "8f0e65c4-d65b-4ed1-959d-68bcf91a7a87",
   "metadata": {},
   "outputs": [],
   "source": [
    "# application\n",
    "planet = 'Earth'\n",
    "apples = 5\n",
    "distance = 10.5"
   ]
  },
  {
   "cell_type": "code",
   "execution_count": 28,
   "id": "cd49105e-f27e-4db7-8900-8c4fbab4a7b9",
   "metadata": {},
   "outputs": [
    {
     "data": {
      "text/plain": [
       "float"
      ]
     },
     "execution_count": 28,
     "metadata": {},
     "output_type": "execute_result"
    }
   ],
   "source": [
    "# find types\n",
    "# you only see the last ouput (jupyterlab default behaviour)\n",
    "type(planet)\n",
    "type(apples)\n",
    "type(distance)"
   ]
  },
  {
   "cell_type": "code",
   "execution_count": 29,
   "id": "c5a314e0-8ff0-461b-a280-18426da5702b",
   "metadata": {},
   "outputs": [
    {
     "name": "stdout",
     "output_type": "stream",
     "text": [
      "Earth\n",
      "5\n",
      "10.5\n"
     ]
    }
   ],
   "source": [
    "# repeated prints shows each output\n",
    "print(planet)\n",
    "print(apples)\n",
    "print(distance)"
   ]
  },
  {
   "cell_type": "markdown",
   "id": "fb01dbc6-fcc6-4551-a8df-25a7818781ab",
   "metadata": {},
   "source": [
    "~~type((planet, apples, distance))~~"
   ]
  },
  {
   "cell_type": "code",
   "execution_count": 30,
   "id": "56b55236-73fe-4371-963e-d7394b4691d2",
   "metadata": {},
   "outputs": [
    {
     "name": "stdout",
     "output_type": "stream",
     "text": [
      "<class 'str'> <class 'int'> <class 'float'>\n"
     ]
    }
   ],
   "source": [
    "# show the type of three variable with a function with three parameters\n",
    "print(type(planet), type(apples), type(distance))"
   ]
  },
  {
   "cell_type": "markdown",
   "id": "faec0666-9aad-44e1-81c6-c70125420f23",
   "metadata": {},
   "source": [
    "---\n",
    "## LISTS\n",
    "\n",
    "An introduction to episode https://swcarpentry.github.io/python-novice-inflammation/04-lists.html"
   ]
  },
  {
   "cell_type": "code",
   "execution_count": 31,
   "id": "43d06230-becb-450d-8035-593e6aa5b2c9",
   "metadata": {},
   "outputs": [],
   "source": [
    "# construct a list and define a variable\n",
    "odds = [1, 3, 5, 7]"
   ]
  },
  {
   "cell_type": "code",
   "execution_count": 32,
   "id": "68464c07-2dce-4ae1-97d9-13e7679dfe2a",
   "metadata": {},
   "outputs": [
    {
     "data": {
      "text/plain": [
       "list"
      ]
     },
     "execution_count": 32,
     "metadata": {},
     "output_type": "execute_result"
    }
   ],
   "source": [
    "type(odds)"
   ]
  },
  {
   "cell_type": "code",
   "execution_count": 33,
   "id": "65d859cf-1748-441d-b298-5304370643f5",
   "metadata": {},
   "outputs": [
    {
     "name": "stdout",
     "output_type": "stream",
     "text": [
      "odds are: [1, 3, 5, 7]\n"
     ]
    }
   ],
   "source": [
    "# work with entire list\n",
    "print('odds are:', odds)"
   ]
  },
  {
   "cell_type": "code",
   "execution_count": 34,
   "id": "d32626ea-33a0-4733-addb-23c784ba171d",
   "metadata": {},
   "outputs": [
    {
     "name": "stdout",
     "output_type": "stream",
     "text": [
      "first element is: 1\n"
     ]
    }
   ],
   "source": [
    "# use single elements of the list\n",
    "# indices start from 0 (convention)\n",
    "print('first element is:', odds[0])"
   ]
  },
  {
   "cell_type": "code",
   "execution_count": 35,
   "id": "01ea7c70-e491-476d-a8f3-1f8646b49cc8",
   "metadata": {},
   "outputs": [
    {
     "name": "stdout",
     "output_type": "stream",
     "text": [
      "ĺast element is: 7\n"
     ]
    }
   ],
   "source": [
    "print('ĺast element is:', odds[3]) "
   ]
  },
  {
   "cell_type": "code",
   "execution_count": 36,
   "id": "cc1cb469-ebe1-4fcd-92cd-31a3a7c920c0",
   "metadata": {},
   "outputs": [
    {
     "name": "stdout",
     "output_type": "stream",
     "text": [
      "which item is 5 ?\n"
     ]
    }
   ],
   "source": [
    "# negative indices are permitted and have a special use\n",
    "print('which item is', odds[-2], '?')"
   ]
  },
  {
   "cell_type": "code",
   "execution_count": 37,
   "id": "a17f8b7a-5ee0-4dae-82c1-a45556b30f67",
   "metadata": {},
   "outputs": [],
   "source": [
    "# application: a list with an intended typo\n",
    "names = [ 'Curie', 'Darwing', 'Turing' ]"
   ]
  },
  {
   "cell_type": "code",
   "execution_count": 38,
   "id": "a32b329a-6629-459c-8169-a01702b9b2c1",
   "metadata": {},
   "outputs": [
    {
     "data": {
      "text/plain": [
       "list"
      ]
     },
     "execution_count": 38,
     "metadata": {},
     "output_type": "execute_result"
    }
   ],
   "source": [
    "# type of the list\n",
    "type(names)"
   ]
  },
  {
   "cell_type": "code",
   "execution_count": 39,
   "id": "d9294659-2e4a-4a74-8397-785c31d19da8",
   "metadata": {},
   "outputs": [
    {
     "data": {
      "text/plain": [
       "str"
      ]
     },
     "execution_count": 39,
     "metadata": {},
     "output_type": "execute_result"
    }
   ],
   "source": [
    "# type of the elements of the list\n",
    "type(names[0])"
   ]
  },
  {
   "cell_type": "code",
   "execution_count": 40,
   "id": "126ca72d-e5f7-45d1-aa57-64e79f618640",
   "metadata": {},
   "outputs": [],
   "source": [
    "# reassign the element of a list (it is possible = the list is a mutable type)\n",
    "names[1] = 'Darwin'"
   ]
  },
  {
   "cell_type": "code",
   "execution_count": 41,
   "id": "cd912f18-0819-4d52-9a1b-64b5620d7417",
   "metadata": {},
   "outputs": [
    {
     "name": "stdout",
     "output_type": "stream",
     "text": [
      "['Curie', 'Darwin', 'Turing']\n"
     ]
    }
   ],
   "source": [
    "print(names)"
   ]
  },
  {
   "cell_type": "code",
   "execution_count": 42,
   "id": "ad46e616-dd2b-4a3b-bcbe-b94c32c6a31a",
   "metadata": {},
   "outputs": [],
   "source": [
    "# the types of list items may vary\n",
    "mixed = [ 1, 'one']"
   ]
  },
  {
   "cell_type": "code",
   "execution_count": 43,
   "id": "7c6ef730-62ba-4696-afb4-e7251bf88aaa",
   "metadata": {},
   "outputs": [],
   "source": [
    "# application: copy of lists\n",
    "mild_salsa = ['peppers', 'onions', 'cilantro', 'tomatoes']"
   ]
  },
  {
   "cell_type": "code",
   "execution_count": 44,
   "id": "1f12f1a6-b2ee-48be-b155-ebcbff888cbb",
   "metadata": {},
   "outputs": [],
   "source": [
    "hot_salsa = mild_salsa"
   ]
  },
  {
   "cell_type": "code",
   "execution_count": 45,
   "id": "9e3acc6d-e873-4bf4-9a48-3007507d93f1",
   "metadata": {},
   "outputs": [],
   "source": [
    "hot_salsa[0] = 'red hot chili peppers'"
   ]
  },
  {
   "cell_type": "code",
   "execution_count": 46,
   "id": "9eae1be7-4720-4f80-a3bb-8a6d61917e5b",
   "metadata": {},
   "outputs": [
    {
     "name": "stdout",
     "output_type": "stream",
     "text": [
      "ingredients in hot salsa: ['red hot chili peppers', 'onions', 'cilantro', 'tomatoes']\n"
     ]
    }
   ],
   "source": [
    "# expected result\n",
    "print('ingredients in hot salsa:', hot_salsa)"
   ]
  },
  {
   "cell_type": "code",
   "execution_count": 47,
   "id": "b0ff4349-55ba-4e7b-9764-34b813de1f81",
   "metadata": {},
   "outputs": [
    {
     "name": "stdout",
     "output_type": "stream",
     "text": [
      "ingredients in mild salsa: ['red hot chili peppers', 'onions', 'cilantro', 'tomatoes']\n"
     ]
    }
   ],
   "source": [
    "# unexpected result: also the other list has changed its item\n",
    "print('ingredients in mild salsa:', mild_salsa)"
   ]
  },
  {
   "cell_type": "code",
   "execution_count": 48,
   "id": "9c569bdf-86a7-47b0-a833-735aa6c1f17d",
   "metadata": {},
   "outputs": [],
   "source": [
    "# fix the mistake and restart\n",
    "mild_salsa[0] = 'peppers'"
   ]
  },
  {
   "cell_type": "code",
   "execution_count": 49,
   "id": "04b9d3f5-d4b1-409f-ae2c-ea2c8a9b1ed1",
   "metadata": {},
   "outputs": [
    {
     "name": "stdout",
     "output_type": "stream",
     "text": [
      "['peppers', 'onions', 'cilantro', 'tomatoes']\n"
     ]
    }
   ],
   "source": [
    "print(hot_salsa)"
   ]
  },
  {
   "cell_type": "code",
   "execution_count": 50,
   "id": "daf57bd7-3574-4039-97d4-9c8100469d80",
   "metadata": {},
   "outputs": [],
   "source": [
    "# different way of copying lists (deep copy)\n",
    "hot_salsa = list(mild_salsa)"
   ]
  },
  {
   "cell_type": "code",
   "execution_count": 51,
   "id": "fff6142b-1a48-42b5-a8ec-a39f89ca089e",
   "metadata": {},
   "outputs": [],
   "source": [
    "hot_salsa[0] = 'hot peppers'"
   ]
  },
  {
   "cell_type": "code",
   "execution_count": 52,
   "id": "0e34f341-59b4-42b5-b537-36bb55915214",
   "metadata": {},
   "outputs": [
    {
     "name": "stdout",
     "output_type": "stream",
     "text": [
      "['hot peppers', 'onions', 'cilantro', 'tomatoes']\n"
     ]
    }
   ],
   "source": [
    "print(hot_salsa)"
   ]
  },
  {
   "cell_type": "code",
   "execution_count": 53,
   "id": "9e92339a-f290-41e7-ad84-3eb2e970f8fb",
   "metadata": {},
   "outputs": [
    {
     "name": "stdout",
     "output_type": "stream",
     "text": [
      "['peppers', 'onions', 'cilantro', 'tomatoes']\n"
     ]
    }
   ],
   "source": [
    "# desired results: the other list has not been affected\n",
    "print(mild_salsa)"
   ]
  },
  {
   "cell_type": "code",
   "execution_count": 54,
   "id": "bc94fb2c-f3e7-4d4f-8914-1b45e6266da8",
   "metadata": {},
   "outputs": [],
   "source": [
    "# question: does that behaviour only occur with list?\n",
    "# test: try with integers\n",
    "a = 10"
   ]
  },
  {
   "cell_type": "code",
   "execution_count": 55,
   "id": "3f6dfe7f-e930-44a7-ab72-0631bbc6a554",
   "metadata": {},
   "outputs": [],
   "source": [
    "b = a"
   ]
  },
  {
   "cell_type": "code",
   "execution_count": 56,
   "id": "dd259c9e-6071-40cd-9e01-aeb3a17fe9d1",
   "metadata": {},
   "outputs": [],
   "source": [
    "b = 5.0"
   ]
  },
  {
   "cell_type": "code",
   "execution_count": 57,
   "id": "615f2caa-900b-41f4-adea-64db3d89bbac",
   "metadata": {},
   "outputs": [
    {
     "name": "stdout",
     "output_type": "stream",
     "text": [
      "10\n"
     ]
    }
   ],
   "source": [
    "print(a)"
   ]
  },
  {
   "cell_type": "code",
   "execution_count": 58,
   "id": "03d4ace6-9d8f-4c9a-99b5-d85597cd9f12",
   "metadata": {},
   "outputs": [
    {
     "name": "stdout",
     "output_type": "stream",
     "text": [
      "5.0\n"
     ]
    }
   ],
   "source": [
    "print(b)\n",
    "# answer: no, both variables keep an own value"
   ]
  },
  {
   "cell_type": "code",
   "execution_count": 59,
   "id": "e643749d-26f1-486c-a4c0-6e8e7a3aa90d",
   "metadata": {},
   "outputs": [],
   "source": [
    "# nested lists (list of list)\n",
    "nested_list = [['a', 'b', 'c'], ['i', 'j', 'k'], ['x', 'y', 'z']]"
   ]
  },
  {
   "cell_type": "code",
   "execution_count": 60,
   "id": "8ea89c13-ba99-4124-a0bb-09d2052f9aee",
   "metadata": {},
   "outputs": [
    {
     "name": "stdout",
     "output_type": "stream",
     "text": [
      "[['a', 'b', 'c'], ['i', 'j', 'k'], ['x', 'y', 'z']]\n"
     ]
    }
   ],
   "source": [
    "print(nested_list)"
   ]
  },
  {
   "cell_type": "code",
   "execution_count": 61,
   "id": "473e75e8-3875-4929-b547-537ddafabd4f",
   "metadata": {},
   "outputs": [
    {
     "data": {
      "text/plain": [
       "list"
      ]
     },
     "execution_count": 61,
     "metadata": {},
     "output_type": "execute_result"
    }
   ],
   "source": [
    "type(nested_list)"
   ]
  },
  {
   "cell_type": "code",
   "execution_count": 62,
   "id": "de6b507d-e9d2-4520-a843-730103025fa7",
   "metadata": {},
   "outputs": [
    {
     "name": "stdout",
     "output_type": "stream",
     "text": [
      "['i', 'j', 'k']\n"
     ]
    }
   ],
   "source": [
    "# address the element in a nested list\n",
    "print(nested_list[1])"
   ]
  },
  {
   "cell_type": "code",
   "execution_count": 63,
   "id": "cbffc9ae-66fd-431d-9fe9-1f4fd1cfdf90",
   "metadata": {},
   "outputs": [
    {
     "data": {
      "text/plain": [
       "list"
      ]
     },
     "execution_count": 63,
     "metadata": {},
     "output_type": "execute_result"
    }
   ],
   "source": [
    "type(nested_list[1])"
   ]
  },
  {
   "cell_type": "code",
   "execution_count": 64,
   "id": "5a735323-d436-4919-a881-fb9b934d557a",
   "metadata": {},
   "outputs": [
    {
     "name": "stdout",
     "output_type": "stream",
     "text": [
      "j\n"
     ]
    }
   ],
   "source": [
    "# address an element in a list in a nested list\n",
    "# note the syntax is logical\n",
    "print(nested_list[1][1])"
   ]
  },
  {
   "cell_type": "code",
   "execution_count": 65,
   "id": "e46fea7c-e799-443e-9350-f98143de0cb3",
   "metadata": {},
   "outputs": [
    {
     "data": {
      "text/plain": [
       "3"
      ]
     },
     "execution_count": 65,
     "metadata": {},
     "output_type": "execute_result"
    }
   ],
   "source": [
    "# another built-in function\n",
    "len(nested_list)"
   ]
  },
  {
   "cell_type": "code",
   "execution_count": 66,
   "id": "60467467-73c1-49b2-975f-aff2c447574b",
   "metadata": {},
   "outputs": [
    {
     "data": {
      "text/plain": [
       "4"
      ]
     },
     "execution_count": 66,
     "metadata": {},
     "output_type": "execute_result"
    }
   ],
   "source": [
    "len(hot_salsa)"
   ]
  },
  {
   "cell_type": "code",
   "execution_count": 67,
   "id": "8528cc66-f16a-4693-8a80-2f28ee0e59e8",
   "metadata": {},
   "outputs": [],
   "source": [
    "# similarities between lists and strings\n",
    "binomial_name = 'Drosophila melanogaster'"
   ]
  },
  {
   "cell_type": "code",
   "execution_count": 68,
   "id": "443667bf-411a-4f83-872f-cb33d9feda37",
   "metadata": {},
   "outputs": [
    {
     "data": {
      "text/plain": [
       "str"
      ]
     },
     "execution_count": 68,
     "metadata": {},
     "output_type": "execute_result"
    }
   ],
   "source": [
    "type(binomial_name)"
   ]
  },
  {
   "cell_type": "code",
   "execution_count": 69,
   "id": "fa17b642-5680-4acc-b4a1-d8343357db10",
   "metadata": {},
   "outputs": [
    {
     "data": {
      "text/plain": [
       "23"
      ]
     },
     "execution_count": 69,
     "metadata": {},
     "output_type": "execute_result"
    }
   ],
   "source": [
    "len(binomial_name)"
   ]
  },
  {
   "cell_type": "code",
   "execution_count": 70,
   "id": "61d2de4b-5064-4534-805d-187b761b5fb5",
   "metadata": {},
   "outputs": [
    {
     "name": "stdout",
     "output_type": "stream",
     "text": [
      "Drosophila melanogaster\n"
     ]
    }
   ],
   "source": [
    "print(binomial_name)"
   ]
  },
  {
   "cell_type": "code",
   "execution_count": 71,
   "id": "4e911561-e552-4585-9f9e-2f11a5b76271",
   "metadata": {},
   "outputs": [
    {
     "name": "stdout",
     "output_type": "stream",
     "text": [
      "Drosophila melanogaster\n"
     ]
    }
   ],
   "source": [
    "# slices are intervals of lists and strings\n",
    "# example with the full length\n",
    "# in the slice range the last element is not included\n",
    "# the length of the range is the difference between endpoints\n",
    "print(binomial_name[0:23])"
   ]
  },
  {
   "cell_type": "code",
   "execution_count": 72,
   "id": "d0b4ca65-528a-4e73-8a22-717e2605f75c",
   "metadata": {},
   "outputs": [],
   "source": [
    "# binomial name = group + species\n",
    "group = binomial_name[0:10]"
   ]
  },
  {
   "cell_type": "code",
   "execution_count": 73,
   "id": "1b34936a-b1e2-4acd-b629-5b11db51d7a8",
   "metadata": {},
   "outputs": [
    {
     "name": "stdout",
     "output_type": "stream",
     "text": [
      "Drosophila\n"
     ]
    }
   ],
   "source": [
    "print(group)"
   ]
  },
  {
   "cell_type": "code",
   "execution_count": 74,
   "id": "be1055f9-5396-4bb4-bd9a-762d01f40631",
   "metadata": {},
   "outputs": [
    {
     "data": {
      "text/plain": [
       "10"
      ]
     },
     "execution_count": 74,
     "metadata": {},
     "output_type": "execute_result"
    }
   ],
   "source": [
    "len(group)"
   ]
  },
  {
   "cell_type": "code",
   "execution_count": 75,
   "id": "c4b8e14e-6381-4495-9256-5968ec53d01d",
   "metadata": {},
   "outputs": [],
   "source": [
    "species = binomial_name[11:23]"
   ]
  },
  {
   "cell_type": "code",
   "execution_count": 76,
   "id": "e42db634-a821-409e-a57c-7f63e45a1f89",
   "metadata": {},
   "outputs": [
    {
     "name": "stdout",
     "output_type": "stream",
     "text": [
      "melanogaster\n"
     ]
    }
   ],
   "source": [
    "print(species)"
   ]
  },
  {
   "cell_type": "code",
   "execution_count": 77,
   "id": "8d255bc5-9cdd-4bbc-b1c6-0245254d63fc",
   "metadata": {},
   "outputs": [
    {
     "data": {
      "text/plain": [
       "12"
      ]
     },
     "execution_count": 77,
     "metadata": {},
     "output_type": "execute_result"
    }
   ],
   "source": [
    "len(species)"
   ]
  },
  {
   "cell_type": "code",
   "execution_count": 78,
   "id": "80a04d48-b544-4a7e-85a6-f4170a426d14",
   "metadata": {},
   "outputs": [
    {
     "ename": "TypeError",
     "evalue": "'str' object does not support item assignment",
     "output_type": "error",
     "traceback": [
      "\u001b[0;31m------------------------------------------------------------------------\u001b[0m",
      "\u001b[0;31mTypeError\u001b[0m                              Traceback (most recent call last)",
      "\u001b[0;32m<ipython-input-78-12555003e751>\u001b[0m in \u001b[0;36m<module>\u001b[0;34m\u001b[0m\n\u001b[1;32m      2\u001b[0m \u001b[0;31m# not permitted because string is an immutable type\u001b[0m\u001b[0;34m\u001b[0m\u001b[0;34m\u001b[0m\u001b[0;34m\u001b[0m\u001b[0m\n\u001b[1;32m      3\u001b[0m \u001b[0;31m# (assign the string in full again, if a change is wished)\u001b[0m\u001b[0;34m\u001b[0m\u001b[0;34m\u001b[0m\u001b[0;34m\u001b[0m\u001b[0m\n\u001b[0;32m----> 4\u001b[0;31m \u001b[0mspecies\u001b[0m\u001b[0;34m[\u001b[0m\u001b[0;36m2\u001b[0m\u001b[0;34m]\u001b[0m \u001b[0;34m=\u001b[0m \u001b[0;34m'X'\u001b[0m\u001b[0;34m\u001b[0m\u001b[0;34m\u001b[0m\u001b[0m\n\u001b[0m\u001b[1;32m      5\u001b[0m \u001b[0mprint\u001b[0m\u001b[0;34m(\u001b[0m\u001b[0mspecies\u001b[0m\u001b[0;34m)\u001b[0m\u001b[0;34m\u001b[0m\u001b[0;34m\u001b[0m\u001b[0m\n\u001b[1;32m      6\u001b[0m \u001b[0mprint\u001b[0m\u001b[0;34m(\u001b[0m\u001b[0mbinomial_name\u001b[0m\u001b[0;34m)\u001b[0m\u001b[0;34m\u001b[0m\u001b[0;34m\u001b[0m\u001b[0m\n",
      "\u001b[0;31mTypeError\u001b[0m: 'str' object does not support item assignment"
     ]
    }
   ],
   "source": [
    "# change a string by changing an element of it\n",
    "# not permitted because string is an immutable type\n",
    "# (assign the string in full again, if a change is wished)\n",
    "species[2] = 'X'\n",
    "print(species)\n",
    "print(binomial_name)"
   ]
  },
  {
   "cell_type": "code",
   "execution_count": 79,
   "id": "46945405-fae8-4284-bae0-bbec313a7715",
   "metadata": {},
   "outputs": [
    {
     "name": "stdout",
     "output_type": "stream",
     "text": [
      "Drosophila melanogaster\n"
     ]
    }
   ],
   "source": [
    "# repeat\n",
    "print(binomial_name)"
   ]
  },
  {
   "cell_type": "code",
   "execution_count": 80,
   "id": "a2e8685b-c41c-4f79-a689-6eb8c079f86c",
   "metadata": {},
   "outputs": [
    {
     "name": "stdout",
     "output_type": "stream",
     "text": [
      "Drosophila melanogaster\n"
     ]
    }
   ],
   "source": [
    "print(binomial_name[0:23])"
   ]
  },
  {
   "cell_type": "code",
   "execution_count": 81,
   "id": "464c0eba-32f8-46b6-8998-70b298dc7f36",
   "metadata": {},
   "outputs": [
    {
     "name": "stdout",
     "output_type": "stream",
     "text": [
      "Doohl eaoatr\n"
     ]
    }
   ],
   "source": [
    "# third parameter in the slice: the step or stride\n",
    "print(binomial_name[0:23:2])"
   ]
  },
  {
   "cell_type": "code",
   "execution_count": 82,
   "id": "516b8f4e-fe49-493f-87e4-9b9ada11560b",
   "metadata": {},
   "outputs": [
    {
     "name": "stdout",
     "output_type": "stream",
     "text": [
      "Drosophila melanogaster\n"
     ]
    }
   ],
   "source": [
    "# permitted omissions of slice parameters\n",
    "print(binomial_name[0:23:])"
   ]
  },
  {
   "cell_type": "code",
   "execution_count": 83,
   "id": "d13fd7dd-8c41-416c-a60d-5faffe95ffe1",
   "metadata": {},
   "outputs": [
    {
     "name": "stdout",
     "output_type": "stream",
     "text": [
      "Drosophila melanogaster\n"
     ]
    }
   ],
   "source": [
    "print(binomial_name[:23:])"
   ]
  },
  {
   "cell_type": "code",
   "execution_count": 84,
   "id": "f79851aa-3030-481e-8bae-99b4b7623e6b",
   "metadata": {},
   "outputs": [
    {
     "name": "stdout",
     "output_type": "stream",
     "text": [
      "Drosophila melanogaster\n"
     ]
    }
   ],
   "source": [
    "print(binomial_name[::])"
   ]
  },
  {
   "cell_type": "code",
   "execution_count": 85,
   "id": "b48d000c-cc1e-43b2-b4f4-3701cc804a5a",
   "metadata": {},
   "outputs": [
    {
     "name": "stdout",
     "output_type": "stream",
     "text": [
      "elanogaster\n"
     ]
    }
   ],
   "source": [
    "print(binomial_name[-11:])"
   ]
  },
  {
   "cell_type": "code",
   "execution_count": 86,
   "id": "1f31a08f-8482-468d-9d42-0971d291ab88",
   "metadata": {},
   "outputs": [
    {
     "name": "stdout",
     "output_type": "stream",
     "text": [
      "elanoga\n"
     ]
    }
   ],
   "source": [
    "# slice with negative numbers\n",
    "print(binomial_name[-11:-4])"
   ]
  },
  {
   "cell_type": "code",
   "execution_count": 87,
   "id": "bcb13f3e-7c9d-4e66-8642-49c2e90ce483",
   "metadata": {},
   "outputs": [],
   "source": [
    "# slices with lists (after the strings)\n",
    "numbers = [0, 1, 2, 3, 4]"
   ]
  },
  {
   "cell_type": "code",
   "execution_count": 88,
   "id": "aa0587e7-dfc2-4994-9b6f-97cc41cf9877",
   "metadata": {},
   "outputs": [
    {
     "data": {
      "text/plain": [
       "5"
      ]
     },
     "execution_count": 88,
     "metadata": {},
     "output_type": "execute_result"
    }
   ],
   "source": [
    "len(numbers)"
   ]
  },
  {
   "cell_type": "code",
   "execution_count": 89,
   "id": "cb04496e-c5be-4b04-81b6-c6fa4d6351f7",
   "metadata": {},
   "outputs": [
    {
     "name": "stdout",
     "output_type": "stream",
     "text": [
      "[0, 1, 2, 3, 4]\n"
     ]
    }
   ],
   "source": [
    "print(numbers)"
   ]
  },
  {
   "cell_type": "code",
   "execution_count": 90,
   "id": "0420cfca-25e1-49e2-9e0c-11271540e563",
   "metadata": {},
   "outputs": [
    {
     "name": "stdout",
     "output_type": "stream",
     "text": [
      "[0, 1, 2, 3, 4]\n"
     ]
    }
   ],
   "source": [
    "print(numbers[0:5])"
   ]
  },
  {
   "cell_type": "code",
   "execution_count": 91,
   "id": "22dbf653-c54b-40cf-b8dc-dc2f1d2e760d",
   "metadata": {},
   "outputs": [
    {
     "name": "stdout",
     "output_type": "stream",
     "text": [
      "[0, 1, 2, 3]\n"
     ]
    }
   ],
   "source": [
    "print(numbers[0:4])"
   ]
  },
  {
   "cell_type": "markdown",
   "id": "0751809e-bd40-4448-ab95-a686fe32a899",
   "metadata": {},
   "source": [
    "---\n",
    "## FOR LOOPS\n",
    "\n",
    "An introduction to episode: https://swcarpentry.github.io/python-novice-inflammation/05-loop.html"
   ]
  },
  {
   "cell_type": "code",
   "execution_count": 92,
   "id": "04708f02-2685-45c5-8818-6850bce30364",
   "metadata": {},
   "outputs": [
    {
     "name": "stdout",
     "output_type": "stream",
     "text": [
      "[1, 3, 5, 7]\n"
     ]
    }
   ],
   "source": [
    "# start off with a list\n",
    "print(odds)"
   ]
  },
  {
   "cell_type": "code",
   "execution_count": 93,
   "id": "2f656bee-e96d-415e-97eb-1f7c3826da58",
   "metadata": {},
   "outputs": [
    {
     "name": "stdout",
     "output_type": "stream",
     "text": [
      "1\n",
      "3\n",
      "5\n",
      "7\n"
     ]
    }
   ],
   "source": [
    "# lengty way to print result\n",
    "print(odds[0])\n",
    "print(odds[1])\n",
    "print(odds[-2])\n",
    "print(odds[-1])"
   ]
  },
  {
   "cell_type": "code",
   "execution_count": 94,
   "id": "96b8fe04-e0f3-4349-83cc-d66544f5994e",
   "metadata": {},
   "outputs": [
    {
     "name": "stdout",
     "output_type": "stream",
     "text": [
      "1\n",
      "3\n",
      "5\n",
      "7\n"
     ]
    }
   ],
   "source": [
    "# smart way to print result\n",
    "# try and comment in the line in the for block \n",
    "for loop_variable in odds:\n",
    "    print(loop_variable)\n",
    "    # print('sunshine')"
   ]
  },
  {
   "cell_type": "code",
   "execution_count": 95,
   "id": "ce0339d2-d615-43e5-8c89-2381f25bc037",
   "metadata": {},
   "outputs": [
    {
     "name": "stdout",
     "output_type": "stream",
     "text": [
      "1\n",
      "3\n",
      "5\n",
      "7\n"
     ]
    }
   ],
   "source": [
    "# the name of the loop variable is unimportant\n",
    "for banana in odds:\n",
    "    print(banana)"
   ]
  },
  {
   "cell_type": "code",
   "execution_count": 96,
   "id": "9ee5ee85-0f77-4295-a992-c65d9fe8f044",
   "metadata": {},
   "outputs": [
    {
     "name": "stdout",
     "output_type": "stream",
     "text": [
      "hello world\n",
      "hello world\n",
      "hello world\n",
      "hello world\n"
     ]
    }
   ],
   "source": [
    "# using the loop variable in the body is not mandatory\n",
    "for number in odds:\n",
    "    print('hello world')"
   ]
  },
  {
   "cell_type": "code",
   "execution_count": 97,
   "id": "5221b6bb-9748-4e40-83ab-557f0d1b9c2e",
   "metadata": {},
   "outputs": [
    {
     "name": "stdout",
     "output_type": "stream",
     "text": [
      "['Curie', 'Darwin', 'Turing']\n"
     ]
    }
   ],
   "source": [
    "# anothe application with a list\n",
    "print(names)"
   ]
  },
  {
   "cell_type": "code",
   "execution_count": 98,
   "id": "77683933-9d06-4a15-af73-14abd7f9049c",
   "metadata": {},
   "outputs": [
    {
     "name": "stdout",
     "output_type": "stream",
     "text": [
      "['Curie', 'Darwin', 'Turing']\n",
      "['Curie', 'Darwin', 'Turing']\n",
      "['Curie', 'Darwin', 'Turing']\n"
     ]
    }
   ],
   "source": [
    "# difference between loop variable and list 1\n",
    "for value in names:\n",
    "    print(names)"
   ]
  },
  {
   "cell_type": "code",
   "execution_count": 99,
   "id": "fb74515a-1ee6-41c8-8fd5-6b5455b1618d",
   "metadata": {},
   "outputs": [
    {
     "name": "stdout",
     "output_type": "stream",
     "text": [
      "Curie\n",
      "Darwin\n",
      "Turing\n"
     ]
    }
   ],
   "source": [
    "# difference between loop variable and list 2\n",
    "for value in names:\n",
    "    print(value)"
   ]
  },
  {
   "cell_type": "code",
   "execution_count": 100,
   "id": "6ef42f60-9b9c-4808-bc59-82a3fbafdbd4",
   "metadata": {},
   "outputs": [
    {
     "data": {
      "text/plain": [
       "3"
      ]
     },
     "execution_count": 100,
     "metadata": {},
     "output_type": "execute_result"
    }
   ],
   "source": [
    "len(names)"
   ]
  },
  {
   "cell_type": "code",
   "execution_count": 101,
   "id": "e0968592-d8ac-4f90-bd20-0860be17e29e",
   "metadata": {},
   "outputs": [
    {
     "name": "stdout",
     "output_type": "stream",
     "text": [
      "3\n"
     ]
    }
   ],
   "source": [
    "# compute the length with a loop\n",
    "# change variables defined before the loop\n",
    "length = 0\n",
    "for values in names:\n",
    "    length = length + 1\n",
    "\n",
    "# indent the text back to finish the block\n",
    "print(length)"
   ]
  },
  {
   "cell_type": "code",
   "execution_count": 102,
   "id": "e8dc0d13-310a-4d94-8968-ab2d03926a8c",
   "metadata": {},
   "outputs": [
    {
     "name": "stdout",
     "output_type": "stream",
     "text": [
      "3\n"
     ]
    }
   ],
   "source": [
    "# shortcut for incrementing the same variable \n",
    "# += is a case of in-place operator\n",
    "length = 0\n",
    "for values in names:\n",
    "    length += 1\n",
    "print(length)"
   ]
  },
  {
   "cell_type": "code",
   "execution_count": 103,
   "id": "6c86e79b-c644-40f5-91c1-3143a4b022ca",
   "metadata": {},
   "outputs": [
    {
     "name": "stdout",
     "output_type": "stream",
     "text": [
      "0\n",
      "1\n",
      "2\n",
      "3\n"
     ]
    }
   ],
   "source": [
    "# create a sequence of integer number\n",
    "for number in range(4):\n",
    "    print(number)"
   ]
  },
  {
   "cell_type": "code",
   "execution_count": 104,
   "id": "8dfcb539-22b9-4563-931f-d121aee99d5c",
   "metadata": {},
   "outputs": [
    {
     "ename": "SyntaxError",
     "evalue": "invalid syntax (<ipython-input-104-0b8e886ef464>, line 2)",
     "output_type": "error",
     "traceback": [
      "\u001b[0;36m  File \u001b[0;32m\"<ipython-input-104-0b8e886ef464>\"\u001b[0;36m, line \u001b[0;32m2\u001b[0m\n\u001b[0;31m    for number in range(0:4):\u001b[0m\n\u001b[0m                         ^\u001b[0m\n\u001b[0;31mSyntaxError\u001b[0m\u001b[0;31m:\u001b[0m invalid syntax\n"
     ]
    }
   ],
   "source": [
    "# like lists, but not exactly lists\n",
    "for number in range(0:4):\n",
    "    print(number)"
   ]
  },
  {
   "cell_type": "code",
   "execution_count": 105,
   "id": "db52f097-43af-4c68-980c-e8f8704ed840",
   "metadata": {},
   "outputs": [
    {
     "name": "stdout",
     "output_type": "stream",
     "text": [
      "0\n",
      "1\n",
      "2\n",
      "3\n"
     ]
    }
   ],
   "source": [
    "# range is a function: parameters are separated by commas\n",
    "# same meaning as indices in a slice\n",
    "for number in range(0, 4):\n",
    "    print(number)"
   ]
  },
  {
   "cell_type": "code",
   "execution_count": 106,
   "id": "7e423ae4-68c7-4fd0-9db4-5bf3e3ef967c",
   "metadata": {},
   "outputs": [
    {
     "name": "stdout",
     "output_type": "stream",
     "text": [
      "4\n",
      "5\n",
      "6\n",
      "7\n"
     ]
    }
   ],
   "source": [
    "for number in range(4, 8):\n",
    "    print(number)"
   ]
  },
  {
   "cell_type": "code",
   "execution_count": 107,
   "id": "6534efae-9eae-4fad-8f35-b0f01c2c5c2d",
   "metadata": {},
   "outputs": [
    {
     "name": "stdout",
     "output_type": "stream",
     "text": [
      "345\n",
      "401\n",
      "457\n"
     ]
    }
   ],
   "source": [
    "# third parameter of range() has same meaning as slice \n",
    "for number in range(345, 467, 56):\n",
    "    print(number)"
   ]
  },
  {
   "cell_type": "code",
   "execution_count": 108,
   "id": "00bc2a0d-a6f3-4f0e-a17b-ea19308a34bd",
   "metadata": {},
   "outputs": [
    {
     "name": "stdout",
     "output_type": "stream",
     "text": [
      "1\n",
      "3\n",
      "5\n",
      "7\n"
     ]
    }
   ],
   "source": [
    "# start off with a list\n",
    "# obtain the values of the list\n",
    "for number in odds:\n",
    "    print(number)"
   ]
  },
  {
   "cell_type": "code",
   "execution_count": 109,
   "id": "c6d5785b-87bf-4efe-bd6e-dcc09df00c12",
   "metadata": {},
   "outputs": [
    {
     "name": "stdout",
     "output_type": "stream",
     "text": [
      "index: 0 contains value: 1\n",
      "index: 1 contains value: 3\n",
      "index: 2 contains value: 5\n",
      "index: 3 contains value: 7\n"
     ]
    }
   ],
   "source": [
    "# obtain both index and value of a list\n",
    "for index, value in enumerate(odds):\n",
    "    print('index:', index, 'contains value:' , value)"
   ]
  },
  {
   "cell_type": "markdown",
   "id": "07f77b15-53c3-456e-9d8e-43a2b0af769d",
   "metadata": {},
   "source": [
    "---\n",
    "## IMPORT MODULES (aka LIBRARIES) AND ANALYSE DATA\n",
    "\n",
    "See episode: https://swcarpentry.github.io/python-novice-inflammation/02-numpy.html"
   ]
  },
  {
   "cell_type": "code",
   "execution_count": 110,
   "id": "31a74489-4334-476c-8673-2e253d08802f",
   "metadata": {},
   "outputs": [],
   "source": [
    "# numerical python\n",
    "import numpy"
   ]
  },
  {
   "cell_type": "code",
   "execution_count": 111,
   "id": "8b186a5f-3524-4956-84c2-45c11be0d491",
   "metadata": {},
   "outputs": [],
   "source": [
    "# functions in libraries (extend the set of built-in functions)\n",
    "data = numpy.loadtxt(fname='data/inflammation-01.csv', delimiter=',')"
   ]
  },
  {
   "cell_type": "code",
   "execution_count": 112,
   "id": "6d9c3f8f-1a6e-406b-b21c-c33d54627853",
   "metadata": {},
   "outputs": [
    {
     "data": {
      "text/plain": [
       "numpy.ndarray"
      ]
     },
     "execution_count": 112,
     "metadata": {},
     "output_type": "execute_result"
    }
   ],
   "source": [
    "# type of a value created with a library function (module method)\n",
    "# ndarray = n-dimensional array\n",
    "type(data)"
   ]
  },
  {
   "cell_type": "code",
   "execution_count": 113,
   "id": "2f8064c0-9a25-4e31-b940-44552bc61dab",
   "metadata": {},
   "outputs": [
    {
     "name": "stdout",
     "output_type": "stream",
     "text": [
      "[[0. 0. 1. ... 3. 0. 0.]\n",
      " [0. 1. 2. ... 1. 0. 1.]\n",
      " [0. 1. 1. ... 2. 1. 1.]\n",
      " ...\n",
      " [0. 1. 1. ... 1. 1. 1.]\n",
      " [0. 0. 0. ... 0. 2. 0.]\n",
      " [0. 0. 1. ... 1. 1. 0.]]\n"
     ]
    }
   ],
   "source": [
    "# like a list of list but not really (not comma-separated)\n",
    "print(data)"
   ]
  },
  {
   "cell_type": "code",
   "execution_count": 114,
   "id": "4c680b3e-acd0-4e3a-94ee-78e0e50c7142",
   "metadata": {},
   "outputs": [
    {
     "name": "stdout",
     "output_type": "stream",
     "text": [
      "(60, 40)\n"
     ]
    }
   ],
   "source": [
    "# dimension and size of data\n",
    "print(data.shape)"
   ]
  },
  {
   "cell_type": "code",
   "execution_count": 115,
   "id": "5491a750-91c8-45e1-a4a3-cb80a019528c",
   "metadata": {},
   "outputs": [
    {
     "name": "stdout",
     "output_type": "stream",
     "text": [
      "float64\n"
     ]
    }
   ],
   "source": [
    "# type of the data elements (not of data)\n",
    "print(data.dtype)"
   ]
  },
  {
   "cell_type": "code",
   "execution_count": 116,
   "id": "83b0f692-3f28-4702-84cf-ee219a7a544c",
   "metadata": {},
   "outputs": [
    {
     "name": "stdout",
     "output_type": "stream",
     "text": [
      "[[0. 0. 1. ... 3. 0. 0.]\n",
      " [0. 1. 2. ... 1. 0. 1.]\n",
      " [0. 1. 1. ... 2. 1. 1.]\n",
      " ...\n",
      " [0. 1. 1. ... 1. 1. 1.]\n",
      " [0. 0. 0. ... 0. 2. 0.]\n",
      " [0. 0. 1. ... 1. 1. 0.]]\n"
     ]
    }
   ],
   "source": [
    "# slices of data\n",
    "# the full thing first\n",
    "print(data[0:60, 0:40])"
   ]
  },
  {
   "cell_type": "code",
   "execution_count": 117,
   "id": "955e349e-d7c6-405f-895c-37b3905431b0",
   "metadata": {},
   "outputs": [
    {
     "name": "stdout",
     "output_type": "stream",
     "text": [
      "[[0. 0. 1. 3.]\n",
      " [0. 1. 2. 1.]\n",
      " [0. 1. 1. 3.]\n",
      " [0. 0. 2. 0.]\n",
      " [0. 1. 1. 3.]\n",
      " [0. 0. 1. 2.]]\n"
     ]
    }
   ],
   "source": [
    "# slices of data and permitted omissions\n",
    "print(data[0:6, :4])"
   ]
  },
  {
   "cell_type": "code",
   "execution_count": 118,
   "id": "61a84208-23b3-4ad2-8853-c0a4aa4160ac",
   "metadata": {},
   "outputs": [
    {
     "name": "stdout",
     "output_type": "stream",
     "text": [
      "[[ 0.  0.  1.  3.  1.  2.  4.  7.  8.  3.  3.  3. 10.  5.  7.  4.  7.  7.\n",
      "  12. 18.  6. 13. 11. 11.  7.  7.  4.  6.  8.  8.  4.  4.  5.  7.  3.  4.\n",
      "   2.  3.  0.  0.]\n",
      " [ 0.  1.  2.  1.  2.  1.  3.  2.  2.  6. 10. 11.  5.  9.  4.  4.  7. 16.\n",
      "   8.  6. 18.  4. 12.  5. 12.  7. 11.  5. 11.  3.  3.  5.  4.  4.  5.  5.\n",
      "   1.  1.  0.  1.]\n",
      " [ 0.  1.  1.  3.  3.  2.  6.  2.  5.  9.  5.  7.  4.  5.  4. 15.  5. 11.\n",
      "   9. 10. 19. 14. 12. 17.  7. 12. 11.  7.  4.  2. 10.  5.  4.  2.  2.  3.\n",
      "   2.  2.  1.  1.]\n",
      " [ 0.  0.  2.  0.  4.  2.  2.  1.  6.  7. 10.  7.  9. 13.  8.  8. 15. 10.\n",
      "  10.  7. 17.  4.  4.  7.  6. 15.  6.  4.  9. 11.  3.  5.  6.  3.  3.  4.\n",
      "   2.  3.  2.  1.]\n",
      " [ 0.  1.  1.  3.  3.  1.  3.  5.  2.  4.  4.  7.  6.  5.  3. 10.  8. 10.\n",
      "   6. 17.  9. 14.  9.  7. 13.  9. 12.  6.  7.  7.  9.  6.  3.  2.  2.  4.\n",
      "   2.  0.  1.  1.]\n",
      " [ 0.  0.  1.  2.  2.  4.  2.  1.  6.  4.  7.  6.  6.  9.  9. 15.  4. 16.\n",
      "  18. 12. 12.  5. 18.  9.  5.  3. 10.  3. 12.  7.  8.  4.  7.  3.  5.  4.\n",
      "   4.  3.  2.  1.]]\n"
     ]
    }
   ],
   "source": [
    "# select a slice of rows = select some rows = the columns are truncated\n",
    "# select the whole columns = the rows are not truncated\n",
    "print(data[0:6, ])"
   ]
  },
  {
   "cell_type": "code",
   "execution_count": 119,
   "id": "321a44fb-435c-4d4f-8706-360b8a2df183",
   "metadata": {},
   "outputs": [
    {
     "name": "stdout",
     "output_type": "stream",
     "text": [
      "[[ 0.  0.  1.  3.  1.  2.  4.  7.  8.  3.  3.  3. 10.  5.  7.  4.  7.  7.\n",
      "  12. 18.  6. 13. 11. 11.  7.  7.  4.  6.  8.  8.  4.  4.  5.  7.  3.  4.\n",
      "   2.  3.  0.  0.]\n",
      " [ 0.  1.  2.  1.  2.  1.  3.  2.  2.  6. 10. 11.  5.  9.  4.  4.  7. 16.\n",
      "   8.  6. 18.  4. 12.  5. 12.  7. 11.  5. 11.  3.  3.  5.  4.  4.  5.  5.\n",
      "   1.  1.  0.  1.]\n",
      " [ 0.  1.  1.  3.  3.  2.  6.  2.  5.  9.  5.  7.  4.  5.  4. 15.  5. 11.\n",
      "   9. 10. 19. 14. 12. 17.  7. 12. 11.  7.  4.  2. 10.  5.  4.  2.  2.  3.\n",
      "   2.  2.  1.  1.]]\n"
     ]
    }
   ],
   "source": [
    "# colon or no parameter has the same effect\n",
    "print(data[0:3, :])"
   ]
  },
  {
   "cell_type": "code",
   "execution_count": 120,
   "id": "7e5c118c-475e-4fc0-8815-1e0fd6e7620d",
   "metadata": {},
   "outputs": [
    {
     "name": "stdout",
     "output_type": "stream",
     "text": [
      "[[3. 0. 0.]\n",
      " [1. 0. 1.]\n",
      " [2. 1. 1.]]\n"
     ]
    }
   ],
   "source": [
    "# apply slicing to two dimensions of the (numpy) array\n",
    "print(data[0:3, -3:])"
   ]
  },
  {
   "cell_type": "code",
   "execution_count": 121,
   "id": "d6c7383f-b2a5-480c-b4c4-2eebf0c93f58",
   "metadata": {},
   "outputs": [
    {
     "name": "stdout",
     "output_type": "stream",
     "text": [
      "[[3. 0.]\n",
      " [2. 1.]]\n"
     ]
    }
   ],
   "source": [
    "print(data[0:3:2, -3::2])"
   ]
  },
  {
   "cell_type": "code",
   "execution_count": 122,
   "id": "2358383b-7680-4efa-b1a1-e9e886e75125",
   "metadata": {},
   "outputs": [
    {
     "name": "stdout",
     "output_type": "stream",
     "text": [
      "(2, 2)\n"
     ]
    }
   ],
   "source": [
    "print(data[0:3:2, -3::2].shape)"
   ]
  },
  {
   "cell_type": "code",
   "execution_count": 123,
   "id": "d350199f-4dfe-4744-8bb1-a6fd2bd58c6f",
   "metadata": {},
   "outputs": [],
   "source": [
    "# examples of operations available with numpy"
   ]
  },
  {
   "cell_type": "code",
   "execution_count": 124,
   "id": "8b1d6416-925e-42b3-aa45-7f50c6cabfc6",
   "metadata": {},
   "outputs": [
    {
     "data": {
      "text/plain": [
       "6.14875"
      ]
     },
     "execution_count": 124,
     "metadata": {},
     "output_type": "execute_result"
    }
   ],
   "source": [
    "# mean of all data (60x40=2400 data points)\n",
    "numpy.mean(data)"
   ]
  },
  {
   "cell_type": "code",
   "execution_count": 125,
   "id": "fdd7f12b-09c7-47de-aad0-0ec1f0e8fb03",
   "metadata": {},
   "outputs": [
    {
     "data": {
      "text/plain": [
       "4.613833197118566"
      ]
     },
     "execution_count": 125,
     "metadata": {},
     "output_type": "execute_result"
    }
   ],
   "source": [
    "# standard deviation \n",
    "numpy.std(data)"
   ]
  },
  {
   "cell_type": "code",
   "execution_count": 126,
   "id": "565fe08d-23c9-4291-aefa-9ca832b3329e",
   "metadata": {},
   "outputs": [
    {
     "data": {
      "text/plain": [
       "20.0"
      ]
     },
     "execution_count": 126,
     "metadata": {},
     "output_type": "execute_result"
    }
   ],
   "source": [
    "# maximum value (amax = array maximum)\n",
    "numpy.amax(data)"
   ]
  },
  {
   "cell_type": "code",
   "execution_count": 127,
   "id": "65d618df-50c8-4943-82e7-f121eae76f4d",
   "metadata": {},
   "outputs": [
    {
     "data": {
      "text/plain": [
       "0.0"
      ]
     },
     "execution_count": 127,
     "metadata": {},
     "output_type": "execute_result"
    }
   ],
   "source": [
    "# minimum value\n",
    "numpy.amin(data)"
   ]
  },
  {
   "cell_type": "code",
   "execution_count": 128,
   "id": "ce75ba50-ec58-4ad0-af2f-a5f70e6eb077",
   "metadata": {},
   "outputs": [
    {
     "data": {
      "text/plain": [
       "(0.0, 6.14875, 20.0)"
      ]
     },
     "execution_count": 128,
     "metadata": {},
     "output_type": "execute_result"
    }
   ],
   "source": [
    "# show results in a triplet (shown as a 'tuple' of three elements)\n",
    "numpy.amin(data), numpy.mean(data), numpy.amax(data)"
   ]
  },
  {
   "cell_type": "code",
   "execution_count": 129,
   "id": "209cf315-fc61-443d-aecd-5954b7ce312c",
   "metadata": {},
   "outputs": [],
   "source": [
    "# assignement to multiple variables\n",
    "minval, meanval, maxval = numpy.amin(data), numpy.mean(data), numpy.amax(data)"
   ]
  },
  {
   "cell_type": "code",
   "execution_count": 130,
   "id": "4b4f0fdc-9c7a-4768-a195-1f28177f7e5d",
   "metadata": {},
   "outputs": [
    {
     "name": "stdout",
     "output_type": "stream",
     "text": [
      "0.0 6.14875 20.0\n"
     ]
    }
   ],
   "source": [
    "print(minval, meanval, maxval)"
   ]
  },
  {
   "cell_type": "code",
   "execution_count": 131,
   "id": "d883b6d3-4f98-467c-af91-c338e31a1ab2",
   "metadata": {},
   "outputs": [
    {
     "name": "stdout",
     "output_type": "stream",
     "text": [
      "6.14875\n"
     ]
    }
   ],
   "source": [
    "# module functions (aka methods) and full variable\n",
    "print(numpy.mean(data))"
   ]
  },
  {
   "cell_type": "code",
   "execution_count": 132,
   "id": "1db583c0-9a80-4e0f-82db-b7c4839b1662",
   "metadata": {
    "tags": []
   },
   "outputs": [
    {
     "name": "stdout",
     "output_type": "stream",
     "text": [
      "5.45\n"
     ]
    }
   ],
   "source": [
    "# module functions (aka methods) and slices\n",
    "print(numpy.mean(data[0, ]))"
   ]
  },
  {
   "cell_type": "code",
   "execution_count": 133,
   "id": "026e44e6-de3e-4fc2-8674-2da61d14bb63",
   "metadata": {},
   "outputs": [
    {
     "name": "stdout",
     "output_type": "stream",
     "text": [
      "Tue May 23 20:09:15 2023\n"
     ]
    }
   ],
   "source": [
    "# not all functions need to have parameters (arguments) to work\n",
    "import time\n",
    "print(time.ctime())"
   ]
  },
  {
   "cell_type": "markdown",
   "id": "c0ed200e-f787-492b-8ee4-f6a3b6fdac58",
   "metadata": {
    "tags": []
   },
   "source": [
    "---\n",
    "## GETTING HELP"
   ]
  },
  {
   "cell_type": "code",
   "execution_count": 134,
   "id": "fcf7f106-ad53-4ecd-891e-4dafdcf7fd95",
   "metadata": {},
   "outputs": [
    {
     "name": "stdout",
     "output_type": "stream",
     "text": [
      "Help on built-in function print in module builtins:\n",
      "\n",
      "print(...)\n",
      "    print(value, ..., sep=' ', end='\\n', file=sys.stdout, flush=False)\n",
      "    \n",
      "    Prints the values to a stream, or to sys.stdout by default.\n",
      "    Optional keyword arguments:\n",
      "    file:  a file-like object (stream); defaults to the current sys.stdout.\n",
      "    sep:   string inserted between values, default a space.\n",
      "    end:   string appended after the last value, default a newline.\n",
      "    flush: whether to forcibly flush the stream.\n",
      "\n"
     ]
    }
   ],
   "source": [
    "help(print)"
   ]
  },
  {
   "cell_type": "code",
   "execution_count": 135,
   "id": "a2965c09-8fff-49bf-9a4a-7b8bb4f12eb2",
   "metadata": {},
   "outputs": [
    {
     "name": "stdout",
     "output_type": "stream",
     "text": [
      "Help on function mean in module numpy:\n",
      "\n",
      "mean(a, axis=None, dtype=None, out=None, keepdims=<no value>, *, where=<no value>)\n",
      "    Compute the arithmetic mean along the specified axis.\n",
      "    \n",
      "    Returns the average of the array elements.  The average is taken over\n",
      "    the flattened array by default, otherwise over the specified axis.\n",
      "    `float64` intermediate and return values are used for integer inputs.\n",
      "    \n",
      "    Parameters\n",
      "    ----------\n",
      "    a : array_like\n",
      "        Array containing numbers whose mean is desired. If `a` is not an\n",
      "        array, a conversion is attempted.\n",
      "    axis : None or int or tuple of ints, optional\n",
      "        Axis or axes along which the means are computed. The default is to\n",
      "        compute the mean of the flattened array.\n",
      "    \n",
      "        .. versionadded:: 1.7.0\n",
      "    \n",
      "        If this is a tuple of ints, a mean is performed over multiple axes,\n",
      "        instead of a single axis or all the axes as before.\n",
      "    dtype : data-type, optional\n",
      "        Type to use in computing the mean.  For integer inputs, the default\n",
      "        is `float64`; for floating point inputs, it is the same as the\n",
      "        input dtype.\n",
      "    out : ndarray, optional\n",
      "        Alternate output array in which to place the result.  The default\n",
      "        is ``None``; if provided, it must have the same shape as the\n",
      "        expected output, but the type will be cast if necessary.\n",
      "        See :ref:`ufuncs-output-type` for more details.\n",
      "    \n",
      "    keepdims : bool, optional\n",
      "        If this is set to True, the axes which are reduced are left\n",
      "        in the result as dimensions with size one. With this option,\n",
      "        the result will broadcast correctly against the input array.\n",
      "    \n",
      "        If the default value is passed, then `keepdims` will not be\n",
      "        passed through to the `mean` method of sub-classes of\n",
      "        `ndarray`, however any non-default value will be.  If the\n",
      "        sub-class' method does not implement `keepdims` any\n",
      "        exceptions will be raised.\n",
      "    \n",
      "    where : array_like of bool, optional\n",
      "        Elements to include in the mean. See `~numpy.ufunc.reduce` for details.\n",
      "    \n",
      "        .. versionadded:: 1.20.0\n",
      "    \n",
      "    Returns\n",
      "    -------\n",
      "    m : ndarray, see dtype parameter above\n",
      "        If `out=None`, returns a new array containing the mean values,\n",
      "        otherwise a reference to the output array is returned.\n",
      "    \n",
      "    See Also\n",
      "    --------\n",
      "    average : Weighted average\n",
      "    std, var, nanmean, nanstd, nanvar\n",
      "    \n",
      "    Notes\n",
      "    -----\n",
      "    The arithmetic mean is the sum of the elements along the axis divided\n",
      "    by the number of elements.\n",
      "    \n",
      "    Note that for floating-point input, the mean is computed using the\n",
      "    same precision the input has.  Depending on the input data, this can\n",
      "    cause the results to be inaccurate, especially for `float32` (see\n",
      "    example below).  Specifying a higher-precision accumulator using the\n",
      "    `dtype` keyword can alleviate this issue.\n",
      "    \n",
      "    By default, `float16` results are computed using `float32` intermediates\n",
      "    for extra precision.\n",
      "    \n",
      "    Examples\n",
      "    --------\n",
      "    >>> a = np.array([[1, 2], [3, 4]])\n",
      "    >>> np.mean(a)\n",
      "    2.5\n",
      "    >>> np.mean(a, axis=0)\n",
      "    array([2., 3.])\n",
      "    >>> np.mean(a, axis=1)\n",
      "    array([1.5, 3.5])\n",
      "    \n",
      "    In single precision, `mean` can be inaccurate:\n",
      "    \n",
      "    >>> a = np.zeros((2, 512*512), dtype=np.float32)\n",
      "    >>> a[0, :] = 1.0\n",
      "    >>> a[1, :] = 0.1\n",
      "    >>> np.mean(a)\n",
      "    0.54999924\n",
      "    \n",
      "    Computing the mean in float64 is more accurate:\n",
      "    \n",
      "    >>> np.mean(a, dtype=np.float64)\n",
      "    0.55000000074505806 # may vary\n",
      "    \n",
      "    Specifying a where argument:\n",
      "    >>> a = np.array([[5, 9, 13], [14, 10, 12], [11, 15, 19]])\n",
      "    >>> np.mean(a)\n",
      "    12.0\n",
      "    >>> np.mean(a, where=[[True], [False], [False]])\n",
      "    9.0\n",
      "\n"
     ]
    }
   ],
   "source": [
    "help(numpy.mean)"
   ]
  },
  {
   "cell_type": "markdown",
   "id": "55e8855a-e83d-4c4b-9453-9557dcca4ea9",
   "metadata": {},
   "source": [
    "---"
   ]
  },
  {
   "cell_type": "code",
   "execution_count": 136,
   "id": "14cdbc30-a7e3-43aa-9c21-0d9a9332f03d",
   "metadata": {},
   "outputs": [
    {
     "name": "stdout",
     "output_type": "stream",
     "text": [
      "the mean of row 0 is 5.45\n",
      "the mean of row 1 is 5.425\n",
      "the mean of row 2 is 6.1\n",
      "the mean of row 3 is 5.9\n",
      "the mean of row 4 is 5.55\n",
      "the mean of row 5 is 6.225\n",
      "the mean of row 6 is 5.975\n",
      "the mean of row 7 is 6.65\n",
      "the mean of row 8 is 6.625\n",
      "the mean of row 9 is 6.525\n",
      "the mean of row 10 is 6.775\n",
      "the mean of row 11 is 5.8\n",
      "the mean of row 12 is 6.225\n",
      "the mean of row 13 is 5.75\n",
      "the mean of row 14 is 5.225\n",
      "the mean of row 15 is 6.3\n",
      "the mean of row 16 is 6.55\n",
      "the mean of row 17 is 5.7\n",
      "the mean of row 18 is 5.85\n",
      "the mean of row 19 is 6.55\n",
      "the mean of row 20 is 5.775\n",
      "the mean of row 21 is 5.825\n",
      "the mean of row 22 is 6.175\n",
      "the mean of row 23 is 6.1\n",
      "the mean of row 24 is 5.8\n",
      "the mean of row 25 is 6.425\n",
      "the mean of row 26 is 6.05\n",
      "the mean of row 27 is 6.025\n",
      "the mean of row 28 is 6.175\n",
      "the mean of row 29 is 6.55\n",
      "the mean of row 30 is 6.175\n",
      "the mean of row 31 is 6.35\n",
      "the mean of row 32 is 6.725\n",
      "the mean of row 33 is 6.125\n",
      "the mean of row 34 is 7.075\n",
      "the mean of row 35 is 5.725\n",
      "the mean of row 36 is 5.925\n",
      "the mean of row 37 is 6.15\n",
      "the mean of row 38 is 6.075\n",
      "the mean of row 39 is 5.75\n",
      "the mean of row 40 is 5.975\n",
      "the mean of row 41 is 5.725\n",
      "the mean of row 42 is 6.3\n",
      "the mean of row 43 is 5.9\n",
      "the mean of row 44 is 6.75\n",
      "the mean of row 45 is 5.925\n",
      "the mean of row 46 is 7.225\n",
      "the mean of row 47 is 6.15\n",
      "the mean of row 48 is 5.95\n",
      "the mean of row 49 is 6.275\n",
      "the mean of row 50 is 5.7\n",
      "the mean of row 51 is 6.1\n",
      "the mean of row 52 is 6.825\n",
      "the mean of row 53 is 5.975\n",
      "the mean of row 54 is 6.725\n",
      "the mean of row 55 is 5.7\n",
      "the mean of row 56 is 6.25\n",
      "the mean of row 57 is 6.4\n",
      "the mean of row 58 is 7.05\n",
      "the mean of row 59 is 5.9\n"
     ]
    }
   ],
   "source": [
    "# final application that condenses most of the day\n",
    "for row in range(data.shape[0]):\n",
    "    print('the mean of row', row, 'is', numpy.mean(data[row,]))"
   ]
  },
  {
   "cell_type": "markdown",
   "id": "148e5daa-1dce-40cd-b998-08135598b41e",
   "metadata": {},
   "source": [
    "### END OF DAY ONE\n",
    "---"
   ]
  }
 ],
 "metadata": {
  "kernelspec": {
   "display_name": "Python 3",
   "language": "python",
   "name": "python3"
  },
  "language_info": {
   "codemirror_mode": {
    "name": "ipython",
    "version": 3
   },
   "file_extension": ".py",
   "mimetype": "text/x-python",
   "name": "python",
   "nbconvert_exporter": "python",
   "pygments_lexer": "ipython3",
   "version": "3.7.13"
  }
 },
 "nbformat": 4,
 "nbformat_minor": 5
}
