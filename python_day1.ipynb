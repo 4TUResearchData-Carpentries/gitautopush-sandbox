{
 "cells": [
  {
   "cell_type": "markdown",
   "id": "2eeb91ee-71e1-4ca1-9585-791a477952ce",
   "metadata": {},
   "source": [
    "## Variables"
   ]
  },
  {
   "cell_type": "code",
   "execution_count": 1,
   "id": "9a3398cc-794b-4d02-95b6-2c44080e497f",
   "metadata": {
    "tags": []
   },
   "outputs": [
    {
     "data": {
      "text/plain": [
       "23"
      ]
     },
     "execution_count": 1,
     "metadata": {},
     "output_type": "execute_result"
    }
   ],
   "source": [
    "3+5*4"
   ]
  },
  {
   "cell_type": "code",
   "execution_count": 2,
   "id": "547e9752-dec9-4a39-8751-a15ffce6c531",
   "metadata": {
    "tags": []
   },
   "outputs": [],
   "source": [
    "weight_kg=60"
   ]
  },
  {
   "cell_type": "code",
   "execution_count": null,
   "id": "b9b085dd-42c2-4bcb-a67a-730ebda60591",
   "metadata": {},
   "outputs": [],
   "source": [
    "wei"
   ]
  }
 ],
 "metadata": {
  "kernelspec": {
   "display_name": "Python 3 (ipykernel)",
   "language": "python",
   "name": "python3"
  },
  "language_info": {
   "codemirror_mode": {
    "name": "ipython",
    "version": 3
   },
   "file_extension": ".py",
   "mimetype": "text/x-python",
   "name": "python",
   "nbconvert_exporter": "python",
   "pygments_lexer": "ipython3",
   "version": "3.11.5"
  }
 },
 "nbformat": 4,
 "nbformat_minor": 5
}
