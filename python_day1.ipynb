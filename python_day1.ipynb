{
 "cells": [
  {
   "cell_type": "code",
   "execution_count": null,
   "id": "13a1170a-d962-411f-a153-f764586ca9dd",
   "metadata": {},
   "outputs": [],
   "source": [
    "## Variables"
   ]
  },
  {
   "cell_type": "code",
   "execution_count": 1,
   "id": "9a3398cc-794b-4d02-95b6-2c44080e497f",
   "metadata": {
    "tags": []
   },
   "outputs": [
    {
     "data": {
      "text/plain": [
       "23"
      ]
     },
     "execution_count": 1,
     "metadata": {},
     "output_type": "execute_result"
    }
   ],
   "source": [
    "3+5*4"
   ]
  },
  {
   "cell_type": "code",
   "execution_count": 9,
   "id": "547e9752-dec9-4a39-8751-a15ffce6c531",
   "metadata": {
    "tags": []
   },
   "outputs": [],
   "source": [
    "weight_kg=60"
   ]
  },
  {
   "cell_type": "code",
   "execution_count": 3,
   "id": "b9b085dd-42c2-4bcb-a67a-730ebda60591",
   "metadata": {
    "tags": []
   },
   "outputs": [],
   "source": [
    "weig6_=10"
   ]
  },
  {
   "cell_type": "code",
   "execution_count": 4,
   "id": "46b1d55f-32c0-4d40-8778-f9e620020041",
   "metadata": {
    "tags": []
   },
   "outputs": [
    {
     "ename": "SyntaxError",
     "evalue": "invalid decimal literal (2998321253.py, line 1)",
     "output_type": "error",
     "traceback": [
      "\u001b[1;36m  Cell \u001b[1;32mIn[4], line 1\u001b[1;36m\u001b[0m\n\u001b[1;33m    6weight\u001b[0m\n\u001b[1;37m    ^\u001b[0m\n\u001b[1;31mSyntaxError\u001b[0m\u001b[1;31m:\u001b[0m invalid decimal literal\n"
     ]
    }
   ],
   "source": [
    "6weight"
   ]
  },
  {
   "cell_type": "code",
   "execution_count": 5,
   "id": "0f4688ad-b3f5-4f42-9c0d-551ec080665e",
   "metadata": {
    "tags": []
   },
   "outputs": [
    {
     "ename": "NameError",
     "evalue": "name 'Weight_kg' is not defined",
     "output_type": "error",
     "traceback": [
      "\u001b[1;31m---------------------------------------------------------------------------\u001b[0m",
      "\u001b[1;31mNameError\u001b[0m                                 Traceback (most recent call last)",
      "Cell \u001b[1;32mIn[5], line 1\u001b[0m\n\u001b[1;32m----> 1\u001b[0m Weight_kg\n",
      "\u001b[1;31mNameError\u001b[0m: name 'Weight_kg' is not defined"
     ]
    }
   ],
   "source": [
    "Weight_kg"
   ]
  },
  {
   "cell_type": "code",
   "execution_count": 6,
   "id": "ae6415cc-cda6-46c4-af48-afcfaf50b060",
   "metadata": {
    "tags": []
   },
   "outputs": [],
   "source": [
    "weight_kg=60.3"
   ]
  },
  {
   "cell_type": "code",
   "execution_count": 7,
   "id": "7d233683-ccf3-409d-9b54-04e5af22ba11",
   "metadata": {
    "tags": []
   },
   "outputs": [],
   "source": [
    "patient_id=\"001\""
   ]
  },
  {
   "cell_type": "code",
   "execution_count": 8,
   "id": "57a90bc0-d7e3-4318-b83b-28b824e922bf",
   "metadata": {
    "tags": []
   },
   "outputs": [
    {
     "data": {
      "text/plain": [
       "'001'"
      ]
     },
     "execution_count": 8,
     "metadata": {},
     "output_type": "execute_result"
    }
   ],
   "source": [
    "patient_id"
   ]
  },
  {
   "cell_type": "code",
   "execution_count": 10,
   "id": "cf0fe560-c3c2-4c7b-ad0a-9ce2400c1b54",
   "metadata": {
    "tags": []
   },
   "outputs": [],
   "source": [
    "weight_lb=2.2*weight_kg"
   ]
  },
  {
   "cell_type": "code",
   "execution_count": 11,
   "id": "ea81ecf4-7b15-45c5-9424-18b96a904b30",
   "metadata": {
    "tags": []
   },
   "outputs": [
    {
     "data": {
      "text/plain": [
       "132.0"
      ]
     },
     "execution_count": 11,
     "metadata": {},
     "output_type": "execute_result"
    }
   ],
   "source": [
    "weight_lb"
   ]
  },
  {
   "cell_type": "code",
   "execution_count": 12,
   "id": "cf05f48c-0b5d-479a-8257-f18d272981df",
   "metadata": {
    "tags": []
   },
   "outputs": [],
   "source": [
    "patient_id=\"inflam\"+patient_id"
   ]
  },
  {
   "cell_type": "code",
   "execution_count": 13,
   "id": "bef96e4c-4ef8-4383-9988-e2da2a5d3fef",
   "metadata": {
    "tags": []
   },
   "outputs": [
    {
     "data": {
      "text/plain": [
       "'inflam001'"
      ]
     },
     "execution_count": 13,
     "metadata": {},
     "output_type": "execute_result"
    }
   ],
   "source": [
    "patient_id"
   ]
  },
  {
   "cell_type": "code",
   "execution_count": 14,
   "id": "9780a3c5-899e-4d67-9725-4f723fcc9763",
   "metadata": {
    "tags": []
   },
   "outputs": [
    {
     "name": "stdout",
     "output_type": "stream",
     "text": [
      "inflam001\n"
     ]
    }
   ],
   "source": [
    "print(patient_id)"
   ]
  },
  {
   "cell_type": "code",
   "execution_count": 15,
   "id": "08210ce5-5d5f-4d64-8046-8e69e05ad816",
   "metadata": {
    "tags": []
   },
   "outputs": [
    {
     "name": "stdout",
     "output_type": "stream",
     "text": [
      "132.0\n"
     ]
    }
   ],
   "source": [
    "print(weight_lb)"
   ]
  },
  {
   "cell_type": "code",
   "execution_count": 16,
   "id": "c43c3505-51c0-49b0-9fac-d2f07ce07203",
   "metadata": {
    "tags": []
   },
   "outputs": [
    {
     "name": "stdout",
     "output_type": "stream",
     "text": [
      "inflam001 weight in kg: 60\n"
     ]
    }
   ],
   "source": [
    "print(patient_id,\"weight in kg:\",weight_kg)"
   ]
  },
  {
   "cell_type": "code",
   "execution_count": 17,
   "id": "f8ea7bd7-6542-45f0-b9a6-2f52edaa8a68",
   "metadata": {
    "tags": []
   },
   "outputs": [
    {
     "data": {
      "text/plain": [
       "str"
      ]
     },
     "execution_count": 17,
     "metadata": {},
     "output_type": "execute_result"
    }
   ],
   "source": [
    "type(patient_id)"
   ]
  },
  {
   "cell_type": "code",
   "execution_count": 18,
   "id": "633639e4-363a-4655-9b6e-89de930c803f",
   "metadata": {
    "tags": []
   },
   "outputs": [
    {
     "data": {
      "text/plain": [
       "int"
      ]
     },
     "execution_count": 18,
     "metadata": {},
     "output_type": "execute_result"
    }
   ],
   "source": [
    "type(weight_kg)"
   ]
  },
  {
   "cell_type": "code",
   "execution_count": 19,
   "id": "c074055b-a7c4-446c-8274-4b02c8c89f7f",
   "metadata": {
    "tags": []
   },
   "outputs": [
    {
     "data": {
      "text/plain": [
       "float"
      ]
     },
     "execution_count": 19,
     "metadata": {},
     "output_type": "execute_result"
    }
   ],
   "source": [
    "type(weight_lb)"
   ]
  },
  {
   "cell_type": "code",
   "execution_count": 21,
   "id": "b009d308-0f29-4c6f-aeba-8655553cda65",
   "metadata": {
    "tags": []
   },
   "outputs": [
    {
     "name": "stdout",
     "output_type": "stream",
     "text": [
      "<class 'int'>\n"
     ]
    }
   ],
   "source": [
    "print(type(weight_kg))#print the type of weight_kg"
   ]
  },
  {
   "cell_type": "markdown",
   "id": "a5192f25-0b60-4247-b980-0e9b180bd287",
   "metadata": {},
   "source": [
    "## Lists "
   ]
  },
  {
   "cell_type": "code",
   "execution_count": 22,
   "id": "a46d3854-3ef9-43f6-9406-144c194dae8e",
   "metadata": {
    "tags": []
   },
   "outputs": [],
   "source": [
    "odds=[1,3,5,7]"
   ]
  },
  {
   "cell_type": "code",
   "execution_count": 23,
   "id": "48baf64f-0d0a-4b7b-8fe8-66d4c2766f5a",
   "metadata": {
    "tags": []
   },
   "outputs": [
    {
     "name": "stdout",
     "output_type": "stream",
     "text": [
      "the first element: 1\n"
     ]
    }
   ],
   "source": [
    "print(\"the first element:\",odds[0])"
   ]
  },
  {
   "cell_type": "code",
   "execution_count": 24,
   "id": "2d75c299-40dd-4050-bd66-931eb63d09bb",
   "metadata": {
    "tags": []
   },
   "outputs": [
    {
     "name": "stdout",
     "output_type": "stream",
     "text": [
      "the second element: 3\n"
     ]
    }
   ],
   "source": [
    "print(\"the second element:\",odds[1])"
   ]
  },
  {
   "cell_type": "code",
   "execution_count": 25,
   "id": "a6ba58f4-ad87-4842-a4ee-56f7b79237f6",
   "metadata": {
    "tags": []
   },
   "outputs": [
    {
     "name": "stdout",
     "output_type": "stream",
     "text": [
      "the last element: 7\n"
     ]
    }
   ],
   "source": [
    "print(\"the last element:\",odds[3])"
   ]
  },
  {
   "cell_type": "code",
   "execution_count": 26,
   "id": "f0ecc2c8-9361-46a1-a30f-034428c980bf",
   "metadata": {
    "tags": []
   },
   "outputs": [
    {
     "name": "stdout",
     "output_type": "stream",
     "text": [
      "the last element: 7\n"
     ]
    }
   ],
   "source": [
    "print(\"the last element:\",odds[-1])"
   ]
  },
  {
   "cell_type": "code",
   "execution_count": 27,
   "id": "a2a18f04-f715-42a0-be3b-0cd144836713",
   "metadata": {
    "tags": []
   },
   "outputs": [],
   "source": [
    "veg=[[\"lettuce\",\"tomato\",\"peppers\"],[\"cucumber\"],[\"cilantro\",\"zucchini\"]]"
   ]
  },
  {
   "cell_type": "code",
   "execution_count": 29,
   "id": "e848260f-1765-4ad5-851c-1c6a315cd40a",
   "metadata": {
    "tags": []
   },
   "outputs": [
    {
     "data": {
      "text/plain": [
       "'lettuce'"
      ]
     },
     "execution_count": 29,
     "metadata": {},
     "output_type": "execute_result"
    }
   ],
   "source": [
    "veg[0][0]"
   ]
  },
  {
   "cell_type": "code",
   "execution_count": 31,
   "id": "e695ddd4-6bf9-4532-bb4c-b5a863fbc738",
   "metadata": {
    "tags": []
   },
   "outputs": [
    {
     "data": {
      "text/plain": [
       "'cucumber'"
      ]
     },
     "execution_count": 31,
     "metadata": {},
     "output_type": "execute_result"
    }
   ],
   "source": [
    "veg[1][0]"
   ]
  },
  {
   "cell_type": "code",
   "execution_count": 34,
   "id": "515cb2e1-9430-4dac-be36-041997563352",
   "metadata": {
    "tags": []
   },
   "outputs": [
    {
     "data": {
      "text/plain": [
       "[['lettuce', 'tomato', 'peppers'], ['cucumber']]"
      ]
     },
     "execution_count": 34,
     "metadata": {},
     "output_type": "execute_result"
    }
   ],
   "source": [
    "veg[0:2]"
   ]
  },
  {
   "cell_type": "code",
   "execution_count": 35,
   "id": "39cff4ec-b8b7-46d4-b521-56240200b4e8",
   "metadata": {
    "tags": []
   },
   "outputs": [],
   "source": [
    "names=[\"Curie\",\"Darwing\",\"Turing\"] "
   ]
  },
  {
   "cell_type": "code",
   "execution_count": 36,
   "id": "776b8245-f47d-46ae-b8de-5b04555021ca",
   "metadata": {
    "tags": []
   },
   "outputs": [
    {
     "name": "stdout",
     "output_type": "stream",
     "text": [
      "names are ['Curie', 'Darwing', 'Turing']\n"
     ]
    }
   ],
   "source": [
    "print(\"names are\",names)"
   ]
  },
  {
   "cell_type": "code",
   "execution_count": 37,
   "id": "4068184c-132d-4a59-9e6d-a93149b69b4c",
   "metadata": {
    "tags": []
   },
   "outputs": [],
   "source": [
    "names[1]=\"Darwin\""
   ]
  },
  {
   "cell_type": "code",
   "execution_count": 38,
   "id": "f432f323-edb9-4ec5-953c-0127838d3dfa",
   "metadata": {
    "tags": []
   },
   "outputs": [
    {
     "name": "stdout",
     "output_type": "stream",
     "text": [
      "now names are ['Curie', 'Darwin', 'Turing']\n"
     ]
    }
   ],
   "source": [
    "print(\"now names are\",names)"
   ]
  },
  {
   "cell_type": "code",
   "execution_count": 40,
   "id": "ae8e843a-f1e9-473f-9653-6b439fb0a2a7",
   "metadata": {
    "tags": []
   },
   "outputs": [],
   "source": [
    "names=\"Darwin\""
   ]
  },
  {
   "cell_type": "code",
   "execution_count": 42,
   "id": "e6d354e1-13ea-43a1-bffb-3a91bee9b0e7",
   "metadata": {
    "tags": []
   },
   "outputs": [
    {
     "data": {
      "text/plain": [
       "'D'"
      ]
     },
     "execution_count": 42,
     "metadata": {},
     "output_type": "execute_result"
    }
   ],
   "source": [
    "names[0]"
   ]
  },
  {
   "cell_type": "code",
   "execution_count": 43,
   "id": "8875b57a-79c9-46c2-8a9a-ad52987caf0c",
   "metadata": {
    "tags": []
   },
   "outputs": [
    {
     "data": {
      "text/plain": [
       "[1, 3, 5, 7]"
      ]
     },
     "execution_count": 43,
     "metadata": {},
     "output_type": "execute_result"
    }
   ],
   "source": [
    "odds"
   ]
  },
  {
   "cell_type": "code",
   "execution_count": 44,
   "id": "b1ae6176-a61e-4796-99c9-4e01848d0abd",
   "metadata": {
    "tags": []
   },
   "outputs": [],
   "source": [
    "odds.append(9)"
   ]
  },
  {
   "cell_type": "code",
   "execution_count": 45,
   "id": "6ff5a96a-82ba-4a11-9312-4ae717a24e00",
   "metadata": {
    "tags": []
   },
   "outputs": [
    {
     "data": {
      "text/plain": [
       "[1, 3, 5, 7, 9]"
      ]
     },
     "execution_count": 45,
     "metadata": {},
     "output_type": "execute_result"
    }
   ],
   "source": [
    "odds"
   ]
  },
  {
   "cell_type": "code",
   "execution_count": 46,
   "id": "18affa0a-cec2-4db8-920a-968053ffc281",
   "metadata": {
    "tags": []
   },
   "outputs": [],
   "source": [
    "removed_element=odds.pop(0)"
   ]
  },
  {
   "cell_type": "code",
   "execution_count": 47,
   "id": "ae79b3e1-6ce1-40da-aebb-fe8d8e6275e3",
   "metadata": {
    "tags": []
   },
   "outputs": [
    {
     "name": "stdout",
     "output_type": "stream",
     "text": [
      "odds after removing first element [3, 5, 7, 9]\n"
     ]
    }
   ],
   "source": [
    "print(\"odds after removing first element\",odds)"
   ]
  },
  {
   "cell_type": "code",
   "execution_count": 48,
   "id": "e629080e-842a-4a21-b0c7-3967b77c466a",
   "metadata": {
    "tags": []
   },
   "outputs": [
    {
     "name": "stdout",
     "output_type": "stream",
     "text": [
      "removed element 1\n"
     ]
    }
   ],
   "source": [
    "print(\"removed element\",removed_element)"
   ]
  },
  {
   "cell_type": "code",
   "execution_count": 49,
   "id": "9ed3bf5f-ad3f-4259-85f2-03c742fcf17d",
   "metadata": {
    "tags": []
   },
   "outputs": [
    {
     "data": {
      "text/plain": [
       "int"
      ]
     },
     "execution_count": 49,
     "metadata": {},
     "output_type": "execute_result"
    }
   ],
   "source": [
    "type(removed_element)"
   ]
  },
  {
   "cell_type": "markdown",
   "id": "8fcecfb0-1717-43f6-ae29-ba09905012d5",
   "metadata": {},
   "source": [
    "## Load data"
   ]
  },
  {
   "cell_type": "code",
   "execution_count": 4,
   "id": "1a6add97-2228-4f51-8cc9-89e073f24f33",
   "metadata": {
    "tags": []
   },
   "outputs": [],
   "source": [
    "import numpy"
   ]
  },
  {
   "cell_type": "code",
   "execution_count": 2,
   "id": "953d7c68-e9cb-4a57-90dc-bba10fcd0316",
   "metadata": {
    "tags": []
   },
   "outputs": [
    {
     "data": {
      "text/plain": [
       "array([[0., 0., 1., ..., 3., 0., 0.],\n",
       "       [0., 1., 2., ..., 1., 0., 1.],\n",
       "       [0., 1., 1., ..., 2., 1., 1.],\n",
       "       ...,\n",
       "       [0., 1., 1., ..., 1., 1., 1.],\n",
       "       [0., 0., 0., ..., 0., 2., 0.],\n",
       "       [0., 0., 1., ..., 1., 1., 0.]])"
      ]
     },
     "execution_count": 2,
     "metadata": {},
     "output_type": "execute_result"
    }
   ],
   "source": [
    "numpy.loadtxt(fname=\"data/inflammation-01.csv\",delimiter=\",\")"
   ]
  },
  {
   "cell_type": "code",
   "execution_count": 7,
   "id": "c26d2683-a445-4156-8e2c-ee7d1b94a2cb",
   "metadata": {
    "tags": []
   },
   "outputs": [],
   "source": [
    "data = numpy.loadtxt(fname= 'data/inflammation-01.csv', delimiter = \",\")"
   ]
  },
  {
   "cell_type": "code",
   "execution_count": 8,
   "id": "329d6844-31f9-4104-b05e-6c11c9a3b42e",
   "metadata": {
    "tags": []
   },
   "outputs": [
    {
     "name": "stdout",
     "output_type": "stream",
     "text": [
      "[[0. 0. 1. ... 3. 0. 0.]\n",
      " [0. 1. 2. ... 1. 0. 1.]\n",
      " [0. 1. 1. ... 2. 1. 1.]\n",
      " ...\n",
      " [0. 1. 1. ... 1. 1. 1.]\n",
      " [0. 0. 0. ... 0. 2. 0.]\n",
      " [0. 0. 1. ... 1. 1. 0.]]\n"
     ]
    }
   ],
   "source": [
    "print(data)"
   ]
  },
  {
   "cell_type": "code",
   "execution_count": 9,
   "id": "30604f0f-f422-49ac-b6f2-6e35981676bf",
   "metadata": {
    "tags": []
   },
   "outputs": [
    {
     "name": "stdout",
     "output_type": "stream",
     "text": [
      "Variable   Type       Data/Info\n",
      "-------------------------------\n",
      "data       ndarray    60x40: 2400 elems, type `float64`, 19200 bytes\n",
      "numpy      module     <module 'numpy' from '/Us<...>kages/numpy/__init__.py'>\n"
     ]
    }
   ],
   "source": [
    "%whos"
   ]
  },
  {
   "cell_type": "code",
   "execution_count": 10,
   "id": "3bdaf979-f738-499b-8cc3-c7c40a38bd14",
   "metadata": {
    "tags": []
   },
   "outputs": [
    {
     "data": {
      "text/plain": [
       "numpy.ndarray"
      ]
     },
     "execution_count": 10,
     "metadata": {},
     "output_type": "execute_result"
    }
   ],
   "source": [
    "type(data)"
   ]
  },
  {
   "cell_type": "code",
   "execution_count": 11,
   "id": "93caea34-a5e1-417d-9105-056f51199dbb",
   "metadata": {
    "tags": []
   },
   "outputs": [
    {
     "data": {
      "text/plain": [
       "dtype('float64')"
      ]
     },
     "execution_count": 11,
     "metadata": {},
     "output_type": "execute_result"
    }
   ],
   "source": [
    "data.dtype"
   ]
  },
  {
   "cell_type": "code",
   "execution_count": 12,
   "id": "a51a5868-676d-4307-9ea9-c86e26931ee6",
   "metadata": {
    "tags": []
   },
   "outputs": [
    {
     "data": {
      "text/plain": [
       "(60, 40)"
      ]
     },
     "execution_count": 12,
     "metadata": {},
     "output_type": "execute_result"
    }
   ],
   "source": [
    "data.shape"
   ]
  },
  {
   "cell_type": "code",
   "execution_count": 13,
   "id": "bfbceb63-4d09-496b-b944-8d35f270618e",
   "metadata": {
    "tags": []
   },
   "outputs": [
    {
     "name": "stdout",
     "output_type": "stream",
     "text": [
      "the first value in data is.. 0.0\n"
     ]
    }
   ],
   "source": [
    "print(\"the first value in data is..\", data[0,0])"
   ]
  },
  {
   "cell_type": "code",
   "execution_count": 16,
   "id": "dc5471e0-aada-4120-a4d1-b280cf220265",
   "metadata": {
    "tags": []
   },
   "outputs": [
    {
     "name": "stdout",
     "output_type": "stream",
     "text": [
      "the middle value is data is.. 16.0\n"
     ]
    }
   ],
   "source": [
    "print(\"the middle value is data is..\", data[29,19])"
   ]
  },
  {
   "cell_type": "code",
   "execution_count": 17,
   "id": "83800fb2-d23b-4cc6-827d-cc6bca02f07e",
   "metadata": {
    "tags": []
   },
   "outputs": [
    {
     "data": {
      "text/plain": [
       "array([[0., 0., 1., 3., 1., 2., 4., 7., 8., 3.],\n",
       "       [0., 1., 2., 1., 2., 1., 3., 2., 2., 6.],\n",
       "       [0., 1., 1., 3., 3., 2., 6., 2., 5., 9.],\n",
       "       [0., 0., 2., 0., 4., 2., 2., 1., 6., 7.]])"
      ]
     },
     "execution_count": 17,
     "metadata": {},
     "output_type": "execute_result"
    }
   ],
   "source": [
    "# slicing data\n",
    "\n",
    "data[0:4,0:10]"
   ]
  },
  {
   "cell_type": "markdown",
   "id": "616ccfa2-5083-49dd-a65c-af0ddefaa3a7",
   "metadata": {},
   "source": [
    "**Analysing data**"
   ]
  },
  {
   "cell_type": "code",
   "execution_count": 18,
   "id": "ceb19121-c6a2-42ab-ab64-a54658626780",
   "metadata": {
    "tags": []
   },
   "outputs": [
    {
     "data": {
      "text/plain": [
       "6.14875"
      ]
     },
     "execution_count": 18,
     "metadata": {},
     "output_type": "execute_result"
    }
   ],
   "source": [
    "numpy.mean(data)"
   ]
  },
  {
   "cell_type": "code",
   "execution_count": 20,
   "id": "d9d98e60-2655-49d4-ae0b-5e176268f738",
   "metadata": {
    "tags": []
   },
   "outputs": [
    {
     "data": {
      "text/plain": [
       "5.0"
      ]
     },
     "execution_count": 20,
     "metadata": {},
     "output_type": "execute_result"
    }
   ],
   "source": [
    "# median is\n",
    "numpy.median(data)"
   ]
  },
  {
   "cell_type": "code",
   "execution_count": 21,
   "id": "748317ba-9d15-4d1e-863c-ae8ff1d95805",
   "metadata": {
    "tags": []
   },
   "outputs": [
    {
     "data": {
      "text/plain": [
       "20.0"
      ]
     },
     "execution_count": 21,
     "metadata": {},
     "output_type": "execute_result"
    }
   ],
   "source": [
    "# max\n",
    "numpy.amax(data)"
   ]
  },
  {
   "cell_type": "code",
   "execution_count": 23,
   "id": "95377cdc-7f95-4d9a-9759-2d8cfdecca90",
   "metadata": {
    "tags": []
   },
   "outputs": [
    {
     "name": "stdout",
     "output_type": "stream",
     "text": [
      "maximum inflammation: 20.0\n",
      "min inflammation: 0.0\n",
      "standard deviation: 4.61\n"
     ]
    }
   ],
   "source": [
    "# variables\n",
    "maxval, minval, stdval = numpy.amax(data), numpy.amin(data), numpy.std(data)\n",
    "\n",
    "# print the variables\n",
    "print(\"maximum inflammation:\", maxval)\n",
    "print(\"min inflammation:\", minval)\n",
    "print(\"standard deviation:\", round(stdval, 2))"
   ]
  },
  {
   "cell_type": "code",
   "execution_count": 25,
   "id": "a995070d-5ee4-48b6-8cc0-6c44e70c3db9",
   "metadata": {
    "tags": []
   },
   "outputs": [
    {
     "name": "stdout",
     "output_type": "stream",
     "text": [
      "max inflammation for patient 0: 18.0\n"
     ]
    }
   ],
   "source": [
    "# max inflammation patient_0\n",
    "patient_0 = data[0, :]\n",
    "print(\"max inflammation for patient 0:\", numpy.amax(patient_0))"
   ]
  },
  {
   "cell_type": "code",
   "execution_count": 28,
   "id": "e3bbfdcb-aefd-4581-b919-7dc21ab12f04",
   "metadata": {
    "collapsed": true,
    "jupyter": {
     "outputs_hidden": true
    },
    "tags": []
   },
   "outputs": [
    {
     "name": "stdout",
     "output_type": "stream",
     "text": [
      "median inflammation for patient 2: 4.5\n"
     ]
    }
   ],
   "source": [
    "# median of the patient number 2 for all the days\n",
    "print(\"median inflammation for patient 2:\", numpy.median(data[1, :]))"
   ]
  },
  {
   "cell_type": "markdown",
   "id": "63906a57-d0e3-4b2e-9f75-279abe777253",
   "metadata": {},
   "source": [
    "## what if we need the max inflammation for each patient over all days?"
   ]
  },
  {
   "cell_type": "code",
   "execution_count": 29,
   "id": "00acc626-2f1f-402c-9429-575a1ff5113c",
   "metadata": {
    "jupyter": {
     "source_hidden": true
    },
    "tags": []
   },
   "outputs": [
    {
     "name": "stdout",
     "output_type": "stream",
     "text": [
      "[ 0.          0.45        1.11666667  1.75        2.43333333  3.15\n",
      "  3.8         3.88333333  5.23333333  5.51666667  5.95        5.9\n",
      "  8.35        7.73333333  8.36666667  9.5         9.58333333 10.63333333\n",
      " 11.56666667 12.35       13.25       11.96666667 11.03333333 10.16666667\n",
      " 10.          8.66666667  9.15        7.25        7.33333333  6.58333333\n",
      "  6.06666667  5.95        5.11666667  3.6         3.3         3.56666667\n",
      "  2.48333333  1.5         1.13333333  0.56666667]\n"
     ]
    }
   ],
   "source": [
    "print(numpy.mean(data, axis=0))"
   ]
  },
  {
   "cell_type": "code",
   "execution_count": 30,
   "id": "bc63f730-c5fb-48b4-bb50-4c72ec7254c5",
   "metadata": {
    "tags": []
   },
   "outputs": [
    {
     "data": {
      "text/plain": [
       "(40,)"
      ]
     },
     "execution_count": 30,
     "metadata": {},
     "output_type": "execute_result"
    }
   ],
   "source": [
    "numpy.mean(data, axis = 0).shape"
   ]
  },
  {
   "cell_type": "code",
   "execution_count": 31,
   "id": "2c753111-c13a-467d-90ff-7abc37a659e7",
   "metadata": {
    "tags": []
   },
   "outputs": [
    {
     "data": {
      "text/plain": [
       "array([5.45 , 5.425, 6.1  , 5.9  , 5.55 , 6.225, 5.975, 6.65 , 6.625,\n",
       "       6.525, 6.775, 5.8  , 6.225, 5.75 , 5.225, 6.3  , 6.55 , 5.7  ,\n",
       "       5.85 , 6.55 , 5.775, 5.825, 6.175, 6.1  , 5.8  , 6.425, 6.05 ,\n",
       "       6.025, 6.175, 6.55 , 6.175, 6.35 , 6.725, 6.125, 7.075, 5.725,\n",
       "       5.925, 6.15 , 6.075, 5.75 , 5.975, 5.725, 6.3  , 5.9  , 6.75 ,\n",
       "       5.925, 7.225, 6.15 , 5.95 , 6.275, 5.7  , 6.1  , 6.825, 5.975,\n",
       "       6.725, 5.7  , 6.25 , 6.4  , 7.05 , 5.9  ])"
      ]
     },
     "execution_count": 31,
     "metadata": {},
     "output_type": "execute_result"
    }
   ],
   "source": [
    "numpy.mean(data, axis = 1)"
   ]
  },
  {
   "cell_type": "code",
   "execution_count": 32,
   "id": "54166be3-a1fa-4750-aa6f-217f77d0f57f",
   "metadata": {
    "tags": []
   },
   "outputs": [
    {
     "data": {
      "text/plain": [
       "(60,)"
      ]
     },
     "execution_count": 32,
     "metadata": {},
     "output_type": "execute_result"
    }
   ],
   "source": [
    "numpy.mean(data, axis = 1).shape"
   ]
  },
  {
   "cell_type": "code",
   "execution_count": null,
   "id": "6871eb51-52b9-4b79-9f35-685590daa297",
   "metadata": {
    "tags": []
   },
   "outputs": [],
   "source": [
    "**When calling numpy.diff() with a multi-dimensional array, an axis argument may be passed to the function to specify which axis to process. When applying numpy.diff() to our 2D inflammation array data, which axis would we specify?**"
   ]
  },
  {
   "cell_type": "markdown",
   "id": "ab2f6f6e-7a8f-42a9-9814-768396f2a7bc",
   "metadata": {
    "tags": []
   },
   "source": []
  },
  {
   "cell_type": "code",
   "execution_count": 33,
   "id": "5caed661-0fe2-4f68-b9ad-c61809889418",
   "metadata": {
    "tags": []
   },
   "outputs": [
    {
     "data": {
      "text/plain": [
       "array([[ 0.,  1.,  2., ...,  1., -3.,  0.],\n",
       "       [ 1.,  1., -1., ...,  0., -1.,  1.],\n",
       "       [ 1.,  0.,  2., ...,  0., -1.,  0.],\n",
       "       ...,\n",
       "       [ 1.,  0.,  0., ..., -1.,  0.,  0.],\n",
       "       [ 0.,  0.,  1., ..., -2.,  2., -2.],\n",
       "       [ 0.,  1., -1., ..., -2.,  0., -1.]])"
      ]
     },
     "execution_count": 33,
     "metadata": {},
     "output_type": "execute_result"
    }
   ],
   "source": [
    "numpy.diff(data,axis=1)"
   ]
  },
  {
   "cell_type": "code",
   "execution_count": 34,
   "id": "3e8b7d3c-3f13-4ad0-a834-2cd2fd85839b",
   "metadata": {
    "tags": []
   },
   "outputs": [
    {
     "data": {
      "text/plain": [
       "(60, 39)"
      ]
     },
     "execution_count": 34,
     "metadata": {},
     "output_type": "execute_result"
    }
   ],
   "source": [
    "numpy.diff(data,axis=1).shape"
   ]
  },
  {
   "cell_type": "code",
   "execution_count": 35,
   "id": "41b2a646-1133-49f5-a791-7c3e5b619b20",
   "metadata": {
    "tags": []
   },
   "outputs": [
    {
     "data": {
      "text/plain": [
       "<matplotlib.image.AxesImage at 0x12409c550>"
      ]
     },
     "execution_count": 35,
     "metadata": {},
     "output_type": "execute_result"
    },
    {
     "data": {
      "image/png": "[encoded data removed]",
      "text/plain": [
       "<Figure size 640x480 with 1 Axes>"
      ]
     },
     "metadata": {},
     "output_type": "display_data"
    }
   ],
   "source": [
    "import matplotlib.pyplot\n",
    "matplotlib.pyplot.imshow(data)"
   ]
  },
  {
   "cell_type": "code",
   "execution_count": null,
   "id": "5e7ec7a2-4c94-413b-9a22-20f67297537e",
   "metadata": {},
   "outputs": [],
   "source": [
    "# create a plot of the mean\n",
    "# average inflammation over time\n"
   ]
  }
 ],
 "metadata": {
  "kernelspec": {
   "display_name": "Python 3 (ipykernel)",
   "language": "python",
   "name": "python3"
  },
  "language_info": {
   "codemirror_mode": {
    "name": "ipython",
    "version": 3
   },
   "file_extension": ".py",
   "mimetype": "text/x-python",
   "name": "python",
   "nbconvert_exporter": "python",
   "pygments_lexer": "ipython3",
   "version": "3.11.5"
  }
 },
 "nbformat": 4,
 "nbformat_minor": 5
}
